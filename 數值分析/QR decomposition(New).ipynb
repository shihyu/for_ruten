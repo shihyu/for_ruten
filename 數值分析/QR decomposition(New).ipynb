{
 "metadata": {
  "name": "QR decomposition"
 },
 "nbformat": 3,
 "nbformat_minor": 0,
 "worksheets": [
  {
   "cells": [
    {
     "cell_type": "markdown",
     "metadata": {},
     "source": [
      "The case of $A$ is a square matrix.\n",
      "\n",
      "$A = QR$, where $Q$ is an orthogonal matrix and $R$ is a upper triangular matrix."
     ]
    },
    {
     "cell_type": "code",
     "collapsed": false,
     "input": [
      "import numpy as np\n",
      "import numpy.random as rn\n",
      "import numpy.linalg as la"
     ],
     "language": "python",
     "metadata": {},
     "outputs": [],
     "prompt_number": 1
    },
    {
     "cell_type": "code",
     "collapsed": false,
     "input": [
      "#QR for square matrix\n",
      "def SQR(A,tol=10**(-14)):\n",
      "    m,n = A.shape\n",
      "    Q = np.mat(np.zeros((m,n)))\n",
      "    R = np.mat(np.zeros((n,n)))\n",
      "    for i in range(n):\n",
      "        Q[:,i] = A[:,i].copy()\n",
      "        for j in range(i):\n",
      "            R[j,i] = float(Q[:,j].T*Q[:,i])\n",
      "            Q[:,i] = Q[:,i] - R[j,i]*Q[:,j]\n",
      "        if abs(la.norm(Q[:,i]))>tol:\n",
      "            R[i,i] = la.norm(Q[:,i])\n",
      "            Q[:,i] = Q[:,i]/R[i,i]\n",
      "       \n",
      "    return Q, R"
     ],
     "language": "python",
     "metadata": {},
     "outputs": [],
     "prompt_number": 2
    },
    {
     "cell_type": "code",
     "collapsed": false,
     "input": [
      "A = np.mat(rn.randn(3,3))"
     ],
     "language": "python",
     "metadata": {},
     "outputs": [],
     "prompt_number": 3
    },
    {
     "cell_type": "code",
     "collapsed": false,
     "input": [
      "Q,R = SQR(A)"
     ],
     "language": "python",
     "metadata": {},
     "outputs": [],
     "prompt_number": 4
    },
    {
     "cell_type": "code",
     "collapsed": false,
     "input": [
      "print Q"
     ],
     "language": "python",
     "metadata": {},
     "outputs": [
      {
       "output_type": "stream",
       "stream": "stdout",
       "text": [
        "[[ 0.45951807 -0.63363458  0.62237477]\n",
        " [-0.60238062 -0.73728177 -0.30586466]\n",
        " [-0.65267199  0.23435616  0.72048349]]\n"
       ]
      }
     ],
     "prompt_number": 5
    },
    {
     "cell_type": "code",
     "collapsed": false,
     "input": [
      "la.norm(Q[:,2])"
     ],
     "language": "python",
     "metadata": {},
     "outputs": [
      {
       "output_type": "pyout",
       "prompt_number": 6,
       "text": [
        "1.0"
       ]
      }
     ],
     "prompt_number": 6
    },
    {
     "cell_type": "code",
     "collapsed": false,
     "input": [
      "print R"
     ],
     "language": "python",
     "metadata": {},
     "outputs": [
      {
       "output_type": "stream",
       "stream": "stdout",
       "text": [
        "[[ 1.55507773 -1.23341794 -0.03630364]\n",
        " [ 0.          0.98035427 -0.26012565]\n",
        " [ 0.          0.          0.20269892]]\n"
       ]
      }
     ],
     "prompt_number": 7
    },
    {
     "cell_type": "code",
     "collapsed": false,
     "input": [
      "print Q*R"
     ],
     "language": "python",
     "metadata": {},
     "outputs": [
      {
       "output_type": "stream",
       "stream": "stdout",
       "text": [
        "[[ 0.71458633 -1.1879642   0.27429712]\n",
        " [-0.93674868  0.02018973  0.15165607]\n",
        " [-1.01495568  1.03476941  0.10877354]]\n"
       ]
      }
     ],
     "prompt_number": 8
    },
    {
     "cell_type": "code",
     "collapsed": false,
     "input": [
      "print A"
     ],
     "language": "python",
     "metadata": {},
     "outputs": [
      {
       "output_type": "stream",
       "stream": "stdout",
       "text": [
        "[[ 0.71458633 -1.1879642   0.27429712]\n",
        " [-0.93674868  0.02018973  0.15165607]\n",
        " [-1.01495568  1.03476941  0.10877354]]\n"
       ]
      }
     ],
     "prompt_number": 9
    },
    {
     "cell_type": "code",
     "collapsed": false,
     "input": [
      "la.norm(Q*R-A)"
     ],
     "language": "python",
     "metadata": {},
     "outputs": [
      {
       "output_type": "pyout",
       "prompt_number": 10,
       "text": [
        "2.7755575615628914e-17"
       ]
      }
     ],
     "prompt_number": 10
    },
    {
     "cell_type": "markdown",
     "metadata": {},
     "source": [
      "QR for general matrix"
     ]
    },
    {
     "cell_type": "code",
     "collapsed": false,
     "input": [
      "def QR(A,tol=10**(-14)):\n",
      "    m,n = A.shape\n",
      "    p = min(m,n)\n",
      "    if m>=n:\n",
      "        Q = np.mat(np.zeros((m,n)))\n",
      "        R = np.mat(np.zeros((n,n)))\n",
      "    else:\n",
      "        Q = np.mat(np.zeros((m,m)))\n",
      "        R = np.mat(np.zeros((m,n)))\n",
      "    #Record the rank of A\n",
      "    r = 0\n",
      "    #Record the index of column\n",
      "    i = 0\n",
      "    while r<p:\n",
      "        Q[:,r] = A[:,i].copy()\n",
      "        for j in range(r):\n",
      "            R[j,i] = float(Q[:,j].T*A[:,i])\n",
      "            Q[:,r] = Q[:,r] - R[j,i]*Q[:,j]\n",
      "        if abs(la.norm(Q[:,r]))>tol:\n",
      "            R[r,i] = la.norm(Q[:,r])\n",
      "            Q[:,r] = Q[:,r]/R[r,i]\n",
      "            r+=1\n",
      "            \n",
      "        i+=1\n",
      "    R[:,m:] = Q.T*A[:,m:]\n",
      "       \n",
      "    return Q, R"
     ],
     "language": "python",
     "metadata": {},
     "outputs": [],
     "prompt_number": 25
    },
    {
     "cell_type": "code",
     "collapsed": false,
     "input": [
      "A = np.mat(rn.randn(3,5))\n",
      "Q,R = QR(A)"
     ],
     "language": "python",
     "metadata": {},
     "outputs": [],
     "prompt_number": 26
    },
    {
     "cell_type": "code",
     "collapsed": false,
     "input": [
      "print Q"
     ],
     "language": "python",
     "metadata": {},
     "outputs": [
      {
       "output_type": "stream",
       "stream": "stdout",
       "text": [
        "[[ 0.51091452 -0.78109653  0.35896317]\n",
        " [-0.65018582 -0.62429207 -0.43303326]\n",
        " [-0.56233864  0.01214978  0.82681778]]\n"
       ]
      }
     ],
     "prompt_number": 27
    },
    {
     "cell_type": "code",
     "collapsed": false,
     "input": [
      "print R"
     ],
     "language": "python",
     "metadata": {},
     "outputs": [
      {
       "output_type": "stream",
       "stream": "stdout",
       "text": [
        "[[ 1.32682754  0.04569375  0.16354426  0.66550185 -0.0149808 ]\n",
        " [ 0.          0.72159147  0.84633659  1.74175231 -2.02277966]\n",
        " [ 0.          0.          0.05533532  0.3174955  -0.01840838]]\n"
       ]
      }
     ],
     "prompt_number": 28
    },
    {
     "cell_type": "code",
     "collapsed": false,
     "input": [
      "print Q*R"
     ],
     "language": "python",
     "metadata": {},
     "outputs": [
      {
       "output_type": "stream",
       "stream": "stdout",
       "text": [
        "[[ 0.67789546 -0.54028699 -0.5576501  -0.90649293  1.56572433]\n",
        " [-0.86268446 -0.48019326 -0.65865741 -1.65754814  1.28051705]\n",
        " [-0.7461264  -0.01692818 -0.03593222 -0.09056457 -0.03137242]]\n"
       ]
      }
     ],
     "prompt_number": 29
    },
    {
     "cell_type": "code",
     "collapsed": false,
     "input": [
      "print A"
     ],
     "language": "python",
     "metadata": {},
     "outputs": [
      {
       "output_type": "stream",
       "stream": "stdout",
       "text": [
        "[[ 0.67789546 -0.54028699 -0.5576501  -0.90649293  1.56572433]\n",
        " [-0.86268446 -0.48019326 -0.65865741 -1.65754814  1.28051705]\n",
        " [-0.7461264  -0.01692818 -0.03593222 -0.09056457 -0.03137242]]\n"
       ]
      }
     ],
     "prompt_number": 30
    },
    {
     "cell_type": "code",
     "collapsed": false,
     "input": [
      "Q,R = QR(A)\n",
      "la.norm(Q*R-A)"
     ],
     "language": "python",
     "metadata": {},
     "outputs": [
      {
       "output_type": "pyout",
       "prompt_number": 31,
       "text": [
        "1.0774529361602978e-14"
       ]
      }
     ],
     "prompt_number": 31
    },
    {
     "cell_type": "code",
     "collapsed": false,
     "input": [
      "A[:,0] = A[:,1]\n",
      "A[:,2] = A[:,1]"
     ],
     "language": "python",
     "metadata": {},
     "outputs": [],
     "prompt_number": 32
    },
    {
     "cell_type": "code",
     "collapsed": false,
     "input": [
      "Q,R = QR(A)"
     ],
     "language": "python",
     "metadata": {},
     "outputs": [],
     "prompt_number": 33
    },
    {
     "cell_type": "code",
     "collapsed": false,
     "input": [
      "print Q"
     ],
     "language": "python",
     "metadata": {},
     "outputs": [
      {
       "output_type": "stream",
       "stream": "stdout",
       "text": [
        "[[-0.74724692  0.66370586 -0.03341528]\n",
        " [-0.66413394 -0.74406684  0.07273677]\n",
        " [-0.02341261 -0.07654455 -0.99679124]]\n"
       ]
      }
     ],
     "prompt_number": 34
    },
    {
     "cell_type": "code",
     "collapsed": false,
     "input": [
      "print R"
     ],
     "language": "python",
     "metadata": {},
     "outputs": [
      {
       "output_type": "stream",
       "stream": "stdout",
       "text": [
        "[[  7.23036768e-01   7.23036768e-01   7.23036768e-01   1.78032839e+00\n",
        "   -2.01968301e+00]\n",
        " [  0.00000000e+00   0.00000000e+00   0.00000000e+00   6.38614169e-01\n",
        "    8.87915209e-02]\n",
        " [  0.00000000e+00   0.00000000e+00   0.00000000e+00   1.81799020e-15\n",
        "    7.20933014e-02]]\n"
       ]
      }
     ],
     "prompt_number": 35
    },
    {
     "cell_type": "code",
     "collapsed": false,
     "input": [
      "print Q*R"
     ],
     "language": "python",
     "metadata": {},
     "outputs": [
      {
       "output_type": "stream",
       "stream": "stdout",
       "text": [
        "[[-0.54028699 -0.54028699 -0.54028699 -0.90649293  1.56572433]\n",
        " [-0.48019326 -0.48019326 -0.48019326 -1.65754814  1.28051705]\n",
        " [-0.01692818 -0.01692818 -0.01692818 -0.09056457 -0.03137242]]\n"
       ]
      }
     ],
     "prompt_number": 36
    },
    {
     "cell_type": "code",
     "collapsed": false,
     "input": [
      "print A"
     ],
     "language": "python",
     "metadata": {},
     "outputs": [
      {
       "output_type": "stream",
       "stream": "stdout",
       "text": [
        "[[-0.54028699 -0.54028699 -0.54028699 -0.90649293  1.56572433]\n",
        " [-0.48019326 -0.48019326 -0.48019326 -1.65754814  1.28051705]\n",
        " [-0.01692818 -0.01692818 -0.01692818 -0.09056457 -0.03137242]]\n"
       ]
      }
     ],
     "prompt_number": 37
    },
    {
     "cell_type": "code",
     "collapsed": false,
     "input": [
      "la.norm(Q*R-A)"
     ],
     "language": "python",
     "metadata": {},
     "outputs": [
      {
       "output_type": "pyout",
       "prompt_number": 38,
       "text": [
        "1.9895274237751178e-15"
       ]
      }
     ],
     "prompt_number": 38
    },
    {
     "cell_type": "code",
     "collapsed": false,
     "input": [
      "A = np.mat(rn.randn(5,3))\n",
      "Q,R = QR(A)\n",
      "print Q"
     ],
     "language": "python",
     "metadata": {},
     "outputs": [
      {
       "output_type": "stream",
       "stream": "stdout",
       "text": [
        "[[ 0.45136042  0.75836484  0.07494578]\n",
        " [ 0.6335587  -0.34641419 -0.33676328]\n",
        " [ 0.55501851  0.03928586 -0.03733697]\n",
        " [-0.10027565 -0.06796095 -0.8390174 ]\n",
        " [-0.27708554  0.54655092 -0.41908158]]\n"
       ]
      }
     ],
     "prompt_number": 39
    },
    {
     "cell_type": "code",
     "collapsed": false,
     "input": [
      "print R"
     ],
     "language": "python",
     "metadata": {},
     "outputs": [
      {
       "output_type": "stream",
       "stream": "stdout",
       "text": [
        "[[ 2.16441728  0.54861464 -0.76502051]\n",
        " [ 0.          1.38293253 -0.94455662]\n",
        " [ 0.          0.          2.06724927]]\n"
       ]
      }
     ],
     "prompt_number": 40
    },
    {
     "cell_type": "code",
     "collapsed": false,
     "input": [
      "print Q*R"
     ],
     "language": "python",
     "metadata": {},
     "outputs": [
      {
       "output_type": "stream",
       "stream": "stdout",
       "text": [
        "[[ 0.9769323   1.29639034 -0.9066869 ]\n",
        " [ 1.37128539 -0.13148788 -0.85365123]\n",
        " [ 1.20129166  0.35882097 -0.53889309]\n",
        " [-0.21703834 -0.14899809 -1.59355222]\n",
        " [-0.59972872  0.60382987 -1.17061827]]\n"
       ]
      }
     ],
     "prompt_number": 41
    },
    {
     "cell_type": "code",
     "collapsed": false,
     "input": [
      "print A"
     ],
     "language": "python",
     "metadata": {},
     "outputs": [
      {
       "output_type": "stream",
       "stream": "stdout",
       "text": [
        "[[ 0.9769323   1.29639034 -0.9066869 ]\n",
        " [ 1.37128539 -0.13148788 -0.85365123]\n",
        " [ 1.20129166  0.35882097 -0.53889309]\n",
        " [-0.21703834 -0.14899809 -1.59355222]\n",
        " [-0.59972872  0.60382987 -1.17061827]]\n"
       ]
      }
     ],
     "prompt_number": 42
    },
    {
     "cell_type": "code",
     "collapsed": false,
     "input": [
      "la.norm(Q*R-A)"
     ],
     "language": "python",
     "metadata": {},
     "outputs": [
      {
       "output_type": "pyout",
       "prompt_number": 43,
       "text": [
        "2.2887833992611187e-16"
       ]
      }
     ],
     "prompt_number": 43
    },
    {
     "cell_type": "code",
     "collapsed": false,
     "input": [],
     "language": "python",
     "metadata": {},
     "outputs": []
    }
   ],
   "metadata": {}
  }
 ]
}