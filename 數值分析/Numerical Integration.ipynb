{
 "metadata": {
  "name": "",
  "signature": "sha256:ceedc834cb8459f66d27fb96eff088f40de8932f4d42ae468e5044acfaefe08a"
 },
 "nbformat": 3,
 "nbformat_minor": 0,
 "worksheets": [
  {
   "cells": [
    {
     "cell_type": "markdown",
     "metadata": {},
     "source": [
      "## Mid Point Rule\n",
      "## $\\int_{x_{k}}^{x_{k+1}}f(x)d(x) \\approx hf(x_{mk})$, where $x_{mk}=\\frac{(x_{k}+x_{k+1})}{2}$, $h=\\frac{(x_{k+1}-x_{k})}{2}$"
     ]
    },
    {
     "cell_type": "code",
     "collapsed": false,
     "input": [
      "import numpy as np\n",
      "%pylab inline"
     ],
     "language": "python",
     "metadata": {},
     "outputs": [
      {
       "output_type": "stream",
       "stream": "stdout",
       "text": [
        "Populating the interactive namespace from numpy and matplotlib\n"
       ]
      },
      {
       "output_type": "stream",
       "stream": "stderr",
       "text": [
        "WARNING: pylab import has clobbered these variables: ['trapz', 'f']\n",
        "`%matplotlib` prevents importing * from pylab and numpy\n"
       ]
      }
     ],
     "prompt_number": 11
    },
    {
     "cell_type": "code",
     "collapsed": false,
     "input": [
      "def midptInt(f,a,b,N):\n",
      "    x = np.linspace(a,b,N+1)\n",
      "    h = float(b-a)/N\n",
      "    S = 0.0\n",
      "    for i in range(N):\n",
      "        mk = float(x[i]+x[i+1])/2\n",
      "        S += f(mk)\n",
      "    S = S*h\n",
      "    return S"
     ],
     "language": "python",
     "metadata": {},
     "outputs": [],
     "prompt_number": 33
    },
    {
     "cell_type": "code",
     "collapsed": false,
     "input": [
      "def f(x):\n",
      "    return x**2"
     ],
     "language": "python",
     "metadata": {},
     "outputs": [],
     "prompt_number": 15
    },
    {
     "cell_type": "code",
     "collapsed": false,
     "input": [
      "a = 0\n",
      "b = 1\n",
      "midptInt(lambda x:f(x),a,b,100)"
     ],
     "language": "python",
     "metadata": {},
     "outputs": [
      {
       "metadata": {},
       "output_type": "pyout",
       "prompt_number": 16,
       "text": [
        "0.333325"
       ]
      }
     ],
     "prompt_number": 16
    },
    {
     "cell_type": "markdown",
     "metadata": {},
     "source": [
      "## Trapezoidal Rule\n",
      "\n",
      "# $\\int_{x_{k}}^{x_{k+1}}f(x)dx \\approx \\frac{h}{2}(f(x_{k})+f(x_{k+1}))$"
     ]
    },
    {
     "cell_type": "code",
     "collapsed": false,
     "input": [
      "def trapz(f,a,b,N):\n",
      "    x = np.linspace(a,b,N+1)\n",
      "    x = np.delete(x,[0,N])\n",
      "    fk = f(x)\n",
      "    return (b-a)*(float(f(a)+f(b))/2+sum(fk))/N"
     ],
     "language": "python",
     "metadata": {},
     "outputs": [],
     "prompt_number": 34
    },
    {
     "cell_type": "code",
     "collapsed": false,
     "input": [
      "trapz(lambda x:f(x),a,b,100)"
     ],
     "language": "python",
     "metadata": {},
     "outputs": [
      {
       "metadata": {},
       "output_type": "pyout",
       "prompt_number": 18,
       "text": [
        "0.33335000000000004"
       ]
      }
     ],
     "prompt_number": 18
    },
    {
     "cell_type": "markdown",
     "metadata": {},
     "source": [
      "## Simpson Rule\n",
      "# $\\int_{x_{k-1}}^{x_{k+1}}f(x)d(x) \\approx \\frac{h}{3}(f(x_{k-1})+4f(x_k)+f(x_{k+1}))$"
     ]
    },
    {
     "cell_type": "code",
     "collapsed": false,
     "input": [
      "def simpson(f, a, b, N):\n",
      "    if N%2 == 0:\n",
      "        n = N\n",
      "    else:\n",
      "        n = N+1\n",
      "    \n",
      "    h = float(b-a)/n\n",
      "    S = float(f(a))\n",
      "    \n",
      "    for i in range(1, n, 2):\n",
      "        x = a + h * i\n",
      "        S += 4 * f(x)\n",
      "        \n",
      "    for i in range(2, n-1, 2):\n",
      "        x = a + h * i\n",
      "        S += 2 * f(x)\n",
      "        \n",
      "    S += f(b)\n",
      "    S = S*h/3\n",
      "    \n",
      "    return S"
     ],
     "language": "python",
     "metadata": {},
     "outputs": [],
     "prompt_number": 47
    },
    {
     "cell_type": "code",
     "collapsed": false,
     "input": [
      "simpson(lambda x:f(x), a, b, 3)"
     ],
     "language": "python",
     "metadata": {},
     "outputs": [
      {
       "metadata": {},
       "output_type": "pyout",
       "prompt_number": 52,
       "text": [
        "0.25"
       ]
      }
     ],
     "prompt_number": 52
    },
    {
     "cell_type": "code",
     "collapsed": false,
     "input": [
      "def f(x):\n",
      "    return x**3"
     ],
     "language": "python",
     "metadata": {},
     "outputs": [],
     "prompt_number": 49
    },
    {
     "cell_type": "code",
     "collapsed": false,
     "input": [
      "M = list()\n",
      "T = list()\n",
      "S = list()\n",
      "True_Int = (2*np.pi)**4/4\n",
      "for n in range(3,18):\n",
      "    M.append(abs(midptInt(lambda x:f(x), 0, 2*np.pi, n)-True_Int))\n",
      "    T.append(abs(trapz(lambda x:f(x), 0, 2*np.pi, n)-True_Int))\n",
      "    S.append(abs(simpson(lambda x:f(x), 0, 2*np.pi, n)-True_Int))\n",
      "    \n",
      "x = np.linspace(0,2*np.pi,len(M))\n",
      "plot(x, M, 'r', x, T, 'g', x, S, 'b')"
     ],
     "language": "python",
     "metadata": {},
     "outputs": [
      {
       "metadata": {},
       "output_type": "pyout",
       "prompt_number": 51,
       "text": [
        "[<matplotlib.lines.Line2D at 0xae557f0>,\n",
        " <matplotlib.lines.Line2D at 0xae55a20>,\n",
        " <matplotlib.lines.Line2D at 0xae63048>]"
       ]
      },
      {
       "metadata": {},
       "output_type": "display_data",
       "png": "[encoded data removed]",
       "text": [
        "<matplotlib.figure.Figure at 0x9cba080>"
       ]
      }
     ],
     "prompt_number": 51
    },
    {
     "cell_type": "code",
     "collapsed": false,
     "input": [
      "print True_Int"
     ],
     "language": "python",
     "metadata": {},
     "outputs": [
      {
       "output_type": "stream",
       "stream": "stdout",
       "text": [
        "389.636364136\n"
       ]
      }
     ],
     "prompt_number": 42
    },
    {
     "cell_type": "code",
     "collapsed": false,
     "input": [
      "plot(x,S)"
     ],
     "language": "python",
     "metadata": {},
     "outputs": [
      {
       "metadata": {},
       "output_type": "pyout",
       "prompt_number": 53,
       "text": [
        "[<matplotlib.lines.Line2D at 0xaeceda0>]"
       ]
      },
      {
       "metadata": {},
       "output_type": "display_data",
       "png": "[encoded data removed]",
       "text": [
        "<matplotlib.figure.Figure at 0xa0b1d68>"
       ]
      }
     ],
     "prompt_number": 53
    },
    {
     "cell_type": "code",
     "collapsed": false,
     "input": [],
     "language": "python",
     "metadata": {},
     "outputs": []
    }
   ],
   "metadata": {}
  }
 ]
}