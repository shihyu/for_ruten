{
 "metadata": {
  "name": "",
  "signature": "sha256:143c8b365d66fdbbba4886bff18728410c95e24bf830dc8519a4d8aaceed142b"
 },
 "nbformat": 3,
 "nbformat_minor": 0,
 "worksheets": [
  {
   "cells": [
    {
     "cell_type": "code",
     "collapsed": false,
     "input": [
      "import numpy as np\n",
      "import numpy.random as rn\n",
      "import numpy.linalg as la"
     ],
     "language": "python",
     "metadata": {},
     "outputs": [],
     "prompt_number": 1
    },
    {
     "cell_type": "code",
     "collapsed": false,
     "input": [
      "def SQR(A,tol=10**(-14)):\n",
      "    m,n = A.shape\n",
      "    Q = np.mat(np.zeros((m,n)))\n",
      "    R = np.mat(np.zeros((n,n)))\n",
      "    for i in range(n):\n",
      "        Q[:,i] = A[:,i].copy()\n",
      "        for j in range(n):\n",
      "            R[j,i] = float(Q[:,j].T*Q[:,i])\n",
      "            Q[:,i] = Q[:,i] - R[j,i]*Q[:,j]\n",
      "        if abs(la.norm(Q[:,i]))>tol:\n",
      "            R[i,i] = la.norm(Q[:,i])\n",
      "            Q[:,i] = Q[:,i]/R[i,i]\n",
      "        return Q, R"
     ],
     "language": "python",
     "metadata": {},
     "outputs": [],
     "prompt_number": 2
    },
    {
     "cell_type": "code",
     "collapsed": false,
     "input": [],
     "language": "python",
     "metadata": {},
     "outputs": []
    }
   ],
   "metadata": {}
  }
 ]
}