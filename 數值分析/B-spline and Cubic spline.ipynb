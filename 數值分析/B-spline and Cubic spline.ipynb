{
 "metadata": {
  "name": "",
  "signature": "sha256:1c6f941adda70f5a87fd8681906ade6e53395a94bfe716a3eb44cef0751f3c3e"
 },
 "nbformat": 3,
 "nbformat_minor": 0,
 "worksheets": [
  {
   "cells": [
    {
     "cell_type": "code",
     "collapsed": false,
     "input": [
      "import numpy as np\n",
      "import numpy.random as rn\n",
      "from scipy.interpolate import interp1d\n",
      "from scipy.interpolate import lagrange\n",
      "%pylab inline"
     ],
     "language": "python",
     "metadata": {},
     "outputs": [
      {
       "output_type": "stream",
       "stream": "stdout",
       "text": [
        "Populating the interactive namespace from numpy and matplotlib\n"
       ]
      },
      {
       "output_type": "stream",
       "stream": "stderr",
       "text": [
        "WARNING: pylab import has clobbered these variables: ['f', 'rcdefaults', 'colors', 'rc', 'test', 'rc_context']\n",
        "`%matplotlib` prevents importing * from pylab and numpy\n"
       ]
      }
     ],
     "prompt_number": 11
    },
    {
     "cell_type": "code",
     "collapsed": false,
     "input": [
      "def f(x):\n",
      "    return 1.0/(x**2+1)"
     ],
     "language": "python",
     "metadata": {},
     "outputs": [],
     "prompt_number": 12
    },
    {
     "cell_type": "code",
     "collapsed": false,
     "input": [
      "xi = np.linspace(-5,5,13)\n",
      "yi = f(xi)\n",
      "x = np.linspace(-5,5,400)\n",
      "y = f(x)\n",
      "plot(x,y,'r',xi,yi,'o')"
     ],
     "language": "python",
     "metadata": {},
     "outputs": [
      {
       "metadata": {},
       "output_type": "pyout",
       "prompt_number": 17,
       "text": [
        "[<matplotlib.lines.Line2D at 0x1152d470>,\n",
        " <matplotlib.lines.Line2D at 0x1152d6a0>]"
       ]
      },
      {
       "metadata": {},
       "output_type": "display_data",
       "png": "[encoded data removed]",
       "text": [
        "<matplotlib.figure.Figure at 0x10f382b0>"
       ]
      }
     ],
     "prompt_number": 17
    },
    {
     "cell_type": "code",
     "collapsed": false,
     "input": [
      "s1 = interp1d(xi,yi,kind='linear')\n",
      "s3 = interp1d(xi,yi,kind='cubic')"
     ],
     "language": "python",
     "metadata": {},
     "outputs": [],
     "prompt_number": 18
    },
    {
     "cell_type": "code",
     "collapsed": false,
     "input": [
      "y1 = s1(x)\n",
      "y3 = s3(x)\n",
      "plot(xi,yi,'o',x,y,'r',x,y1,'g',x,y3,'k')"
     ],
     "language": "python",
     "metadata": {},
     "outputs": [
      {
       "metadata": {},
       "output_type": "pyout",
       "prompt_number": 19,
       "text": [
        "[<matplotlib.lines.Line2D at 0x116d9080>,\n",
        " <matplotlib.lines.Line2D at 0x116d9278>,\n",
        " <matplotlib.lines.Line2D at 0x116d9860>,\n",
        " <matplotlib.lines.Line2D at 0x116d9dd8>]"
       ]
      },
      {
       "metadata": {},
       "output_type": "display_data",
       "png": "[encoded data removed]",
       "text": [
        "<matplotlib.figure.Figure at 0x115aaac8>"
       ]
      }
     ],
     "prompt_number": 19
    },
    {
     "cell_type": "code",
     "collapsed": false,
     "input": [
      "R1 = list()\n",
      "R3 = list()\n",
      "p = 10\n",
      "for i in range(2,p):\n",
      "    xi = np.linspace(-5,5,2**i+1)\n",
      "    yi = f(xi)\n",
      "    x = np.linspace(-5,5,4*2**p)\n",
      "    y = f(x)\n",
      "    s1 = interp1d(xi,yi,kind ='linear')\n",
      "    s3 = interp1d(xi,yi,kind ='cubic')\n",
      "    y1 = s1(x)\n",
      "    y3 = s3(x)\n",
      "    e1 = max(np.abs(y-y1))\n",
      "    e3 = max(np.abs(y-y3))\n",
      "    R1.append(e1)\n",
      "    R3.append(e3)\n",
      "    print i, R1[-1], R3[-1]"
     ],
     "language": "python",
     "metadata": {},
     "outputs": [
      {
       "output_type": "stream",
       "stream": "stdout",
       "text": [
        "2 0.18023052689 0.358316482143\n",
        "3 0.0639009965145 0.0564946119041\n",
        "4"
       ]
      },
      {
       "output_type": "stream",
       "stream": "stdout",
       "text": [
        " 0.053551777522 0.00374533583189\n",
        "5"
       ]
      },
      {
       "output_type": "stream",
       "stream": "stdout",
       "text": [
        " 0.0207003501497 0.000655478753437\n",
        "6 0.00585043286215 4.03271607085e-05\n",
        "7"
       ]
      },
      {
       "output_type": "stream",
       "stream": "stdout",
       "text": [
        " 0.00150852167286 2.37857881302e-06\n",
        "8 0.000379012992286 1.45293311826e-07\n",
        "9"
       ]
      },
      {
       "output_type": "stream",
       "stream": "stdout",
       "text": [
        " 9.38240857986e-05 8.8275107224e-09\n"
       ]
      }
     ],
     "prompt_number": 21
    },
    {
     "cell_type": "code",
     "collapsed": false,
     "input": [
      "plot(np.log(R1))\n",
      "plot(np.log(R3),'r')"
     ],
     "language": "python",
     "metadata": {},
     "outputs": [
      {
       "metadata": {},
       "output_type": "pyout",
       "prompt_number": 24,
       "text": [
        "[<matplotlib.lines.Line2D at 0x10fe1400>]"
       ]
      },
      {
       "metadata": {},
       "output_type": "display_data",
       "png": "[encoded data removed]",
       "text": [
        "<matplotlib.figure.Figure at 0x11318518>"
       ]
      }
     ],
     "prompt_number": 24
    },
    {
     "cell_type": "code",
     "collapsed": false,
     "input": [
      "np.log(10)"
     ],
     "language": "python",
     "metadata": {},
     "outputs": [
      {
       "metadata": {},
       "output_type": "pyout",
       "prompt_number": 25,
       "text": [
        "2.3025850929940459"
       ]
      }
     ],
     "prompt_number": 25
    },
    {
     "cell_type": "code",
     "collapsed": false,
     "input": [
      "np.exp(2.30258509)"
     ],
     "language": "python",
     "metadata": {},
     "outputs": [
      {
       "metadata": {},
       "output_type": "pyout",
       "prompt_number": 28,
       "text": [
        "9.9999999700595428"
       ]
      }
     ],
     "prompt_number": 28
    },
    {
     "cell_type": "code",
     "collapsed": false,
     "input": [
      "plot(R1)\n",
      "plot(R3,'r')"
     ],
     "language": "python",
     "metadata": {},
     "outputs": [
      {
       "metadata": {},
       "output_type": "pyout",
       "prompt_number": 29,
       "text": [
        "[<matplotlib.lines.Line2D at 0x11992128>]"
       ]
      },
      {
       "metadata": {},
       "output_type": "display_data",
       "png": "[encoded data removed]",
       "text": [
        "<matplotlib.figure.Figure at 0x11992358>"
       ]
      }
     ],
     "prompt_number": 29
    },
    {
     "cell_type": "code",
     "collapsed": false,
     "input": [],
     "language": "python",
     "metadata": {},
     "outputs": []
    }
   ],
   "metadata": {}
  }
 ]
}