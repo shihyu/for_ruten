{
 "metadata": {
  "name": "",
  "signature": "sha256:89f29b7d4ea361397dfbbde71c4bc3df01d15bf4e79231f0b6bdec1c30d2a64e"
 },
 "nbformat": 3,
 "nbformat_minor": 0,
 "worksheets": [
  {
   "cells": [
    {
     "cell_type": "code",
     "collapsed": false,
     "input": [
      "import numpy as np\n",
      "%pylab inline"
     ],
     "language": "python",
     "metadata": {},
     "outputs": [
      {
       "output_type": "stream",
       "stream": "stdout",
       "text": [
        "Populating the interactive namespace from numpy and matplotlib\n"
       ]
      },
      {
       "output_type": "stream",
       "stream": "stderr",
       "text": [
        "WARNING: pylab import has clobbered these variables: ['f']\n",
        "`%matplotlib` prevents importing * from pylab and numpy\n"
       ]
      }
     ],
     "prompt_number": 24
    },
    {
     "cell_type": "code",
     "collapsed": false,
     "input": [
      "def simpson(f, a, b, N):\n",
      "    if N%2 == 0:\n",
      "        n = N\n",
      "    else:\n",
      "        n = N+1\n",
      "    \n",
      "    h = float(b-a)/n\n",
      "    S = float(f(a))\n",
      "    \n",
      "    for i in range(1, n, 2):\n",
      "        x = a + h * i\n",
      "        S += 4 * f(x)\n",
      "        \n",
      "    for i in range(2, n-1, 2):\n",
      "        x = a + h * i\n",
      "        S += 2 * f(x)\n",
      "        \n",
      "    S += f(b)\n",
      "    S = S*h/3\n",
      "    \n",
      "    return S"
     ],
     "language": "python",
     "metadata": {},
     "outputs": [],
     "prompt_number": 2
    },
    {
     "cell_type": "code",
     "collapsed": false,
     "input": [
      "def recursive_simpson(f,a,b,S,tol):\n",
      "    \"\"\"\n",
      "    Recursive implementation of adaptive Simpson's Rule.\n",
      "    \n",
      "    f : function of f(x)\n",
      "    [a,b] : the interval of integration\n",
      "    S : the pervious integration result\n",
      "    tol : the tolerance\n",
      "    \n",
      "    This is a subfunction of adapt_simpson.\n",
      "    \"\"\"\n",
      "    \n",
      "    c = float(a+b)/2\n",
      "    SL = simpson(f,a,c,1)\n",
      "    SR = simpson(f,c,b,1)\n",
      "    Sn = SL + SR\n",
      "    err = abs(Sn-S)/15.0\n",
      "    if err <= tol:\n",
      "        S = Sn\n",
      "        nodes = [a,c,b]\n",
      "        return S, err, nodes\n",
      "    else:\n",
      "        SL, err1, nodes1 = recursive_simpson(f,a,c,SL,tol/2)\n",
      "        SR, err2, nodes2 = recursive_simpson(f,c,b,SR,tol/2)\n",
      "        err = err1 + err2\n",
      "        nodes = nodes1[0:-1]\n",
      "        nodes.extend(nodes2)\n",
      "        \n",
      "        return SL+SR, err, nodes"
     ],
     "language": "python",
     "metadata": {},
     "outputs": [],
     "prompt_number": 3
    },
    {
     "cell_type": "code",
     "collapsed": false,
     "input": [
      "def adapt_simpson(f,a,b,tol=10**(-9)):\n",
      "    S = simpson(f,a,b,1)\n",
      "    S, err, nodes = recursive_simpson(f, a, b, S, tol)\n",
      "    return S, err, nodes"
     ],
     "language": "python",
     "metadata": {},
     "outputs": [],
     "prompt_number": 15
    },
    {
     "cell_type": "code",
     "collapsed": false,
     "input": [
      "def f(x):\n",
      "    return 400*x*(1-x)*np.exp(-2*x)"
     ],
     "language": "python",
     "metadata": {},
     "outputs": [],
     "prompt_number": 26
    },
    {
     "cell_type": "code",
     "collapsed": false,
     "input": [
      "S, err, nodes = adapt_simpson(lambda x:f(x), 0, 2*np.pi, 10**(-2))"
     ],
     "language": "python",
     "metadata": {},
     "outputs": [],
     "prompt_number": 17
    },
    {
     "cell_type": "code",
     "collapsed": false,
     "input": [
      "print S, err"
     ],
     "language": "python",
     "metadata": {},
     "outputs": [
      {
       "output_type": "stream",
       "stream": "stdout",
       "text": [
        "0.0276822459186 0.00197157123445\n"
       ]
      }
     ],
     "prompt_number": 18
    },
    {
     "cell_type": "code",
     "collapsed": false,
     "input": [
      "len(nodes)"
     ],
     "language": "python",
     "metadata": {},
     "outputs": [
      {
       "metadata": {},
       "output_type": "pyout",
       "prompt_number": 19,
       "text": [
        "21"
       ]
      }
     ],
     "prompt_number": 19
    },
    {
     "cell_type": "code",
     "collapsed": false,
     "input": [
      "nodes"
     ],
     "language": "python",
     "metadata": {},
     "outputs": [
      {
       "metadata": {},
       "output_type": "pyout",
       "prompt_number": 20,
       "text": [
        "[0,\n",
        " 0.09817477042468103,\n",
        " 0.19634954084936207,\n",
        " 0.2945243112740431,\n",
        " 0.39269908169872414,\n",
        " 0.4908738521234052,\n",
        " 0.5890486225480862,\n",
        " 0.6872233929727672,\n",
        " 0.7853981633974483,\n",
        " 0.9817477042468103,\n",
        " 1.1780972450961724,\n",
        " 1.3744467859455345,\n",
        " 1.5707963267948966,\n",
        " 1.9634954084936207,\n",
        " 2.356194490192345,\n",
        " 2.748893571891069,\n",
        " 3.141592653589793,\n",
        " 3.9269908169872414,\n",
        " 4.71238898038469,\n",
        " 5.497787143782138,\n",
        " 6.283185307179586]"
       ]
      }
     ],
     "prompt_number": 20
    },
    {
     "cell_type": "code",
     "collapsed": false,
     "input": [
      "x = np.linspace(0,2*np.pi,200)\n",
      "y = list()\n",
      "for s in x:\n",
      "    y.append(f(s))\n",
      "y = np.array(y)\n",
      "x1 = np.array(nodes)\n",
      "y1 = np.zeros(len(x1))\n",
      "plot(x,y,'r',x1,y1,'b*')"
     ],
     "language": "python",
     "metadata": {},
     "outputs": [
      {
       "metadata": {},
       "output_type": "pyout",
       "prompt_number": 27,
       "text": [
        "[<matplotlib.lines.Line2D at 0x9e05f60>,\n",
        " <matplotlib.lines.Line2D at 0x9e1a1d0>]"
       ]
      },
      {
       "metadata": {},
       "output_type": "display_data",
       "png": "[encoded data removed]",
       "text": [
        "<matplotlib.figure.Figure at 0x9cb7940>"
       ]
      }
     ],
     "prompt_number": 27
    },
    {
     "cell_type": "code",
     "collapsed": false,
     "input": [],
     "language": "python",
     "metadata": {},
     "outputs": []
    }
   ],
   "metadata": {}
  }
 ]
}