{
 "metadata": {
  "name": "",
  "signature": "sha256:eab8019861c824b813b80dbc9236f4bac74aee45629182a83392c6bf4596564e"
 },
 "nbformat": 3,
 "nbformat_minor": 0,
 "worksheets": [
  {
   "cells": [
    {
     "cell_type": "code",
     "collapsed": false,
     "input": [
      "import numpy as np\n",
      "import numpy.random as rn\n",
      "import numpy.linalg as la"
     ],
     "language": "python",
     "metadata": {},
     "outputs": [],
     "prompt_number": 1
    },
    {
     "cell_type": "code",
     "collapsed": false,
     "input": [
      "A = np.mat(rn.randn(5,5))"
     ],
     "language": "python",
     "metadata": {},
     "outputs": [],
     "prompt_number": 2
    },
    {
     "cell_type": "code",
     "collapsed": false,
     "input": [
      "A"
     ],
     "language": "python",
     "metadata": {},
     "outputs": [
      {
       "metadata": {},
       "output_type": "pyout",
       "prompt_number": 3,
       "text": [
        "matrix([[ 0.11971017, -0.12331932, -0.83164442, -1.38268869,  1.23048626],\n",
        "        [-1.08721861, -0.6363556 , -0.41410267, -2.12135686,  0.81678899],\n",
        "        [ 1.34146046,  0.00918259, -0.89571516,  0.18173148,  0.21764354],\n",
        "        [ 1.32692215, -1.25451082, -0.105097  , -0.00396321, -1.02786132],\n",
        "        [ 2.53197309, -0.37705617,  0.16110236, -0.97394069, -1.26403913]])"
       ]
      }
     ],
     "prompt_number": 3
    },
    {
     "cell_type": "code",
     "collapsed": false,
     "input": [
      "def GS(A,tol=10**(-12)):\n",
      "    m,n = A.shape\n",
      "    Idx = list()\n",
      "    Q = np.mat(np.zeros((m,n)))\n",
      "    Q[:,0] = A[:,0]/la.norm(A[:,0])\n",
      "    for i in range(1,n):\n",
      "        Q[:,i] = A[:,i].copy()\n",
      "        for j in range(i):\n",
      "            Q[:,i] = Q[:,i] - Q[:,j]*(float(Q[:,j].T*Q[:,i]))\n",
      "        if la.norm(Q[:,i]) > tol:\n",
      "            Q[:,i] = Q[:,i]/la.norm(Q[:,i])\n",
      "        else:\n",
      "            Idx.append(i)\n",
      "    return Q, Idx"
     ],
     "language": "python",
     "metadata": {},
     "outputs": [],
     "prompt_number": 10
    },
    {
     "cell_type": "code",
     "collapsed": false,
     "input": [
      "Q, Idx = GS(A)"
     ],
     "language": "python",
     "metadata": {},
     "outputs": [],
     "prompt_number": 12
    },
    {
     "cell_type": "code",
     "collapsed": false,
     "input": [
      "print Q"
     ],
     "language": "python",
     "metadata": {},
     "outputs": [
      {
       "output_type": "stream",
       "stream": "stdout",
       "text": [
        "[[ 0.03582226 -0.07643995 -0.63533226 -0.28660621  0.71209796]\n",
        " [-0.32534106 -0.61389711 -0.25257174 -0.48298754 -0.46926974]\n",
        " [ 0.4014208   0.17950292 -0.6848938   0.3265207  -0.48056712]\n",
        " [ 0.39707033 -0.76356724  0.11877328  0.45795066  0.18834627]\n",
        " [ 0.75767173  0.04506702  0.22220224 -0.60683222 -0.07926751]]\n"
       ]
      }
     ],
     "prompt_number": 13
    },
    {
     "cell_type": "code",
     "collapsed": false,
     "input": [
      "Q[:,0].T*Q[:,1]"
     ],
     "language": "python",
     "metadata": {},
     "outputs": [
      {
       "metadata": {},
       "output_type": "pyout",
       "prompt_number": 14,
       "text": [
        "matrix([[  6.93889390e-17]])"
       ]
      }
     ],
     "prompt_number": 14
    },
    {
     "cell_type": "code",
     "collapsed": false,
     "input": [],
     "language": "python",
     "metadata": {},
     "outputs": []
    }
   ],
   "metadata": {}
  }
 ]
}