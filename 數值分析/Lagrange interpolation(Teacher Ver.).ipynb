{
 "metadata": {
  "name": "",
  "signature": "sha256:6fbd56511f88b6aa11de3961312e8ae081fc584c479c2aa827f9c2fde6fc6268"
 },
 "nbformat": 3,
 "nbformat_minor": 0,
 "worksheets": [
  {
   "cells": [
    {
     "cell_type": "markdown",
     "metadata": {},
     "source": [
      "Let $(x_i,y_i)$ be interpolation points for $i = 0,\\dots,n$.\n",
      "\n",
      "$p_n = \\prod_{k=0}^n y_k L_k(x)$, where $L_k(x) = \\prod_{i=0,i\\not = k}^n \\frac{x-x_i}{x_k-x_i}$."
     ]
    },
    {
     "cell_type": "code",
     "collapsed": false,
     "input": [
      "import numpy as np\n",
      "import numpy.random as rn"
     ],
     "language": "python",
     "metadata": {},
     "outputs": [],
     "prompt_number": 4
    },
    {
     "cell_type": "markdown",
     "metadata": {},
     "source": [
      "Define F(x):\n",
      "\n",
      "$F(x)= 2x+log(x)+5sin(x)+n(x)$"
     ]
    },
    {
     "cell_type": "code",
     "collapsed": false,
     "input": [
      "def F(x):\n",
      "    return 2*x+2*np.log(x)+5*np.sin(x)"
     ],
     "language": "python",
     "metadata": {},
     "outputs": [],
     "prompt_number": 19
    },
    {
     "cell_type": "code",
     "collapsed": false,
     "input": [
      "x = np.linspace(1,20,10)\n",
      "xx = np.linspace(1,20,200)\n",
      "y = F(x)\n",
      "yy = F(xx)"
     ],
     "language": "python",
     "metadata": {},
     "outputs": [],
     "prompt_number": 34
    },
    {
     "cell_type": "code",
     "collapsed": false,
     "input": [
      "plot(x,y,'o',xx,yy,'r')"
     ],
     "language": "python",
     "metadata": {},
     "outputs": [
      {
       "metadata": {},
       "output_type": "pyout",
       "prompt_number": 35,
       "text": [
        "[<matplotlib.lines.Line2D at 0x10fef9bd0>,\n",
        " <matplotlib.lines.Line2D at 0x10fef9dd0>]"
       ]
      },
      {
       "metadata": {},
       "output_type": "display_data",
       "png": "[encoded data removed]"
      }
     ],
     "prompt_number": 35
    },
    {
     "cell_type": "code",
     "collapsed": false,
     "input": [
      "p = np.poly1d([1,2,3])\n",
      "print p"
     ],
     "language": "python",
     "metadata": {},
     "outputs": [
      {
       "output_type": "stream",
       "stream": "stdout",
       "text": [
        "   2\n",
        "1 x + 2 x + 3\n"
       ]
      }
     ],
     "prompt_number": 36
    },
    {
     "cell_type": "code",
     "collapsed": false,
     "input": [
      "p1 = np.poly1d([1,1])\n",
      "p2 = np.poly1d([2,3])\n",
      "print p1\n",
      "print p2\n",
      "p3 = p1*p2\n",
      "print p3"
     ],
     "language": "python",
     "metadata": {},
     "outputs": [
      {
       "output_type": "stream",
       "stream": "stdout",
       "text": [
        " \n",
        "1 x + 1\n",
        " \n",
        "2 x + 3\n",
        "   2\n",
        "2 x + 5 x + 3\n"
       ]
      }
     ],
     "prompt_number": 37
    },
    {
     "cell_type": "code",
     "collapsed": false,
     "input": [
      "def Lagrange(xi,yi):\n",
      "    n = len(xi)\n",
      "    m = len(yi)\n",
      "    if n<>m:\n",
      "        print 'Input interpolation points error, len(xi) not = len(yi).'\n",
      "        return\n",
      "    else:\n",
      "        p = np.poly1d([0])\n",
      "        for k in range(n):\n",
      "            L = np.poly1d([1])\n",
      "            for i in range(n):\n",
      "                if i<>k:\n",
      "                    L = L*np.poly1d([1.0/(xi[k]-xi[i]), -xi[i]/(xi[k]-xi[i])])\n",
      "            p = p+yi[k]*L\n",
      "    return p"
     ],
     "language": "python",
     "metadata": {},
     "outputs": [],
     "prompt_number": 38
    },
    {
     "cell_type": "code",
     "collapsed": false,
     "input": [
      "p = Lagrange(x,y)\n",
      "y1 = p(xx)"
     ],
     "language": "python",
     "metadata": {},
     "outputs": [],
     "prompt_number": 39
    },
    {
     "cell_type": "code",
     "collapsed": false,
     "input": [
      "p(x[2])"
     ],
     "language": "python",
     "metadata": {},
     "outputs": [
      {
       "metadata": {},
       "output_type": "pyout",
       "prompt_number": 40,
       "text": [
        "9.3861609779467479"
       ]
      }
     ],
     "prompt_number": 40
    },
    {
     "cell_type": "code",
     "collapsed": false,
     "input": [
      "F(x[2])"
     ],
     "language": "python",
     "metadata": {},
     "outputs": [
      {
       "metadata": {},
       "output_type": "pyout",
       "prompt_number": 41,
       "text": [
        "9.3861609779358304"
       ]
      }
     ],
     "prompt_number": 41
    },
    {
     "cell_type": "code",
     "collapsed": false,
     "input": [
      "plot(x,y,'o',xx,y1,'r',xx,yy,'b')"
     ],
     "language": "python",
     "metadata": {},
     "outputs": [
      {
       "metadata": {},
       "output_type": "pyout",
       "prompt_number": 42,
       "text": [
        "[<matplotlib.lines.Line2D at 0x10ff852d0>,\n",
        " <matplotlib.lines.Line2D at 0x10ff854d0>,\n",
        " <matplotlib.lines.Line2D at 0x10ff85a50>]"
       ]
      },
      {
       "metadata": {},
       "output_type": "display_data",
       "png": "[encoded data removed]"
      }
     ],
     "prompt_number": 42
    },
    {
     "cell_type": "markdown",
     "metadata": {},
     "source": [
      "Runge phenomenon\n",
      "\n",
      "$f(x) = \\frac{1}{1+x^2}$"
     ]
    },
    {
     "cell_type": "code",
     "collapsed": false,
     "input": [
      "def f(x):\n",
      "    return 1.0/(1+x**2)"
     ],
     "language": "python",
     "metadata": {},
     "outputs": [],
     "prompt_number": 43
    },
    {
     "cell_type": "markdown",
     "metadata": {},
     "source": [
      "Change the following line 'x = np.linspace(-5,5,t)', for $t = 6,8,10,\\dots,20$."
     ]
    },
    {
     "cell_type": "code",
     "collapsed": false,
     "input": [
      "x = np.linspace(-5,5,16)\n",
      "y = f(x)\n",
      "xx = np.linspace(-5,5,200)\n",
      "yy = f(xx)\n",
      "p = Lagrange(x,y)\n",
      "y1 = p(xx)\n",
      "plot(x,y,'o',xx,yy,'b',xx,y1,'r')"
     ],
     "language": "python",
     "metadata": {},
     "outputs": [
      {
       "metadata": {},
       "output_type": "pyout",
       "prompt_number": 45,
       "text": [
        "[<matplotlib.lines.Line2D at 0x110098190>,\n",
        " <matplotlib.lines.Line2D at 0x110098390>,\n",
        " <matplotlib.lines.Line2D at 0x110098910>]"
       ]
      },
      {
       "metadata": {},
       "output_type": "display_data",
       "png": "[encoded data removed]"
      }
     ],
     "prompt_number": 45
    },
    {
     "cell_type": "code",
     "collapsed": false,
     "input": [
      "xi = np.array(range(-3,4))\n",
      "print xi"
     ],
     "language": "python",
     "metadata": {},
     "outputs": [
      {
       "output_type": "stream",
       "stream": "stdout",
       "text": [
        "[-3 -2 -1  0  1  2  3]\n"
       ]
      }
     ],
     "prompt_number": 71
    },
    {
     "cell_type": "code",
     "collapsed": false,
     "input": [
      "yi = np.zeros([1,7])"
     ],
     "language": "python",
     "metadata": {},
     "outputs": [],
     "prompt_number": 79
    },
    {
     "cell_type": "code",
     "collapsed": false,
     "input": [
      "yi = np.array(yi[0])"
     ],
     "language": "python",
     "metadata": {},
     "outputs": [],
     "prompt_number": 80
    },
    {
     "cell_type": "code",
     "collapsed": false,
     "input": [
      "yi[2] = 1"
     ],
     "language": "python",
     "metadata": {},
     "outputs": [],
     "prompt_number": 81
    },
    {
     "cell_type": "code",
     "collapsed": false,
     "input": [
      "Lg = Lagrange(xi,yi)"
     ],
     "language": "python",
     "metadata": {},
     "outputs": [],
     "prompt_number": 82
    },
    {
     "cell_type": "code",
     "collapsed": false,
     "input": [
      "x = linspace(-3.1,3.1,200)\n",
      "y = Lg(x)\n",
      "plot(x,y,'k',xi,yi,'ko')"
     ],
     "language": "python",
     "metadata": {},
     "outputs": [
      {
       "metadata": {},
       "output_type": "pyout",
       "prompt_number": 83,
       "text": [
        "[<matplotlib.lines.Line2D at 0x1105d3810>,\n",
        " <matplotlib.lines.Line2D at 0x1105d3a50>]"
       ]
      },
      {
       "metadata": {},
       "output_type": "display_data",
       "png": "[encoded data removed]"
      }
     ],
     "prompt_number": 83
    },
    {
     "cell_type": "code",
     "collapsed": false,
     "input": [],
     "language": "python",
     "metadata": {},
     "outputs": []
    }
   ],
   "metadata": {}
  }
 ]
}