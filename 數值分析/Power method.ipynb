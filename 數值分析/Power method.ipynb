{
 "metadata": {
  "name": "",
  "signature": "sha256:9ebbeda89fb4bbb78ace81076e5df904efbcc6329516a5a0832214b2b03a450a"
 },
 "nbformat": 3,
 "nbformat_minor": 0,
 "worksheets": [
  {
   "cells": [
    {
     "cell_type": "code",
     "collapsed": false,
     "input": [
      "import numpy as np\n",
      "import numpy.random as rn\n",
      "import numpy.linalg as la"
     ],
     "language": "python",
     "metadata": {},
     "outputs": [],
     "prompt_number": 1
    },
    {
     "cell_type": "code",
     "collapsed": false,
     "input": [
      "def power_method(A,tol = 10**(-12),Maxitr=1000):\n",
      "    m,n = A.shape\n",
      "    x0 = np.mat(rn.randn(n,1))\n",
      "    x0 = x0/la.norm(x0)\n",
      "    x1 = A*x0\n",
      "    x1 = x1/la.norm(x1)\n",
      "    i = 1\n",
      "    while la.norm(x1-x0)>tol and i<Maxitr:\n",
      "        i+=1\n",
      "        x0 = x1\n",
      "        x1 = A*x0\n",
      "        x1 = x1/la.norm(x1)\n",
      "        if i == Maxitr:\n",
      "            print \"Warning, the output might be not accurate.\"\n",
      "    print \"we have computer\", i ,\"-iterations\"        \n",
      "    L = float((A*x1).T*x1/(x1.T*x1))\n",
      "    return x1, L\n",
      "    "
     ],
     "language": "python",
     "metadata": {},
     "outputs": [],
     "prompt_number": 2
    },
    {
     "cell_type": "code",
     "collapsed": false,
     "input": [
      "A = np.mat(rn.randn(5,5))"
     ],
     "language": "python",
     "metadata": {},
     "outputs": [],
     "prompt_number": 3
    },
    {
     "cell_type": "code",
     "collapsed": false,
     "input": [
      "A = np.round(A.T*A*30)"
     ],
     "language": "python",
     "metadata": {},
     "outputs": [],
     "prompt_number": 4
    },
    {
     "cell_type": "code",
     "collapsed": false,
     "input": [
      "A"
     ],
     "language": "python",
     "metadata": {},
     "outputs": [
      {
       "metadata": {},
       "output_type": "pyout",
       "prompt_number": 5,
       "text": [
        "matrix([[ 172.,   -7.,   34.,  -85.,   -1.],\n",
        "        [  -7.,   60.,  -70.,   25.,   29.],\n",
        "        [  34.,  -70.,   90.,  -55.,  -41.],\n",
        "        [ -85.,   25.,  -55.,   94.,   44.],\n",
        "        [  -1.,   29.,  -41.,   44.,   52.]])"
       ]
      }
     ],
     "prompt_number": 5
    },
    {
     "cell_type": "code",
     "collapsed": false,
     "input": [
      "x,L = power_method(A)"
     ],
     "language": "python",
     "metadata": {},
     "outputs": [
      {
       "output_type": "stream",
       "stream": "stdout",
       "text": [
        "we have computer 47 -iterations\n"
       ]
      }
     ],
     "prompt_number": 6
    },
    {
     "cell_type": "code",
     "collapsed": false,
     "input": [
      "x"
     ],
     "language": "python",
     "metadata": {},
     "outputs": [
      {
       "metadata": {},
       "output_type": "pyout",
       "prompt_number": 7,
       "text": [
        "matrix([[ 0.63466341],\n",
        "        [-0.26128097],\n",
        "        [ 0.43613513],\n",
        "        [-0.53571102],\n",
        "        [-0.22745212]])"
       ]
      }
     ],
     "prompt_number": 7
    },
    {
     "cell_type": "code",
     "collapsed": false,
     "input": [
      "L"
     ],
     "language": "python",
     "metadata": {},
     "outputs": [
      {
       "metadata": {},
       "output_type": "pyout",
       "prompt_number": 8,
       "text": [
        "270.35205474930603"
       ]
      }
     ],
     "prompt_number": 8
    },
    {
     "cell_type": "code",
     "collapsed": false,
     "input": [
      "b = A*x"
     ],
     "language": "python",
     "metadata": {},
     "outputs": [],
     "prompt_number": 9
    },
    {
     "cell_type": "code",
     "collapsed": false,
     "input": [
      "b"
     ],
     "language": "python",
     "metadata": {},
     "outputs": [
      {
       "metadata": {},
       "output_type": "pyout",
       "prompt_number": 10,
       "text": [
        "matrix([[ 171.58255588],\n",
        "        [ -70.63784826],\n",
        "        [ 117.91002856],\n",
        "        [-144.83057499],\n",
        "        [ -61.4921469 ]])"
       ]
      }
     ],
     "prompt_number": 10
    },
    {
     "cell_type": "code",
     "collapsed": false,
     "input": [
      "for i in range(5):\n",
      "    print b[i]/x[i]"
     ],
     "language": "python",
     "metadata": {},
     "outputs": [
      {
       "output_type": "stream",
       "stream": "stdout",
       "text": [
        "[[ 270.35205475]]\n",
        "[[ 270.35205475]]\n",
        "[[ 270.35205475]]\n",
        "[[ 270.35205475]]\n",
        "[[ 270.35205475]]\n"
       ]
      }
     ],
     "prompt_number": 11
    },
    {
     "cell_type": "code",
     "collapsed": false,
     "input": [],
     "language": "python",
     "metadata": {},
     "outputs": []
    }
   ],
   "metadata": {}
  }
 ]
}