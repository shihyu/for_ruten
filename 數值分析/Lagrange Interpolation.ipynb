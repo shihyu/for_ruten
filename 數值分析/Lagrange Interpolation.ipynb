{
 "metadata": {
  "name": "",
  "signature": "sha256:06e5e43a256d50719c32c18f01770984018480222813707785370c3d5e2ed242"
 },
 "nbformat": 3,
 "nbformat_minor": 0,
 "worksheets": [
  {
   "cells": [
    {
     "cell_type": "markdown",
     "metadata": {},
     "source": [
      "### Let $(x_i,y_i)$ be interpolation point, $i=0,1,...,n.$\n",
      "\n",
      "### $p_n=\\Pi_{k=0}^{n}y_kL_k(x)$, where $L_k(x)\\neq \\Pi_{i=0,i!=k}^{n}\\frac{x-x_i}{x_k-x_i}$"
     ]
    },
    {
     "cell_type": "code",
     "collapsed": false,
     "input": [
      "import numpy as np\n",
      "import numpy.random as rn"
     ],
     "language": "python",
     "metadata": {},
     "outputs": [],
     "prompt_number": 1
    },
    {
     "cell_type": "markdown",
     "metadata": {},
     "source": [
      "Define F(x):\n",
      "\n",
      "$F(x)=2x+log(x)+5sin(x)$"
     ]
    },
    {
     "cell_type": "code",
     "collapsed": false,
     "input": [
      "def F(x):\n",
      "    return 2*x+2*np.log(x)+5*np.sin(x)"
     ],
     "language": "python",
     "metadata": {},
     "outputs": [],
     "prompt_number": 2
    },
    {
     "cell_type": "code",
     "collapsed": false,
     "input": [
      "x = np.linspace(1,20,10)\n",
      "xx = np.linspace(1,20,200)\n",
      "y = F(x)\n",
      "yy = F(xx)"
     ],
     "language": "python",
     "metadata": {},
     "outputs": [],
     "prompt_number": 3
    },
    {
     "cell_type": "code",
     "collapsed": false,
     "input": [
      "%pylab inline"
     ],
     "language": "python",
     "metadata": {},
     "outputs": [
      {
       "output_type": "stream",
       "stream": "stdout",
       "text": [
        "Populating the interactive namespace from numpy and matplotlib\n"
       ]
      }
     ],
     "prompt_number": 4
    },
    {
     "cell_type": "code",
     "collapsed": false,
     "input": [
      "plot(x,y,'o',xx,yy,'r')"
     ],
     "language": "python",
     "metadata": {},
     "outputs": [
      {
       "metadata": {},
       "output_type": "pyout",
       "prompt_number": 5,
       "text": [
        "[<matplotlib.lines.Line2D at 0x99fecf8>,\n",
        " <matplotlib.lines.Line2D at 0x99fef28>]"
       ]
      },
      {
       "metadata": {},
       "output_type": "display_data",
       "png": "[encoded data removed]",
       "text": [
        "<matplotlib.figure.Figure at 0x985b400>"
       ]
      }
     ],
     "prompt_number": 5
    },
    {
     "cell_type": "code",
     "collapsed": false,
     "input": [
      "p = np.poly1d([1,2,3])\n",
      "print p"
     ],
     "language": "python",
     "metadata": {},
     "outputs": [
      {
       "output_type": "stream",
       "stream": "stdout",
       "text": [
        "   2\n",
        "1 x + 2 x + 3\n"
       ]
      }
     ],
     "prompt_number": 6
    },
    {
     "cell_type": "code",
     "collapsed": false,
     "input": [
      "p1 = np.poly1d([1,1])\n",
      "p2 = np.poly1d([2,3])\n",
      "p3 = p1*p2\n",
      "print p1\n",
      "print p2\n",
      "print p3\n",
      "print np.poly1d([1])"
     ],
     "language": "python",
     "metadata": {},
     "outputs": [
      {
       "output_type": "stream",
       "stream": "stdout",
       "text": [
        " \n",
        "1 x + 1\n",
        " \n",
        "2 x + 3\n",
        "   2\n",
        "2 x + 5 x + 3\n",
        " \n",
        "1\n"
       ]
      }
     ],
     "prompt_number": 7
    },
    {
     "cell_type": "code",
     "collapsed": false,
     "input": [
      "def Lagrange(xi,yi):\n",
      "    n = len(xi)\n",
      "    m = len(yi)\n",
      "    if n<>m:\n",
      "        print 'Input interpolation point error, len(xi) not equal len(yi).'\n",
      "        return\n",
      "    else:\n",
      "        p = np.poly1d([0])\n",
      "        for k in range(n):\n",
      "            L = np.poly1d([1])\n",
      "            for i in range(n):\n",
      "                if i <> k:\n",
      "                    L = L*np.poly1d([1.0/(xi[k]-xi[i]),-float(xi[i])/(xi[k]-xi[i])])\n",
      "            p = p + yi[k]*L\n",
      "    return p     "
     ],
     "language": "python",
     "metadata": {},
     "outputs": [],
     "prompt_number": 21
    },
    {
     "cell_type": "code",
     "collapsed": false,
     "input": [
      "p = Lagrange(x,y)\n",
      "y1 = p(xx)"
     ],
     "language": "python",
     "metadata": {},
     "outputs": [],
     "prompt_number": 22
    },
    {
     "cell_type": "code",
     "collapsed": false,
     "input": [
      "abs(p(x[5])-y[5])"
     ],
     "language": "python",
     "metadata": {},
     "outputs": [
      {
       "metadata": {},
       "output_type": "pyout",
       "prompt_number": 23,
       "text": [
        "5.9261751061967516e-10"
       ]
      }
     ],
     "prompt_number": 23
    },
    {
     "cell_type": "code",
     "collapsed": false,
     "input": [
      "print x[5],y[5],p(x[5]),F(x[5])"
     ],
     "language": "python",
     "metadata": {},
     "outputs": [
      {
       "output_type": "stream",
       "stream": "stdout",
       "text": [
        "11.5555555556 23.7691184495 23.7691184501 23.7691184495\n"
       ]
      }
     ],
     "prompt_number": 24
    },
    {
     "cell_type": "code",
     "collapsed": false,
     "input": [
      "p"
     ],
     "language": "python",
     "metadata": {},
     "outputs": [
      {
       "metadata": {},
       "output_type": "pyout",
       "prompt_number": 25,
       "text": [
        "poly1d([ -1.15095234e-06,   9.72854665e-05,  -3.37401548e-03,\n",
        "         6.16077388e-02,  -6.28718407e-01,   3.45463583e+00,\n",
        "        -8.29744061e+00,  -1.04097909e+00,   3.23770686e+01,\n",
        "        -1.97155413e+01])"
       ]
      }
     ],
     "prompt_number": 25
    },
    {
     "cell_type": "code",
     "collapsed": false,
     "input": [],
     "language": "python",
     "metadata": {},
     "outputs": []
    }
   ],
   "metadata": {}
  }
 ]
}