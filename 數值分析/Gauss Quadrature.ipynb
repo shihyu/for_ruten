{
 "metadata": {
  "name": "",
  "signature": "sha256:fd62daccb792a0ef7a6e933a369dca95761e7afce480833e27017d81245ca438"
 },
 "nbformat": 3,
 "nbformat_minor": 0,
 "worksheets": [
  {
   "cells": [
    {
     "cell_type": "markdown",
     "metadata": {},
     "source": [
      "## $\\int_{a}^{b}f(x)dx =\\approx \\sum_{i=1}^{n}w_{i}f(x_{i})$"
     ]
    },
    {
     "cell_type": "code",
     "collapsed": false,
     "input": [
      "%pylab inline\n",
      "import numpy as np\n",
      "import numpy.linalg as la"
     ],
     "language": "python",
     "metadata": {},
     "outputs": [
      {
       "output_type": "stream",
       "stream": "stdout",
       "text": [
        "Populating the interactive namespace from numpy and matplotlib\n"
       ]
      }
     ],
     "prompt_number": 1
    },
    {
     "cell_type": "markdown",
     "metadata": {},
     "source": [
      "## $ p_{n}(x) = \\frac{1}{n}[(2n-1)xP_{n-1}(x)-(n-1)P_{n-2}(x)]$"
     ]
    },
    {
     "cell_type": "code",
     "collapsed": false,
     "input": [
      "def Legendre_poly(N):\n",
      "    \"\"\"\n",
      "    The generator of the coefficient of Legendre polynomial of degree N\n",
      "    \n",
      "    For example:\n",
      "    p = Legendre_poly(3)\n",
      "    \"\"\"\n",
      "    if N <= 0:\n",
      "        c = np.array([1])\n",
      "    elif N == 1:\n",
      "        c = np.array([1,0])\n",
      "    else:\n",
      "        a = list(Legendre_poly(N-1))\n",
      "        a.append(0)\n",
      "        a = np.array(a)\n",
      "        \n",
      "        c = list(Legendre_poly(N-2))\n",
      "        b = [0,0]\n",
      "        b.extend(c)\n",
      "        b = np.array(b)\n",
      "        \n",
      "        c = ((2*N-1)*a+(N-1)*b)/float(N)\n",
      "        \n",
      "        return c"
     ],
     "language": "python",
     "metadata": {},
     "outputs": [],
     "prompt_number": 4
    },
    {
     "cell_type": "code",
     "collapsed": false,
     "input": [
      "def Gauss_Legendre(N):\n",
      "    \"\"\"\n",
      "    The generator of the points and the weightings of Gauss-Legendre Integration of order N\n",
      "    \n",
      "    For example:\n",
      "    x, w = Gauss_Legendre(3)\n",
      "    \"\"\"\n",
      "    if N<0:\n",
      "        print \"Gauss-Legendre Polynomial of negative order?\"\n",
      "        return\n",
      "    \n",
      "    c = Legendre_poly(N)\n",
      "    p = np.poly1d(c)\n",
      "    x = np.imag(p.r)\n",
      "    \n",
      "    A = np.matrix(np.zeros([N,N]),dtype ='complex')\n",
      "    b = np.matrix(np.zeros([N,1]),dtype ='complex')\n",
      "    A[0,:] = 1\n",
      "    b[b,b] = 2\n",
      "    for i in xrange(1,N):\n",
      "        for j in xrange(N):\n",
      "            A[i,j] = x[j]**2\n",
      "        if i%2 <> 0:\n",
      "            b[i,0] = 0\n",
      "        else:\n",
      "            b[i,0] = float(2)/(i+1)\n",
      "    \n",
      "    w = la.solve(A,b)\n",
      "    \n",
      "    return w, np.real(w)"
     ],
     "language": "python",
     "metadata": {},
     "outputs": [],
     "prompt_number": 7
    },
    {
     "cell_type": "code",
     "collapsed": false,
     "input": [],
     "language": "python",
     "metadata": {},
     "outputs": []
    }
   ],
   "metadata": {}
  }
 ]
}