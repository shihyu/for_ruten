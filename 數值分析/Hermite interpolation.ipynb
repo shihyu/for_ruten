{
 "metadata": {
  "name": "",
  "signature": "sha256:ffccf630cd118d6f158424f551e8784fb4c577838c323a2b61917d55988d213a"
 },
 "nbformat": 3,
 "nbformat_minor": 0,
 "worksheets": [
  {
   "cells": [
    {
     "cell_type": "markdown",
     "metadata": {},
     "source": [
      "### Let $(x_i,y_i)$ be interpolation point.\n",
      "\n",
      "### Hermite interpolation will find polynomial $p_{2n+1}$ such that $p_{2n+1}(x_i)=y_i$ and $p'_{2n+1}(x_i)=z'_i$ for given $z_i$."
     ]
    },
    {
     "cell_type": "code",
     "collapsed": false,
     "input": [
      "import numpy as np\n",
      "import numpy.random as rn\n",
      "%pylab inline"
     ],
     "language": "python",
     "metadata": {},
     "outputs": [
      {
       "output_type": "stream",
       "stream": "stdout",
       "text": [
        "Populating the interactive namespace from numpy and matplotlib\n"
       ]
      }
     ],
     "prompt_number": 1
    },
    {
     "cell_type": "code",
     "collapsed": false,
     "input": [
      "def f(x):\n",
      "    return 1.0/(1+x**2)"
     ],
     "language": "python",
     "metadata": {},
     "outputs": [],
     "prompt_number": 2
    },
    {
     "cell_type": "code",
     "collapsed": false,
     "input": [
      "def df(x):\n",
      "    return -2*x/(1+x**2)**2"
     ],
     "language": "python",
     "metadata": {},
     "outputs": [],
     "prompt_number": 3
    },
    {
     "cell_type": "code",
     "collapsed": false,
     "input": [
      "def Hermite(xi,yi,zi):\n",
      "    n = len(xi)\n",
      "    m = len(yi)\n",
      "    s = len(zi)\n",
      "    if n<>m or n<>s or m<>s:\n",
      "        print 'Input interpolation point error, len(xi), len(yi), len(zi) must be the same.'\n",
      "        return\n",
      "    else:\n",
      "        p = np.poly1d([0])\n",
      "        for k in range(n):\n",
      "            L = np.poly1d([1])\n",
      "            for i in range(n):\n",
      "                if i<>k:\n",
      "                    L = L*np.poly1d([1.0/(xi[k]-xi[i]),-float(xi[i])/(xi[k]-xi[i])])\n",
      "                dL = np.polyder(L)\n",
      "                H = (np.poly1d([1])-2*dL(xi[k])*np.poly1d([1,-xi[k]]))*L**2\n",
      "                G = np.poly1d([1,-xi[k]])*L**2\n",
      "                p = p + yi[k]*H + zi[k]*G\n",
      "            return p\n",
      "                "
     ],
     "language": "python",
     "metadata": {},
     "outputs": [],
     "prompt_number": 4
    },
    {
     "cell_type": "code",
     "collapsed": false,
     "input": [
      "h = poly1d([1,2,3])\n",
      "dh = np.polyder(h)\n",
      "print h, dh"
     ],
     "language": "python",
     "metadata": {},
     "outputs": [
      {
       "output_type": "stream",
       "stream": "stdout",
       "text": [
        "   2\n",
        "1 x + 2 x + 3  \n",
        "2 x + 2\n"
       ]
      }
     ],
     "prompt_number": 5
    },
    {
     "cell_type": "code",
     "collapsed": false,
     "input": [
      "xi = np.linspace(-5,5,8)\n",
      "yi = f(xi)\n",
      "zi = df(xi)\n",
      "x = np.linspace(-5,5,200)\n",
      "y = f(x)\n",
      "p = Hermite(xi,yi,zi)\n",
      "y1 = p(x)\n",
      "plot(xi,yi,'o',x,y,'b',x,y1,'r')\n"
     ],
     "language": "python",
     "metadata": {},
     "outputs": [
      {
       "metadata": {},
       "output_type": "pyout",
       "prompt_number": 6,
       "text": [
        "[<matplotlib.lines.Line2D at 0x9a5b0b8>,\n",
        " <matplotlib.lines.Line2D at 0x9a5b2e8>,\n",
        " <matplotlib.lines.Line2D at 0x9a5b8d0>]"
       ]
      },
      {
       "metadata": {},
       "output_type": "display_data",
       "png": "[encoded data removed]",
       "text": [
        "<matplotlib.figure.Figure at 0x9884630>"
       ]
      }
     ],
     "prompt_number": 6
    },
    {
     "cell_type": "code",
     "collapsed": false,
     "input": [],
     "language": "python",
     "metadata": {},
     "outputs": []
    }
   ],
   "metadata": {}
  }
 ]
}