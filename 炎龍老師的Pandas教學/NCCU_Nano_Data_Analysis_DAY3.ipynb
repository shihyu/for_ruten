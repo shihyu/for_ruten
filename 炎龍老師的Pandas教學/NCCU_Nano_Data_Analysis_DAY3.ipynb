{
 "metadata": {
  "name": "",
  "signature": "sha256:c5b815815d1826c085cefad8b79b4bee1d7239edafa9e75001224b6d79d366aa"
 },
 "nbformat": 3,
 "nbformat_minor": 0,
 "worksheets": [
  {
   "cells": [
    {
     "cell_type": "code",
     "collapsed": false,
     "input": [
      "name = u'\u9673\u5f65\u540d'"
     ],
     "language": "python",
     "metadata": {},
     "outputs": [],
     "prompt_number": 1
    },
    {
     "cell_type": "code",
     "collapsed": false,
     "input": [
      "print name"
     ],
     "language": "python",
     "metadata": {},
     "outputs": [
      {
       "output_type": "stream",
       "stream": "stdout",
       "text": [
        "\u9673\u5f65\u540d\n"
       ]
      }
     ],
     "prompt_number": 2
    },
    {
     "cell_type": "code",
     "collapsed": false,
     "input": [
      "name[0]"
     ],
     "language": "python",
     "metadata": {},
     "outputs": [
      {
       "metadata": {},
       "output_type": "pyout",
       "prompt_number": 3,
       "text": [
        "u'\\u9673'"
       ]
      }
     ],
     "prompt_number": 3
    },
    {
     "cell_type": "code",
     "collapsed": false,
     "input": [
      "print name[0]"
     ],
     "language": "python",
     "metadata": {},
     "outputs": [
      {
       "output_type": "stream",
       "stream": "stdout",
       "text": [
        "\u9673\n"
       ]
      }
     ],
     "prompt_number": 4
    },
    {
     "cell_type": "code",
     "collapsed": false,
     "input": [
      "len(name)"
     ],
     "language": "python",
     "metadata": {},
     "outputs": [
      {
       "metadata": {},
       "output_type": "pyout",
       "prompt_number": 5,
       "text": [
        "3"
       ]
      }
     ],
     "prompt_number": 5
    },
    {
     "cell_type": "code",
     "collapsed": false,
     "input": [
      "name = \"\u9673\u5f65\u540d\""
     ],
     "language": "python",
     "metadata": {},
     "outputs": [],
     "prompt_number": 6
    },
    {
     "cell_type": "code",
     "collapsed": false,
     "input": [
      "print name[0]"
     ],
     "language": "python",
     "metadata": {},
     "outputs": [
      {
       "output_type": "stream",
       "stream": "stdout",
       "text": [
        "\ufffd\n"
       ]
      }
     ],
     "prompt_number": 7
    },
    {
     "cell_type": "code",
     "collapsed": false,
     "input": [
      "len(name)"
     ],
     "language": "python",
     "metadata": {},
     "outputs": [
      {
       "metadata": {},
       "output_type": "pyout",
       "prompt_number": 8,
       "text": [
        "9"
       ]
      }
     ],
     "prompt_number": 8
    },
    {
     "cell_type": "code",
     "collapsed": false,
     "input": [
      "print name[0:3]"
     ],
     "language": "python",
     "metadata": {},
     "outputs": [
      {
       "output_type": "stream",
       "stream": "stdout",
       "text": [
        "\u9673\n"
       ]
      }
     ],
     "prompt_number": 9
    },
    {
     "cell_type": "code",
     "collapsed": false,
     "input": [
      "name_unicode = name.decode('utf-8')"
     ],
     "language": "python",
     "metadata": {},
     "outputs": [],
     "prompt_number": 10
    },
    {
     "cell_type": "code",
     "collapsed": false,
     "input": [
      "print name_unicode[0]"
     ],
     "language": "python",
     "metadata": {},
     "outputs": [
      {
       "output_type": "stream",
       "stream": "stdout",
       "text": [
        "\u9673\n"
       ]
      }
     ],
     "prompt_number": 11
    },
    {
     "cell_type": "code",
     "collapsed": false,
     "input": [
      "len(name_unicode)"
     ],
     "language": "python",
     "metadata": {},
     "outputs": [
      {
       "metadata": {},
       "output_type": "pyout",
       "prompt_number": 12,
       "text": [
        "3"
       ]
      }
     ],
     "prompt_number": 12
    },
    {
     "cell_type": "code",
     "collapsed": false,
     "input": [
      "name_utf8 = name_unicode.encode('utf-8')"
     ],
     "language": "python",
     "metadata": {},
     "outputs": [],
     "prompt_number": 13
    },
    {
     "cell_type": "code",
     "collapsed": false,
     "input": [
      "print  name_utf8[0]"
     ],
     "language": "python",
     "metadata": {},
     "outputs": [
      {
       "output_type": "stream",
       "stream": "stdout",
       "text": [
        "\ufffd\n"
       ]
      }
     ],
     "prompt_number": 14
    },
    {
     "cell_type": "code",
     "collapsed": false,
     "input": [
      "name = raw_input('\u8f38\u5165\u60a8\u7684\u5927\u540d:')\n",
      "print \"\u4f60\u597d, \" + name + \"!\""
     ],
     "language": "python",
     "metadata": {},
     "outputs": [
      {
       "name": "stdout",
       "output_type": "stream",
       "stream": "stdout",
       "text": [
        "\u981b\u8a68\ufffd\ufffd\u51fd\ufffd\u61ad\u6279\ufffd:\n"
       ]
      },
      {
       "output_type": "stream",
       "stream": "stdout",
       "text": [
        "\u4f60\u597d, !\n"
       ]
      }
     ],
     "prompt_number": 17
    },
    {
     "cell_type": "code",
     "collapsed": false,
     "input": [
      "name = raw_input(u\"\u8acb\u8f38\u5165\u60a8\u7684\u5927\u540d: \")\n",
      "print \"\u4f60\u597d,\" + name + \"!\""
     ],
     "language": "python",
     "metadata": {},
     "outputs": []
    },
    {
     "cell_type": "code",
     "collapsed": false,
     "input": [
      "import sys"
     ],
     "language": "python",
     "metadata": {},
     "outputs": []
    },
    {
     "cell_type": "code",
     "collapsed": false,
     "input": [
      "s = sys.getfilesystemencoding()"
     ],
     "language": "python",
     "metadata": {},
     "outputs": []
    },
    {
     "cell_type": "code",
     "collapsed": false,
     "input": [
      "s"
     ],
     "language": "python",
     "metadata": {},
     "outputs": []
    },
    {
     "cell_type": "code",
     "collapsed": false,
     "input": [
      "name = raw_input(u\"\u8acb\u8f38\u5165\u60a8\u7684\u5927\u540d: \")\n",
      "name = name.decode(s).encode(\"utf-8\")\n",
      "print \"\u4f60\u597d,\" + name + \"!\""
     ],
     "language": "python",
     "metadata": {},
     "outputs": []
    },
    {
     "cell_type": "code",
     "collapsed": false,
     "input": [
      "from IPython.html.widgets import interact"
     ],
     "language": "python",
     "metadata": {},
     "outputs": [],
     "prompt_number": 1
    },
    {
     "cell_type": "code",
     "collapsed": false,
     "input": [
      "def f(x):\n",
      "    print x"
     ],
     "language": "python",
     "metadata": {},
     "outputs": [],
     "prompt_number": 2
    },
    {
     "cell_type": "code",
     "collapsed": false,
     "input": [
      "mayor = {u'\u53f0\u5317\u5e02' : u'\u67ef\u6587\u54f2',u'\u53f0\u4e2d\u5e02' : u'\u6797\u4f73\u9f8d', u'\u53f0\u5357\u5e02':u'\u8cf4\u6e05\u5fb7',u'\u9ad8\u96c4\u5e02':u'\u9673\u83ca'}"
     ],
     "language": "python",
     "metadata": {},
     "outputs": [],
     "prompt_number": 3
    },
    {
     "cell_type": "code",
     "collapsed": false,
     "input": [
      "interact(f, x=mayor)"
     ],
     "language": "python",
     "metadata": {},
     "outputs": [
      {
       "output_type": "stream",
       "stream": "stdout",
       "text": [
        "\u9673\u83ca\n"
       ]
      }
     ],
     "prompt_number": 4
    },
    {
     "cell_type": "code",
     "collapsed": false,
     "input": [
      "from IPython.display import HTML\n",
      "HTML('https://www.google.com.tw/?gws_rd=ssl')"
     ],
     "language": "python",
     "metadata": {},
     "outputs": [
      {
       "html": [
        "<!doctype html><html itemscope=\"\" itemtype=\"http://schema.org/WebPage\" lang=\"zh-TW\"><head><meta content=\"/images/google_favicon_128.png\" itemprop=\"image\"><title>Google</title><script>(function(){window.google={kEI:'VmmJVIOIMYeimQXbw4DYCw',kEXPI:'4011559,4016824,4017579,4020347,4020561,4021597,4023567,4025113,4025828,4026225,4026444,4026540,4027039,8300096,8500393,10200083,10200095,10200716,10200765,10200781,10200835,10200838',authuser:0,kSID:'VmmJVIOIMYeimQXbw4DYCw'};google.kHL='zh-TW';})();(function(){google.lc=[];google.li=0;google.getEI=function(a){for(var b;a&&(!a.getAttribute||!(b=a.getAttribute(\"eid\")));)a=a.parentNode;return b||google.kEI};google.https=function(){return\"https:\"==window.location.protocol};google.ml=function(){};google.time=function(){return(new Date).getTime()};google.log=function(a,b,d,e,k){var c=new Image,h=google.lc,f=google.li,g=\"\",l=google.ls||\"\";c.onerror=c.onload=c.onabort=function(){delete h[f]};h[f]=c;d||-1!=b.search(\"&ei=\")||(e=google.getEI(e),g=\"&ei=\"+e,e!=google.kEI&&(g+=\"&lei=\"+google.kEI));a=d||\"/\"+(k||\"gen_204\")+\"?atyp=i&ct=\"+a+\"&cad=\"+b+g+l+\"&zx=\"+google.time();/^http:/i.test(a)&&google.https()?(google.ml(Error(\"a\"),!1,{src:a,glmm:1}),delete h[f]):(c.src=a,google.li=f+1)};google.y={};google.x=function(a,b){google.y[a.id]=[a,b];return!1};google.load=function(a,b,d){google.x({id:a+m++},function(){google.load(a,b,d)})};var m=0;})();google.kCSI={};var _gjwl=location;function _gjuc(){var a=_gjwl.href.indexOf(\"#\");if(0<=a&&(a=_gjwl.href.substring(a),0<a.indexOf(\"&q=\")||0<=a.indexOf(\"#q=\"))&&(a=a.substring(1),-1==a.indexOf(\"#\"))){for(var d=0;d<a.length;){var b=d;\"&\"==a.charAt(b)&&++b;var c=a.indexOf(\"&\",b);-1==c&&(c=a.length);b=a.substring(b,c);if(0==b.indexOf(\"fp=\"))a=a.substring(0,d)+a.substring(c,a.length),c=d;else if(\"cad=h\"==b)return 0;d=c}_gjwl.href=\"/search?\"+a+\"&cad=h\";return 1}return 0}\n",
        "function _gjh(){!_gjuc()&&window.google&&google.x&&google.x({id:\"GJH\"},function(){google.nav&&google.nav.gjh&&google.nav.gjh()})};window._gjh&&_gjh();</script><style>#gbar,#guser{font-size:13px;padding-top:1px !important;}#gbar{height:22px}#guser{padding-bottom:7px !important;text-align:right}.gbh,.gbd{border-top:1px solid #c9d7f1;font-size:1px}.gbh{height:0;position:absolute;top:24px;width:100%}@media all{.gb1{height:22px;margin-right:.5em;vertical-align:top}#gbar{float:left}}a.gb1,a.gb4{text-decoration:underline !important}a.gb1,a.gb4{color:#00c !important}.gbi .gb4{color:#dd8e27 !important}.gbf .gb4{color:#900 !important}</style><style>body,td,a,p,.h{font-family:arial,sans-serif}body{margin:0;overflow-y:scroll}#gog{padding:3px 8px 0}td{line-height:.8em}.gac_m td{line-height:17px}form{margin-bottom:20px}.h{color:#36c}.q{color:#00c}.ts td{padding:0}.ts{border-collapse:collapse}em{color:#c03;font-style:normal;font-weight:normal}a em{text-decoration:underline}.lst{height:25px;width:496px}.gsfi,.lst{font:18px arial,sans-serif}.gsfs{font:17px arial,sans-serif}.ds{display:inline-box;display:inline-block;margin:3px 0 4px;margin-left:4px}input{font-family:inherit}a.gb1,a.gb2,a.gb3,a.gb4{color:#11c !important}body{background:#fff;color:black}a{color:#11c;text-decoration:none}a:hover,a:active{text-decoration:underline}.fl a{color:#36c}a:visited{color:#551a8b}a.gb1,a.gb4{text-decoration:underline}a.gb3:hover{text-decoration:none}#ghead a.gb2:hover{color:#fff !important}.sblc{padding-top:5px}.sblc a{display:block;margin:2px 0;margin-left:13px;font-size:11px}.lsbb{background:#eee;border:solid 1px;border-color:#ccc #999 #999 #ccc;height:30px}.lsbb{display:block}.ftl,#fll a{display:inline-block;margin:0 12px}.lsb{background:url(/images/srpr/nav_logo80.png) 0 -258px repeat-x;border:none;color:#000;cursor:pointer;height:30px;margin:0;outline:0;font:15px arial,sans-serif;vertical-align:top}.lsb:active{background:#ccc}.lst:focus{outline:none}</style><script></script></head><body bgcolor=\"#fff\"><script>(function(){var src='/images/nav_logo176.png';var iesg=false;document.body.onload = function(){window.n && window.n();if (document.images){new Image().src=src;}\n",
        "if (!iesg){document.f&&document.f.q.focus();document.gbqf&&document.gbqf.q.focus();}\n",
        "}\n",
        "})();</script><div id=\"mngb\">   <div id=gbar><nobr><b class=gb1>\u641c\u5c0b</b> <a class=gb1 href=\"https://www.google.com.tw/imghp?hl=zh-TW&tab=wi\">\u5716\u7247</a> <a class=gb1 href=\"https://maps.google.com.tw/maps?hl=zh-TW&tab=wl\">\u5730\u5716</a> <a class=gb1 href=\"https://play.google.com/?hl=zh-TW&tab=w8\">Play</a> <a class=gb1 href=\"https://www.youtube.com/?gl=TW&tab=w1\">YouTube</a> <a class=gb1 href=\"https://news.google.com.tw/nwshp?hl=zh-TW&tab=wn\">\u65b0\u805e</a> <a class=gb1 href=\"https://mail.google.com/mail/?tab=wm\">Gmail</a> <a class=gb1 href=\"https://drive.google.com/?tab=wo\">\u96f2\u7aef\u786c\u789f</a> <a class=gb1 style=\"text-decoration:none\" href=\"http://www.google.com.tw/intl/zh-TW/options/\"><u>\u66f4\u591a</u> &raquo;</a></nobr></div><div id=guser width=100%><nobr><span id=gbn class=gbi></span><span id=gbf class=gbf></span><span id=gbe></span><a href=\"http://www.google.com.tw/history/optout?hl=zh-TW\" class=gb4>\u7db2\u9801\u7d00\u9304</a> | <a  href=\"/preferences?hl=zh-TW\" class=gb4>\u8a2d\u5b9a</a> | <a target=_top id=gb_70 href=\"https://accounts.google.com/ServiceLogin?hl=zh-TW&continue=https://www.google.com.tw/%3Fgws_rd%3Dssl\" class=gb4>\u767b\u5165</a></nobr></div><div class=gbh style=left:0></div><div class=gbh style=right:0></div>  </div><center><span id=\"prt\" style=\"display:block\"> <div><style>.pmoabs{background-color:#fff;border:1px solid #E5E5E5;color:#666;font-size:13px;padding-bottom:20px;position:absolute;right:2px;top:3px;z-index:986}#pmolnk{border-radius:2px;-moz-border-radius:2px;-webkit-border-radius:2px}.kd-button-submit{border:1px solid #3079ed;background-color:#4d90fe;background-image:-webkit-gradient(linear,left top,left bottom,from(#4d90fe),to(#4787ed));background-image:-webkit-linear-gradient(top,#4d90fe,#4787ed);background-image:-moz-linear-gradient(top,#4d90fe,#4787ed);background-image:-ms-linear-gradient(top,#4d90fe,#4787ed);background-image:-o-linear-gradient(top,#4d90fe,#4787ed);background-image:linear-gradient(top,#4d90fe,#4787ed);filter:progid:DXImageTransform.Microsoft.gradient(startColorStr='#4d90fe',EndColorStr='#4787ed')}.kd-button-submit:hover{border:1px solid #2f5bb7;background-color:#357ae8;background-image:-webkit-gradient(linear,left top,left bottom,from(#4d90fe),to(#357ae8));background-image:-webkit-linear-gradient(top,#4d90fe,#357ae8);background-image:-moz-linear-gradient(top,#4d90fe,#357ae8);background-image:-ms-linear-gradient(top,#4d90fe,#357ae8);background-image:-o-linear-gradient(top,#4d90fe,#357ae8);background-image:linear-gradient(top,#4d90fe,#357ae8);filter:progid:DXImageTransform.Microsoft.gradient(startColorStr='#4d90fe',EndColorStr='#357ae8')}.kd-button-submit:active{-webkit-box-shadow:inset 0 1px 2px rgba(0,0,0,0.3);-moz-box-shadow:inset 0 1px 2px rgba(0,0,0,0.3);box-shadow:inset 0 1px 2px rgba(0,0,0,0.3)}#pmolnk a{color:#fff;display:inline-block;font-weight:bold;padding:5px 20px;text-decoration:none;white-space:nowrap}.xbtn{color:#999;cursor:pointer;font-size:23px;line-height:5px;padding-top:5px}.padi{padding:0 8px 0 10px}.padt{padding:5px 20px 0 0;color:#444}.pads{text-align:left;max-width:200px}</style> <div class=\"pmoabs\" id=\"pmocntr2\" style=\"behavior:url(#default#userdata);display:none\"> <table border=\"0\"> <tr> <td colspan=\"2\"> <div class=\"xbtn\" onclick=\"google.promos&&google.promos.toast&& google.promos.toast.cpc()\" style=\"float:right\">&times;</div> </td> </tr> <tr> <td class=\"padi\" rowspan=\"2\"> <img src=\"/images/icons/product/chrome-48.png\"> </td> <td class=\"pads\">\u66f4\u5feb\u700f\u89bd\u7db2\u8def\u7684\u65b9\u5f0f</td> </tr> <tr> <td class=\"padt\"> <div class=\"kd-button-submit\" id=\"pmolnk\"> <a href=\"/chrome/index.html?hl=TW&amp;brand=CHNG&amp;utm_source=TW-hpp&amp;utm_medium=hpp&amp;utm_campaign=TW\" onclick=\"google.promos&&google.promos.toast&& google.promos.toast.cl()\">\u4e0b\u8f09 Google Chrome</a> </div> </td> </tr> </table> </div> <script type=\"text/javascript\">(function(){var a={o:{}};a.o.Pa=50;a.o.Oa=10;a.o.ca=\"body\";a.o.La=!0;a.o.Ea=function(b,c){var d=a.o.Ja();a.o.Ka(d,b,c);a.o.Na(d);a.o.La&&a.o.Ma(d)};a.o.Na=function(b){(b=a.o.ba(b))&&0<b.forms.length&&b.forms[0].submit()};a.o.Ja=function(){var b=document.createElement(\"iframe\");b.height=0;b.width=0;b.style.overflow=\"hidden\";b.style.top=b.style.left=\"-100px\";b.style.position=\"absolute\";document.body.appendChild(b);return b};a.o.ba=function(b){return b.contentDocument||b.contentWindow.document};a.o.Ka=function(b,c,d){b=a.o.ba(b);b.open();d=[\"<\",a.o.ca,'><form method=POST action=\"',d,'\">'];for(var e in c)c.hasOwnProperty(e)&&d.push('<textarea name=\"',e,'\">',c[e],\"</textarea>\");d.push(\"</form></\",a.o.ca,\">\");b.write(d.join(\"\"));b.close()};a.o.aa=function(b,c){c>a.o.Oa?google&&google.ml&&google.ml(Error(\"ogcdr\"),!1,{cause:\"timeout\"}):b.contentWindow?a.o.Qa(b):window.setTimeout(function(){a.o.aa(b,c+1)},a.o.Pa)};a.o.Qa=function(b){document.body.removeChild(b)};a.o.Ma=function(b){a.o.Ra(b,\"load\",function(){a.o.aa(b,0)})};a.o.Ra=function(b,c,d){b.addEventListener?b.addEventListener(c,d,!1):b.attachEvent&&b.attachEvent(\"on\"+c,d)};var m={Va:0,D:1,F:2,S:5};a.k={};a.k.T={Ha:\"i\",X:\"d\",Ia:\"l\"};a.k.A={R:\"0\",H:\"1\"};a.k.U={O:1,X:2,P:3};a.k.w={ta:\"a\",wa:\"g\",C:\"c\",za:\"u\",ya:\"t\",R:\"p\",xa:\"pid\",va:\"eid\",Aa:\"at\"};a.k.Ca=window.location.protocol+\"//www.google.com/_/og/promos/\";a.k.Ba=\"g\";a.k.Da=\"z\";a.k.Q=function(b,c,d,e){var f=null;switch(c){case m.D:f=window.gbar.up.gpd(b,d,!0);break;case m.S:f=window.gbar.up.gcc(e)}return null==f?0:parseInt(f,10)};a.k.ia=function(b,c,d){return c==m.D?null!=window.gbar.up.gpd(b,d,!0):!1};a.k.V=function(b,c,d,e,f,h,k,l){var g={};g[a.k.w.R]=b;g[a.k.w.wa]=c;g[a.k.w.ta]=d;g[a.k.w.Aa]=e;g[a.k.w.va]=f;g[a.k.w.xa]=1;k&&(g[a.k.w.C]=k);l&&(g[a.k.w.za]=l);if(h)g[a.k.w.ya]=h;else return google.ml(Error(\"knu\"),!1,{cause:\"Token is not found\"}),null;return g};a.k.W=function(b,c,d){if(b){var e=c?a.k.Ba:a.k.Da;c&&d&&(e+=\"?authuser=\"+d);a.o.Ea(b,a.k.Ca+e)}};a.k.Ga=function(b,c,d,e,f,h,k){b=a.k.V(c,b,a.k.T.X,a.k.U.X,d,f,null,e);a.k.W(b,h,k)};a.k.Fa=function(b,c,d,e,f,h,k){b=a.k.V(c,b,a.k.T.Ha,a.k.U.O,d,f,e,null);a.k.W(b,h,k)};a.k.la=function(b,c,d,e,f,h,k,l,g,n){switch(c){case m.S:window.gbar.up.dpc(e,f);break;case m.D:window.gbar.up.spd(b,d,1,!0);break;case m.F:g=g||!1,l=l||\"\",h=h||0,k=k||a.k.A.H,n=n||0,a.k.Ga(e,h,k,f,l,g,n)}};a.k.ja=function(b,c,d,e,f){return c==m.D?0<d&&a.k.Q(b,c,e,f)>=d:!1};a.k.ga=function(b,c,d,e,f,h,k,l,g,n){switch(c){case m.S:window.gbar.up.iic(e,f);break;case m.D:c=a.k.Q(b,c,d,e)+1;window.gbar.up.spd(b,d,c.toString(),!0);break;case m.F:g=g||!1,l=l||\"\",h=h||0,k=k||a.k.A.R,n=n||0,a.k.Fa(e,h,k,1,l,g,n)}};a.k.na=function(b,c,d,e,f,h){b=a.k.V(c,b,a.k.T.Ia,a.k.U.P,d,e,null,null);a.k.W(b,f,h)};var p={Ta:\"a\",Wa:\"l\",Ua:\"c\",ka:\"d\",P:\"h\",O:\"i\",gb:\"n\",H:\"x\",cb:\"ma\",eb:\"mc\",fb:\"mi\",Xa:\"pa\",Ya:\"pc\",$a:\"pi\",bb:\"pn\",ab:\"px\",Za:\"pd\",hb:\"gpa\",jb:\"gpi\",kb:\"gpn\",lb:\"gpx\",ib:\"gpd\"};a.i={};a.i.v={oa:\"hplogo\",Sa:\"pmocntr2\"};a.i.A={ea:\"0\",H:\"1\",ma:\"2\"};a.i.p=document.getElementById(a.i.v.Sa);a.i.pa=16;a.i.qa=2;a.i.ra=20;google.promos=google.promos||{};google.promos.toast=google.promos.toast||{};a.i.G=function(b){a.i.p&&(a.i.p.style.display=b?\"\":\"none\",a.i.p.parentNode&&(a.i.p.parentNode.style.position=b?\"relative\":\"\"))};a.i.$=function(b){try{if(a.i.p&&b&&b.es&&b.es.m){var c=window.gbar.rtl(document.body)?\"left\":\"right\";a.i.p.style[c]=b.es.m-a.i.pa+a.i.qa+\"px\";a.i.p.style.top=a.i.ra+\"px\"}}catch(d){google.ml(d,!1,{cause:a.i.s+\"_PT\"})}};google.promos.toast.cl=function(){try{a.i.I==m.F&&a.k.na(a.i.J,a.i.B,a.i.A.ma,a.i.N,a.i.L,a.i.M),window.gbar.up.sl(a.i.B,a.i.s,p.P,a.i.K(),1)}catch(b){google.ml(b,!1,{cause:a.i.s+\"_CL\"})}};google.promos.toast.cpc=function(){try{a.i.p&&(a.i.G(!1),a.k.la(a.i.p,a.i.I,a.i.v.Y,a.i.J,a.i.da,a.i.B,a.i.A.H,a.i.N,a.i.L,a.i.M),window.gbar.up.sl(a.i.B,a.i.s,p.ka,a.i.K(),1))}catch(b){google.ml(b,!1,{cause:a.i.s+\"_CPC\"})}};a.i.Z=function(){try{if(a.i.p){var b=276,c=document.getElementById(a.i.v.oa);c&&(b=Math.max(b,c.offsetWidth));var d=parseInt(a.i.p.style.right,10)||0;a.i.p.style.visibility=2*(a.i.p.offsetWidth+d)+b>document.body.clientWidth?\"hidden\":\"\"}}catch(e){google.ml(e,!1,{cause:a.i.s+\"_HOSW\"})}};a.i.fa=function(){var b=[\"gpd\",\"spd\",\"aeh\",\"sl\"];if(!window.gbar||!window.gbar.up)return!1;for(var c=0,d;d=b[c];c++)if(!(d in window.gbar.up))return!1;return!0};a.i.ha=function(){return a.i.p.currentStyle&&\"absolute\"!=a.i.p.currentStyle.position};google.promos.toast.init=function(b,c,d,e,f,h,k,l,g,n,q,r){try{a.i.fa()?a.i.p&&(e==m.F&&!l==!g?(google.ml(Error(\"tku\"),!1,{cause:\"zwieback: \"+g+\", gaia: \"+l}),a.i.G(!1)):(a.i.v.C=\"toast_count_\"+c+(q?\"_\"+q:\"\"),a.i.v.Y=\"toast_dp_\"+c+(r?\"_\"+r:\"\"),a.i.s=d,a.i.B=b,a.i.I=e,a.i.J=c,a.i.da=f,a.i.N=l?l:g,a.i.L=!!l,a.i.M=k,a.k.ia(a.i.p,e,a.i.v.Y,c)||a.k.ja(a.i.p,e,h,a.i.v.C,c)||a.i.ha()?a.i.G(!1):(a.k.ga(a.i.p,e,a.i.v.C,c,f,a.i.B,a.i.A.ea,a.i.N,a.i.L,a.i.M),n||(window.gbar.up.aeh(window,\"resize\",a.i.Z),window.lol=\n",
        "a.i.Z,window.gbar.elr&&a.i.$(window.gbar.elr()),window.gbar.elc&&window.gbar.elc(a.i.$),a.i.G(!0)),window.gbar.up.sl(a.i.B,a.i.s,p.O,a.i.K())))):google.ml(Error(\"apa\"),!1,{cause:a.i.s+\"_INIT\"})}catch(t){google.ml(t,!1,{cause:a.i.s+\"_INIT\"})}};a.i.K=function(){var b=a.k.Q(a.i.p,a.i.I,a.i.v.C,a.i.J);return\"ic=\"+b};})();</script> <script type=\"text/javascript\">(function(){var sourceWebappPromoID=305001;var sourceWebappGroupID=5;var payloadType=5;var cookieMaxAgeSec=2592000;var dismissalType=5;var impressionCap=25;var gaiaXsrfToken='';var zwbkXsrfToken='';var kansasDismissalEnabled=false;var sessionIndex=0;var invisible=false;window.gbar&&gbar.up&&gbar.up.r&&gbar.up.r(payloadType,function(show){if (show){google.promos.toast.init(sourceWebappPromoID,sourceWebappGroupID,payloadType,dismissalType,cookieMaxAgeSec,impressionCap,sessionIndex,gaiaXsrfToken,zwbkXsrfToken,invisible,'0612');}\n",
        "});})();</script> </div> </span><br clear=\"all\" id=\"lgpd\"><div id=\"lga\"><div style=\"padding:28px 0 3px\"><div style=\"height:110px;width:276px;background:url(/images/srpr/logo9w.png) no-repeat\" title=\"Google\" align=\"left\" id=\"hplogo\" onload=\"window.lol&&lol()\"><div nowrap=\"\" style=\"color:#777;font-size:16px;font-weight:bold;position:relative;top:70px;left:218px\">\u53f0\u7063</div></div></div><br></div><form action=\"/search\" name=\"f\"><table cellpadding=\"0\" cellspacing=\"0\"><tr valign=\"top\"><td width=\"25%\">&nbsp;</td><td align=\"center\" nowrap=\"\"><input name=\"ie\" value=\"Big5\" type=\"hidden\"><input value=\"zh-TW\" name=\"hl\" type=\"hidden\"><input name=\"source\" type=\"hidden\" value=\"hp\"><div class=\"ds\" style=\"height:32px;margin:4px 0\"><input style=\"color:#000;margin:0;padding:5px 8px 0 6px;vertical-align:top\" autocomplete=\"off\" class=\"lst\" value=\"\" title=\"Google \u641c\u5c0b\" maxlength=\"2048\" name=\"q\" size=\"57\"></div><br style=\"line-height:0\"><span class=\"ds\"><span class=\"lsbb\"><input class=\"lsb\" value=\"Google \u641c\u5c0b\" name=\"btnG\" type=\"submit\"></span></span><span class=\"ds\"><span class=\"lsbb\"><input class=\"lsb\" value=\"\u597d\u624b\u6c23\" name=\"btnI\" onclick=\"if(this.form.q.value)this.checked=1; else top.location='/doodles/'\" type=\"submit\"></span></span></td><td class=\"fl sblc\" align=\"left\" nowrap=\"\" width=\"25%\"><a href=\"/advanced_search?hl=zh-TW&amp;authuser=0\">\u9032\u968e\u641c\u5c0b</a><a href=\"/language_tools?hl=zh-TW&amp;authuser=0\">\u8a9e\u8a00\u5de5\u5177</a></td></tr></table><input id=\"gbv\" name=\"gbv\" type=\"hidden\" value=\"1\"></form><div id=\"gac_scont\"></div><div style=\"font-size:83%;min-height:3.5em\"><br></div><span id=\"footer\"><div style=\"font-size:10pt\"><div style=\"margin:19px auto;text-align:center\" id=\"fll\"><a href=\"/intl/zh-TW/ads/\">\u5ee3\u544a\u670d\u52d9</a><a href=\"http://www.google.com.tw/intl/zh-TW/services/\">\u5546\u696d\u89e3\u6c7a\u65b9\u6848</a><a href=\"/intl/zh-TW/about.html\">Google \u5b8c\u5168\u624b\u518a</a><a href=\"https://www.google.com.tw/setprefdomain?prefdom=US&amp;sig=0_1bOU5ofMVlp0EgLUzWVBCOdUB5c%3D\" id=\"fehl\">Google.com</a></div></div><p style=\"color:#767676;font-size:8pt\">&copy; 2014 - <a href=\"/intl/zh-TW/policies/privacy/\">\u96b1\u79c1\u6b0a</a> - <a href=\"/intl/zh-TW/policies/terms/\">\u670d\u52d9\u689d\u6b3e</a></p></span></center><div id=\"xjsd\"></div><div id=\"xjsi\" data-jiis=\"bp\"><script>(function(){function c(b){window.setTimeout(function(){var a=document.createElement(\"script\");a.src=b;document.getElementById(\"xjsd\").appendChild(a)},0)}google.dljp=function(b,a){google.xjsu=b;c(a)};google.dlj=c;})();(function(){window.google.xjsrm=[];})();if(google.y)google.y.first=[];if(!google.xjs){window._=window._||{};window._._DumpException=function(e){throw e};if(google.timers&&google.timers.load.t){google.timers.load.t.xjsls=new Date().getTime();}google.dljp('/xjs/_/js/k\\x3dxjs.hp.en_US.RvxxLJYw1D0.O/m\\x3dsb_he,pcc/rt\\x3dj/d\\x3d1/t\\x3dzcms/rs\\x3dACT90oElLKHMY5vDqr31XBpjrdKJwsKCWQ','/xjs/_/js/k\\x3dxjs.hp.en_US.RvxxLJYw1D0.O/m\\x3dsb_he,pcc/rt\\x3dj/d\\x3d1/t\\x3dzcms/rs\\x3dACT90oElLKHMY5vDqr31XBpjrdKJwsKCWQ');google.xjs=1;}google.pmc={\"sb_he\":{\"agen\":true,\"cgen\":true,\"client\":\"heirloom-hp\",\"dh\":true,\"ds\":\"\",\"eqch\":true,\"exp\":\"msedr\",\"fl\":true,\"host\":\"google.com.tw\",\"jam\":0,\"jsonp\":true,\"msgs\":{\"cibl\":\"\u6e05\u9664\u641c\u5c0b\",\"dym\":\"\u60a8\u662f\u4e0d\u662f\u8981\u67e5\uff1a\",\"lcky\":\"\u597d\u624b\u6c23\",\"lml\":\"\u77ad\u89e3\u8a73\u60c5\",\"oskt\":\"\u8f38\u5165\u5de5\u5177\",\"psrc\":\"\u5df2\u5f9e\u60a8\u7684\u300c\\u003Ca href=\\\"/history\\\"\\u003E\u7db2\u9801\u7d00\u9304\\u003C/a\\u003E\u300d\u4e2d\u79fb\u9664\u9019\u7b46\u641c\u5c0b\u7d00\u9304\",\"psrl\":\"\u79fb\u9664\",\"sbit\":\"\u4ee5\u5716\u641c\u5c0b\",\"srch\":\"Google \u641c\u5c0b\"},\"ovr\":{},\"pq\":\"\",\"qcpw\":false,\"refoq\":true,\"scd\":10,\"sce\":5,\"stok\":\"eSoBhAH3ZPDiwNF5mtuctuOfh3Y\"},\"pcc\":{}};google.y.first.push(function(){if(google.med){google.med('init');google.initHistory();google.med('history');}});if(google.j&&google.j.en&&google.j.xi){window.setTimeout(google.j.xi,0);}\n",
        "</script></div></body></html>"
       ],
       "metadata": {},
       "output_type": "pyout",
       "prompt_number": 6,
       "text": [
        "<IPython.core.display.HTML at 0x3b26d68>"
       ]
      }
     ],
     "prompt_number": 6
    },
    {
     "cell_type": "code",
     "collapsed": false,
     "input": [
      "pwd"
     ],
     "language": "python",
     "metadata": {},
     "outputs": [
      {
       "metadata": {},
       "output_type": "pyout",
       "prompt_number": 7,
       "text": [
        "u'C:\\\\Users\\\\User\\\\Documents\\\\IPython Notebooks'"
       ]
      }
     ],
     "prompt_number": 7
    },
    {
     "cell_type": "code",
     "collapsed": false,
     "input": [
      "df = pd.read_csv(\"grades.csv\")"
     ],
     "language": "python",
     "metadata": {},
     "outputs": [],
     "prompt_number": 3
    },
    {
     "cell_type": "code",
     "collapsed": false,
     "input": [
      "df.head()"
     ],
     "language": "python",
     "metadata": {},
     "outputs": [
      {
       "html": [
        "<div style=\"max-height:1000px;max-width:1500px;overflow:auto;\">\n",
        "<table border=\"1\" class=\"dataframe\">\n",
        "  <thead>\n",
        "    <tr style=\"text-align: right;\">\n",
        "      <th></th>\n",
        "      <th>\u59d3\u540d</th>\n",
        "      <th>\u570b\u6587</th>\n",
        "      <th>\u82f1\u6587</th>\n",
        "      <th>\u6578\u5b78</th>\n",
        "      <th>\u81ea\u7136</th>\n",
        "      <th>\u793e\u6703</th>\n",
        "    </tr>\n",
        "  </thead>\n",
        "  <tbody>\n",
        "    <tr>\n",
        "      <th>0</th>\n",
        "      <td> \u5289\u4fca\u5b89</td>\n",
        "      <td>  9</td>\n",
        "      <td> 10</td>\n",
        "      <td> 15</td>\n",
        "      <td> 10</td>\n",
        "      <td> 13</td>\n",
        "    </tr>\n",
        "    <tr>\n",
        "      <th>1</th>\n",
        "      <td> \u80e1\u7389\u83ef</td>\n",
        "      <td> 10</td>\n",
        "      <td> 10</td>\n",
        "      <td> 10</td>\n",
        "      <td>  8</td>\n",
        "      <td>  9</td>\n",
        "    </tr>\n",
        "    <tr>\n",
        "      <th>2</th>\n",
        "      <td> \u9ec3\u6dd1\u5a77</td>\n",
        "      <td> 13</td>\n",
        "      <td> 15</td>\n",
        "      <td>  8</td>\n",
        "      <td> 11</td>\n",
        "      <td> 14</td>\n",
        "    </tr>\n",
        "    <tr>\n",
        "      <th>3</th>\n",
        "      <td> \u9673\u4e0a\u7d2b</td>\n",
        "      <td> 10</td>\n",
        "      <td> 10</td>\n",
        "      <td>  8</td>\n",
        "      <td>  9</td>\n",
        "      <td> 14</td>\n",
        "    </tr>\n",
        "    <tr>\n",
        "      <th>4</th>\n",
        "      <td> \u5d14\u975c\u6210</td>\n",
        "      <td> 13</td>\n",
        "      <td> 12</td>\n",
        "      <td> 14</td>\n",
        "      <td> 12</td>\n",
        "      <td> 13</td>\n",
        "    </tr>\n",
        "  </tbody>\n",
        "</table>\n",
        "</div>"
       ],
       "metadata": {},
       "output_type": "pyout",
       "prompt_number": 4,
       "text": [
        "    \u59d3\u540d  \u570b\u6587  \u82f1\u6587  \u6578\u5b78  \u81ea\u7136  \u793e\u6703\n",
        "0  \u5289\u4fca\u5b89   9  10  15  10  13\n",
        "1  \u80e1\u7389\u83ef  10  10  10   8   9\n",
        "2  \u9ec3\u6dd1\u5a77  13  15   8  11  14\n",
        "3  \u9673\u4e0a\u7d2b  10  10   8   9  14\n",
        "4  \u5d14\u975c\u6210  13  12  14  12  13"
       ]
      }
     ],
     "prompt_number": 4
    },
    {
     "cell_type": "code",
     "collapsed": false,
     "input": [
      "df[\"\u570b\u6587\"]"
     ],
     "language": "python",
     "metadata": {},
     "outputs": [
      {
       "metadata": {},
       "output_type": "pyout",
       "prompt_number": 5,
       "text": [
        "0      9\n",
        "1     10\n",
        "2     13\n",
        "3     10\n",
        "4     13\n",
        "5     13\n",
        "6     11\n",
        "7      8\n",
        "8      9\n",
        "9     10\n",
        "10    14\n",
        "11    13\n",
        "12    11\n",
        "13    15\n",
        "14     8\n",
        "...\n",
        "85    10\n",
        "86    11\n",
        "87    10\n",
        "88    11\n",
        "89    13\n",
        "90     8\n",
        "91    14\n",
        "92     8\n",
        "93    11\n",
        "94    10\n",
        "95     9\n",
        "96     8\n",
        "97    14\n",
        "98    15\n",
        "99     9\n",
        "Name: \u570b\u6587, Length: 100, dtype: int64"
       ]
      }
     ],
     "prompt_number": 5
    },
    {
     "cell_type": "code",
     "collapsed": false,
     "input": [
      "df['\u570b\u6587'].plot()"
     ],
     "language": "python",
     "metadata": {},
     "outputs": [
      {
       "metadata": {},
       "output_type": "pyout",
       "prompt_number": 7,
       "text": [
        "<matplotlib.axes._subplots.AxesSubplot at 0xb5f93c8>"
       ]
      },
      {
       "metadata": {},
       "output_type": "display_data",
       "png": "[encoded data removed]",
       "text": [
        "<matplotlib.figure.Figure at 0x9db3048>"
       ]
      }
     ],
     "prompt_number": 7
    },
    {
     "cell_type": "code",
     "collapsed": false,
     "input": [
      "df['\u570b\u6587'].hist(bins=15)"
     ],
     "language": "python",
     "metadata": {},
     "outputs": [
      {
       "metadata": {},
       "output_type": "pyout",
       "prompt_number": 8,
       "text": [
        "<matplotlib.axes._subplots.AxesSubplot at 0xb7b6668>"
       ]
      },
      {
       "metadata": {},
       "output_type": "display_data",
       "png": "[encoded data removed]",
       "text": [
        "<matplotlib.figure.Figure at 0xb62df28>"
       ]
      }
     ],
     "prompt_number": 8
    },
    {
     "cell_type": "markdown",
     "metadata": {},
     "source": [
      "#\u76f4\u65b9\u5716 Histogram"
     ]
    },
    {
     "cell_type": "code",
     "collapsed": false,
     "input": [
      "df['\u570b\u6587'].mean()"
     ],
     "language": "python",
     "metadata": {},
     "outputs": [
      {
       "metadata": {},
       "output_type": "pyout",
       "prompt_number": 9,
       "text": [
        "11.390000000000001"
       ]
      }
     ],
     "prompt_number": 9
    },
    {
     "cell_type": "code",
     "collapsed": false,
     "input": [
      "df['\u570b\u6587'].std()"
     ],
     "language": "python",
     "metadata": {},
     "outputs": [
      {
       "metadata": {},
       "output_type": "pyout",
       "prompt_number": 10,
       "text": [
        "2.1968526614594857"
       ]
      }
     ],
     "prompt_number": 10
    },
    {
     "cell_type": "code",
     "collapsed": false,
     "input": [
      "df.describe()"
     ],
     "language": "python",
     "metadata": {},
     "outputs": [
      {
       "html": [
        "<div style=\"max-height:1000px;max-width:1500px;overflow:auto;\">\n",
        "<table border=\"1\" class=\"dataframe\">\n",
        "  <thead>\n",
        "    <tr style=\"text-align: right;\">\n",
        "      <th></th>\n",
        "      <th>\u570b\u6587</th>\n",
        "      <th>\u82f1\u6587</th>\n",
        "      <th>\u6578\u5b78</th>\n",
        "      <th>\u81ea\u7136</th>\n",
        "      <th>\u793e\u6703</th>\n",
        "    </tr>\n",
        "  </thead>\n",
        "  <tbody>\n",
        "    <tr>\n",
        "      <th>count</th>\n",
        "      <td> 100.000000</td>\n",
        "      <td> 100.000000</td>\n",
        "      <td> 100.000000</td>\n",
        "      <td> 100.00000</td>\n",
        "      <td> 100.00000</td>\n",
        "    </tr>\n",
        "    <tr>\n",
        "      <th>mean</th>\n",
        "      <td>  11.390000</td>\n",
        "      <td>  11.380000</td>\n",
        "      <td>  11.570000</td>\n",
        "      <td>  11.03000</td>\n",
        "      <td>  11.83000</td>\n",
        "    </tr>\n",
        "    <tr>\n",
        "      <th>std</th>\n",
        "      <td>   2.196853</td>\n",
        "      <td>   2.273164</td>\n",
        "      <td>   2.310516</td>\n",
        "      <td>   2.21772</td>\n",
        "      <td>   2.48655</td>\n",
        "    </tr>\n",
        "    <tr>\n",
        "      <th>min</th>\n",
        "      <td>   8.000000</td>\n",
        "      <td>   8.000000</td>\n",
        "      <td>   8.000000</td>\n",
        "      <td>   8.00000</td>\n",
        "      <td>   8.00000</td>\n",
        "    </tr>\n",
        "    <tr>\n",
        "      <th>25%</th>\n",
        "      <td>   9.000000</td>\n",
        "      <td>   9.000000</td>\n",
        "      <td>  10.000000</td>\n",
        "      <td>   9.00000</td>\n",
        "      <td>   9.00000</td>\n",
        "    </tr>\n",
        "    <tr>\n",
        "      <th>50%</th>\n",
        "      <td>  11.000000</td>\n",
        "      <td>  11.000000</td>\n",
        "      <td>  11.000000</td>\n",
        "      <td>  11.00000</td>\n",
        "      <td>  12.00000</td>\n",
        "    </tr>\n",
        "    <tr>\n",
        "      <th>75%</th>\n",
        "      <td>  13.000000</td>\n",
        "      <td>  13.000000</td>\n",
        "      <td>  14.000000</td>\n",
        "      <td>  13.00000</td>\n",
        "      <td>  14.00000</td>\n",
        "    </tr>\n",
        "    <tr>\n",
        "      <th>max</th>\n",
        "      <td>  15.000000</td>\n",
        "      <td>  15.000000</td>\n",
        "      <td>  15.000000</td>\n",
        "      <td>  15.00000</td>\n",
        "      <td>  15.00000</td>\n",
        "    </tr>\n",
        "  </tbody>\n",
        "</table>\n",
        "</div>"
       ],
       "metadata": {},
       "output_type": "pyout",
       "prompt_number": 11,
       "text": [
        "               \u570b\u6587          \u82f1\u6587          \u6578\u5b78         \u81ea\u7136         \u793e\u6703\n",
        "count  100.000000  100.000000  100.000000  100.00000  100.00000\n",
        "mean    11.390000   11.380000   11.570000   11.03000   11.83000\n",
        "std      2.196853    2.273164    2.310516    2.21772    2.48655\n",
        "min      8.000000    8.000000    8.000000    8.00000    8.00000\n",
        "25%      9.000000    9.000000   10.000000    9.00000    9.00000\n",
        "50%     11.000000   11.000000   11.000000   11.00000   12.00000\n",
        "75%     13.000000   13.000000   14.000000   13.00000   14.00000\n",
        "max     15.000000   15.000000   15.000000   15.00000   15.00000"
       ]
      }
     ],
     "prompt_number": 11
    },
    {
     "cell_type": "code",
     "collapsed": false,
     "input": [
      "df.corr()"
     ],
     "language": "python",
     "metadata": {},
     "outputs": [
      {
       "html": [
        "<div style=\"max-height:1000px;max-width:1500px;overflow:auto;\">\n",
        "<table border=\"1\" class=\"dataframe\">\n",
        "  <thead>\n",
        "    <tr style=\"text-align: right;\">\n",
        "      <th></th>\n",
        "      <th>\u570b\u6587</th>\n",
        "      <th>\u82f1\u6587</th>\n",
        "      <th>\u6578\u5b78</th>\n",
        "      <th>\u81ea\u7136</th>\n",
        "      <th>\u793e\u6703</th>\n",
        "    </tr>\n",
        "  </thead>\n",
        "  <tbody>\n",
        "    <tr>\n",
        "      <th>\u570b\u6587</th>\n",
        "      <td> 1.000000</td>\n",
        "      <td> 0.160158</td>\n",
        "      <td>-0.310899</td>\n",
        "      <td>-0.110236</td>\n",
        "      <td>-0.028421</td>\n",
        "    </tr>\n",
        "    <tr>\n",
        "      <th>\u82f1\u6587</th>\n",
        "      <td> 0.160158</td>\n",
        "      <td> 1.000000</td>\n",
        "      <td> 0.025656</td>\n",
        "      <td> 0.113929</td>\n",
        "      <td>-0.063512</td>\n",
        "    </tr>\n",
        "    <tr>\n",
        "      <th>\u6578\u5b78</th>\n",
        "      <td>-0.310899</td>\n",
        "      <td> 0.025656</td>\n",
        "      <td> 1.000000</td>\n",
        "      <td> 0.014371</td>\n",
        "      <td> 0.041651</td>\n",
        "    </tr>\n",
        "    <tr>\n",
        "      <th>\u81ea\u7136</th>\n",
        "      <td>-0.110236</td>\n",
        "      <td> 0.113929</td>\n",
        "      <td> 0.014371</td>\n",
        "      <td> 1.000000</td>\n",
        "      <td>-0.156594</td>\n",
        "    </tr>\n",
        "    <tr>\n",
        "      <th>\u793e\u6703</th>\n",
        "      <td>-0.028421</td>\n",
        "      <td>-0.063512</td>\n",
        "      <td> 0.041651</td>\n",
        "      <td>-0.156594</td>\n",
        "      <td> 1.000000</td>\n",
        "    </tr>\n",
        "  </tbody>\n",
        "</table>\n",
        "</div>"
       ],
       "metadata": {},
       "output_type": "pyout",
       "prompt_number": 12,
       "text": [
        "          \u570b\u6587        \u82f1\u6587        \u6578\u5b78        \u81ea\u7136        \u793e\u6703\n",
        "\u570b\u6587  1.000000  0.160158 -0.310899 -0.110236 -0.028421\n",
        "\u82f1\u6587  0.160158  1.000000  0.025656  0.113929 -0.063512\n",
        "\u6578\u5b78 -0.310899  0.025656  1.000000  0.014371  0.041651\n",
        "\u81ea\u7136 -0.110236  0.113929  0.014371  1.000000 -0.156594\n",
        "\u793e\u6703 -0.028421 -0.063512  0.041651 -0.156594  1.000000"
       ]
      }
     ],
     "prompt_number": 12
    },
    {
     "cell_type": "code",
     "collapsed": false,
     "input": [
      "df['\u570b\u6587'].corr(df['\u6578\u5b78'])"
     ],
     "language": "python",
     "metadata": {},
     "outputs": [
      {
       "metadata": {},
       "output_type": "pyout",
       "prompt_number": 13,
       "text": [
        "-0.31089898221793305"
       ]
      }
     ],
     "prompt_number": 13
    },
    {
     "cell_type": "code",
     "collapsed": false,
     "input": [
      "randint(1,10,30)"
     ],
     "language": "python",
     "metadata": {},
     "outputs": [
      {
       "metadata": {},
       "output_type": "pyout",
       "prompt_number": 14,
       "text": [
        "array([4, 1, 4, 9, 6, 4, 2, 1, 3, 4, 6, 8, 4, 1, 2, 9, 4, 5, 9, 2, 2, 5, 8,\n",
        "       5, 7, 4, 6, 3, 4, 8])"
       ]
      }
     ],
     "prompt_number": 14
    },
    {
     "cell_type": "code",
     "collapsed": false,
     "input": [
      "randint(1,10,[2,3])"
     ],
     "language": "python",
     "metadata": {},
     "outputs": [
      {
       "metadata": {},
       "output_type": "pyout",
       "prompt_number": 15,
       "text": [
        "array([[2, 9, 1],\n",
        "       [3, 3, 5]])"
       ]
      }
     ],
     "prompt_number": 15
    },
    {
     "cell_type": "code",
     "collapsed": false,
     "input": [
      "grades = pd.DataFrame(randint(8,16,(100,5)),columns=[\"\u570b\u6587\",\"\u82f1\u6587\",\"\u6578\u5b78\",\"\u793e\u6703\",\"\u81ea\u7136\"])"
     ],
     "language": "python",
     "metadata": {},
     "outputs": [],
     "prompt_number": 16
    },
    {
     "cell_type": "code",
     "collapsed": false,
     "input": [
      "grades.head()"
     ],
     "language": "python",
     "metadata": {},
     "outputs": [
      {
       "html": [
        "<div style=\"max-height:1000px;max-width:1500px;overflow:auto;\">\n",
        "<table border=\"1\" class=\"dataframe\">\n",
        "  <thead>\n",
        "    <tr style=\"text-align: right;\">\n",
        "      <th></th>\n",
        "      <th>\u570b\u6587</th>\n",
        "      <th>\u82f1\u6587</th>\n",
        "      <th>\u6578\u5b78</th>\n",
        "      <th>\u793e\u6703</th>\n",
        "      <th>\u81ea\u7136</th>\n",
        "    </tr>\n",
        "  </thead>\n",
        "  <tbody>\n",
        "    <tr>\n",
        "      <th>0</th>\n",
        "      <td>  9</td>\n",
        "      <td> 15</td>\n",
        "      <td> 11</td>\n",
        "      <td> 10</td>\n",
        "      <td> 11</td>\n",
        "    </tr>\n",
        "    <tr>\n",
        "      <th>1</th>\n",
        "      <td> 13</td>\n",
        "      <td> 15</td>\n",
        "      <td>  9</td>\n",
        "      <td> 10</td>\n",
        "      <td>  8</td>\n",
        "    </tr>\n",
        "    <tr>\n",
        "      <th>2</th>\n",
        "      <td> 14</td>\n",
        "      <td> 12</td>\n",
        "      <td> 12</td>\n",
        "      <td> 15</td>\n",
        "      <td> 13</td>\n",
        "    </tr>\n",
        "    <tr>\n",
        "      <th>3</th>\n",
        "      <td> 13</td>\n",
        "      <td> 10</td>\n",
        "      <td>  8</td>\n",
        "      <td> 13</td>\n",
        "      <td> 10</td>\n",
        "    </tr>\n",
        "    <tr>\n",
        "      <th>4</th>\n",
        "      <td> 13</td>\n",
        "      <td> 11</td>\n",
        "      <td>  9</td>\n",
        "      <td>  9</td>\n",
        "      <td> 12</td>\n",
        "    </tr>\n",
        "  </tbody>\n",
        "</table>\n",
        "</div>"
       ],
       "metadata": {},
       "output_type": "pyout",
       "prompt_number": 17,
       "text": [
        "   \u570b\u6587  \u82f1\u6587  \u6578\u5b78  \u793e\u6703  \u81ea\u7136\n",
        "0   9  15  11  10  11\n",
        "1  13  15   9  10   8\n",
        "2  14  12  12  15  13\n",
        "3  13  10   8  13  10\n",
        "4  13  11   9   9  12"
       ]
      }
     ],
     "prompt_number": 17
    },
    {
     "cell_type": "code",
     "collapsed": false,
     "input": [
      "grades[\"\u7e3d\u7d1a\u5206\"] = grades[[\"\u570b\u6587\",\"\u82f1\u6587\",\"\u6578\u5b78\",\"\u793e\u6703\",\"\u81ea\u7136\"]].sum(1)"
     ],
     "language": "python",
     "metadata": {},
     "outputs": [],
     "prompt_number": 18
    },
    {
     "cell_type": "code",
     "collapsed": false,
     "input": [
      "grades.head()"
     ],
     "language": "python",
     "metadata": {},
     "outputs": [
      {
       "html": [
        "<div style=\"max-height:1000px;max-width:1500px;overflow:auto;\">\n",
        "<table border=\"1\" class=\"dataframe\">\n",
        "  <thead>\n",
        "    <tr style=\"text-align: right;\">\n",
        "      <th></th>\n",
        "      <th>\u570b\u6587</th>\n",
        "      <th>\u82f1\u6587</th>\n",
        "      <th>\u6578\u5b78</th>\n",
        "      <th>\u793e\u6703</th>\n",
        "      <th>\u81ea\u7136</th>\n",
        "      <th>\u7e3d\u7d1a\u5206</th>\n",
        "    </tr>\n",
        "  </thead>\n",
        "  <tbody>\n",
        "    <tr>\n",
        "      <th>0</th>\n",
        "      <td>  9</td>\n",
        "      <td> 15</td>\n",
        "      <td> 11</td>\n",
        "      <td> 10</td>\n",
        "      <td> 11</td>\n",
        "      <td> 56</td>\n",
        "    </tr>\n",
        "    <tr>\n",
        "      <th>1</th>\n",
        "      <td> 13</td>\n",
        "      <td> 15</td>\n",
        "      <td>  9</td>\n",
        "      <td> 10</td>\n",
        "      <td>  8</td>\n",
        "      <td> 55</td>\n",
        "    </tr>\n",
        "    <tr>\n",
        "      <th>2</th>\n",
        "      <td> 14</td>\n",
        "      <td> 12</td>\n",
        "      <td> 12</td>\n",
        "      <td> 15</td>\n",
        "      <td> 13</td>\n",
        "      <td> 66</td>\n",
        "    </tr>\n",
        "    <tr>\n",
        "      <th>3</th>\n",
        "      <td> 13</td>\n",
        "      <td> 10</td>\n",
        "      <td>  8</td>\n",
        "      <td> 13</td>\n",
        "      <td> 10</td>\n",
        "      <td> 54</td>\n",
        "    </tr>\n",
        "    <tr>\n",
        "      <th>4</th>\n",
        "      <td> 13</td>\n",
        "      <td> 11</td>\n",
        "      <td>  9</td>\n",
        "      <td>  9</td>\n",
        "      <td> 12</td>\n",
        "      <td> 54</td>\n",
        "    </tr>\n",
        "  </tbody>\n",
        "</table>\n",
        "</div>"
       ],
       "metadata": {},
       "output_type": "pyout",
       "prompt_number": 19,
       "text": [
        "   \u570b\u6587  \u82f1\u6587  \u6578\u5b78  \u793e\u6703  \u81ea\u7136  \u7e3d\u7d1a\u5206\n",
        "0   9  15  11  10  11   56\n",
        "1  13  15   9  10   8   55\n",
        "2  14  12  12  15  13   66\n",
        "3  13  10   8  13  10   54\n",
        "4  13  11   9   9  12   54"
       ]
      }
     ],
     "prompt_number": 19
    },
    {
     "cell_type": "code",
     "collapsed": false,
     "input": [
      "grades[\"\u4e3b\u79d1\"] = grades[\"\u6578\u5b78\"]*1.5 + grades[\"\u82f1\u6587\"]"
     ],
     "language": "python",
     "metadata": {},
     "outputs": [],
     "prompt_number": 20
    },
    {
     "cell_type": "code",
     "collapsed": false,
     "input": [
      "grades.head()"
     ],
     "language": "python",
     "metadata": {},
     "outputs": [
      {
       "html": [
        "<div style=\"max-height:1000px;max-width:1500px;overflow:auto;\">\n",
        "<table border=\"1\" class=\"dataframe\">\n",
        "  <thead>\n",
        "    <tr style=\"text-align: right;\">\n",
        "      <th></th>\n",
        "      <th>\u570b\u6587</th>\n",
        "      <th>\u82f1\u6587</th>\n",
        "      <th>\u6578\u5b78</th>\n",
        "      <th>\u793e\u6703</th>\n",
        "      <th>\u81ea\u7136</th>\n",
        "      <th>\u7e3d\u7d1a\u5206</th>\n",
        "      <th>\u4e3b\u79d1</th>\n",
        "    </tr>\n",
        "  </thead>\n",
        "  <tbody>\n",
        "    <tr>\n",
        "      <th>0</th>\n",
        "      <td>  9</td>\n",
        "      <td> 15</td>\n",
        "      <td> 11</td>\n",
        "      <td> 10</td>\n",
        "      <td> 11</td>\n",
        "      <td> 56</td>\n",
        "      <td> 31.5</td>\n",
        "    </tr>\n",
        "    <tr>\n",
        "      <th>1</th>\n",
        "      <td> 13</td>\n",
        "      <td> 15</td>\n",
        "      <td>  9</td>\n",
        "      <td> 10</td>\n",
        "      <td>  8</td>\n",
        "      <td> 55</td>\n",
        "      <td> 28.5</td>\n",
        "    </tr>\n",
        "    <tr>\n",
        "      <th>2</th>\n",
        "      <td> 14</td>\n",
        "      <td> 12</td>\n",
        "      <td> 12</td>\n",
        "      <td> 15</td>\n",
        "      <td> 13</td>\n",
        "      <td> 66</td>\n",
        "      <td> 30.0</td>\n",
        "    </tr>\n",
        "    <tr>\n",
        "      <th>3</th>\n",
        "      <td> 13</td>\n",
        "      <td> 10</td>\n",
        "      <td>  8</td>\n",
        "      <td> 13</td>\n",
        "      <td> 10</td>\n",
        "      <td> 54</td>\n",
        "      <td> 22.0</td>\n",
        "    </tr>\n",
        "    <tr>\n",
        "      <th>4</th>\n",
        "      <td> 13</td>\n",
        "      <td> 11</td>\n",
        "      <td>  9</td>\n",
        "      <td>  9</td>\n",
        "      <td> 12</td>\n",
        "      <td> 54</td>\n",
        "      <td> 24.5</td>\n",
        "    </tr>\n",
        "  </tbody>\n",
        "</table>\n",
        "</div>"
       ],
       "metadata": {},
       "output_type": "pyout",
       "prompt_number": 21,
       "text": [
        "   \u570b\u6587  \u82f1\u6587  \u6578\u5b78  \u793e\u6703  \u81ea\u7136  \u7e3d\u7d1a\u5206    \u4e3b\u79d1\n",
        "0   9  15  11  10  11   56  31.5\n",
        "1  13  15   9  10   8   55  28.5\n",
        "2  14  12  12  15  13   66  30.0\n",
        "3  13  10   8  13  10   54  22.0\n",
        "4  13  11   9   9  12   54  24.5"
       ]
      }
     ],
     "prompt_number": 21
    },
    {
     "cell_type": "code",
     "collapsed": false,
     "input": [
      "grades.sort(columns=[\"\u7e3d\u7d1a\u5206\"],ascending = False).head(20)"
     ],
     "language": "python",
     "metadata": {},
     "outputs": [
      {
       "html": [
        "<div style=\"max-height:1000px;max-width:1500px;overflow:auto;\">\n",
        "<table border=\"1\" class=\"dataframe\">\n",
        "  <thead>\n",
        "    <tr style=\"text-align: right;\">\n",
        "      <th></th>\n",
        "      <th>\u570b\u6587</th>\n",
        "      <th>\u82f1\u6587</th>\n",
        "      <th>\u6578\u5b78</th>\n",
        "      <th>\u793e\u6703</th>\n",
        "      <th>\u81ea\u7136</th>\n",
        "      <th>\u7e3d\u7d1a\u5206</th>\n",
        "      <th>\u4e3b\u79d1</th>\n",
        "    </tr>\n",
        "  </thead>\n",
        "  <tbody>\n",
        "    <tr>\n",
        "      <th>56</th>\n",
        "      <td> 12</td>\n",
        "      <td> 15</td>\n",
        "      <td> 13</td>\n",
        "      <td> 15</td>\n",
        "      <td> 14</td>\n",
        "      <td> 69</td>\n",
        "      <td> 34.5</td>\n",
        "    </tr>\n",
        "    <tr>\n",
        "      <th>5 </th>\n",
        "      <td> 14</td>\n",
        "      <td> 13</td>\n",
        "      <td> 15</td>\n",
        "      <td> 12</td>\n",
        "      <td> 13</td>\n",
        "      <td> 67</td>\n",
        "      <td> 35.5</td>\n",
        "    </tr>\n",
        "    <tr>\n",
        "      <th>93</th>\n",
        "      <td> 14</td>\n",
        "      <td> 14</td>\n",
        "      <td>  9</td>\n",
        "      <td> 15</td>\n",
        "      <td> 15</td>\n",
        "      <td> 67</td>\n",
        "      <td> 27.5</td>\n",
        "    </tr>\n",
        "    <tr>\n",
        "      <th>2 </th>\n",
        "      <td> 14</td>\n",
        "      <td> 12</td>\n",
        "      <td> 12</td>\n",
        "      <td> 15</td>\n",
        "      <td> 13</td>\n",
        "      <td> 66</td>\n",
        "      <td> 30.0</td>\n",
        "    </tr>\n",
        "    <tr>\n",
        "      <th>29</th>\n",
        "      <td> 10</td>\n",
        "      <td> 15</td>\n",
        "      <td> 13</td>\n",
        "      <td> 12</td>\n",
        "      <td> 15</td>\n",
        "      <td> 65</td>\n",
        "      <td> 34.5</td>\n",
        "    </tr>\n",
        "    <tr>\n",
        "      <th>33</th>\n",
        "      <td> 15</td>\n",
        "      <td> 14</td>\n",
        "      <td> 12</td>\n",
        "      <td> 12</td>\n",
        "      <td> 12</td>\n",
        "      <td> 65</td>\n",
        "      <td> 32.0</td>\n",
        "    </tr>\n",
        "    <tr>\n",
        "      <th>11</th>\n",
        "      <td> 11</td>\n",
        "      <td> 15</td>\n",
        "      <td> 12</td>\n",
        "      <td> 14</td>\n",
        "      <td> 12</td>\n",
        "      <td> 64</td>\n",
        "      <td> 33.0</td>\n",
        "    </tr>\n",
        "    <tr>\n",
        "      <th>15</th>\n",
        "      <td> 14</td>\n",
        "      <td> 15</td>\n",
        "      <td> 10</td>\n",
        "      <td> 10</td>\n",
        "      <td> 15</td>\n",
        "      <td> 64</td>\n",
        "      <td> 30.0</td>\n",
        "    </tr>\n",
        "    <tr>\n",
        "      <th>20</th>\n",
        "      <td> 15</td>\n",
        "      <td> 13</td>\n",
        "      <td> 11</td>\n",
        "      <td> 15</td>\n",
        "      <td>  9</td>\n",
        "      <td> 63</td>\n",
        "      <td> 29.5</td>\n",
        "    </tr>\n",
        "    <tr>\n",
        "      <th>48</th>\n",
        "      <td> 14</td>\n",
        "      <td> 15</td>\n",
        "      <td> 13</td>\n",
        "      <td> 10</td>\n",
        "      <td> 11</td>\n",
        "      <td> 63</td>\n",
        "      <td> 34.5</td>\n",
        "    </tr>\n",
        "    <tr>\n",
        "      <th>42</th>\n",
        "      <td>  8</td>\n",
        "      <td> 13</td>\n",
        "      <td> 13</td>\n",
        "      <td> 15</td>\n",
        "      <td> 14</td>\n",
        "      <td> 63</td>\n",
        "      <td> 32.5</td>\n",
        "    </tr>\n",
        "    <tr>\n",
        "      <th>76</th>\n",
        "      <td> 14</td>\n",
        "      <td> 14</td>\n",
        "      <td> 11</td>\n",
        "      <td> 14</td>\n",
        "      <td> 10</td>\n",
        "      <td> 63</td>\n",
        "      <td> 30.5</td>\n",
        "    </tr>\n",
        "    <tr>\n",
        "      <th>62</th>\n",
        "      <td> 15</td>\n",
        "      <td>  8</td>\n",
        "      <td> 13</td>\n",
        "      <td> 15</td>\n",
        "      <td> 11</td>\n",
        "      <td> 62</td>\n",
        "      <td> 27.5</td>\n",
        "    </tr>\n",
        "    <tr>\n",
        "      <th>63</th>\n",
        "      <td> 13</td>\n",
        "      <td>  8</td>\n",
        "      <td> 13</td>\n",
        "      <td> 13</td>\n",
        "      <td> 15</td>\n",
        "      <td> 62</td>\n",
        "      <td> 27.5</td>\n",
        "    </tr>\n",
        "    <tr>\n",
        "      <th>66</th>\n",
        "      <td> 12</td>\n",
        "      <td> 10</td>\n",
        "      <td> 12</td>\n",
        "      <td> 13</td>\n",
        "      <td> 15</td>\n",
        "      <td> 62</td>\n",
        "      <td> 28.0</td>\n",
        "    </tr>\n",
        "    <tr>\n",
        "      <th>26</th>\n",
        "      <td> 10</td>\n",
        "      <td> 13</td>\n",
        "      <td> 13</td>\n",
        "      <td> 13</td>\n",
        "      <td> 13</td>\n",
        "      <td> 62</td>\n",
        "      <td> 32.5</td>\n",
        "    </tr>\n",
        "    <tr>\n",
        "      <th>50</th>\n",
        "      <td> 11</td>\n",
        "      <td> 13</td>\n",
        "      <td> 14</td>\n",
        "      <td> 12</td>\n",
        "      <td> 12</td>\n",
        "      <td> 62</td>\n",
        "      <td> 34.0</td>\n",
        "    </tr>\n",
        "    <tr>\n",
        "      <th>95</th>\n",
        "      <td> 10</td>\n",
        "      <td> 13</td>\n",
        "      <td> 11</td>\n",
        "      <td> 14</td>\n",
        "      <td> 14</td>\n",
        "      <td> 62</td>\n",
        "      <td> 29.5</td>\n",
        "    </tr>\n",
        "    <tr>\n",
        "      <th>30</th>\n",
        "      <td> 11</td>\n",
        "      <td> 14</td>\n",
        "      <td> 15</td>\n",
        "      <td> 12</td>\n",
        "      <td>  9</td>\n",
        "      <td> 61</td>\n",
        "      <td> 36.5</td>\n",
        "    </tr>\n",
        "    <tr>\n",
        "      <th>12</th>\n",
        "      <td> 13</td>\n",
        "      <td> 14</td>\n",
        "      <td> 15</td>\n",
        "      <td>  8</td>\n",
        "      <td> 11</td>\n",
        "      <td> 61</td>\n",
        "      <td> 36.5</td>\n",
        "    </tr>\n",
        "  </tbody>\n",
        "</table>\n",
        "</div>"
       ],
       "metadata": {},
       "output_type": "pyout",
       "prompt_number": 25,
       "text": [
        "    \u570b\u6587  \u82f1\u6587  \u6578\u5b78  \u793e\u6703  \u81ea\u7136  \u7e3d\u7d1a\u5206    \u4e3b\u79d1\n",
        "56  12  15  13  15  14   69  34.5\n",
        "5   14  13  15  12  13   67  35.5\n",
        "93  14  14   9  15  15   67  27.5\n",
        "2   14  12  12  15  13   66  30.0\n",
        "29  10  15  13  12  15   65  34.5\n",
        "33  15  14  12  12  12   65  32.0\n",
        "11  11  15  12  14  12   64  33.0\n",
        "15  14  15  10  10  15   64  30.0\n",
        "20  15  13  11  15   9   63  29.5\n",
        "48  14  15  13  10  11   63  34.5\n",
        "42   8  13  13  15  14   63  32.5\n",
        "76  14  14  11  14  10   63  30.5\n",
        "62  15   8  13  15  11   62  27.5\n",
        "63  13   8  13  13  15   62  27.5\n",
        "66  12  10  12  13  15   62  28.0\n",
        "26  10  13  13  13  13   62  32.5\n",
        "50  11  13  14  12  12   62  34.0\n",
        "95  10  13  11  14  14   62  29.5\n",
        "30  11  14  15  12   9   61  36.5\n",
        "12  13  14  15   8  11   61  36.5"
       ]
      }
     ],
     "prompt_number": 25
    },
    {
     "cell_type": "code",
     "collapsed": false,
     "input": [
      "import pandas as pd"
     ],
     "language": "python",
     "metadata": {},
     "outputs": [],
     "prompt_number": 1
    },
    {
     "cell_type": "code",
     "collapsed": false,
     "input": [
      "%pylab inline"
     ],
     "language": "python",
     "metadata": {},
     "outputs": [
      {
       "output_type": "stream",
       "stream": "stdout",
       "text": [
        "Populating the interactive namespace from numpy and matplotlib\n"
       ]
      }
     ],
     "prompt_number": 2
    },
    {
     "cell_type": "code",
     "collapsed": false,
     "input": [
      "df_bike = pd.read_csv(\"2012.csv\", index_col=\"Date\", parse_dates=True, dayfirst=True)"
     ],
     "language": "python",
     "metadata": {},
     "outputs": [],
     "prompt_number": 3
    },
    {
     "cell_type": "code",
     "collapsed": false,
     "input": [
      "df_bike.head()"
     ],
     "language": "python",
     "metadata": {},
     "outputs": [
      {
       "html": [
        "<div style=\"max-height:1000px;max-width:1500px;overflow:auto;\">\n",
        "<table border=\"1\" class=\"dataframe\">\n",
        "  <thead>\n",
        "    <tr style=\"text-align: right;\">\n",
        "      <th></th>\n",
        "      <th>Berri 1</th>\n",
        "      <th>Br\u00e9beuf (donn\u00e9es non disponibles)</th>\n",
        "      <th>C\u00f4te-Sainte-Catherine</th>\n",
        "      <th>Maisonneuve 1</th>\n",
        "      <th>Maisonneuve 2</th>\n",
        "      <th>du Parc</th>\n",
        "      <th>Pierre-Dupuy</th>\n",
        "      <th>Rachel1</th>\n",
        "      <th>St-Urbain (donn\u00e9es non disponibles)</th>\n",
        "    </tr>\n",
        "    <tr>\n",
        "      <th>Date</th>\n",
        "      <th></th>\n",
        "      <th></th>\n",
        "      <th></th>\n",
        "      <th></th>\n",
        "      <th></th>\n",
        "      <th></th>\n",
        "      <th></th>\n",
        "      <th></th>\n",
        "      <th></th>\n",
        "    </tr>\n",
        "  </thead>\n",
        "  <tbody>\n",
        "    <tr>\n",
        "      <th>2012-01-01</th>\n",
        "      <td>  35</td>\n",
        "      <td>NaN</td>\n",
        "      <td> 0</td>\n",
        "      <td>  38</td>\n",
        "      <td>  51</td>\n",
        "      <td>  26</td>\n",
        "      <td> 10</td>\n",
        "      <td> 16</td>\n",
        "      <td>NaN</td>\n",
        "    </tr>\n",
        "    <tr>\n",
        "      <th>2012-01-02</th>\n",
        "      <td>  83</td>\n",
        "      <td>NaN</td>\n",
        "      <td> 1</td>\n",
        "      <td>  68</td>\n",
        "      <td> 153</td>\n",
        "      <td>  53</td>\n",
        "      <td>  6</td>\n",
        "      <td> 43</td>\n",
        "      <td>NaN</td>\n",
        "    </tr>\n",
        "    <tr>\n",
        "      <th>2012-01-03</th>\n",
        "      <td> 135</td>\n",
        "      <td>NaN</td>\n",
        "      <td> 2</td>\n",
        "      <td> 104</td>\n",
        "      <td> 248</td>\n",
        "      <td>  89</td>\n",
        "      <td>  3</td>\n",
        "      <td> 58</td>\n",
        "      <td>NaN</td>\n",
        "    </tr>\n",
        "    <tr>\n",
        "      <th>2012-01-04</th>\n",
        "      <td> 144</td>\n",
        "      <td>NaN</td>\n",
        "      <td> 1</td>\n",
        "      <td> 116</td>\n",
        "      <td> 318</td>\n",
        "      <td> 111</td>\n",
        "      <td>  8</td>\n",
        "      <td> 61</td>\n",
        "      <td>NaN</td>\n",
        "    </tr>\n",
        "    <tr>\n",
        "      <th>2012-01-05</th>\n",
        "      <td> 197</td>\n",
        "      <td>NaN</td>\n",
        "      <td> 2</td>\n",
        "      <td> 124</td>\n",
        "      <td> 330</td>\n",
        "      <td>  97</td>\n",
        "      <td> 13</td>\n",
        "      <td> 95</td>\n",
        "      <td>NaN</td>\n",
        "    </tr>\n",
        "  </tbody>\n",
        "</table>\n",
        "</div>"
       ],
       "metadata": {},
       "output_type": "pyout",
       "prompt_number": 4,
       "text": [
        "            Berri 1  Br\u00e9beuf (donn\u00e9es non disponibles)  C\u00f4te-Sainte-Catherine  \\\n",
        "Date                                                                            \n",
        "2012-01-01       35                                NaN                      0   \n",
        "2012-01-02       83                                NaN                      1   \n",
        "2012-01-03      135                                NaN                      2   \n",
        "2012-01-04      144                                NaN                      1   \n",
        "2012-01-05      197                                NaN                      2   \n",
        "\n",
        "            Maisonneuve 1  Maisonneuve 2  du Parc  Pierre-Dupuy  Rachel1  \\\n",
        "Date                                                                       \n",
        "2012-01-01             38             51       26            10       16   \n",
        "2012-01-02             68            153       53             6       43   \n",
        "2012-01-03            104            248       89             3       58   \n",
        "2012-01-04            116            318      111             8       61   \n",
        "2012-01-05            124            330       97            13       95   \n",
        "\n",
        "            St-Urbain (donn\u00e9es non disponibles)  \n",
        "Date                                             \n",
        "2012-01-01                                  NaN  \n",
        "2012-01-02                                  NaN  \n",
        "2012-01-03                                  NaN  \n",
        "2012-01-04                                  NaN  \n",
        "2012-01-05                                  NaN  "
       ]
      }
     ],
     "prompt_number": 4
    },
    {
     "cell_type": "code",
     "collapsed": false,
     "input": [
      "df_sbike = df_bike[[\"Berri 1\",\"C\u00f4te-Sainte-Catherine\",\"Maisonneuve 1\"]]"
     ],
     "language": "python",
     "metadata": {},
     "outputs": [],
     "prompt_number": 5
    },
    {
     "cell_type": "code",
     "collapsed": false,
     "input": [
      "df_sbike.head()"
     ],
     "language": "python",
     "metadata": {},
     "outputs": [
      {
       "html": [
        "<div style=\"max-height:1000px;max-width:1500px;overflow:auto;\">\n",
        "<table border=\"1\" class=\"dataframe\">\n",
        "  <thead>\n",
        "    <tr style=\"text-align: right;\">\n",
        "      <th></th>\n",
        "      <th>Berri 1</th>\n",
        "      <th>C\u00f4te-Sainte-Catherine</th>\n",
        "      <th>Maisonneuve 1</th>\n",
        "    </tr>\n",
        "    <tr>\n",
        "      <th>Date</th>\n",
        "      <th></th>\n",
        "      <th></th>\n",
        "      <th></th>\n",
        "    </tr>\n",
        "  </thead>\n",
        "  <tbody>\n",
        "    <tr>\n",
        "      <th>2012-01-01</th>\n",
        "      <td>  35</td>\n",
        "      <td> 0</td>\n",
        "      <td>  38</td>\n",
        "    </tr>\n",
        "    <tr>\n",
        "      <th>2012-01-02</th>\n",
        "      <td>  83</td>\n",
        "      <td> 1</td>\n",
        "      <td>  68</td>\n",
        "    </tr>\n",
        "    <tr>\n",
        "      <th>2012-01-03</th>\n",
        "      <td> 135</td>\n",
        "      <td> 2</td>\n",
        "      <td> 104</td>\n",
        "    </tr>\n",
        "    <tr>\n",
        "      <th>2012-01-04</th>\n",
        "      <td> 144</td>\n",
        "      <td> 1</td>\n",
        "      <td> 116</td>\n",
        "    </tr>\n",
        "    <tr>\n",
        "      <th>2012-01-05</th>\n",
        "      <td> 197</td>\n",
        "      <td> 2</td>\n",
        "      <td> 124</td>\n",
        "    </tr>\n",
        "  </tbody>\n",
        "</table>\n",
        "</div>"
       ],
       "metadata": {},
       "output_type": "pyout",
       "prompt_number": 6,
       "text": [
        "            Berri 1  C\u00f4te-Sainte-Catherine  Maisonneuve 1\n",
        "Date                                                     \n",
        "2012-01-01       35                      0             38\n",
        "2012-01-02       83                      1             68\n",
        "2012-01-03      135                      2            104\n",
        "2012-01-04      144                      1            116\n",
        "2012-01-05      197                      2            124"
       ]
      }
     ],
     "prompt_number": 6
    },
    {
     "cell_type": "code",
     "collapsed": false,
     "input": [
      "df_sbike.plot()"
     ],
     "language": "python",
     "metadata": {},
     "outputs": [
      {
       "metadata": {},
       "output_type": "pyout",
       "prompt_number": 7,
       "text": [
        "<matplotlib.axes._subplots.AxesSubplot at 0xb58b9b0>"
       ]
      },
      {
       "metadata": {},
       "output_type": "display_data",
       "png": "[encoded data removed]",
       "text": [
        "<matplotlib.figure.Figure at 0xb58bd68>"
       ]
      }
     ],
     "prompt_number": 7
    },
    {
     "cell_type": "code",
     "collapsed": false,
     "input": [
      "df_sbike.mean()"
     ],
     "language": "python",
     "metadata": {},
     "outputs": [
      {
       "metadata": {},
       "output_type": "pyout",
       "prompt_number": 8,
       "text": [
        "Berri 1                  2985.048387\n",
        "C\u00f4te-Sainte-Catherine    1233.351613\n",
        "Maisonneuve 1            1983.325806\n",
        "dtype: float64"
       ]
      }
     ],
     "prompt_number": 8
    },
    {
     "cell_type": "code",
     "collapsed": false,
     "input": [
      "df_sbike.mean().plot(kind='bar')"
     ],
     "language": "python",
     "metadata": {},
     "outputs": [
      {
       "metadata": {},
       "output_type": "pyout",
       "prompt_number": 9,
       "text": [
        "<matplotlib.axes._subplots.AxesSubplot at 0xbb7ddd8>"
       ]
      },
      {
       "metadata": {},
       "output_type": "display_data",
       "png": "[encoded data removed]",
       "text": [
        "<matplotlib.figure.Figure at 0xb97eba8>"
       ]
      }
     ],
     "prompt_number": 9
    },
    {
     "cell_type": "code",
     "collapsed": false,
     "input": [
      "df_weather = pd.read_csv(\"weather_2012.csv\",index_col=\"Date/Time\",parse_dates=True)"
     ],
     "language": "python",
     "metadata": {},
     "outputs": [],
     "prompt_number": 10
    },
    {
     "cell_type": "code",
     "collapsed": false,
     "input": [
      "df_weather.head()"
     ],
     "language": "python",
     "metadata": {},
     "outputs": [
      {
       "html": [
        "<div style=\"max-height:1000px;max-width:1500px;overflow:auto;\">\n",
        "<table border=\"1\" class=\"dataframe\">\n",
        "  <thead>\n",
        "    <tr style=\"text-align: right;\">\n",
        "      <th></th>\n",
        "      <th>Temp (C)</th>\n",
        "      <th>Dew Point Temp (C)</th>\n",
        "      <th>Rel Hum (%)</th>\n",
        "      <th>Wind Spd (km/h)</th>\n",
        "      <th>Visibility (km)</th>\n",
        "      <th>Stn Press (kPa)</th>\n",
        "      <th>Weather</th>\n",
        "    </tr>\n",
        "    <tr>\n",
        "      <th>Date/Time</th>\n",
        "      <th></th>\n",
        "      <th></th>\n",
        "      <th></th>\n",
        "      <th></th>\n",
        "      <th></th>\n",
        "      <th></th>\n",
        "      <th></th>\n",
        "    </tr>\n",
        "  </thead>\n",
        "  <tbody>\n",
        "    <tr>\n",
        "      <th>2012-01-01 00:00:00</th>\n",
        "      <td>-1.8</td>\n",
        "      <td>-3.9</td>\n",
        "      <td> 86</td>\n",
        "      <td> 4</td>\n",
        "      <td> 8.0</td>\n",
        "      <td> 101.24</td>\n",
        "      <td>                  Fog</td>\n",
        "    </tr>\n",
        "    <tr>\n",
        "      <th>2012-01-01 01:00:00</th>\n",
        "      <td>-1.8</td>\n",
        "      <td>-3.7</td>\n",
        "      <td> 87</td>\n",
        "      <td> 4</td>\n",
        "      <td> 8.0</td>\n",
        "      <td> 101.24</td>\n",
        "      <td>                  Fog</td>\n",
        "    </tr>\n",
        "    <tr>\n",
        "      <th>2012-01-01 02:00:00</th>\n",
        "      <td>-1.8</td>\n",
        "      <td>-3.4</td>\n",
        "      <td> 89</td>\n",
        "      <td> 7</td>\n",
        "      <td> 4.0</td>\n",
        "      <td> 101.26</td>\n",
        "      <td> Freezing Drizzle,Fog</td>\n",
        "    </tr>\n",
        "    <tr>\n",
        "      <th>2012-01-01 03:00:00</th>\n",
        "      <td>-1.5</td>\n",
        "      <td>-3.2</td>\n",
        "      <td> 88</td>\n",
        "      <td> 6</td>\n",
        "      <td> 4.0</td>\n",
        "      <td> 101.27</td>\n",
        "      <td> Freezing Drizzle,Fog</td>\n",
        "    </tr>\n",
        "    <tr>\n",
        "      <th>2012-01-01 04:00:00</th>\n",
        "      <td>-1.5</td>\n",
        "      <td>-3.3</td>\n",
        "      <td> 88</td>\n",
        "      <td> 7</td>\n",
        "      <td> 4.8</td>\n",
        "      <td> 101.23</td>\n",
        "      <td>                  Fog</td>\n",
        "    </tr>\n",
        "  </tbody>\n",
        "</table>\n",
        "</div>"
       ],
       "metadata": {},
       "output_type": "pyout",
       "prompt_number": 11,
       "text": [
        "                     Temp (C)  Dew Point Temp (C)  Rel Hum (%)  \\\n",
        "Date/Time                                                        \n",
        "2012-01-01 00:00:00      -1.8                -3.9           86   \n",
        "2012-01-01 01:00:00      -1.8                -3.7           87   \n",
        "2012-01-01 02:00:00      -1.8                -3.4           89   \n",
        "2012-01-01 03:00:00      -1.5                -3.2           88   \n",
        "2012-01-01 04:00:00      -1.5                -3.3           88   \n",
        "\n",
        "                     Wind Spd (km/h)  Visibility (km)  Stn Press (kPa)  \\\n",
        "Date/Time                                                                \n",
        "2012-01-01 00:00:00                4              8.0           101.24   \n",
        "2012-01-01 01:00:00                4              8.0           101.24   \n",
        "2012-01-01 02:00:00                7              4.0           101.26   \n",
        "2012-01-01 03:00:00                6              4.0           101.27   \n",
        "2012-01-01 04:00:00                7              4.8           101.23   \n",
        "\n",
        "                                  Weather  \n",
        "Date/Time                                  \n",
        "2012-01-01 00:00:00                   Fog  \n",
        "2012-01-01 01:00:00                   Fog  \n",
        "2012-01-01 02:00:00  Freezing Drizzle,Fog  \n",
        "2012-01-01 03:00:00  Freezing Drizzle,Fog  \n",
        "2012-01-01 04:00:00                   Fog  "
       ]
      }
     ],
     "prompt_number": 11
    },
    {
     "cell_type": "code",
     "collapsed": false,
     "input": [
      "df_sbike[\"mean temp\"]=df_weather[\"Temp (C)\"].resample(\"D\", how = mean)"
     ],
     "language": "python",
     "metadata": {},
     "outputs": [],
     "prompt_number": 12
    },
    {
     "cell_type": "code",
     "collapsed": false,
     "input": [
      "df_sbike.head()"
     ],
     "language": "python",
     "metadata": {},
     "outputs": [
      {
       "html": [
        "<div style=\"max-height:1000px;max-width:1500px;overflow:auto;\">\n",
        "<table border=\"1\" class=\"dataframe\">\n",
        "  <thead>\n",
        "    <tr style=\"text-align: right;\">\n",
        "      <th></th>\n",
        "      <th>Berri 1</th>\n",
        "      <th>C\u00f4te-Sainte-Catherine</th>\n",
        "      <th>Maisonneuve 1</th>\n",
        "      <th>mean temp</th>\n",
        "    </tr>\n",
        "    <tr>\n",
        "      <th>Date</th>\n",
        "      <th></th>\n",
        "      <th></th>\n",
        "      <th></th>\n",
        "      <th></th>\n",
        "    </tr>\n",
        "  </thead>\n",
        "  <tbody>\n",
        "    <tr>\n",
        "      <th>2012-01-01</th>\n",
        "      <td>  35</td>\n",
        "      <td> 0</td>\n",
        "      <td>  38</td>\n",
        "      <td>  0.629167</td>\n",
        "    </tr>\n",
        "    <tr>\n",
        "      <th>2012-01-02</th>\n",
        "      <td>  83</td>\n",
        "      <td> 1</td>\n",
        "      <td>  68</td>\n",
        "      <td>  0.041667</td>\n",
        "    </tr>\n",
        "    <tr>\n",
        "      <th>2012-01-03</th>\n",
        "      <td> 135</td>\n",
        "      <td> 2</td>\n",
        "      <td> 104</td>\n",
        "      <td>-14.416667</td>\n",
        "    </tr>\n",
        "    <tr>\n",
        "      <th>2012-01-04</th>\n",
        "      <td> 144</td>\n",
        "      <td> 1</td>\n",
        "      <td> 116</td>\n",
        "      <td>-13.645833</td>\n",
        "    </tr>\n",
        "    <tr>\n",
        "      <th>2012-01-05</th>\n",
        "      <td> 197</td>\n",
        "      <td> 2</td>\n",
        "      <td> 124</td>\n",
        "      <td> -6.750000</td>\n",
        "    </tr>\n",
        "  </tbody>\n",
        "</table>\n",
        "</div>"
       ],
       "metadata": {},
       "output_type": "pyout",
       "prompt_number": 13,
       "text": [
        "            Berri 1  C\u00f4te-Sainte-Catherine  Maisonneuve 1  mean temp\n",
        "Date                                                                \n",
        "2012-01-01       35                      0             38   0.629167\n",
        "2012-01-02       83                      1             68   0.041667\n",
        "2012-01-03      135                      2            104 -14.416667\n",
        "2012-01-04      144                      1            116 -13.645833\n",
        "2012-01-05      197                      2            124  -6.750000"
       ]
      }
     ],
     "prompt_number": 13
    },
    {
     "cell_type": "code",
     "collapsed": false,
     "input": [
      "df_sbike[[\"Berri 1\", \"mean temp\"]].plot(subplots=True)"
     ],
     "language": "python",
     "metadata": {},
     "outputs": [
      {
       "metadata": {},
       "output_type": "pyout",
       "prompt_number": 14,
       "text": [
        "array([<matplotlib.axes._subplots.AxesSubplot object at 0x000000000BFF0CF8>,\n",
        "       <matplotlib.axes._subplots.AxesSubplot object at 0x000000000C01AE10>], dtype=object)"
       ]
      },
      {
       "metadata": {},
       "output_type": "display_data",
       "png": "[encoded data removed]",
       "text": [
        "<matplotlib.figure.Figure at 0xb8d2358>"
       ]
      }
     ],
     "prompt_number": 14
    },
    {
     "cell_type": "code",
     "collapsed": false,
     "input": [
      "df_sbike[\"Rain\"] = df_weather[\"Weather\"].str.contains(\"Rain\").resample(\"D\",how=mean)"
     ],
     "language": "python",
     "metadata": {},
     "outputs": [],
     "prompt_number": 15
    },
    {
     "cell_type": "code",
     "collapsed": false,
     "input": [
      "df_sbike.head()"
     ],
     "language": "python",
     "metadata": {},
     "outputs": [
      {
       "html": [
        "<div style=\"max-height:1000px;max-width:1500px;overflow:auto;\">\n",
        "<table border=\"1\" class=\"dataframe\">\n",
        "  <thead>\n",
        "    <tr style=\"text-align: right;\">\n",
        "      <th></th>\n",
        "      <th>Berri 1</th>\n",
        "      <th>C\u00f4te-Sainte-Catherine</th>\n",
        "      <th>Maisonneuve 1</th>\n",
        "      <th>mean temp</th>\n",
        "      <th>Rain</th>\n",
        "    </tr>\n",
        "    <tr>\n",
        "      <th>Date</th>\n",
        "      <th></th>\n",
        "      <th></th>\n",
        "      <th></th>\n",
        "      <th></th>\n",
        "      <th></th>\n",
        "    </tr>\n",
        "  </thead>\n",
        "  <tbody>\n",
        "    <tr>\n",
        "      <th>2012-01-01</th>\n",
        "      <td>  35</td>\n",
        "      <td> 0</td>\n",
        "      <td>  38</td>\n",
        "      <td>  0.629167</td>\n",
        "      <td> 0.125000</td>\n",
        "    </tr>\n",
        "    <tr>\n",
        "      <th>2012-01-02</th>\n",
        "      <td>  83</td>\n",
        "      <td> 1</td>\n",
        "      <td>  68</td>\n",
        "      <td>  0.041667</td>\n",
        "      <td> 0.041667</td>\n",
        "    </tr>\n",
        "    <tr>\n",
        "      <th>2012-01-03</th>\n",
        "      <td> 135</td>\n",
        "      <td> 2</td>\n",
        "      <td> 104</td>\n",
        "      <td>-14.416667</td>\n",
        "      <td> 0.000000</td>\n",
        "    </tr>\n",
        "    <tr>\n",
        "      <th>2012-01-04</th>\n",
        "      <td> 144</td>\n",
        "      <td> 1</td>\n",
        "      <td> 116</td>\n",
        "      <td>-13.645833</td>\n",
        "      <td> 0.000000</td>\n",
        "    </tr>\n",
        "    <tr>\n",
        "      <th>2012-01-05</th>\n",
        "      <td> 197</td>\n",
        "      <td> 2</td>\n",
        "      <td> 124</td>\n",
        "      <td> -6.750000</td>\n",
        "      <td> 0.000000</td>\n",
        "    </tr>\n",
        "  </tbody>\n",
        "</table>\n",
        "</div>"
       ],
       "metadata": {},
       "output_type": "pyout",
       "prompt_number": 16,
       "text": [
        "            Berri 1  C\u00f4te-Sainte-Catherine  Maisonneuve 1  mean temp      Rain\n",
        "Date                                                                          \n",
        "2012-01-01       35                      0             38   0.629167  0.125000\n",
        "2012-01-02       83                      1             68   0.041667  0.041667\n",
        "2012-01-03      135                      2            104 -14.416667  0.000000\n",
        "2012-01-04      144                      1            116 -13.645833  0.000000\n",
        "2012-01-05      197                      2            124  -6.750000  0.000000"
       ]
      }
     ],
     "prompt_number": 16
    },
    {
     "cell_type": "code",
     "collapsed": false,
     "input": [
      "df_sbike[[\"Berri 1\",\"Rain\"]].plot(subplots=True)"
     ],
     "language": "python",
     "metadata": {},
     "outputs": [
      {
       "metadata": {},
       "output_type": "pyout",
       "prompt_number": 17,
       "text": [
        "array([<matplotlib.axes._subplots.AxesSubplot object at 0x000000000D1FDEB8>,\n",
        "       <matplotlib.axes._subplots.AxesSubplot object at 0x000000000D279B38>], dtype=object)"
       ]
      },
      {
       "metadata": {},
       "output_type": "display_data",
       "png": "[encoded data removed]",
       "text": [
        "<matplotlib.figure.Figure at 0xcbc1b70>"
       ]
      }
     ],
     "prompt_number": 17
    },
    {
     "cell_type": "code",
     "collapsed": false,
     "input": [
      "df_sbike[\"Weekday\"] = df_sbike.index.weekday"
     ],
     "language": "python",
     "metadata": {},
     "outputs": [],
     "prompt_number": 18
    },
    {
     "cell_type": "code",
     "collapsed": false,
     "input": [
      "df_sbike.head()"
     ],
     "language": "python",
     "metadata": {},
     "outputs": [
      {
       "html": [
        "<div style=\"max-height:1000px;max-width:1500px;overflow:auto;\">\n",
        "<table border=\"1\" class=\"dataframe\">\n",
        "  <thead>\n",
        "    <tr style=\"text-align: right;\">\n",
        "      <th></th>\n",
        "      <th>Berri 1</th>\n",
        "      <th>C\u00f4te-Sainte-Catherine</th>\n",
        "      <th>Maisonneuve 1</th>\n",
        "      <th>mean temp</th>\n",
        "      <th>Rain</th>\n",
        "      <th>Weekday</th>\n",
        "    </tr>\n",
        "    <tr>\n",
        "      <th>Date</th>\n",
        "      <th></th>\n",
        "      <th></th>\n",
        "      <th></th>\n",
        "      <th></th>\n",
        "      <th></th>\n",
        "      <th></th>\n",
        "    </tr>\n",
        "  </thead>\n",
        "  <tbody>\n",
        "    <tr>\n",
        "      <th>2012-01-01</th>\n",
        "      <td>  35</td>\n",
        "      <td> 0</td>\n",
        "      <td>  38</td>\n",
        "      <td>  0.629167</td>\n",
        "      <td> 0.125000</td>\n",
        "      <td> 6</td>\n",
        "    </tr>\n",
        "    <tr>\n",
        "      <th>2012-01-02</th>\n",
        "      <td>  83</td>\n",
        "      <td> 1</td>\n",
        "      <td>  68</td>\n",
        "      <td>  0.041667</td>\n",
        "      <td> 0.041667</td>\n",
        "      <td> 0</td>\n",
        "    </tr>\n",
        "    <tr>\n",
        "      <th>2012-01-03</th>\n",
        "      <td> 135</td>\n",
        "      <td> 2</td>\n",
        "      <td> 104</td>\n",
        "      <td>-14.416667</td>\n",
        "      <td> 0.000000</td>\n",
        "      <td> 1</td>\n",
        "    </tr>\n",
        "    <tr>\n",
        "      <th>2012-01-04</th>\n",
        "      <td> 144</td>\n",
        "      <td> 1</td>\n",
        "      <td> 116</td>\n",
        "      <td>-13.645833</td>\n",
        "      <td> 0.000000</td>\n",
        "      <td> 2</td>\n",
        "    </tr>\n",
        "    <tr>\n",
        "      <th>2012-01-05</th>\n",
        "      <td> 197</td>\n",
        "      <td> 2</td>\n",
        "      <td> 124</td>\n",
        "      <td> -6.750000</td>\n",
        "      <td> 0.000000</td>\n",
        "      <td> 3</td>\n",
        "    </tr>\n",
        "  </tbody>\n",
        "</table>\n",
        "</div>"
       ],
       "metadata": {},
       "output_type": "pyout",
       "prompt_number": 19,
       "text": [
        "            Berri 1  C\u00f4te-Sainte-Catherine  Maisonneuve 1  mean temp  \\\n",
        "Date                                                                   \n",
        "2012-01-01       35                      0             38   0.629167   \n",
        "2012-01-02       83                      1             68   0.041667   \n",
        "2012-01-03      135                      2            104 -14.416667   \n",
        "2012-01-04      144                      1            116 -13.645833   \n",
        "2012-01-05      197                      2            124  -6.750000   \n",
        "\n",
        "                Rain  Weekday  \n",
        "Date                           \n",
        "2012-01-01  0.125000        6  \n",
        "2012-01-02  0.041667        0  \n",
        "2012-01-03  0.000000        1  \n",
        "2012-01-04  0.000000        2  \n",
        "2012-01-05  0.000000        3  "
       ]
      }
     ],
     "prompt_number": 19
    },
    {
     "cell_type": "code",
     "collapsed": false,
     "input": [
      "berri = df_sbike[[\"Berri 1\",\"Weekday\"]]"
     ],
     "language": "python",
     "metadata": {},
     "outputs": [],
     "prompt_number": 20
    },
    {
     "cell_type": "code",
     "collapsed": false,
     "input": [
      "berri.head()"
     ],
     "language": "python",
     "metadata": {},
     "outputs": [
      {
       "html": [
        "<div style=\"max-height:1000px;max-width:1500px;overflow:auto;\">\n",
        "<table border=\"1\" class=\"dataframe\">\n",
        "  <thead>\n",
        "    <tr style=\"text-align: right;\">\n",
        "      <th></th>\n",
        "      <th>Berri 1</th>\n",
        "      <th>Weekday</th>\n",
        "    </tr>\n",
        "    <tr>\n",
        "      <th>Date</th>\n",
        "      <th></th>\n",
        "      <th></th>\n",
        "    </tr>\n",
        "  </thead>\n",
        "  <tbody>\n",
        "    <tr>\n",
        "      <th>2012-01-01</th>\n",
        "      <td>  35</td>\n",
        "      <td> 6</td>\n",
        "    </tr>\n",
        "    <tr>\n",
        "      <th>2012-01-02</th>\n",
        "      <td>  83</td>\n",
        "      <td> 0</td>\n",
        "    </tr>\n",
        "    <tr>\n",
        "      <th>2012-01-03</th>\n",
        "      <td> 135</td>\n",
        "      <td> 1</td>\n",
        "    </tr>\n",
        "    <tr>\n",
        "      <th>2012-01-04</th>\n",
        "      <td> 144</td>\n",
        "      <td> 2</td>\n",
        "    </tr>\n",
        "    <tr>\n",
        "      <th>2012-01-05</th>\n",
        "      <td> 197</td>\n",
        "      <td> 3</td>\n",
        "    </tr>\n",
        "  </tbody>\n",
        "</table>\n",
        "</div>"
       ],
       "metadata": {},
       "output_type": "pyout",
       "prompt_number": 21,
       "text": [
        "            Berri 1  Weekday\n",
        "Date                        \n",
        "2012-01-01       35        6\n",
        "2012-01-02       83        0\n",
        "2012-01-03      135        1\n",
        "2012-01-04      144        2\n",
        "2012-01-05      197        3"
       ]
      }
     ],
     "prompt_number": 21
    },
    {
     "cell_type": "code",
     "collapsed": false,
     "input": [
      "weekday_counts = berri.groupby(\"Weekday\").aggregate(sum)"
     ],
     "language": "python",
     "metadata": {},
     "outputs": [],
     "prompt_number": 22
    },
    {
     "cell_type": "code",
     "collapsed": false,
     "input": [
      "weekday_counts"
     ],
     "language": "python",
     "metadata": {},
     "outputs": [
      {
       "html": [
        "<div style=\"max-height:1000px;max-width:1500px;overflow:auto;\">\n",
        "<table border=\"1\" class=\"dataframe\">\n",
        "  <thead>\n",
        "    <tr style=\"text-align: right;\">\n",
        "      <th></th>\n",
        "      <th>Berri 1</th>\n",
        "    </tr>\n",
        "    <tr>\n",
        "      <th>Weekday</th>\n",
        "      <th></th>\n",
        "    </tr>\n",
        "  </thead>\n",
        "  <tbody>\n",
        "    <tr>\n",
        "      <th>0</th>\n",
        "      <td> 134298</td>\n",
        "    </tr>\n",
        "    <tr>\n",
        "      <th>1</th>\n",
        "      <td> 135305</td>\n",
        "    </tr>\n",
        "    <tr>\n",
        "      <th>2</th>\n",
        "      <td> 152972</td>\n",
        "    </tr>\n",
        "    <tr>\n",
        "      <th>3</th>\n",
        "      <td> 160131</td>\n",
        "    </tr>\n",
        "    <tr>\n",
        "      <th>4</th>\n",
        "      <td> 141771</td>\n",
        "    </tr>\n",
        "    <tr>\n",
        "      <th>5</th>\n",
        "      <td> 101578</td>\n",
        "    </tr>\n",
        "    <tr>\n",
        "      <th>6</th>\n",
        "      <td>  99310</td>\n",
        "    </tr>\n",
        "  </tbody>\n",
        "</table>\n",
        "</div>"
       ],
       "metadata": {},
       "output_type": "pyout",
       "prompt_number": 23,
       "text": [
        "         Berri 1\n",
        "Weekday         \n",
        "0         134298\n",
        "1         135305\n",
        "2         152972\n",
        "3         160131\n",
        "4         141771\n",
        "5         101578\n",
        "6          99310"
       ]
      }
     ],
     "prompt_number": 23
    },
    {
     "cell_type": "code",
     "collapsed": false,
     "input": [
      "weekday_counts.index = [\"Mon\", \"Tue\", \"Wed\", \"Thu\", \"Fri\", \"Sat\", \"Sun\"]"
     ],
     "language": "python",
     "metadata": {},
     "outputs": [],
     "prompt_number": 24
    },
    {
     "cell_type": "code",
     "collapsed": false,
     "input": [
      "weekday_counts"
     ],
     "language": "python",
     "metadata": {},
     "outputs": [
      {
       "html": [
        "<div style=\"max-height:1000px;max-width:1500px;overflow:auto;\">\n",
        "<table border=\"1\" class=\"dataframe\">\n",
        "  <thead>\n",
        "    <tr style=\"text-align: right;\">\n",
        "      <th></th>\n",
        "      <th>Berri 1</th>\n",
        "    </tr>\n",
        "  </thead>\n",
        "  <tbody>\n",
        "    <tr>\n",
        "      <th>Mon</th>\n",
        "      <td> 134298</td>\n",
        "    </tr>\n",
        "    <tr>\n",
        "      <th>Tue</th>\n",
        "      <td> 135305</td>\n",
        "    </tr>\n",
        "    <tr>\n",
        "      <th>Wed</th>\n",
        "      <td> 152972</td>\n",
        "    </tr>\n",
        "    <tr>\n",
        "      <th>Thu</th>\n",
        "      <td> 160131</td>\n",
        "    </tr>\n",
        "    <tr>\n",
        "      <th>Fri</th>\n",
        "      <td> 141771</td>\n",
        "    </tr>\n",
        "    <tr>\n",
        "      <th>Sat</th>\n",
        "      <td> 101578</td>\n",
        "    </tr>\n",
        "    <tr>\n",
        "      <th>Sun</th>\n",
        "      <td>  99310</td>\n",
        "    </tr>\n",
        "  </tbody>\n",
        "</table>\n",
        "</div>"
       ],
       "metadata": {},
       "output_type": "pyout",
       "prompt_number": 25,
       "text": [
        "     Berri 1\n",
        "Mon   134298\n",
        "Tue   135305\n",
        "Wed   152972\n",
        "Thu   160131\n",
        "Fri   141771\n",
        "Sat   101578\n",
        "Sun    99310"
       ]
      }
     ],
     "prompt_number": 25
    },
    {
     "cell_type": "code",
     "collapsed": false,
     "input": [
      "from IPython.display import YouTubeVideo\n",
      "YouTubeVideo(\"rEalbu8UGeo\")"
     ],
     "language": "python",
     "metadata": {},
     "outputs": [
      {
       "html": [
        "\n",
        "        <iframe\n",
        "            width=\"400\"\n",
        "            height=300\"\n",
        "            src=\"https://www.youtube.com/embed/rEalbu8UGeo\"\n",
        "            frameborder=\"0\"\n",
        "            allowfullscreen\n",
        "        ></iframe>\n",
        "        "
       ],
       "metadata": {},
       "output_type": "pyout",
       "prompt_number": 2,
       "text": [
        "<IPython.lib.display.YouTubeVideo at 0x3992748>"
       ]
      }
     ],
     "prompt_number": 2
    },
    {
     "cell_type": "code",
     "collapsed": false,
     "input": [],
     "language": "python",
     "metadata": {},
     "outputs": []
    }
   ],
   "metadata": {}
  }
 ]
}