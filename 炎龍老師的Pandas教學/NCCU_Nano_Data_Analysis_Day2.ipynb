{
 "metadata": {
  "name": "",
  "signature": "sha256:3bb392691d748e4ff30683eaf60b5755e00474f01369102000ecb69baa2bf405"
 },
 "nbformat": 3,
 "nbformat_minor": 0,
 "worksheets": [
  {
   "cells": [
    {
     "cell_type": "code",
     "collapsed": false,
     "input": [
      "NSYSUGuitar = [\"nailo\",\"hsin\",\"iv\",\"jackbomb\"]"
     ],
     "language": "python",
     "metadata": {},
     "outputs": [],
     "prompt_number": 1
    },
    {
     "cell_type": "code",
     "collapsed": false,
     "input": [
      "NSYSUGuitar[1]"
     ],
     "language": "python",
     "metadata": {},
     "outputs": [
      {
       "metadata": {},
       "output_type": "pyout",
       "prompt_number": 2,
       "text": [
        "'hsin'"
       ]
      }
     ],
     "prompt_number": 2
    },
    {
     "cell_type": "code",
     "collapsed": false,
     "input": [
      "NSYSUGuitar[0:2]"
     ],
     "language": "python",
     "metadata": {},
     "outputs": [
      {
       "metadata": {},
       "output_type": "pyout",
       "prompt_number": 3,
       "text": [
        "['nailo', 'hsin']"
       ]
      }
     ],
     "prompt_number": 3
    },
    {
     "cell_type": "code",
     "collapsed": false,
     "input": [
      "NSYSUGuitar[:-2]"
     ],
     "language": "python",
     "metadata": {},
     "outputs": [
      {
       "metadata": {},
       "output_type": "pyout",
       "prompt_number": 4,
       "text": [
        "['nailo', 'hsin']"
       ]
      }
     ],
     "prompt_number": 4
    },
    {
     "cell_type": "code",
     "collapsed": false,
     "input": [
      "NSYSUGuitar[-3:]"
     ],
     "language": "python",
     "metadata": {},
     "outputs": [
      {
       "metadata": {},
       "output_type": "pyout",
       "prompt_number": 13,
       "text": [
        "['hsin', 'iv', 'jackbomb']"
       ]
      }
     ],
     "prompt_number": 13
    },
    {
     "cell_type": "code",
     "collapsed": false,
     "input": [
      "%pylab inline"
     ],
     "language": "python",
     "metadata": {},
     "outputs": [
      {
       "output_type": "stream",
       "stream": "stdout",
       "text": [
        "Populating the interactive namespace from numpy and matplotlib\n"
       ]
      }
     ],
     "prompt_number": 14
    },
    {
     "cell_type": "code",
     "collapsed": false,
     "input": [
      "L = []"
     ],
     "language": "python",
     "metadata": {},
     "outputs": [],
     "prompt_number": 15
    },
    {
     "cell_type": "code",
     "collapsed": false,
     "input": [
      "L.append(3)"
     ],
     "language": "python",
     "metadata": {},
     "outputs": [],
     "prompt_number": 16
    },
    {
     "cell_type": "code",
     "collapsed": false,
     "input": [
      "L"
     ],
     "language": "python",
     "metadata": {},
     "outputs": [
      {
       "metadata": {},
       "output_type": "pyout",
       "prompt_number": 17,
       "text": [
        "[3]"
       ]
      }
     ],
     "prompt_number": 17
    },
    {
     "cell_type": "code",
     "collapsed": false,
     "input": [
      "L.append(7)"
     ],
     "language": "python",
     "metadata": {},
     "outputs": [],
     "prompt_number": 18
    },
    {
     "cell_type": "code",
     "collapsed": false,
     "input": [
      "L"
     ],
     "language": "python",
     "metadata": {},
     "outputs": [
      {
       "metadata": {},
       "output_type": "pyout",
       "prompt_number": 19,
       "text": [
        "[3, 7]"
       ]
      }
     ],
     "prompt_number": 19
    },
    {
     "cell_type": "code",
     "collapsed": false,
     "input": [
      "L.append(\"dog\")"
     ],
     "language": "python",
     "metadata": {},
     "outputs": [],
     "prompt_number": 20
    },
    {
     "cell_type": "code",
     "collapsed": false,
     "input": [
      "L"
     ],
     "language": "python",
     "metadata": {},
     "outputs": [
      {
       "metadata": {},
       "output_type": "pyout",
       "prompt_number": 21,
       "text": [
        "[3, 7, 'dog']"
       ]
      }
     ],
     "prompt_number": 21
    },
    {
     "cell_type": "code",
     "collapsed": false,
     "input": [
      "L = []\n",
      "for i in range(11):\n",
      "    if i%2==0:\n",
      "        L.append(i)"
     ],
     "language": "python",
     "metadata": {},
     "outputs": [],
     "prompt_number": 24
    },
    {
     "cell_type": "code",
     "collapsed": false,
     "input": [
      "L"
     ],
     "language": "python",
     "metadata": {},
     "outputs": [
      {
       "metadata": {},
       "output_type": "pyout",
       "prompt_number": 25,
       "text": [
        "[0, 2, 4, 6, 8, 10]"
       ]
      }
     ],
     "prompt_number": 25
    },
    {
     "cell_type": "code",
     "collapsed": false,
     "input": [
      "L = []\n",
      "for i in range(6):\n",
      "    L.append(2*i)"
     ],
     "language": "python",
     "metadata": {},
     "outputs": [],
     "prompt_number": 27
    },
    {
     "cell_type": "code",
     "collapsed": false,
     "input": [
      "L"
     ],
     "language": "python",
     "metadata": {},
     "outputs": [
      {
       "metadata": {},
       "output_type": "pyout",
       "prompt_number": 28,
       "text": [
        "[0, 2, 4, 6, 8, 10]"
       ]
      }
     ],
     "prompt_number": 28
    },
    {
     "cell_type": "code",
     "collapsed": false,
     "input": [
      "print L"
     ],
     "language": "python",
     "metadata": {},
     "outputs": [
      {
       "output_type": "stream",
       "stream": "stdout",
       "text": [
        "[0, 2, 4, 6, 8, 10]\n"
       ]
      }
     ],
     "prompt_number": 29
    },
    {
     "cell_type": "code",
     "collapsed": false,
     "input": [
      "S = [2*i for i in range(11)]\n",
      "print S"
     ],
     "language": "python",
     "metadata": {},
     "outputs": [
      {
       "output_type": "stream",
       "stream": "stdout",
       "text": [
        "[0, 2, 4, 6, 8, 10, 12, 14, 16, 18, 20]\n"
       ]
      }
     ],
     "prompt_number": 32
    },
    {
     "cell_type": "code",
     "collapsed": false,
     "input": [
      "S"
     ],
     "language": "python",
     "metadata": {},
     "outputs": [
      {
       "metadata": {},
       "output_type": "pyout",
       "prompt_number": 33,
       "text": [
        "[0, 2, 4, 6, 8, 10, 12, 14, 16, 18, 20]"
       ]
      }
     ],
     "prompt_number": 33
    },
    {
     "cell_type": "code",
     "collapsed": false,
     "input": [
      "st = 'apple'"
     ],
     "language": "python",
     "metadata": {},
     "outputs": [],
     "prompt_number": 34
    },
    {
     "cell_type": "code",
     "collapsed": false,
     "input": [
      "st[2:4]"
     ],
     "language": "python",
     "metadata": {},
     "outputs": [
      {
       "metadata": {},
       "output_type": "pyout",
       "prompt_number": 35,
       "text": [
        "'pl'"
       ]
      }
     ],
     "prompt_number": 35
    },
    {
     "cell_type": "code",
     "collapsed": false,
     "input": [
      "line = 'nailo, 98, 60, 86'"
     ],
     "language": "python",
     "metadata": {},
     "outputs": [],
     "prompt_number": 36
    },
    {
     "cell_type": "code",
     "collapsed": false,
     "input": [
      "line"
     ],
     "language": "python",
     "metadata": {},
     "outputs": [
      {
       "metadata": {},
       "output_type": "pyout",
       "prompt_number": 37,
       "text": [
        "'nailo, 98, 60, 86'"
       ]
      }
     ],
     "prompt_number": 37
    },
    {
     "cell_type": "code",
     "collapsed": false,
     "input": [
      "student = line.split(',')"
     ],
     "language": "python",
     "metadata": {},
     "outputs": [],
     "prompt_number": 44
    },
    {
     "cell_type": "code",
     "collapsed": false,
     "input": [
      "student"
     ],
     "language": "python",
     "metadata": {},
     "outputs": [
      {
       "metadata": {},
       "output_type": "pyout",
       "prompt_number": 45,
       "text": [
        "['nailo', ' 98', ' 60', ' 86']"
       ]
      }
     ],
     "prompt_number": 45
    },
    {
     "cell_type": "code",
     "collapsed": false,
     "input": [
      "L"
     ],
     "language": "python",
     "metadata": {},
     "outputs": [
      {
       "metadata": {},
       "output_type": "pyout",
       "prompt_number": 46,
       "text": [
        "[0, 2, 4, 6, 8, 10]"
       ]
      }
     ],
     "prompt_number": 46
    },
    {
     "cell_type": "code",
     "collapsed": false,
     "input": [
      "record = ','.join(student)"
     ],
     "language": "python",
     "metadata": {},
     "outputs": [],
     "prompt_number": 47
    },
    {
     "cell_type": "code",
     "collapsed": false,
     "input": [
      "record"
     ],
     "language": "python",
     "metadata": {},
     "outputs": [
      {
       "metadata": {},
       "output_type": "pyout",
       "prompt_number": 48,
       "text": [
        "'nailo, 98, 60, 86'"
       ]
      }
     ],
     "prompt_number": 48
    },
    {
     "cell_type": "code",
     "collapsed": false,
     "input": [
      "name = 'nailo'\n",
      "city = 'kaohsiung'"
     ],
     "language": "python",
     "metadata": {},
     "outputs": [],
     "prompt_number": 1
    },
    {
     "cell_type": "code",
     "collapsed": false,
     "input": [
      "print \"I'm %s. I come from %s.\" % (name, city)"
     ],
     "language": "python",
     "metadata": {},
     "outputs": [
      {
       "output_type": "stream",
       "stream": "stdout",
       "text": [
        "I'm nailo. I come from kaohsiung.\n"
       ]
      }
     ],
     "prompt_number": 2
    },
    {
     "cell_type": "markdown",
     "metadata": {},
     "source": [
      "# %d \u6574\u6578, %f \u6d6e\u9ede\u6578, %s \u5b57\u4e32"
     ]
    },
    {
     "cell_type": "code",
     "collapsed": false,
     "input": [
      "name = raw_input(\"your name, please.\")\n",
      "print \"hello, %s!\" % name"
     ],
     "language": "python",
     "metadata": {},
     "outputs": [
      {
       "name": "stdout",
       "output_type": "stream",
       "stream": "stdout",
       "text": [
        "your name, please.nailo\n"
       ]
      },
      {
       "output_type": "stream",
       "stream": "stdout",
       "text": [
        "hello, nailo!\n"
       ]
      }
     ],
     "prompt_number": 3
    },
    {
     "cell_type": "code",
     "collapsed": false,
     "input": [
      "print \"\u6211\u5728%d\u5e74\u524d\uff0c\u5f9e%s\u7562\u696d\u3002\" % (3,\"\u4e2d\u5c71\")"
     ],
     "language": "python",
     "metadata": {},
     "outputs": [
      {
       "output_type": "stream",
       "stream": "stdout",
       "text": [
        "\u6211\u57283\u5e74\u524d\uff0c\u5f9e\u4e2d\u5c71\u7562\u696d\u3002\n"
       ]
      }
     ],
     "prompt_number": 5
    },
    {
     "cell_type": "code",
     "collapsed": false,
     "input": [
      "print \"\u59d3\u540d: %12s\" % \"nailo\"\n",
      "print \"\u5206\u6578: %12.2f\" % 99.45"
     ],
     "language": "python",
     "metadata": {},
     "outputs": [
      {
       "output_type": "stream",
       "stream": "stdout",
       "text": [
        "\u59d3\u540d:        nailo\n",
        "\u5206\u6578:        99.45\n"
       ]
      }
     ],
     "prompt_number": 11
    },
    {
     "cell_type": "code",
     "collapsed": false,
     "input": [
      "message = \"\"\" \u81e3\u4eae\u8a00\uff1a\u5148\u5e1d\u5275\u696d\u672a\u534a\uff0c\u800c\u4e2d\u9053\u5d29\u6b82\u3002\u4eca\u5929\u4e0b\u4e09\u5206\uff0c\u76ca\u5dde\n",
      "\u75b2\u5f0a\uff0c\u6b64\u8aa0\u5371\u6025\u5b58\u4ea1\u4e4b\u79cb\u4e5f\u3002\u7136\u4f8d\u885b\u4e4b\u81e3\uff0c\u4e0d\u61c8\u65bc\u5167\uff1b\u5fe0\u5fd7\u4e4b\n",
      "\u58eb\uff0c\u5fd8\u8eab\u65bc\u5916\u8005\uff0c\u84cb\u8ffd\u5148\u5e1d\u4e4b\u6b8a\u9047\uff0c\u6b32\u5831\u4e4b\u65bc\u965b\u4e0b\u4e5f\u3002\u8aa0\u5b9c\u958b\n",
      "\u5f35\u8056\u807d\uff0c\u4ee5\u5149\u5148\u5e1d\u907a\u5fb7\uff0c\u6062\u5f18\u5fd7\u58eb\u4e4b\u6c23\uff1b\u4e0d\u5b9c\u5984\u81ea\u83f2\u8584\uff0c\u5f15\u55bb\n",
      "\u5931\u7fa9\uff0c\u4ee5\u585e\u5fe0\u8aeb\u4e4b\u8def\u4e5f\u3002\u5bae\u4e2d\u5e9c\u4e2d\uff0c\u4ff1\u70ba\u4e00\u9ad4\uff0c\u965f\u7f70\u81e7\u5426\uff0c\u4e0d\n",
      "\u5b9c\u7570\u540c\u3002\u82e5\u6709\u4f5c\u59e6\u72af\u79d1\uff0c\u53ca\u70ba\u5fe0\u5584\u8005\uff0c\u5b9c\u4ed8\u6709\u53f8\uff0c\u8ad6\u5176\u5211\u8cde\uff0c\n",
      "\u4ee5\u662d\u965b\u4e0b\u5e73\u660e\u4e4b\u6cbb\uff0c\u4e0d\u5b9c\u7bc7\u79c1\uff0c\u4f7f\u5167\u5916\u7570\u6cd5\u4e5f\u3002\n",
      " \n",
      " \u3000\u3000\u4f8d\u4e2d\u3001\u4f8d\u90ce\u90ed\u6538\u4e4b\u3001\u8cbb\u8918\u3001\u8463\u5141\u7b49\uff0c\u6b64\u7686\u826f\u5be6\uff0c\u5fd7\u616e\u5fe0\u7d14\n",
      "\uff0c\u662f\u4ee5\u5148\u5e1d\u7c21\u62d4\u4ee5\u907a\u965b\u4e0b\u3002\u611a\u4ee5\u70ba\u5bae\u4e2d\u4e4b\u4e8b\uff0c\u4e8b\u7121\u5927\u5c0f\uff0c\u6089\u4ee5\n",
      "\u54a8\u4e4b\uff0c\u7136\u5f8c\u65bd\u884c\uff0c\u5fc5\u80fd\u88e8\u88dc\u95d5\u6f0f\uff0c\u6709\u6240\u5ee3\u76ca\u3002\u5c07\u8ecd\u5411\u5bf5\uff0c\u6027\u884c\n",
      "\u6dd1\u5747\uff0c\u66c9\u66a2\u8ecd\u4e8b\uff0c\u8a66\u7528\u65bc\u6614\u65e5\uff0c\u5148\u5e1d\u7a31\u4e4b\u66f0\u300c\u80fd\u300d\uff0c\u662f\u4ee5\u773e\u8b70\n",
      "\u8209\u5bf5\u70ba\u7763\u3002\u611a\u4ee5\u70ba\u71df\u4e2d\u4e4b\u4e8b\uff0c\u6089\u4ee5\u54a8\u4e4b\uff0c\u5fc5\u80fd\u4f7f\u884c\u9663\u548c\u7766\uff0c\u512a\n",
      "\u52a3\u5f97\u6240\u3002\u89aa\u8ce2\u81e3\uff0c\u9060\u5c0f\u4eba\uff0c\u6b64\u5148\u6f22\u6240\u4ee5\u8208\u9686\u4e5f\uff1b\u89aa\u5c0f\u4eba\uff0c\u9060\u8ce2\n",
      "\u81e3\uff0c\u6b64\u5f8c\u6f22\u6240\u4ee5\u50be\u9839\u4e5f\u3002\u5148\u5e1d\u5728\u6642\uff0c\u6bcf\u8207\u81e3\u8ad6\u6b64\u4e8b\uff0c\u672a\u5617\u4e0d\u6b4e\n",
      "\u606f\u75db\u6068\u65bc\u6853\u3001\u9748\u4e5f\u3002\u4f8d\u4e2d\u3001\u5c1a\u66f8\u3001\u9577\u53f2\uff1b\u53c3\u8ecd\uff0c\u6b64\u6089\u8c9e\u826f\u6b7b\u7bc0\n",
      "\u4e4b\u81e3\u4e5f\uff0c\u9858\u965b\u4e0b\u89aa\u4e4b\u4fe1\u4e4b\uff0c\u5247\u6f22\u5ba4\u4e4b\u9686\uff0c\u53ef\u8a08\u65e5\u800c\u5f85\u4e5f\u3002\n",
      " \n",
      " \u3000\u3000\u81e3\u672c\u5e03\u8863\uff0c\u8eac\u8015\u65bc\u5357\u967d\uff0c\u82df\u5168\u6027\u547d\u65bc\u4e82\u4e16\uff0c\u4e0d\u6c42\u805e\u9054\u65bc\u8af8\n",
      "\u4faf\u3002\u5148\u5e1d\u4e0d\u4ee5\u81e3\u5351\u9119\uff0c\u7325\u81ea\u6789\u5c48\uff0c\u4e09\u9867\u81e3\u65bc\u8349\u5eec\u4e4b\u4e2d\uff0c\u8aee\u81e3\u4ee5\n",
      "\u7576\u4e16\u4e4b\u4e8b\uff0c\u7531\u662f\u611f\u6fc0\uff0c\u9042\u8a31\u5148\u5e1d\u4ee5\u9a45\u99b3\u3002\u5f8c\u503c\u50be\u8986\uff0c\u53d7\u4efb\u65bc\u6557\n",
      "\u8ecd\u4e4b\u969b\uff0c\u5949\u547d\u65bc\u5371\u96e3\u4e4b\u9593\uff0c\u723e\u4f86\u4e8c\u5341\u6709\u4e00\u5e74\u77e3\uff01\u5148\u5e1d\u77e5\u81e3\u8b39\u614e\n",
      "\uff0c\u6545\u81e8\u5d29\u5bc4\u81e3\u4ee5\u5927\u4e8b\u4e5f\u3002\u53d7\u547d\u4ee5\u4f86\uff0c\u5919\u591c\u6182\u52e4\uff0c\u6050\u8a17\u4ed8\u4e0d\u6548\uff0c\n",
      "\u4ee5\u50b7\u5148\u5e1d\u4e4b\u660e\u3002\u6545\u4e94\u6708\u6e21\u7018\uff0c\u6df1\u5165\u4e0d\u6bdb\u3002\u4eca\u5357\u65b9\u5df2\u5b9a\uff0c\u5175\u7532\u5df2\n",
      "\u8db3\uff0c\u7576\u734e\u7387\u4e09\u8ecd\uff0c\u5317\u5b9a\u4e2d\u539f\uff0c\u5eb6\u7aed\u99d1\u920d\uff0c\u6518\u9664\u5978\u51f6\uff0c\u8208\u5fa9\u6f22\u5ba4\n",
      "\uff0c\u9084\u65bc\u820a\u90fd\uff1b\u6b64\u81e3\u6240\u4ee5\u5831\u5148\u5e1d\u800c\u5fe0\u965b\u4e0b\u4e4b\u8077\u5206\u4e5f\u3002\u81f3\u65bc\u659f\u914c\u640d\n",
      "\u76ca\uff0c\u9032\u76e1\u5fe0\u8a00\uff0c\u5247\u6538\u4e4b\u3001\u8918\u3001\u5141\u4e4b\u4efb\u4e5f\u3002\n",
      "\u3000\n",
      "      \u9858\u965b\u4e0b\u8a17\u81e3\u4ee5\u8a0e\u8cca\u8208\u5fa9\u4e4b\u6548\uff1b\u4e0d\u6548\uff0c\u5247\u6cbb\u81e3\u4e4b\u7f6a\uff0c\u4ee5\u544a\u5148\n",
      "\u5e1d\u4e4b\u9748\u3002\u82e5\u7121\u8208\u5fb7\u4e4b\u8a00\uff0c\u5247\u622e\u5141\u7b49\uff0c\u4ee5\u5f70\u5176\u6162\u3002\u965b\u4e0b\u4ea6\u5b9c\u81ea\u8ab2\uff0c\n",
      "\u4ee5\u8aee\u8acf\u5584\u9053\uff0c\u5bdf\u7d0d\u96c5\u8a00\uff0c\u6df1\u8ffd\u5148\u5e1d\u907a\u8a54\uff0c\u81e3\u4e0d\u52dd\u53d7\u6069\u611f\u6fc0\u3002\n",
      "      \u4eca\u7576\u9060\u96e2\uff0c\u81e8\u8868\u6d95\u6ce3\uff0c\u4e0d\u77e5\u6240\u4e91\u3002\"\"\""
     ],
     "language": "python",
     "metadata": {},
     "outputs": [],
     "prompt_number": 12
    },
    {
     "cell_type": "code",
     "collapsed": false,
     "input": [
      "print message"
     ],
     "language": "python",
     "metadata": {},
     "outputs": [
      {
       "output_type": "stream",
       "stream": "stdout",
       "text": [
        " \u81e3\u4eae\u8a00\uff1a\u5148\u5e1d\u5275\u696d\u672a\u534a\uff0c\u800c\u4e2d\u9053\u5d29\u6b82\u3002\u4eca\u5929\u4e0b\u4e09\u5206\uff0c\u76ca\u5dde\n",
        "\u75b2\u5f0a\uff0c\u6b64\u8aa0\u5371\u6025\u5b58\u4ea1\u4e4b\u79cb\u4e5f\u3002\u7136\u4f8d\u885b\u4e4b\u81e3\uff0c\u4e0d\u61c8\u65bc\u5167\uff1b\u5fe0\u5fd7\u4e4b\n",
        "\u58eb\uff0c\u5fd8\u8eab\u65bc\u5916\u8005\uff0c\u84cb\u8ffd\u5148\u5e1d\u4e4b\u6b8a\u9047\uff0c\u6b32\u5831\u4e4b\u65bc\u965b\u4e0b\u4e5f\u3002\u8aa0\u5b9c\u958b\n",
        "\u5f35\u8056\u807d\uff0c\u4ee5\u5149\u5148\u5e1d\u907a\u5fb7\uff0c\u6062\u5f18\u5fd7\u58eb\u4e4b\u6c23\uff1b\u4e0d\u5b9c\u5984\u81ea\u83f2\u8584\uff0c\u5f15\u55bb\n",
        "\u5931\u7fa9\uff0c\u4ee5\u585e\u5fe0\u8aeb\u4e4b\u8def\u4e5f\u3002\u5bae\u4e2d\u5e9c\u4e2d\uff0c\u4ff1\u70ba\u4e00\u9ad4\uff0c\u965f\u7f70\u81e7\u5426\uff0c\u4e0d\n",
        "\u5b9c\u7570\u540c\u3002\u82e5\u6709\u4f5c\u59e6\u72af\u79d1\uff0c\u53ca\u70ba\u5fe0\u5584\u8005\uff0c\u5b9c\u4ed8\u6709\u53f8\uff0c\u8ad6\u5176\u5211\u8cde\uff0c\n",
        "\u4ee5\u662d\u965b\u4e0b\u5e73\u660e\u4e4b\u6cbb\uff0c\u4e0d\u5b9c\u7bc7\u79c1\uff0c\u4f7f\u5167\u5916\u7570\u6cd5\u4e5f\u3002\n",
        " \n",
        " \u3000\u3000\u4f8d\u4e2d\u3001\u4f8d\u90ce\u90ed\u6538\u4e4b\u3001\u8cbb\u8918\u3001\u8463\u5141\u7b49\uff0c\u6b64\u7686\u826f\u5be6\uff0c\u5fd7\u616e\u5fe0\u7d14\n",
        "\uff0c\u662f\u4ee5\u5148\u5e1d\u7c21\u62d4\u4ee5\u907a\u965b\u4e0b\u3002\u611a\u4ee5\u70ba\u5bae\u4e2d\u4e4b\u4e8b\uff0c\u4e8b\u7121\u5927\u5c0f\uff0c\u6089\u4ee5\n",
        "\u54a8\u4e4b\uff0c\u7136\u5f8c\u65bd\u884c\uff0c\u5fc5\u80fd\u88e8\u88dc\u95d5\u6f0f\uff0c\u6709\u6240\u5ee3\u76ca\u3002\u5c07\u8ecd\u5411\u5bf5\uff0c\u6027\u884c\n",
        "\u6dd1\u5747\uff0c\u66c9\u66a2\u8ecd\u4e8b\uff0c\u8a66\u7528\u65bc\u6614\u65e5\uff0c\u5148\u5e1d\u7a31\u4e4b\u66f0\u300c\u80fd\u300d\uff0c\u662f\u4ee5\u773e\u8b70\n",
        "\u8209\u5bf5\u70ba\u7763\u3002\u611a\u4ee5\u70ba\u71df\u4e2d\u4e4b\u4e8b\uff0c\u6089\u4ee5\u54a8\u4e4b\uff0c\u5fc5\u80fd\u4f7f\u884c\u9663\u548c\u7766\uff0c\u512a\n",
        "\u52a3\u5f97\u6240\u3002\u89aa\u8ce2\u81e3\uff0c\u9060\u5c0f\u4eba\uff0c\u6b64\u5148\u6f22\u6240\u4ee5\u8208\u9686\u4e5f\uff1b\u89aa\u5c0f\u4eba\uff0c\u9060\u8ce2\n",
        "\u81e3\uff0c\u6b64\u5f8c\u6f22\u6240\u4ee5\u50be\u9839\u4e5f\u3002\u5148\u5e1d\u5728\u6642\uff0c\u6bcf\u8207\u81e3\u8ad6\u6b64\u4e8b\uff0c\u672a\u5617\u4e0d\u6b4e\n",
        "\u606f\u75db\u6068\u65bc\u6853\u3001\u9748\u4e5f\u3002\u4f8d\u4e2d\u3001\u5c1a\u66f8\u3001\u9577\u53f2\uff1b\u53c3\u8ecd\uff0c\u6b64\u6089\u8c9e\u826f\u6b7b\u7bc0\n",
        "\u4e4b\u81e3\u4e5f\uff0c\u9858\u965b\u4e0b\u89aa\u4e4b\u4fe1\u4e4b\uff0c\u5247\u6f22\u5ba4\u4e4b\u9686\uff0c\u53ef\u8a08\u65e5\u800c\u5f85\u4e5f\u3002\n",
        " \n",
        " \u3000\u3000\u81e3\u672c\u5e03\u8863\uff0c\u8eac\u8015\u65bc\u5357\u967d\uff0c\u82df\u5168\u6027\u547d\u65bc\u4e82\u4e16\uff0c\u4e0d\u6c42\u805e\u9054\u65bc\u8af8\n",
        "\u4faf\u3002\u5148\u5e1d\u4e0d\u4ee5\u81e3\u5351\u9119\uff0c\u7325\u81ea\u6789\u5c48\uff0c\u4e09\u9867\u81e3\u65bc\u8349\u5eec\u4e4b\u4e2d\uff0c\u8aee\u81e3\u4ee5\n",
        "\u7576\u4e16\u4e4b\u4e8b\uff0c\u7531\u662f\u611f\u6fc0\uff0c\u9042\u8a31\u5148\u5e1d\u4ee5\u9a45\u99b3\u3002\u5f8c\u503c\u50be\u8986\uff0c\u53d7\u4efb\u65bc\u6557\n",
        "\u8ecd\u4e4b\u969b\uff0c\u5949\u547d\u65bc\u5371\u96e3\u4e4b\u9593\uff0c\u723e\u4f86\u4e8c\u5341\u6709\u4e00\u5e74\u77e3\uff01\u5148\u5e1d\u77e5\u81e3\u8b39\u614e\n",
        "\uff0c\u6545\u81e8\u5d29\u5bc4\u81e3\u4ee5\u5927\u4e8b\u4e5f\u3002\u53d7\u547d\u4ee5\u4f86\uff0c\u5919\u591c\u6182\u52e4\uff0c\u6050\u8a17\u4ed8\u4e0d\u6548\uff0c\n",
        "\u4ee5\u50b7\u5148\u5e1d\u4e4b\u660e\u3002\u6545\u4e94\u6708\u6e21\u7018\uff0c\u6df1\u5165\u4e0d\u6bdb\u3002\u4eca\u5357\u65b9\u5df2\u5b9a\uff0c\u5175\u7532\u5df2\n",
        "\u8db3\uff0c\u7576\u734e\u7387\u4e09\u8ecd\uff0c\u5317\u5b9a\u4e2d\u539f\uff0c\u5eb6\u7aed\u99d1\u920d\uff0c\u6518\u9664\u5978\u51f6\uff0c\u8208\u5fa9\u6f22\u5ba4\n",
        "\uff0c\u9084\u65bc\u820a\u90fd\uff1b\u6b64\u81e3\u6240\u4ee5\u5831\u5148\u5e1d\u800c\u5fe0\u965b\u4e0b\u4e4b\u8077\u5206\u4e5f\u3002\u81f3\u65bc\u659f\u914c\u640d\n",
        "\u76ca\uff0c\u9032\u76e1\u5fe0\u8a00\uff0c\u5247\u6538\u4e4b\u3001\u8918\u3001\u5141\u4e4b\u4efb\u4e5f\u3002\n",
        "\u3000\n",
        "      \u9858\u965b\u4e0b\u8a17\u81e3\u4ee5\u8a0e\u8cca\u8208\u5fa9\u4e4b\u6548\uff1b\u4e0d\u6548\uff0c\u5247\u6cbb\u81e3\u4e4b\u7f6a\uff0c\u4ee5\u544a\u5148\n",
        "\u5e1d\u4e4b\u9748\u3002\u82e5\u7121\u8208\u5fb7\u4e4b\u8a00\uff0c\u5247\u622e\u5141\u7b49\uff0c\u4ee5\u5f70\u5176\u6162\u3002\u965b\u4e0b\u4ea6\u5b9c\u81ea\u8ab2\uff0c\n",
        "\u4ee5\u8aee\u8acf\u5584\u9053\uff0c\u5bdf\u7d0d\u96c5\u8a00\uff0c\u6df1\u8ffd\u5148\u5e1d\u907a\u8a54\uff0c\u81e3\u4e0d\u52dd\u53d7\u6069\u611f\u6fc0\u3002\n",
        "      \u4eca\u7576\u9060\u96e2\uff0c\u81e8\u8868\u6d95\u6ce3\uff0c\u4e0d\u77e5\u6240\u4e91\u3002\n"
       ]
      }
     ],
     "prompt_number": 13
    },
    {
     "cell_type": "code",
     "collapsed": false,
     "input": [
      "pwd"
     ],
     "language": "python",
     "metadata": {},
     "outputs": [
      {
       "metadata": {},
       "output_type": "pyout",
       "prompt_number": 14,
       "text": [
        "u'C:\\\\Users\\\\XP\\\\Documents\\\\IPython Notebooks'"
       ]
      }
     ],
     "prompt_number": 14
    },
    {
     "cell_type": "code",
     "collapsed": false,
     "input": [
      "f = open('grades.csv','r')"
     ],
     "language": "python",
     "metadata": {},
     "outputs": [],
     "prompt_number": 15
    },
    {
     "cell_type": "code",
     "collapsed": false,
     "input": [
      "rawdata = f.readlines()"
     ],
     "language": "python",
     "metadata": {},
     "outputs": [],
     "prompt_number": 16
    },
    {
     "cell_type": "code",
     "collapsed": false,
     "input": [
      "f.close()"
     ],
     "language": "python",
     "metadata": {},
     "outputs": [],
     "prompt_number": 17
    },
    {
     "cell_type": "code",
     "collapsed": false,
     "input": [
      "rawdata"
     ],
     "language": "python",
     "metadata": {},
     "outputs": [
      {
       "metadata": {},
       "output_type": "pyout",
       "prompt_number": 18,
       "text": [
        "['\\xe5\\xa7\\x93\\xe5\\x90\\x8d,\\xe5\\x9c\\x8b\\xe6\\x96\\x87,\\xe8\\x8b\\xb1\\xe6\\x96\\x87,\\xe6\\x95\\xb8\\xe5\\xad\\xb8,\\xe8\\x87\\xaa\\xe7\\x84\\xb6,\\xe7\\xa4\\xbe\\xe6\\x9c\\x83\\n',\n",
        " '\\xe5\\x8a\\x89\\xe4\\xbf\\x8a\\xe5\\xae\\x89,9,10,15,10,13\\n',\n",
        " '\\xe8\\x83\\xa1\\xe7\\x8e\\x89\\xe8\\x8f\\xaf,10,10,10,8,9\\n',\n",
        " '\\xe9\\xbb\\x83\\xe6\\xb7\\x91\\xe5\\xa9\\xb7,13,15,8,11,14\\n',\n",
        " '\\xe9\\x99\\xb3\\xe4\\xb8\\x8a\\xe7\\xb4\\xab,10,10,8,9,14\\n',\n",
        " '\\xe5\\xb4\\x94\\xe9\\x9d\\x9c\\xe6\\x88\\x90,13,12,14,12,13\\n',\n",
        " '\\xe5\\xbc\\xb5\\xe9\\x9b\\x85\\xe5\\xb2\\xb3,13,12,12,12,8\\n',\n",
        " '\\xe6\\xa2\\x81\\xe4\\xbf\\x8a\\xe7\\xbf\\x94,11,13,10,10,14\\n',\n",
        " '\\xe6\\x9e\\x97\\xe9\\x87\\x91\\xe9\\xb3\\xb3,8,9,10,10,8\\n',\n",
        " '\\xe8\\xa8\\xb1\\xe5\\x8d\\x94\\xe6\\x97\\xba,9,9,12,10,10\\n',\n",
        " '\\xe9\\x83\\xad\\xe9\\x9b\\x85\\xe6\\x83\\xa0,10,15,12,11,9\\n',\n",
        " '\\xe5\\xbc\\xb5\\xe5\\xbf\\x97\\xe5\\x81\\x89,14,9,8,10,12\\n',\n",
        " '\\xe5\\x91\\xa8\\xe7\\x9a\\x87\\xe6\\xa8\\xba,13,9,13,14,15\\n',\n",
        " '\\xe6\\x9d\\x8e\\xe6\\xad\\xa3\\xe5\\x81\\x89,11,15,11,14,15\\n',\n",
        " '\\xe9\\xbb\\x83\\xe6\\x97\\xad\\xe5\\xbf\\xa0,15,14,9,12,10\\n',\n",
        " '\\xe8\\x91\\x89\\xe9\\x9b\\x85\\xe7\\x90\\xb3,8,13,10,13,14\\n',\n",
        " '\\xe9\\xbb\\x83\\xe6\\xb7\\x91\\xe6\\x85\\xa7,11,8,10,12,15\\n',\n",
        " '\\xe5\\x90\\xb3\\xe8\\x8a\\x9d\\xe8\\x8f\\x81,14,9,11,10,9\\n',\n",
        " '\\xe8\\x81\\xb6\\xe7\\x8f\\xae\\xe5\\x90\\x9b,12,11,13,12,9\\n',\n",
        " '\\xe6\\xa2\\x81\\xe6\\x85\\xa7\\xe5\\x90\\x9b,9,8,8,8,12\\n',\n",
        " '\\xe8\\x91\\x89\\xe6\\x9b\\x89\\xe7\\x8e\\xb2,14,9,11,15,9\\n',\n",
        " '\\xe9\\x99\\xb3\\xe6\\x99\\xba\\xe8\\xb6\\x85,13,9,13,14,13\\n',\n",
        " '\\xe9\\xbb\\x83\\xe5\\xa5\\x95\\xe9\\x9c\\x9e,9,8,11,13,8\\n',\n",
        " '\\xe6\\xb2\\x88\\xe6\\x98\\x86\\xe7\\xb4\\x94,12,14,10,9,9\\n',\n",
        " '\\xe8\\xa8\\xb1\\xe6\\x83\\xa0\\xe9\\x9b\\xaf,10,13,12,14,10\\n',\n",
        " '\\xe9\\x99\\xb3\\xe7\\xab\\xb9\\xe4\\xbc\\xaf,10,12,15,10,14\\n',\n",
        " '\\xe8\\x94\\xa1\\xe4\\xba\\xa6\\xe7\\x91\\x84,13,13,14,13,12\\n',\n",
        " '\\xe6\\x88\\xb4\\xe5\\x96\\x9c\\xe5\\xaf\\xb6,13,11,9,14,9\\n',\n",
        " '\\xe9\\xa6\\xae\\xe7\\x99\\xbd\\xe5\\xb1\\x8f,8,13,14,8,10\\n',\n",
        " '\\xe7\\x8e\\x8b\\xe9\\x87\\x91\\xe9\\xb3\\xb3,15,14,8,12,8\\n',\n",
        " '\\xe9\\x97\\x95\\xe9\\x80\\xb2\\xe7\\xb6\\xa0,14,11,13,8,11\\n',\n",
        " '\\xe9\\x80\\xa3\\xe7\\x91\\x8b\\xe7\\x8e\\xb2,8,10,14,8,13\\n',\n",
        " '\\xe6\\x9e\\x97\\xe7\\xa7\\x80\\xe5\\xa8\\x9f,15,12,9,9,15\\n',\n",
        " '\\xe6\\x9e\\x97\\xe5\\xbb\\xba\\xe4\\xba\\xa8,9,11,8,8,11\\n',\n",
        " '\\xe7\\x8e\\x8b\\xe4\\xbd\\xb3\\xe8\\x93\\x89,14,15,9,9,8\\n',\n",
        " '\\xe6\\x9b\\xbe\\xe6\\xb7\\x91\\xe7\\x8e\\x9f,13,12,10,11,9\\n',\n",
        " '\\xe7\\x9b\\xa7\\xe5\\x86\\xa0\\xe5\\xae\\x8f,14,11,10,11,11\\n',\n",
        " '\\xe8\\xa9\\xb9\\xe5\\xa8\\x81\\xe5\\xbe\\xb7,12,13,15,10,14\\n',\n",
        " '\\xe6\\x9b\\xbe\\xe6\\x80\\xa1\\xe5\\x90\\x9b,11,12,15,13,14\\n',\n",
        " '\\xe5\\x90\\xb3\\xe6\\x96\\x87\\xe4\\xbc\\xaf,8,8,8,15,12\\n',\n",
        " '\\xe6\\xae\\xb5\\xe5\\x86\\xa0\\xe5\\xbb\\xb7,9,8,15,12,15\\n',\n",
        " '\\xe5\\x90\\xb3\\xe6\\xac\\xa3\\xe5\\xbc\\xb7,12,13,8,11,9\\n',\n",
        " '\\xe6\\x9b\\xb2\\xe7\\xa7\\x80\\xe8\\x8a\\xac,14,14,8,9,15\\n',\n",
        " '\\xe8\\xb6\\x99\\xe6\\x81\\xad\\xe7\\xbe\\xa4,14,12,10,9,15\\n',\n",
        " '\\xe6\\x9e\\x97\\xe5\\xa3\\xab\\xe8\\x8c\\x9c,12,15,9,9,13\\n',\n",
        " '\\xe7\\xab\\xa5\\xe5\\xbf\\x83\\xe6\\x80\\xa1,13,13,14,8,13\\n',\n",
        " '\\xe8\\xac\\x9d\\xe4\\xba\\xae\\xe5\\xa4\\xab,9,8,14,11,9\\n',\n",
        " '\\xe6\\x9f\\xb3\\xe8\\x8f\\x81\\xe8\\x98\\xad,14,12,10,8,14\\n',\n",
        " '\\xe8\\x91\\x89\\xe5\\xad\\x90\\xe8\\xb1\\xaa,8,9,13,13,15\\n',\n",
        " '\\xe9\\x99\\xb3\\xe6\\x80\\xa1\\xe5\\xa9\\xb7,15,14,12,9,15\\n',\n",
        " '\\xe6\\x9c\\xb1\\xe5\\xaf\\xb6\\xe5\\x8e\\x9f,10,14,11,10,15\\n',\n",
        " '\\xe9\\xa6\\xae\\xe4\\xbc\\xb6\\xe7\\x91\\x8b,12,12,14,8,11\\n',\n",
        " '\\xe5\\x8a\\x89\\xe5\\xbd\\xa5\\xe6\\x96\\x8c,14,11,11,12,13\\n',\n",
        " '\\xe9\\xbb\\x83\\xe6\\x85\\xa7\\xe7\\xb6\\xb8,12,9,13,14,9\\n',\n",
        " '\\xe9\\xa7\\xb1\\xe7\\xa9\\x8e\\xe7\\x90\\xa6,14,10,11,9,15\\n',\n",
        " '\\xe9\\x99\\xb3\\xe6\\x80\\xa1\\xe6\\xbd\\x94,15,15,9,15,11\\n',\n",
        " '\\xe6\\x9e\\x97\\xe6\\x84\\x8f\\xe7\\x8f\\x8d,9,15,11,13,9\\n',\n",
        " '\\xe9\\x99\\xb3\\xe4\\xba\\xad\\xe5\\xa6\\x8f,11,14,11,12,10\\n',\n",
        " '\\xe8\\x83\\xa1\\xe6\\xb7\\xb3\\xe8\\x8c\\x9c,12,15,14,13,11\\n',\n",
        " '\\xe9\\x99\\xb3\\xe5\\x85\\x81\\xe5\\x87\\x8c,10,13,9,11,14\\n',\n",
        " '\\xe8\\x8a\\xae\\xe7\\xa7\\x8b\\xe8\\xbe\\x9b,11,10,15,10,8\\n',\n",
        " '\\xe6\\x9b\\xbe\\xe6\\x98\\x87\\xe5\\x96\\xac,14,12,11,8,15\\n',\n",
        " '\\xe5\\x91\\xa8\\xe7\\xad\\xa0\\xe8\\x8f\\x81,14,8,8,11,12\\n',\n",
        " '\\xe8\\xa8\\xb1\\xe7\\xab\\x8b\\xe5\\x81\\x89,8,10,10,15,9\\n',\n",
        " '\\xe5\\xbc\\xb5\\xe5\\xb1\\xb1\\xe7\\x90\\x87,12,11,9,9,15\\n',\n",
        " '\\xe4\\xbf\\x9e\\xe5\\xbf\\x97\\xe5\\xb3\\xb0,9,14,13,14,15\\n',\n",
        " '\\xe8\\xac\\x9d\\xe9\\x9b\\x85\\xe7\\x90\\xb3,13,14,13,12,9\\n',\n",
        " '\\xe9\\x82\\xb1\\xe7\\x9b\\x88\\xe4\\xbf\\x8a,10,14,14,13,8\\n',\n",
        " '\\xe6\\x9e\\x97\\xe5\\x93\\xb2\\xe6\\xb3\\x95,14,9,15,10,14\\n',\n",
        " '\\xe5\\x8a\\x89\\xe9\\xba\\x97\\xe8\\x8a\\xac,8,14,14,14,14\\n',\n",
        " '\\xe8\\x94\\xa3\\xe5\\xa5\\x95\\xe4\\xbb\\xbb,12,12,10,13,8\\n',\n",
        " '\\xe8\\x91\\x89\\xe5\\x84\\x80\\xe4\\xbe\\x9d,9,13,15,8,14\\n',\n",
        " '\\xe8\\x91\\x89\\xe5\\xbf\\x85\\xe7\\x9b\\x88,9,8,13,9,12\\n',\n",
        " '\\xe9\\x99\\xb3\\xe6\\xac\\xa3\\xe7\\x8e\\xb2,10,9,13,8,10\\n',\n",
        " '\\xe5\\x90\\xb3\\xe5\\xbf\\x97\\xe9\\x81\\xa0,13,15,15,8,8\\n',\n",
        " '\\xe5\\x8a\\x89\\xe9\\x9b\\x85\\xe5\\x8f\\x8b,14,9,10,14,11\\n',\n",
        " '\\xe5\\xae\\x8b\\xe7\\xbe\\x8e\\xe7\\x8f\\xa0,13,8,9,10,11\\n',\n",
        " '\\xe5\\x91\\xa8\\xe8\\x82\\xb2\\xe9\\x9c\\x96,9,12,15,13,12\\n',\n",
        " '\\xe9\\xbb\\x83\\xe4\\xbb\\x8b\\xe5\\x96\\xac,13,10,11,8,13\\n',\n",
        " '\\xe8\\x91\\x89\\xe5\\xad\\x9f\\xe5\\x90\\x8d,12,13,13,9,11\\n',\n",
        " '\\xe5\\xae\\xa3\\xe5\\xae\\xa3\\xe5\\xa3\\xab,9,10,12,15,13\\n',\n",
        " '\\xe6\\x96\\xbd\\xe9\\x9b\\x85\\xe9\\x88\\xb4,13,15,12,13,13\\n',\n",
        " '\\xe6\\xa5\\x8a\\xe5\\xbd\\xa5\\xe4\\xbc\\xb6,11,8,13,9,15\\n',\n",
        " '\\xe8\\x95\\xad\\xe5\\x91\\x88\\xe8\\x90\\x8d,11,14,9,15,9\\n',\n",
        " '\\xe6\\x9d\\x8e\\xe5\\xa3\\xab\\xe8\\xb3\\xa2,10,14,15,13,13\\n',\n",
        " '\\xe8\\x83\\xa1\\xe5\\x87\\xb1\\xe7\\x90\\xb3,10,8,9,9,15\\n',\n",
        " '\\xe5\\xbc\\xb5\\xe9\\x9b\\x85\\xe5\\xbd\\xac,10,11,15,12,8\\n',\n",
        " '\\xe6\\x9e\\x97\\xe8\\xb2\\x9e\\xe5\\x84\\x80,11,10,14,8,13\\n',\n",
        " '\\xe8\\xb6\\x99\\xe5\\x81\\x89\\xe5\\xb8\\x8c,10,13,14,13,15\\n',\n",
        " '\\xe6\\x88\\xb4\\xe9\\x9d\\x92\\xe8\\x8b\\xb1,11,8,14,12,10\\n',\n",
        " '\\xe9\\x83\\xad\\xe9\\xa0\\x86\\xe8\\xaa\\xa0,13,13,10,14,9\\n',\n",
        " '\\xe8\\x83\\xa1\\xe5\\x8b\\x9d\\xe5\\x82\\x91,8,11,15,10,15\\n',\n",
        " '\\xe9\\x99\\xb3\\xe7\\x99\\xbb\\xe7\\xbf\\xb0,14,11,11,13,12\\n',\n",
        " '\\xe8\\x94\\xa1\\xe6\\xb7\\x91\\xe5\\xad\\x9d,8,12,14,12,11\\n',\n",
        " '\\xe6\\x9d\\x8e\\xe6\\x9b\\xbc\\xe5\\xa4\\xa2,11,9,11,8,8\\n',\n",
        " '\\xe6\\x9e\\x97\\xe8\\x88\\x87\\xe5\\xbf\\xa0,10,9,10,11,15\\n',\n",
        " '\\xe8\\x94\\xa1\\xe4\\xbd\\xb3\\xe7\\x87\\x95,9,10,9,13,14\\n',\n",
        " '\\xe5\\x90\\xb3\\xe7\\xad\\xb1\\xe5\\xa9\\xb7,8,10,14,10,15\\n',\n",
        " '\\xe9\\x99\\xb3\\xe5\\xae\\xb6\\xe9\\x8a\\x98,14,9,11,8,12\\n',\n",
        " '\\xe6\\x9d\\x8e\\xe6\\x98\\x8e\\xe5\\xa8\\x81,15,9,8,9,15\\n',\n",
        " '\\xe8\\xbe\\xb2\\xe6\\x8f\\x9a\\xe5\\x8b\\x87,9,11,12,12,10\\n']"
       ]
      }
     ],
     "prompt_number": 18
    },
    {
     "cell_type": "code",
     "collapsed": false,
     "input": [
      "st1 = rawdata[37]"
     ],
     "language": "python",
     "metadata": {},
     "outputs": [],
     "prompt_number": 19
    },
    {
     "cell_type": "code",
     "collapsed": false,
     "input": [
      "st1"
     ],
     "language": "python",
     "metadata": {},
     "outputs": [
      {
       "metadata": {},
       "output_type": "pyout",
       "prompt_number": 20,
       "text": [
        "'\\xe8\\xa9\\xb9\\xe5\\xa8\\x81\\xe5\\xbe\\xb7,12,13,15,10,14\\n'"
       ]
      }
     ],
     "prompt_number": 20
    },
    {
     "cell_type": "code",
     "collapsed": false,
     "input": [
      "print st1"
     ],
     "language": "python",
     "metadata": {},
     "outputs": [
      {
       "output_type": "stream",
       "stream": "stdout",
       "text": [
        "\u8a79\u5a01\u5fb7,12,13,15,10,14\n",
        "\n"
       ]
      }
     ],
     "prompt_number": 21
    },
    {
     "cell_type": "code",
     "collapsed": false,
     "input": [
      "for student in rawdata:\n",
      "    print student.rstrip('\\n')"
     ],
     "language": "python",
     "metadata": {},
     "outputs": [
      {
       "output_type": "stream",
       "stream": "stdout",
       "text": [
        "\u59d3\u540d,\u570b\u6587,\u82f1\u6587,\u6578\u5b78,\u81ea\u7136,\u793e\u6703\n",
        "\u5289\u4fca\u5b89,9,10,15,10,13\n",
        "\u80e1\u7389\u83ef,10,10,10,8,9\n",
        "\u9ec3\u6dd1\u5a77,13,15,8,11,14\n",
        "\u9673\u4e0a\u7d2b,10,10,8,9,14\n",
        "\u5d14\u975c\u6210,13,12,14,12,13\n",
        "\u5f35\u96c5\u5cb3,13,12,12,12,8\n",
        "\u6881\u4fca\u7fd4,11,13,10,10,14\n",
        "\u6797\u91d1\u9cf3,8,9,10,10,8\n",
        "\u8a31\u5354\u65fa,9,9,12,10,10\n",
        "\u90ed\u96c5\u60e0,10,15,12,11,9\n",
        "\u5f35\u5fd7\u5049,14,9,8,10,12\n",
        "\u5468\u7687\u6a3a,13,9,13,14,15\n",
        "\u674e\u6b63\u5049,11,15,11,14,15\n",
        "\u9ec3\u65ed\u5fe0,15,14,9,12,10\n",
        "\u8449\u96c5\u7433,8,13,10,13,14\n",
        "\u9ec3\u6dd1\u6167,11,8,10,12,15\n",
        "\u5433\u829d\u83c1,14,9,11,10,9\n",
        "\u8076\u73ee\u541b,12,11,13,12,9\n",
        "\u6881\u6167\u541b,9,8,8,8,12\n",
        "\u8449\u66c9\u73b2,14,9,11,15,9\n",
        "\u9673\u667a\u8d85,13,9,13,14,13\n",
        "\u9ec3\u5955\u971e,9,8,11,13,8\n",
        "\u6c88\u6606\u7d14,12,14,10,9,9\n",
        "\u8a31\u60e0\u96ef,10,13,12,14,10\n",
        "\u9673\u7af9\u4f2f,10,12,15,10,14\n",
        "\u8521\u4ea6\u7444,13,13,14,13,12\n",
        "\u6234\u559c\u5bf6,13,11,9,14,9\n",
        "\u99ae\u767d\u5c4f,8,13,14,8,10\n",
        "\u738b\u91d1\u9cf3,15,14,8,12,8\n",
        "\u95d5\u9032\u7da0,14,11,13,8,11\n",
        "\u9023\u744b\u73b2,8,10,14,8,13\n",
        "\u6797\u79c0\u5a1f,15,12,9,9,15\n",
        "\u6797\u5efa\u4ea8,9,11,8,8,11\n",
        "\u738b\u4f73\u84c9,14,15,9,9,8\n",
        "\u66fe\u6dd1\u739f,13,12,10,11,9\n",
        "\u76e7\u51a0\u5b8f,14,11,10,11,11\n",
        "\u8a79\u5a01\u5fb7,12,13,15,10,14\n",
        "\u66fe\u6021\u541b,11,12,15,13,14\n",
        "\u5433\u6587\u4f2f,8,8,8,15,12\n",
        "\u6bb5\u51a0\u5ef7,9,8,15,12,15\n",
        "\u5433\u6b23\u5f37,12,13,8,11,9\n",
        "\u66f2\u79c0\u82ac,14,14,8,9,15\n",
        "\u8d99\u606d\u7fa4,14,12,10,9,15\n",
        "\u6797\u58eb\u831c,12,15,9,9,13\n",
        "\u7ae5\u5fc3\u6021,13,13,14,8,13\n",
        "\u8b1d\u4eae\u592b,9,8,14,11,9\n",
        "\u67f3\u83c1\u862d,14,12,10,8,14\n",
        "\u8449\u5b50\u8c6a,8,9,13,13,15\n",
        "\u9673\u6021\u5a77,15,14,12,9,15\n",
        "\u6731\u5bf6\u539f,10,14,11,10,15\n",
        "\u99ae\u4f36\u744b,12,12,14,8,11\n",
        "\u5289\u5f65\u658c,14,11,11,12,13\n",
        "\u9ec3\u6167\u7db8,12,9,13,14,9\n",
        "\u99f1\u7a4e\u7426,14,10,11,9,15\n",
        "\u9673\u6021\u6f54,15,15,9,15,11\n",
        "\u6797\u610f\u73cd,9,15,11,13,9\n",
        "\u9673\u4ead\u598f,11,14,11,12,10\n",
        "\u80e1\u6df3\u831c,12,15,14,13,11\n",
        "\u9673\u5141\u51cc,10,13,9,11,14\n",
        "\u82ae\u79cb\u8f9b,11,10,15,10,8\n",
        "\u66fe\u6607\u55ac,14,12,11,8,15\n",
        "\u5468\u7b60\u83c1,14,8,8,11,12\n",
        "\u8a31\u7acb\u5049,8,10,10,15,9\n",
        "\u5f35\u5c71\u7407,12,11,9,9,15\n",
        "\u4fde\u5fd7\u5cf0,9,14,13,14,15\n",
        "\u8b1d\u96c5\u7433,13,14,13,12,9\n",
        "\u90b1\u76c8\u4fca,10,14,14,13,8\n",
        "\u6797\u54f2\u6cd5,14,9,15,10,14\n",
        "\u5289\u9e97\u82ac,8,14,14,14,14\n",
        "\u8523\u5955\u4efb,12,12,10,13,8\n",
        "\u8449\u5100\u4f9d,9,13,15,8,14\n",
        "\u8449\u5fc5\u76c8,9,8,13,9,12\n",
        "\u9673\u6b23\u73b2,10,9,13,8,10\n",
        "\u5433\u5fd7\u9060,13,15,15,8,8\n",
        "\u5289\u96c5\u53cb,14,9,10,14,11\n",
        "\u5b8b\u7f8e\u73e0,13,8,9,10,11\n",
        "\u5468\u80b2\u9716,9,12,15,13,12\n",
        "\u9ec3\u4ecb\u55ac,13,10,11,8,13\n",
        "\u8449\u5b5f\u540d,12,13,13,9,11\n",
        "\u5ba3\u5ba3\u58eb,9,10,12,15,13\n",
        "\u65bd\u96c5\u9234,13,15,12,13,13\n",
        "\u694a\u5f65\u4f36,11,8,13,9,15\n",
        "\u856d\u5448\u840d,11,14,9,15,9\n",
        "\u674e\u58eb\u8ce2,10,14,15,13,13\n",
        "\u80e1\u51f1\u7433,10,8,9,9,15\n",
        "\u5f35\u96c5\u5f6c,10,11,15,12,8\n",
        "\u6797\u8c9e\u5100,11,10,14,8,13\n",
        "\u8d99\u5049\u5e0c,10,13,14,13,15\n",
        "\u6234\u9752\u82f1,11,8,14,12,10\n",
        "\u90ed\u9806\u8aa0,13,13,10,14,9\n",
        "\u80e1\u52dd\u5091,8,11,15,10,15\n",
        "\u9673\u767b\u7ff0,14,11,11,13,12\n",
        "\u8521\u6dd1\u5b5d,8,12,14,12,11\n",
        "\u674e\u66fc\u5922,11,9,11,8,8\n",
        "\u6797\u8207\u5fe0,10,9,10,11,15\n",
        "\u8521\u4f73\u71d5,9,10,9,13,14\n",
        "\u5433\u7b71\u5a77,8,10,14,10,15\n",
        "\u9673\u5bb6\u9298,14,9,11,8,12\n",
        "\u674e\u660e\u5a01,15,9,8,9,15\n",
        "\u8fb2\u63da\u52c7,9,11,12,12,10\n"
       ]
      }
     ],
     "prompt_number": 23
    },
    {
     "cell_type": "code",
     "collapsed": false,
     "input": [
      "st1 = \"\u53f0\u7063, 2300, 35980\"\n",
      "st2 = \"\u65e5\u672c, 12760, 377944\"\n",
      "st3 = \"\u52a0\u62ff\u5927, 3488, 9984670\""
     ],
     "language": "python",
     "metadata": {},
     "outputs": [],
     "prompt_number": 1
    },
    {
     "cell_type": "code",
     "collapsed": false,
     "input": [
      "print st1\n",
      "print st2\n",
      "print st3"
     ],
     "language": "python",
     "metadata": {},
     "outputs": [
      {
       "output_type": "stream",
       "stream": "stdout",
       "text": [
        "\u53f0\u7063, 2300, 35980\n",
        "\u65e5\u672c, 12760, 377944\n",
        "\u52a0\u62ff\u5927, 3488, 9984670\n"
       ]
      }
     ],
     "prompt_number": 3
    },
    {
     "cell_type": "code",
     "collapsed": false,
     "input": [
      "f = open(\"test.csv\",'w')"
     ],
     "language": "python",
     "metadata": {},
     "outputs": [],
     "prompt_number": 10
    },
    {
     "cell_type": "code",
     "collapsed": false,
     "input": [
      "print >> f, st1\n",
      "print >> f, st2\n",
      "print >> f, st3"
     ],
     "language": "python",
     "metadata": {},
     "outputs": [],
     "prompt_number": 11
    },
    {
     "cell_type": "code",
     "collapsed": false,
     "input": [
      "f.close()"
     ],
     "language": "python",
     "metadata": {},
     "outputs": [],
     "prompt_number": 12
    },
    {
     "cell_type": "code",
     "collapsed": false,
     "input": [
      "from  random import *"
     ],
     "language": "python",
     "metadata": {},
     "outputs": [],
     "prompt_number": 14
    },
    {
     "cell_type": "code",
     "collapsed": false,
     "input": [
      "pool = [\"\u56db\u4e94\",\"\u6ce2\u6d3d\",\"\u6771\u4eac\",\"\u56db\u6d77\",\"\u8cfd\u767e\u5473\"]"
     ],
     "language": "python",
     "metadata": {},
     "outputs": [],
     "prompt_number": 15
    },
    {
     "cell_type": "code",
     "collapsed": false,
     "input": [
      "print choice(pool)"
     ],
     "language": "python",
     "metadata": {},
     "outputs": [
      {
       "output_type": "stream",
       "stream": "stdout",
       "text": [
        "\u56db\u6d77\n"
       ]
      }
     ],
     "prompt_number": 19
    },
    {
     "cell_type": "code",
     "collapsed": false,
     "input": [
      "number = range(1,50)"
     ],
     "language": "python",
     "metadata": {},
     "outputs": [],
     "prompt_number": 20
    },
    {
     "cell_type": "code",
     "collapsed": false,
     "input": [
      "number"
     ],
     "language": "python",
     "metadata": {},
     "outputs": [
      {
       "metadata": {},
       "output_type": "pyout",
       "prompt_number": 21,
       "text": [
        "[1,\n",
        " 2,\n",
        " 3,\n",
        " 4,\n",
        " 5,\n",
        " 6,\n",
        " 7,\n",
        " 8,\n",
        " 9,\n",
        " 10,\n",
        " 11,\n",
        " 12,\n",
        " 13,\n",
        " 14,\n",
        " 15,\n",
        " 16,\n",
        " 17,\n",
        " 18,\n",
        " 19,\n",
        " 20,\n",
        " 21,\n",
        " 22,\n",
        " 23,\n",
        " 24,\n",
        " 25,\n",
        " 26,\n",
        " 27,\n",
        " 28,\n",
        " 29,\n",
        " 30,\n",
        " 31,\n",
        " 32,\n",
        " 33,\n",
        " 34,\n",
        " 35,\n",
        " 36,\n",
        " 37,\n",
        " 38,\n",
        " 39,\n",
        " 40,\n",
        " 41,\n",
        " 42,\n",
        " 43,\n",
        " 44,\n",
        " 45,\n",
        " 46,\n",
        " 47,\n",
        " 48,\n",
        " 49]"
       ]
      }
     ],
     "prompt_number": 21
    },
    {
     "cell_type": "code",
     "collapsed": false,
     "input": [
      "sample(number,6)"
     ],
     "language": "python",
     "metadata": {},
     "outputs": [
      {
       "metadata": {},
       "output_type": "pyout",
       "prompt_number": 23,
       "text": [
        "[22, 16, 7, 41, 35, 27]"
       ]
      }
     ],
     "prompt_number": 23
    },
    {
     "cell_type": "code",
     "collapsed": false,
     "input": [
      "cards = range(52)"
     ],
     "language": "python",
     "metadata": {},
     "outputs": [],
     "prompt_number": 24
    },
    {
     "cell_type": "code",
     "collapsed": false,
     "input": [
      "cards"
     ],
     "language": "python",
     "metadata": {},
     "outputs": [
      {
       "metadata": {},
       "output_type": "pyout",
       "prompt_number": 25,
       "text": [
        "[0,\n",
        " 1,\n",
        " 2,\n",
        " 3,\n",
        " 4,\n",
        " 5,\n",
        " 6,\n",
        " 7,\n",
        " 8,\n",
        " 9,\n",
        " 10,\n",
        " 11,\n",
        " 12,\n",
        " 13,\n",
        " 14,\n",
        " 15,\n",
        " 16,\n",
        " 17,\n",
        " 18,\n",
        " 19,\n",
        " 20,\n",
        " 21,\n",
        " 22,\n",
        " 23,\n",
        " 24,\n",
        " 25,\n",
        " 26,\n",
        " 27,\n",
        " 28,\n",
        " 29,\n",
        " 30,\n",
        " 31,\n",
        " 32,\n",
        " 33,\n",
        " 34,\n",
        " 35,\n",
        " 36,\n",
        " 37,\n",
        " 38,\n",
        " 39,\n",
        " 40,\n",
        " 41,\n",
        " 42,\n",
        " 43,\n",
        " 44,\n",
        " 45,\n",
        " 46,\n",
        " 47,\n",
        " 48,\n",
        " 49,\n",
        " 50,\n",
        " 51]"
       ]
      }
     ],
     "prompt_number": 25
    },
    {
     "cell_type": "code",
     "collapsed": false,
     "input": [
      "shuffle(cards)"
     ],
     "language": "python",
     "metadata": {},
     "outputs": [],
     "prompt_number": 26
    },
    {
     "cell_type": "code",
     "collapsed": false,
     "input": [
      "cards"
     ],
     "language": "python",
     "metadata": {},
     "outputs": [
      {
       "metadata": {},
       "output_type": "pyout",
       "prompt_number": 27,
       "text": [
        "[2,\n",
        " 38,\n",
        " 33,\n",
        " 30,\n",
        " 47,\n",
        " 36,\n",
        " 21,\n",
        " 31,\n",
        " 11,\n",
        " 32,\n",
        " 26,\n",
        " 49,\n",
        " 42,\n",
        " 51,\n",
        " 27,\n",
        " 50,\n",
        " 40,\n",
        " 15,\n",
        " 17,\n",
        " 37,\n",
        " 3,\n",
        " 43,\n",
        " 14,\n",
        " 10,\n",
        " 12,\n",
        " 1,\n",
        " 48,\n",
        " 7,\n",
        " 44,\n",
        " 23,\n",
        " 9,\n",
        " 25,\n",
        " 6,\n",
        " 35,\n",
        " 28,\n",
        " 24,\n",
        " 41,\n",
        " 20,\n",
        " 39,\n",
        " 19,\n",
        " 4,\n",
        " 16,\n",
        " 22,\n",
        " 46,\n",
        " 8,\n",
        " 45,\n",
        " 29,\n",
        " 13,\n",
        " 5,\n",
        " 34,\n",
        " 0,\n",
        " 18]"
       ]
      }
     ],
     "prompt_number": 27
    },
    {
     "cell_type": "code",
     "collapsed": false,
     "input": [
      "%pylab inline"
     ],
     "language": "python",
     "metadata": {},
     "outputs": [
      {
       "output_type": "stream",
       "stream": "stdout",
       "text": [
        "Populating the interactive namespace from numpy and matplotlib\n"
       ]
      }
     ],
     "prompt_number": 9
    },
    {
     "cell_type": "code",
     "collapsed": false,
     "input": [
      "lst1 = [1,7,3,5]\n",
      "lst2 = [2,4,7,9]"
     ],
     "language": "python",
     "metadata": {},
     "outputs": [],
     "prompt_number": 4
    },
    {
     "cell_type": "code",
     "collapsed": false,
     "input": [
      "lst1 *5"
     ],
     "language": "python",
     "metadata": {},
     "outputs": [
      {
       "metadata": {},
       "output_type": "pyout",
       "prompt_number": 5,
       "text": [
        "[1, 7, 3, 5, 1, 7, 3, 5, 1, 7, 3, 5, 1, 7, 3, 5, 1, 7, 3, 5]"
       ]
      }
     ],
     "prompt_number": 5
    },
    {
     "cell_type": "code",
     "collapsed": false,
     "input": [
      "result = []\n",
      "for i in range(len(lst1)):\n",
      "    result.append(lst1[i] - lst2[i])"
     ],
     "language": "python",
     "metadata": {},
     "outputs": [],
     "prompt_number": 6
    },
    {
     "cell_type": "code",
     "collapsed": false,
     "input": [
      "result"
     ],
     "language": "python",
     "metadata": {},
     "outputs": [
      {
       "metadata": {},
       "output_type": "pyout",
       "prompt_number": 7,
       "text": [
        "[-1, 3, -4, -4]"
       ]
      }
     ],
     "prompt_number": 7
    },
    {
     "cell_type": "code",
     "collapsed": false,
     "input": [
      "ar1 = array(lst1)\n",
      "ar2 = array(lst2)"
     ],
     "language": "python",
     "metadata": {},
     "outputs": [],
     "prompt_number": 8
    },
    {
     "cell_type": "code",
     "collapsed": false,
     "input": [
      "ar1"
     ],
     "language": "python",
     "metadata": {},
     "outputs": [
      {
       "metadata": {},
       "output_type": "pyout",
       "prompt_number": 9,
       "text": [
        "array([1, 7, 3, 5])"
       ]
      }
     ],
     "prompt_number": 9
    },
    {
     "cell_type": "code",
     "collapsed": false,
     "input": [
      "ar1 - ar2"
     ],
     "language": "python",
     "metadata": {},
     "outputs": [
      {
       "metadata": {},
       "output_type": "pyout",
       "prompt_number": 10,
       "text": [
        "array([-1,  3, -4, -4])"
       ]
      }
     ],
     "prompt_number": 10
    },
    {
     "cell_type": "code",
     "collapsed": false,
     "input": [
      "ar1 *5"
     ],
     "language": "python",
     "metadata": {},
     "outputs": [
      {
       "metadata": {},
       "output_type": "pyout",
       "prompt_number": 11,
       "text": [
        "array([ 5, 35, 15, 25])"
       ]
      }
     ],
     "prompt_number": 11
    },
    {
     "cell_type": "code",
     "collapsed": false,
     "input": [
      "from datetime import date\n",
      "born = date(1988,11,10)\n",
      "now = date.today()\n",
      "n = (now-born).days\n",
      "\n",
      "print \"\u4f60\u76ee\u524d\u6d3b\u4e86 %d \u5929\" %n"
     ],
     "language": "python",
     "metadata": {},
     "outputs": [
      {
       "output_type": "stream",
       "stream": "stdout",
       "text": [
        "\u4f60\u76ee\u524d\u6d3b\u4e86 9522 \u5929\n"
       ]
      }
     ],
     "prompt_number": 13
    },
    {
     "cell_type": "code",
     "collapsed": false,
     "input": [
      "x = linspace(-10,10,200)"
     ],
     "language": "python",
     "metadata": {},
     "outputs": [],
     "prompt_number": 14
    },
    {
     "cell_type": "code",
     "collapsed": false,
     "input": [
      "x"
     ],
     "language": "python",
     "metadata": {},
     "outputs": [
      {
       "metadata": {},
       "output_type": "pyout",
       "prompt_number": 15,
       "text": [
        "array([-10.        ,  -9.89949749,  -9.79899497,  -9.69849246,\n",
        "        -9.59798995,  -9.49748744,  -9.39698492,  -9.29648241,\n",
        "        -9.1959799 ,  -9.09547739,  -8.99497487,  -8.89447236,\n",
        "        -8.79396985,  -8.69346734,  -8.59296482,  -8.49246231,\n",
        "        -8.3919598 ,  -8.29145729,  -8.19095477,  -8.09045226,\n",
        "        -7.98994975,  -7.88944724,  -7.78894472,  -7.68844221,\n",
        "        -7.5879397 ,  -7.48743719,  -7.38693467,  -7.28643216,\n",
        "        -7.18592965,  -7.08542714,  -6.98492462,  -6.88442211,\n",
        "        -6.7839196 ,  -6.68341709,  -6.58291457,  -6.48241206,\n",
        "        -6.38190955,  -6.28140704,  -6.18090452,  -6.08040201,\n",
        "        -5.9798995 ,  -5.87939698,  -5.77889447,  -5.67839196,\n",
        "        -5.57788945,  -5.47738693,  -5.37688442,  -5.27638191,\n",
        "        -5.1758794 ,  -5.07537688,  -4.97487437,  -4.87437186,\n",
        "        -4.77386935,  -4.67336683,  -4.57286432,  -4.47236181,\n",
        "        -4.3718593 ,  -4.27135678,  -4.17085427,  -4.07035176,\n",
        "        -3.96984925,  -3.86934673,  -3.76884422,  -3.66834171,\n",
        "        -3.5678392 ,  -3.46733668,  -3.36683417,  -3.26633166,\n",
        "        -3.16582915,  -3.06532663,  -2.96482412,  -2.86432161,\n",
        "        -2.7638191 ,  -2.66331658,  -2.56281407,  -2.46231156,\n",
        "        -2.36180905,  -2.26130653,  -2.16080402,  -2.06030151,\n",
        "        -1.95979899,  -1.85929648,  -1.75879397,  -1.65829146,\n",
        "        -1.55778894,  -1.45728643,  -1.35678392,  -1.25628141,\n",
        "        -1.15577889,  -1.05527638,  -0.95477387,  -0.85427136,\n",
        "        -0.75376884,  -0.65326633,  -0.55276382,  -0.45226131,\n",
        "        -0.35175879,  -0.25125628,  -0.15075377,  -0.05025126,\n",
        "         0.05025126,   0.15075377,   0.25125628,   0.35175879,\n",
        "         0.45226131,   0.55276382,   0.65326633,   0.75376884,\n",
        "         0.85427136,   0.95477387,   1.05527638,   1.15577889,\n",
        "         1.25628141,   1.35678392,   1.45728643,   1.55778894,\n",
        "         1.65829146,   1.75879397,   1.85929648,   1.95979899,\n",
        "         2.06030151,   2.16080402,   2.26130653,   2.36180905,\n",
        "         2.46231156,   2.56281407,   2.66331658,   2.7638191 ,\n",
        "         2.86432161,   2.96482412,   3.06532663,   3.16582915,\n",
        "         3.26633166,   3.36683417,   3.46733668,   3.5678392 ,\n",
        "         3.66834171,   3.76884422,   3.86934673,   3.96984925,\n",
        "         4.07035176,   4.17085427,   4.27135678,   4.3718593 ,\n",
        "         4.47236181,   4.57286432,   4.67336683,   4.77386935,\n",
        "         4.87437186,   4.97487437,   5.07537688,   5.1758794 ,\n",
        "         5.27638191,   5.37688442,   5.47738693,   5.57788945,\n",
        "         5.67839196,   5.77889447,   5.87939698,   5.9798995 ,\n",
        "         6.08040201,   6.18090452,   6.28140704,   6.38190955,\n",
        "         6.48241206,   6.58291457,   6.68341709,   6.7839196 ,\n",
        "         6.88442211,   6.98492462,   7.08542714,   7.18592965,\n",
        "         7.28643216,   7.38693467,   7.48743719,   7.5879397 ,\n",
        "         7.68844221,   7.78894472,   7.88944724,   7.98994975,\n",
        "         8.09045226,   8.19095477,   8.29145729,   8.3919598 ,\n",
        "         8.49246231,   8.59296482,   8.69346734,   8.79396985,\n",
        "         8.89447236,   8.99497487,   9.09547739,   9.1959799 ,\n",
        "         9.29648241,   9.39698492,   9.49748744,   9.59798995,\n",
        "         9.69849246,   9.79899497,   9.89949749,  10.        ])"
       ]
      }
     ],
     "prompt_number": 15
    },
    {
     "cell_type": "code",
     "collapsed": true,
     "input": [
      "plot(x, 3*sin(2*x),linewidth=5,color='orange')\n",
      "plot(x,0.1*x**2,color='blue')"
     ],
     "language": "python",
     "metadata": {},
     "outputs": [
      {
       "metadata": {},
       "output_type": "pyout",
       "prompt_number": 26,
       "text": [
        "[<matplotlib.lines.Line2D at 0xb3f7b38>]"
       ]
      },
      {
       "metadata": {},
       "output_type": "display_data",
       "png": "[encoded data removed]",
       "text": [
        "<matplotlib.figure.Figure at 0xb3f7ba8>"
       ]
      }
     ],
     "prompt_number": 26
    },
    {
     "cell_type": "code",
     "collapsed": false,
     "input": [
      "x = [1,2,3]\n",
      "y = [60,70,80]"
     ],
     "language": "python",
     "metadata": {},
     "outputs": [],
     "prompt_number": 27
    },
    {
     "cell_type": "code",
     "collapsed": false,
     "input": [
      "bar(x,y,)"
     ],
     "language": "python",
     "metadata": {},
     "outputs": [
      {
       "metadata": {},
       "output_type": "pyout",
       "prompt_number": 33,
       "text": [
        "<Container object of 3 artists>"
       ]
      },
      {
       "metadata": {},
       "output_type": "display_data",
       "png": "[encoded data removed]",
       "text": [
        "<matplotlib.figure.Figure at 0xbe07320>"
       ]
      }
     ],
     "prompt_number": 33
    },
    {
     "cell_type": "code",
     "collapsed": false,
     "input": [
      "from IPython.html.widgets import interact"
     ],
     "language": "python",
     "metadata": {},
     "outputs": [],
     "prompt_number": 11
    },
    {
     "cell_type": "code",
     "collapsed": false,
     "input": [
      "def f(x):\n",
      "    print x"
     ],
     "language": "python",
     "metadata": {},
     "outputs": [],
     "prompt_number": 12
    },
    {
     "cell_type": "code",
     "collapsed": false,
     "input": [
      "interact(f,x={'apple':'1','cat':'2'})"
     ],
     "language": "python",
     "metadata": {},
     "outputs": [
      {
       "output_type": "stream",
       "stream": "stdout",
       "text": [
        "2\n"
       ]
      }
     ],
     "prompt_number": 14
    },
    {
     "cell_type": "code",
     "collapsed": false,
     "input": [
      "mydict = {'apple':'1','cat':'\u8c93'}"
     ],
     "language": "python",
     "metadata": {},
     "outputs": [],
     "prompt_number": 2
    },
    {
     "cell_type": "code",
     "collapsed": false,
     "input": [
      "print mydict['cat']"
     ],
     "language": "python",
     "metadata": {},
     "outputs": [
      {
       "output_type": "stream",
       "stream": "stdout",
       "text": [
        "\u8c93\n"
       ]
      }
     ],
     "prompt_number": 5
    },
    {
     "cell_type": "code",
     "collapsed": false,
     "input": [
      "def twd(k):\n",
      "    print k*38.2995"
     ],
     "language": "python",
     "metadata": {},
     "outputs": [],
     "prompt_number": 15
    },
    {
     "cell_type": "code",
     "collapsed": false,
     "input": [
      "twd(500)"
     ],
     "language": "python",
     "metadata": {},
     "outputs": [
      {
       "output_type": "stream",
       "stream": "stdout",
       "text": [
        "19149.75\n"
       ]
      }
     ],
     "prompt_number": 16
    },
    {
     "cell_type": "code",
     "collapsed": false,
     "input": [
      "interact(twd, k=5000)"
     ],
     "language": "python",
     "metadata": {},
     "outputs": [
      {
       "output_type": "stream",
       "stream": "stdout",
       "text": [
        "277862.8725\n"
       ]
      }
     ],
     "prompt_number": 18
    },
    {
     "cell_type": "code",
     "collapsed": false,
     "input": [
      "def move(s):\n",
      "    print ' '*s+'mmmO'"
     ],
     "language": "python",
     "metadata": {},
     "outputs": [],
     "prompt_number": 22
    },
    {
     "cell_type": "code",
     "collapsed": false,
     "input": [
      "move(10)"
     ],
     "language": "python",
     "metadata": {},
     "outputs": [
      {
       "output_type": "stream",
       "stream": "stdout",
       "text": [
        "          mmmO\n"
       ]
      }
     ],
     "prompt_number": 23
    },
    {
     "cell_type": "code",
     "collapsed": false,
     "input": [
      "interact(move,s=(1,100))"
     ],
     "language": "python",
     "metadata": {},
     "outputs": [
      {
       "output_type": "stream",
       "stream": "stdout",
       "text": [
        "                                                         mmmO\n"
       ]
      }
     ],
     "prompt_number": 24
    },
    {
     "cell_type": "code",
     "collapsed": false,
     "input": [
      "x = linspace(0.01,10,300)"
     ],
     "language": "python",
     "metadata": {},
     "outputs": [],
     "prompt_number": 36
    },
    {
     "cell_type": "code",
     "collapsed": false,
     "input": [
      "def draw(a):\n",
      "    plot(x, sin(a*x)/x)\n",
      "    ylim = (-2,3)"
     ],
     "language": "python",
     "metadata": {},
     "outputs": [],
     "prompt_number": 37
    },
    {
     "cell_type": "code",
     "collapsed": false,
     "input": [
      "draw(50)"
     ],
     "language": "python",
     "metadata": {},
     "outputs": [
      {
       "metadata": {},
       "output_type": "display_data",
       "png": "[encoded data removed]",
       "text": [
        "<matplotlib.figure.Figure at 0x9f60ba8>"
       ]
      }
     ],
     "prompt_number": 40
    },
    {
     "cell_type": "code",
     "collapsed": false,
     "input": [
      "interact(draw, a=(1,30.))"
     ],
     "language": "python",
     "metadata": {},
     "outputs": [
      {
       "metadata": {},
       "output_type": "display_data",
       "png": "[encoded data removed]",
       "text": [
        "<matplotlib.figure.Figure at 0xaa29ba8>"
       ]
      }
     ],
     "prompt_number": 43
    },
    {
     "cell_type": "code",
     "collapsed": false,
     "input": [],
     "language": "python",
     "metadata": {},
     "outputs": []
    }
   ],
   "metadata": {}
  }
 ]
}