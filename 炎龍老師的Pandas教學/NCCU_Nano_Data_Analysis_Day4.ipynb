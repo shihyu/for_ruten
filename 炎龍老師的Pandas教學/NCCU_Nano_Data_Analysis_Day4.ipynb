{
 "metadata": {
  "name": "",
  "signature": "sha256:a4cfae053656ce52cc193f004d50b82dab7581635328a73dc147d5d45aa2761d"
 },
 "nbformat": 3,
 "nbformat_minor": 0,
 "worksheets": [
  {
   "cells": [
    {
     "cell_type": "markdown",
     "metadata": {},
     "source": [
      "# \u5927\u6a19\u984c\n",
      "## \u6b21\u6a19\u984c\n",
      "\n",
      "\u6211\u60f3\u505a\u4e00\u500b list\n",
      "\n",
      "* Python\n",
      "* HTML\n",
      "* LaTeX\n",
      "\n",
      "\u6211\u5011\u5b78\u4e86\u5f88\u597d\u73a9\u7684 <b style=\"color:red\";>IPython</b>!!\n",
      "\n",
      "### inline \u6578\u5b78\u7b26\u865f\n",
      "\n",
      "\u5b9a\u7fa9 $f(x)=3x^2-2x+5$\uff0c\u7136\u5f8c\u7b97\u4e00\u4e0b\u3002\n",
      "\n",
      "### display\u578b\u6578\u5b78\u5f0f\n",
      "\n",
      "$$ \\alpha = \\int_1^e f(x) \\, dx $$\n",
      "\n",
      "$$f\\left( x\\right) =\\int _{1}^{e}\\pi xdx$$\n",
      "\n",
      "Web Equation \u5f88\u597d\u7528"
     ]
    },
    {
     "cell_type": "code",
     "collapsed": false,
     "input": [],
     "language": "python",
     "metadata": {},
     "outputs": []
    }
   ],
   "metadata": {}
  }
 ]
}