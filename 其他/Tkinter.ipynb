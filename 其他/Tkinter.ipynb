{
 "metadata": {
  "name": "",
  "signature": "sha256:db3f2d8f0ee7d497bd387e44aec5b4f67814c44b60412a946e86aebc3b477dcf"
 },
 "nbformat": 3,
 "nbformat_minor": 0,
 "worksheets": [
  {
   "cells": [
    {
     "cell_type": "code",
     "collapsed": false,
     "input": [
      "from Tkinter import *"
     ],
     "language": "python",
     "metadata": {},
     "outputs": [],
     "prompt_number": 1
    },
    {
     "cell_type": "code",
     "collapsed": false,
     "input": [
      "root =Tk()"
     ],
     "language": "python",
     "metadata": {},
     "outputs": [],
     "prompt_number": 2
    },
    {
     "cell_type": "code",
     "collapsed": false,
     "input": [
      "some = Label(root, text=\"Tk's job!\", width=\"30\", height=\"5\")"
     ],
     "language": "python",
     "metadata": {},
     "outputs": [],
     "prompt_number": 4
    },
    {
     "cell_type": "code",
     "collapsed": false,
     "input": [
      "some.pack()"
     ],
     "language": "python",
     "metadata": {},
     "outputs": [],
     "prompt_number": 5
    },
    {
     "cell_type": "code",
     "collapsed": false,
     "input": [
      "root.mainloop()"
     ],
     "language": "python",
     "metadata": {},
     "outputs": [],
     "prompt_number": 6
    },
    {
     "cell_type": "code",
     "collapsed": false,
     "input": [
      "import Tkinter as Tr"
     ],
     "language": "python",
     "metadata": {},
     "outputs": [],
     "prompt_number": 7
    },
    {
     "cell_type": "code",
     "collapsed": false,
     "input": [
      "import wx"
     ],
     "language": "python",
     "metadata": {},
     "outputs": [],
     "prompt_number": 1
    },
    {
     "cell_type": "code",
     "collapsed": false,
     "input": [
      "class MyFrame(wx.Frame):\n",
      "\n",
      "    def __init__(self, parent, id, title):\n",
      "        # First, call the base class' __init__ method to create the frame\n",
      "        wx.Frame.__init__(self, parent, id, title)\n",
      "\n",
      "        # Associate some events with methods of this class\n",
      "        self.Bind(wx.EVT_SIZE, self.OnSize)\n",
      "        self.Bind(wx.EVT_MOVE, self.OnMove)\n",
      "\n",
      "        # Add a panel and some controls to display the size and position\n",
      "        panel = wx.Panel(self, -1)\n",
      "        label1 = wx.StaticText(panel, -1, \"Size:\")\n",
      "        label2 = wx.StaticText(panel, -1, \"Pos:\")\n",
      "        self.sizeCtrl = wx.TextCtrl(panel, -1, \"\", style=wx.TE_READONLY)\n",
      "        self.posCtrl = wx.TextCtrl(panel, -1, \"\", style=wx.TE_READONLY)\n",
      "        self.panel = panel\n",
      "\n",
      "        # Use some sizers for layout of the widgets\n",
      "        sizer = wx.FlexGridSizer(2, 2, 5, 5)\n",
      "        sizer.Add(label1)\n",
      "        sizer.Add(self.sizeCtrl)\n",
      "        sizer.Add(label2)\n",
      "        sizer.Add(self.posCtrl)\n",
      "\n",
      "        border = wx.BoxSizer()\n",
      "        border.Add(sizer, 0, wx.ALL, 15)\n",
      "        panel.SetSizerAndFit(border)\n",
      "        self.Fit()\n",
      "\n",
      "\n",
      "    # This method is called by the System when the window is resized,\n",
      "    # because of the association above.\n",
      "    def OnSize(self, event):\n",
      "        size = event.GetSize()\n",
      "        self.sizeCtrl.SetValue(\"%s, %s\" % (size.width, size.height))\n",
      "\n",
      "        # tell the event system to continue looking for an event handler,\n",
      "        # so the default handler will get called.\n",
      "        event.Skip()\n",
      "\n",
      "    # This method is called by the System when the window is moved,\n",
      "    # because of the association above.\n",
      "    def OnMove(self, event):\n",
      "        pos = event.GetPosition()\n",
      "        self.posCtrl.SetValue(\"%s, %s\" % (pos.x, pos.y))\n",
      "\n",
      "\n",
      "\n",
      "\n",
      "# Every wxWidgets application must have a class derived from wx.App\n",
      "class MyApp(wx.App):\n",
      "\n",
      "    # wxWindows calls this method to initialize the application\n",
      "    def OnInit(self):\n",
      "\n",
      "        # Create an instance of our customized Frame class\n",
      "        frame = MyFrame(None, -1, \"This is a test\")\n",
      "        frame.Show(True)\n",
      "\n",
      "        # Tell wxWindows that this is our main window\n",
      "        self.SetTopWindow(frame)\n",
      "\n",
      "        # Return a success flag\n",
      "        return True\n",
      "\n",
      "\n",
      "\n",
      "app = MyApp(0)     # Create an instance of the application class\n",
      "app.MainLoop()     # Tell it to start processing events"
     ],
     "language": "python",
     "metadata": {},
     "outputs": [],
     "prompt_number": 2
    },
    {
     "cell_type": "code",
     "collapsed": false,
     "input": [],
     "language": "python",
     "metadata": {},
     "outputs": []
    }
   ],
   "metadata": {}
  }
 ]
}