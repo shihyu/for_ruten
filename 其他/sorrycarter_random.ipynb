{
 "metadata": {
  "name": "",
  "signature": "sha256:5da3b05c1a40af4a59ea0b19167a48bb274388be6c975f3e30bc37ffcd64ca77"
 },
 "nbformat": 3,
 "nbformat_minor": 0,
 "worksheets": [
  {
   "cells": [
    {
     "cell_type": "markdown",
     "metadata": {},
     "source": [
      "# \u6a02\u5718\u6210\u54e1\u4e92\u5beb\u4ecb\u7d39\u7684\u7c21\u55ae\u5c0f\u7a0b\u5f0f"
     ]
    },
    {
     "cell_type": "code",
     "collapsed": false,
     "input": [
      "from random import sample\n",
      "x = [u'\u96c5\u83c1',u'\u963f\u9760',u'\uff49\uff56',u'\u963f\u5143',u'\u4e94\u5341']\n",
      "y = sample(x,5)\n",
      "for i in range(len(x)):\n",
      "    print y[i],\"\u5beb\",y[i-4]"
     ],
     "language": "python",
     "metadata": {},
     "outputs": [
      {
       "output_type": "stream",
       "stream": "stdout",
       "text": [
        "\uff49\uff56 \u5beb \u963f\u5143\n",
        "\u963f\u5143 \u5beb \u963f\u9760\n",
        "\u963f\u9760 \u5beb \u4e94\u5341\n",
        "\u4e94\u5341 \u5beb \u96c5\u83c1\n",
        "\u96c5\u83c1 \u5beb \uff49\uff56\n"
       ]
      }
     ],
     "prompt_number": 2
    },
    {
     "cell_type": "code",
     "collapsed": false,
     "input": [],
     "language": "python",
     "metadata": {},
     "outputs": []
    }
   ],
   "metadata": {}
  }
 ]
}