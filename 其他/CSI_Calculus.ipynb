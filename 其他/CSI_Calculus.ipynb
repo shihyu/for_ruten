{
 "metadata": {
  "name": "",
  "signature": "sha256:7ca46f1aeea2443a1f2df9c93c3f48cbb518cd8010da1c14e191efe133934b7c"
 },
 "nbformat": 3,
 "nbformat_minor": 0,
 "worksheets": [
  {
   "cells": [
    {
     "cell_type": "code",
     "collapsed": false,
     "input": [
      "%pylab inline"
     ],
     "language": "python",
     "metadata": {},
     "outputs": [
      {
       "output_type": "stream",
       "stream": "stdout",
       "text": [
        "Populating the interactive namespace from numpy and matplotlib\n"
       ]
      }
     ],
     "prompt_number": 1
    },
    {
     "cell_type": "code",
     "collapsed": false,
     "input": [
      "def f(x):\n",
      "    return 1/(x**2+1)"
     ],
     "language": "python",
     "metadata": {},
     "outputs": [],
     "prompt_number": 4
    },
    {
     "cell_type": "code",
     "collapsed": false,
     "input": [
      "def df(x):\n",
      "    return (-2*x)/(x**2+1)*2"
     ],
     "language": "python",
     "metadata": {},
     "outputs": [],
     "prompt_number": 5
    },
    {
     "cell_type": "code",
     "collapsed": false,
     "input": [
      "def ddf(x):\n",
      "    return (6*x**2-2)/(x**2+1)**3"
     ],
     "language": "python",
     "metadata": {},
     "outputs": [],
     "prompt_number": 6
    },
    {
     "cell_type": "code",
     "collapsed": false,
     "input": [
      "x = linspace(-10,10,200)\n",
      "xx = linspace(-10,10,200)\n",
      "xxx = linspace(-10,10,200)\n",
      "y = f(x)\n",
      "yy = df(xx)\n",
      "yyy = ddf(xxx)"
     ],
     "language": "python",
     "metadata": {},
     "outputs": [],
     "prompt_number": 10
    },
    {
     "cell_type": "code",
     "collapsed": false,
     "input": [
      "plot(x,y,'r',xx,yy,'b',xxx,yyy,'green')"
     ],
     "language": "python",
     "metadata": {},
     "outputs": [
      {
       "metadata": {},
       "output_type": "pyout",
       "prompt_number": 12,
       "text": [
        "[<matplotlib.lines.Line2D at 0xa2a6438>,\n",
        " <matplotlib.lines.Line2D at 0xa2a6668>,\n",
        " <matplotlib.lines.Line2D at 0xa2a6c50>]"
       ]
      },
      {
       "metadata": {},
       "output_type": "display_data",
       "png": "[encoded data removed]",
       "text": [
        "<matplotlib.figure.Figure at 0xa1ac438>"
       ]
      }
     ],
     "prompt_number": 12
    },
    {
     "cell_type": "code",
     "collapsed": false,
     "input": [],
     "language": "python",
     "metadata": {},
     "outputs": []
    }
   ],
   "metadata": {}
  }
 ]
}