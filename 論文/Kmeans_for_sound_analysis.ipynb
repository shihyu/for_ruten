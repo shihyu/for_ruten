{
 "metadata": {
  "name": "",
  "signature": "sha256:9e5c60d3871247459831598f3d503c6f284b1a0ff6b006633fa30108854a342f"
 },
 "nbformat": 3,
 "nbformat_minor": 0,
 "worksheets": [
  {
   "cells": [
    {
     "cell_type": "code",
     "collapsed": false,
     "input": [
      "%pylab inline\n",
      "from scipy.io import wavfile\n",
      "from scipy import fftpack\n",
      "import xlrd\n",
      "from datetime import datetime\n",
      "import pickle\n",
      "from sklearn import cluster, datasets\n",
      "from scipy.stats import mode\n",
      "from sklearn import manifold"
     ],
     "language": "python",
     "metadata": {},
     "outputs": [
      {
       "output_type": "stream",
       "stream": "stdout",
       "text": [
        "Populating the interactive namespace from numpy and matplotlib\n"
       ]
      }
     ],
     "prompt_number": 1
    },
    {
     "cell_type": "markdown",
     "metadata": {},
     "source": [
      "## 1. \u505a\u4e00list\uff0c\u5167\u6709\u4e00\u767e\u7b46\u8cc7\u6599\uff0c\u6bcf\u7b46\u8cc7\u6599\u5747\u70ba\u97f3\u8a0a"
     ]
    },
    {
     "cell_type": "code",
     "collapsed": false,
     "input": [
      "soundwave = list()\n",
      "\n",
      "def s(filename):\n",
      "    for i in range(1,101):\n",
      "        path = xlrd.open_workbook(filename).sheet_by_index(0).cell(i,6).value\n",
      "        [fs, w] = wavfile.read(path,'r')\n",
      "\n",
      "        def a(i):\n",
      "            return int(round((len(w)/xlrd.open_workbook(filename).sheet_by_index(0).cell(i,5).value)*xlrd.open_workbook(filename).sheet_by_index(0).cell(i,9).value))\n",
      "\n",
      "        y = list()\n",
      "        \n",
      "        for j in range(a(i),a(i)+529200): #44100*12=529200\n",
      "            y.append(float(w[j][0]))\n",
      "    \n",
      "        soundwave.append(y)\n"
     ],
     "language": "python",
     "metadata": {},
     "outputs": [],
     "prompt_number": 2
    },
    {
     "cell_type": "markdown",
     "metadata": {},
     "source": [
      "## 2. \u8b80\u6a94\uff0c\u8a08\u7b97\u79d2\u6578"
     ]
    },
    {
     "cell_type": "code",
     "collapsed": false,
     "input": [
      "a = datetime.now()\n",
      "\n",
      "s('music_list.xls')\n",
      "\n",
      "b = datetime.now()\n",
      "c = b - a\n",
      "\n",
      "c.seconds"
     ],
     "language": "python",
     "metadata": {},
     "outputs": [
      {
       "output_type": "stream",
       "stream": "stderr",
       "text": [
        "C:\\Users\\User\\Anaconda\\lib\\site-packages\\scipy\\io\\wavfile.py:42: WavFileWarning: Unknown wave file format\n",
        "  warnings.warn(\"Unknown wave file format\", WavFileWarning)\n"
       ]
      },
      {
       "metadata": {},
       "output_type": "pyout",
       "prompt_number": 10,
       "text": [
        "143"
       ]
      }
     ],
     "prompt_number": 10
    },
    {
     "cell_type": "markdown",
     "metadata": {},
     "source": [
      "## 3. Normalize\uff0c\u4e26\u8f49\u70baarray"
     ]
    },
    {
     "cell_type": "code",
     "collapsed": false,
     "input": [
      "def m(i):\n",
      "    return max(abs(min(soundwave[i])), abs(max(soundwave[i])))\n",
      "\n",
      "soundwave_normalize = list()\n",
      "\n",
      "for i in range(100):\n",
      "    soundwave_normalize.append(list(array(soundwave[i])/m(i)))"
     ],
     "language": "python",
     "metadata": {},
     "outputs": [],
     "prompt_number": 11
    },
    {
     "cell_type": "code",
     "collapsed": false,
     "input": [
      "X = array(soundwave_normalize)"
     ],
     "language": "python",
     "metadata": {},
     "outputs": [],
     "prompt_number": 12
    },
    {
     "cell_type": "code",
     "collapsed": false,
     "input": [
      "F = open('NormalizeData.pkl','w')\n",
      "pickle.dump(X,F)\n",
      "F.close()"
     ],
     "language": "python",
     "metadata": {},
     "outputs": [],
     "prompt_number": 14
    },
    {
     "cell_type": "code",
     "collapsed": false,
     "input": [
      "a = datetime.now()\n",
      "\n",
      "NormalizeData = pickle.load(open('NormalizeData.pkl','r'))\n",
      "    \n",
      "b = datetime.now()\n",
      "c = b - a\n",
      "\n",
      "c.seconds"
     ],
     "language": "python",
     "metadata": {},
     "outputs": [
      {
       "metadata": {},
       "output_type": "pyout",
       "prompt_number": 2,
       "text": [
        "27"
       ]
      }
     ],
     "prompt_number": 2
    },
    {
     "cell_type": "code",
     "collapsed": false,
     "input": [
      "plot(NormalizeData[0],'b')"
     ],
     "language": "python",
     "metadata": {},
     "outputs": [
      {
       "metadata": {},
       "output_type": "pyout",
       "prompt_number": 3,
       "text": [
        "[<matplotlib.lines.Line2D at 0xa15ada0>]"
       ]
      },
      {
       "metadata": {},
       "output_type": "display_data",
       "png": "[encoded data removed]",
       "text": [
        "<matplotlib.figure.Figure at 0x9fad390>"
       ]
      }
     ],
     "prompt_number": 3
    },
    {
     "cell_type": "markdown",
     "metadata": {},
     "source": [
      "## 4. Kmeans\u5206\u985e\u7a0b\u5f0f"
     ]
    },
    {
     "cell_type": "code",
     "collapsed": false,
     "input": [
      "from numpy import *\n",
      "import time\n",
      "import matplotlib.pyplot as plt\n",
      "\n",
      "\n",
      "# calculate Euclidean distance\n",
      "def euclDistance(vector1, vector2):\n",
      "    return sqrt(sum(power(vector2 - vector1, 2)))\n",
      "\n",
      "# init centroids with random samples\n",
      "def initCentroids(dataSet, k):\n",
      "    numSamples, dim = dataSet.shape\n",
      "    centroids = zeros((k, dim))\n",
      "    for i in range(k):\n",
      "        index = int(random.uniform(0, numSamples))\n",
      "        centroids[i, :] = dataSet[index, :]\n",
      "    return centroids\n",
      "\n",
      "# k-means cluster\n",
      "def kmeans(dataSet, k):\n",
      "    numSamples = dataSet.shape[0]\n",
      "    # first column stores which cluster this sample belongs to,\n",
      "    # second column stores the error between this sample and its centroid\n",
      "    clusterAssment = mat(zeros((numSamples, 2)))\n",
      "    clusterChanged = True\n",
      "\n",
      "    ## step 1: init centroids\n",
      "    centroids = initCentroids(dataSet, k)\n",
      "\n",
      "    while clusterChanged:\n",
      "        clusterChanged = False\n",
      "        ## for each sample\n",
      "        for i in xrange(numSamples):\n",
      "            minDist  = 529200.0\n",
      "            minIndex = 0\n",
      "            ## for each centroid\n",
      "            ## step 2: find the centroid who is closest\n",
      "            for j in range(k):\n",
      "                distance = euclDistance(centroids[j, :], dataSet[i, :])\n",
      "                if distance < minDist:\n",
      "                    minDist  = distance\n",
      "                    minIndex = j\n",
      "\n",
      "            ## step 3: update its cluster\n",
      "            if clusterAssment[i, 0] != minIndex:\n",
      "                clusterChanged = True\n",
      "                clusterAssment[i, :] = minIndex, minDist**2\n",
      "\n",
      "        ## step 4: update centroids\n",
      "        for j in range(k):\n",
      "            pointsInCluster = dataSet[nonzero(clusterAssment[:, 0].A == j)[0]]\n",
      "            centroids[j, :] = mean(pointsInCluster, axis = 0)\n",
      "\n",
      "    print 'Congratulations, cluster complete!'\n",
      "    return centroids, clusterAssment"
     ],
     "language": "python",
     "metadata": {},
     "outputs": [],
     "prompt_number": 26
    },
    {
     "cell_type": "markdown",
     "metadata": {},
     "source": [
      "## 5. \u5206\u985e\u7d50\u679c\uff0c\u77e9\u9663\u5de6\u908a\u70baLabel\u3001\u53f3\u908a\u70ba\u8207centroids\u7684\u8aa4\u5dee"
     ]
    },
    {
     "cell_type": "code",
     "collapsed": false,
     "input": [
      "kmeans(trans_data, 5)"
     ],
     "language": "python",
     "metadata": {},
     "outputs": [
      {
       "output_type": "stream",
       "stream": "stdout",
       "text": [
        "Congratulations, cluster complete!\n"
       ]
      },
      {
       "metadata": {},
       "output_type": "pyout",
       "prompt_number": 28,
       "text": [
        "(array([[  4.84108827e+03,   8.94309563e+03,  -3.96871708e+03,\n",
        "          -1.97953438e+03,  -1.30077891e+03,  -1.37494326e+03,\n",
        "          -4.05851229e+03,  -7.99568043e+03,   9.17715266e+03,\n",
        "           1.16359196e+04,   5.86922349e+03,   1.99962905e+04,\n",
        "           9.29631738e+03,   8.54499297e+02,   2.87768163e+03,\n",
        "          -1.19473134e+04,   5.29098408e+03,   1.12418343e+04,\n",
        "          -1.24658481e+04,  -5.03059339e+03,  -8.81136949e+02,\n",
        "           1.93407720e+04,   7.28248063e+03,  -8.81765568e+03,\n",
        "          -1.70125117e+03],\n",
        "        [ -8.28517284e+02,  -4.81754872e+02,   7.70349567e+02,\n",
        "           1.03584927e+01,  -2.39975437e+02,   1.43282393e+02,\n",
        "          -1.34698251e+02,   1.84924221e+03,  -5.49195871e+02,\n",
        "          -1.04850993e+03,  -4.24715135e+02,  -2.37781753e+03,\n",
        "          -1.40039626e+03,   2.13301463e+02,   3.32263252e+02,\n",
        "           1.52102339e+03,  -1.27451380e+03,  -3.53412598e+02,\n",
        "           5.18258589e+02,   1.29653384e+03,   7.17184416e+02,\n",
        "          -2.12971950e+03,  -1.71494211e+03,   8.93650416e+02,\n",
        "           1.12360222e+03],\n",
        "        [  3.25279034e+04,  -2.26610922e+04,  -3.48541698e+04,\n",
        "          -3.33333910e+03,   2.94811776e+04,   7.52084215e+03,\n",
        "           2.79926296e+04,  -1.20697432e+04,  -2.47174193e+04,\n",
        "           1.77899576e+04,   2.60977920e+04,  -1.33553033e+04,\n",
        "           2.47236209e+04,  -2.42911064e+04,  -1.93005452e+04,\n",
        "          -1.75678184e+04,  -3.96791081e+04,  -1.65053229e+02,\n",
        "           4.18002705e+04,  -1.78035070e+04,  -1.97545694e+04,\n",
        "           3.95778349e+04,  -3.22207519e+03,   4.47443846e+03,\n",
        "          -2.53772207e+04],\n",
        "        [  1.70260132e+04,  -1.32806640e+04,   2.20701608e+04,\n",
        "          -2.41764683e+04,   2.24404452e+04,  -2.97754433e+03,\n",
        "           5.36614351e+03,  -1.89220960e+04,   6.20733618e+02,\n",
        "           5.46550993e+03,  -2.06402768e+04,   1.23839569e+04,\n",
        "          -7.80160321e+03,  -1.82750150e+04,   4.27007419e+03,\n",
        "           7.60943623e+03,   2.14662763e+04,  -1.54302596e+04,\n",
        "           1.26154614e+04,  -2.05705616e+04,  -3.41364036e+04,\n",
        "          -4.40836995e+03,   1.22139371e+04,  -3.72553169e+03,\n",
        "           2.55810660e+03],\n",
        "        [ -1.94486189e+04,   5.08273931e+03,  -1.99088804e+04,\n",
        "           3.43056274e+04,  -2.10085851e+04,  -7.56774992e+02,\n",
        "           4.69287176e+03,  -1.85798857e+04,  -5.94378849e+03,\n",
        "          -2.16362000e+04,  -5.57374106e+02,   6.55654157e+03,\n",
        "           1.38234039e+04,   1.74033584e+04,  -2.18566888e+04,\n",
        "          -1.04666223e+04,   2.93679430e+04,  -1.98787266e+04,\n",
        "           2.95600388e+02,  -3.64096965e+03,   1.71398746e+04,\n",
        "          -1.08360828e+04,   3.03684482e+04,   2.74079512e+03,\n",
        "          -3.05287617e+04]]), matrix([[  1.00000000e+00,   3.21140679e+09],\n",
        "         [  1.00000000e+00,   2.46954842e+09],\n",
        "         [  1.00000000e+00,   7.04396807e+09],\n",
        "         [  1.00000000e+00,   5.85725014e+09],\n",
        "         [  1.00000000e+00,   4.38054502e+09],\n",
        "         [  1.00000000e+00,   2.59305609e+09],\n",
        "         [  0.00000000e+00,   0.00000000e+00],\n",
        "         [  1.00000000e+00,   7.19341041e+09],\n",
        "         [  1.00000000e+00,   1.98801109e+09],\n",
        "         [  1.00000000e+00,   5.45615377e+09],\n",
        "         [  1.00000000e+00,   2.73764978e+09],\n",
        "         [  1.00000000e+00,   3.77856338e+09],\n",
        "         [  1.00000000e+00,   1.94439199e+10],\n",
        "         [  0.00000000e+00,   1.50643899e+10],\n",
        "         [  1.00000000e+00,   2.66907577e+09],\n",
        "         [  1.00000000e+00,   2.56146845e+09],\n",
        "         [  1.00000000e+00,   5.72204371e+09],\n",
        "         [  1.00000000e+00,   8.35765031e+09],\n",
        "         [  1.00000000e+00,   8.66278900e+09],\n",
        "         [  1.00000000e+00,   2.62291810e+09],\n",
        "         [  1.00000000e+00,   6.89744655e+09],\n",
        "         [  0.00000000e+00,   0.00000000e+00],\n",
        "         [  1.00000000e+00,   6.83323922e+09],\n",
        "         [  1.00000000e+00,   1.15967636e+10],\n",
        "         [  0.00000000e+00,   0.00000000e+00],\n",
        "         [  0.00000000e+00,   0.00000000e+00],\n",
        "         [  1.00000000e+00,   1.54728778e+10],\n",
        "         [  1.00000000e+00,   2.12777413e+10],\n",
        "         [  4.00000000e+00,   1.95921146e+10],\n",
        "         [  1.00000000e+00,   1.41990613e+10],\n",
        "         [  4.00000000e+00,   0.00000000e+00],\n",
        "         [  1.00000000e+00,   1.29872098e+10],\n",
        "         [  1.00000000e+00,   8.82066128e+09],\n",
        "         [  1.00000000e+00,   6.17507946e+09],\n",
        "         [  1.00000000e+00,   5.57054536e+09],\n",
        "         [  3.00000000e+00,   1.24337894e+10],\n",
        "         [  1.00000000e+00,   7.93683512e+09],\n",
        "         [  0.00000000e+00,   6.33034016e+09],\n",
        "         [  0.00000000e+00,   0.00000000e+00],\n",
        "         [  1.00000000e+00,   1.41676549e+10],\n",
        "         [  1.00000000e+00,   1.01176743e+10],\n",
        "         [  1.00000000e+00,   2.92006542e+09],\n",
        "         [  1.00000000e+00,   9.79750768e+09],\n",
        "         [  1.00000000e+00,   1.16995839e+10],\n",
        "         [  1.00000000e+00,   8.35129995e+09],\n",
        "         [  1.00000000e+00,   2.60988799e+09],\n",
        "         [  1.00000000e+00,   6.81826772e+09],\n",
        "         [  1.00000000e+00,   1.60257094e+10],\n",
        "         [  1.00000000e+00,   1.20238692e+10],\n",
        "         [  1.00000000e+00,   7.17012160e+09],\n",
        "         [  2.00000000e+00,   0.00000000e+00],\n",
        "         [  1.00000000e+00,   4.91223482e+09],\n",
        "         [  1.00000000e+00,   6.24850771e+09],\n",
        "         [  1.00000000e+00,   5.27219575e+09],\n",
        "         [  1.00000000e+00,   1.08709363e+10],\n",
        "         [  1.00000000e+00,   5.48022112e+09],\n",
        "         [  0.00000000e+00,   0.00000000e+00],\n",
        "         [  1.00000000e+00,   4.31188747e+09],\n",
        "         [  1.00000000e+00,   9.65395778e+09],\n",
        "         [  1.00000000e+00,   1.84156725e+09],\n",
        "         [  1.00000000e+00,   7.58217679e+09],\n",
        "         [  1.00000000e+00,   7.75186426e+09],\n",
        "         [  1.00000000e+00,   8.02162588e+09],\n",
        "         [  1.00000000e+00,   5.90619180e+09],\n",
        "         [  1.00000000e+00,   5.50165857e+09],\n",
        "         [  1.00000000e+00,   2.78934986e+09],\n",
        "         [  1.00000000e+00,   4.60987901e+09],\n",
        "         [  1.00000000e+00,   2.01747906e+09],\n",
        "         [  1.00000000e+00,   2.48985873e+09],\n",
        "         [  1.00000000e+00,   1.25995266e+10],\n",
        "         [  1.00000000e+00,   1.18856273e+10],\n",
        "         [  1.00000000e+00,   8.58297134e+09],\n",
        "         [  1.00000000e+00,   1.96612249e+09],\n",
        "         [  1.00000000e+00,   8.17346256e+09],\n",
        "         [  1.00000000e+00,   5.88237293e+09],\n",
        "         [  1.00000000e+00,   2.33287598e+09],\n",
        "         [  1.00000000e+00,   2.42410838e+09],\n",
        "         [  1.00000000e+00,   4.07201328e+09],\n",
        "         [  1.00000000e+00,   0.00000000e+00],\n",
        "         [  1.00000000e+00,   5.06376717e+09],\n",
        "         [  1.00000000e+00,   4.77639329e+09],\n",
        "         [  1.00000000e+00,   6.45116586e+09],\n",
        "         [  1.00000000e+00,   1.16746017e+10],\n",
        "         [  1.00000000e+00,   5.71686587e+09],\n",
        "         [  1.00000000e+00,   1.69544056e+10],\n",
        "         [  1.00000000e+00,   1.10662451e+10],\n",
        "         [  1.00000000e+00,   1.47788989e+10],\n",
        "         [  1.00000000e+00,   9.57948882e+09],\n",
        "         [  1.00000000e+00,   7.10998287e+09],\n",
        "         [  1.00000000e+00,   8.80776873e+09],\n",
        "         [  1.00000000e+00,   7.19405926e+09],\n",
        "         [  1.00000000e+00,   1.92195321e+10],\n",
        "         [  1.00000000e+00,   1.38948016e+10],\n",
        "         [  1.00000000e+00,   2.77526680e+10],\n",
        "         [  1.00000000e+00,   5.22272331e+10],\n",
        "         [  1.00000000e+00,   2.12248420e+10],\n",
        "         [  1.00000000e+00,   9.09800358e+09],\n",
        "         [  1.00000000e+00,   1.08868413e+10],\n",
        "         [  0.00000000e+00,   0.00000000e+00],\n",
        "         [  3.00000000e+00,   0.00000000e+00]]))"
       ]
      }
     ],
     "prompt_number": 28
    },
    {
     "cell_type": "markdown",
     "metadata": {},
     "source": [
      "## \u76ee\u524d\u7d50\u8ad6\uff1a\u5206\u7684\u8d85\u721b"
     ]
    },
    {
     "cell_type": "code",
     "collapsed": false,
     "input": [
      "a = array([1,2,3])\n",
      "b = array([4,4,6])\n",
      "a-b\n",
      "c = sqrt(sum(power(a-b,2)))\n",
      "print a-b , c"
     ],
     "language": "python",
     "metadata": {},
     "outputs": [
      {
       "output_type": "stream",
       "stream": "stdout",
       "text": [
        "[-3 -2 -3] 4.69041575982\n"
       ]
      }
     ],
     "prompt_number": 11
    },
    {
     "cell_type": "code",
     "collapsed": false,
     "input": [
      "X.shape"
     ],
     "language": "python",
     "metadata": {},
     "outputs": [
      {
       "metadata": {},
       "output_type": "pyout",
       "prompt_number": 17,
       "text": [
        "(100L, 529200L)"
       ]
      }
     ],
     "prompt_number": 17
    },
    {
     "cell_type": "code",
     "collapsed": false,
     "input": [
      "X[1]"
     ],
     "language": "python",
     "metadata": {},
     "outputs": [
      {
       "metadata": {},
       "output_type": "pyout",
       "prompt_number": 20,
       "text": [
        "array([-0.01348509, -0.01524805, -0.01608314, ...,  0.20038971,\n",
        "        0.16373871,  0.11103551])"
       ]
      }
     ],
     "prompt_number": 20
    },
    {
     "cell_type": "code",
     "collapsed": false,
     "input": [
      "def dy(i):\n",
      "    return fftpack.dct(X[i],1)[0:80000]"
     ],
     "language": "python",
     "metadata": {},
     "outputs": [],
     "prompt_number": 8
    },
    {
     "cell_type": "code",
     "collapsed": false,
     "input": [
      "plot(dy(55),'r')"
     ],
     "language": "python",
     "metadata": {},
     "outputs": [
      {
       "metadata": {},
       "output_type": "pyout",
       "prompt_number": 9,
       "text": [
        "[<matplotlib.lines.Line2D at 0xf074e8d0>]"
       ]
      },
      {
       "metadata": {},
       "output_type": "display_data",
       "png": "[encoded data removed]",
       "text": [
        "<matplotlib.figure.Figure at 0x13541978>"
       ]
      }
     ],
     "prompt_number": 9
    },
    {
     "cell_type": "code",
     "collapsed": false,
     "input": [
      "def dy(i):\n",
      "    return fftpack.dct(X[i],1)[0:80000]\n",
      "\n",
      "a = datetime.now()\n",
      "\n",
      "Y = list()\n",
      "\n",
      "for i in range(100):\n",
      "    Y.append(dy(i))\n",
      "    \n",
      "b = datetime.now()\n",
      "c = b - a\n",
      "\n",
      "c.seconds"
     ],
     "language": "python",
     "metadata": {},
     "outputs": [
      {
       "metadata": {},
       "output_type": "pyout",
       "prompt_number": 10,
       "text": [
        "1053"
       ]
      }
     ],
     "prompt_number": 10
    },
    {
     "cell_type": "code",
     "collapsed": false,
     "input": [
      "dy(1)"
     ],
     "language": "python",
     "metadata": {},
     "outputs": [
      {
       "metadata": {},
       "output_type": "pyout",
       "prompt_number": 31,
       "text": [
        "array([ -4.06433255,  -0.80479966,  -5.58604679, ..., -71.59022371,\n",
        "       -23.40451059, -37.53241444])"
       ]
      }
     ],
     "prompt_number": 31
    },
    {
     "cell_type": "code",
     "collapsed": false,
     "input": [
      "len(dy(1)), type(dy(1))"
     ],
     "language": "python",
     "metadata": {},
     "outputs": [
      {
       "metadata": {},
       "output_type": "pyout",
       "prompt_number": 35,
       "text": [
        "(80000, numpy.ndarray)"
       ]
      }
     ],
     "prompt_number": 35
    },
    {
     "cell_type": "code",
     "collapsed": false,
     "input": [
      "kmeans(array(DCT_data), 5)"
     ],
     "language": "python",
     "metadata": {},
     "outputs": [
      {
       "output_type": "stream",
       "stream": "stdout",
       "text": [
        "Congratulations, cluster complete!\n"
       ]
      },
      {
       "metadata": {},
       "output_type": "pyout",
       "prompt_number": 7,
       "text": [
        "(array([[  3.32563550e+01,  -3.50664450e+01,  -4.21097756e+01, ...,\n",
        "           3.12988289e+01,   1.53142883e+02,  -1.63944441e+01],\n",
        "        [ -1.39932434e+02,  -1.86005740e+00,  -5.35366498e+01, ...,\n",
        "           4.86315642e+01,  -2.13500742e+01,   2.41497177e-01],\n",
        "        [ -6.88926771e+02,   6.54276905e+00,   1.60790798e+01, ...,\n",
        "          -6.09429015e+00,  -3.14253835e+01,   1.86228269e+01],\n",
        "        [  9.82638856e+01,   5.88569426e+01,   5.94410056e+01, ...,\n",
        "          -1.36887487e+01,   5.00372043e+01,   4.89356140e+01],\n",
        "        [ -1.91345243e+02,   6.05164503e+01,  -2.50810316e+02, ...,\n",
        "          -1.73818173e+02,  -9.58168419e+01,  -2.04728659e+02]]),\n",
        " matrix([[  2.00000000e+00,   5.12207797e+10],\n",
        "         [  2.00000000e+00,   2.29123128e+10],\n",
        "         [  2.00000000e+00,   2.50591415e+10],\n",
        "         [  2.00000000e+00,   4.57671020e+10],\n",
        "         [  2.00000000e+00,   2.84669898e+10],\n",
        "         [  2.00000000e+00,   3.68952626e+10],\n",
        "         [  2.00000000e+00,   3.49690490e+10],\n",
        "         [  2.00000000e+00,   3.58815745e+10],\n",
        "         [  2.00000000e+00,   2.88981503e+10],\n",
        "         [  2.00000000e+00,   3.10980169e+10],\n",
        "         [  2.00000000e+00,   4.94430581e+10],\n",
        "         [  2.00000000e+00,   5.06392378e+10],\n",
        "         [  2.00000000e+00,   5.63327627e+10],\n",
        "         [  2.00000000e+00,   6.52743282e+10],\n",
        "         [  2.00000000e+00,   2.84593271e+10],\n",
        "         [  2.00000000e+00,   2.78370546e+10],\n",
        "         [  2.00000000e+00,   2.69736497e+10],\n",
        "         [  2.00000000e+00,   5.22933064e+10],\n",
        "         [  2.00000000e+00,   4.88436687e+10],\n",
        "         [  2.00000000e+00,   3.46425997e+10],\n",
        "         [  2.00000000e+00,   2.22814184e+10],\n",
        "         [  2.00000000e+00,   8.55357042e+10],\n",
        "         [  2.00000000e+00,   3.51588955e+10],\n",
        "         [  2.00000000e+00,   4.53606803e+10],\n",
        "         [  2.00000000e+00,   3.12649211e+10],\n",
        "         [  2.00000000e+00,   5.48063309e+10],\n",
        "         [  2.00000000e+00,   7.43309351e+10],\n",
        "         [  2.00000000e+00,   6.16345545e+10],\n",
        "         [  2.00000000e+00,   3.99994843e+10],\n",
        "         [  2.00000000e+00,   3.96049655e+10],\n",
        "         [  2.00000000e+00,   4.65325099e+10],\n",
        "         [  2.00000000e+00,   3.43007871e+10],\n",
        "         [  2.00000000e+00,   3.53512361e+10],\n",
        "         [  2.00000000e+00,   3.16046364e+10],\n",
        "         [  2.00000000e+00,   5.57772831e+10],\n",
        "         [  2.00000000e+00,   4.43018590e+10],\n",
        "         [  2.00000000e+00,   2.86032297e+10],\n",
        "         [  2.00000000e+00,   4.33665163e+10],\n",
        "         [  2.00000000e+00,   5.67280462e+10],\n",
        "         [  2.00000000e+00,   3.96409560e+10],\n",
        "         [  2.00000000e+00,   3.32717640e+10],\n",
        "         [  2.00000000e+00,   2.06421123e+10],\n",
        "         [  2.00000000e+00,   2.15413391e+10],\n",
        "         [  2.00000000e+00,   2.28695221e+10],\n",
        "         [  0.00000000e+00,   0.00000000e+00],\n",
        "         [  2.00000000e+00,   1.94453912e+10],\n",
        "         [  2.00000000e+00,   3.31074325e+10],\n",
        "         [  3.00000000e+00,   0.00000000e+00],\n",
        "         [  2.00000000e+00,   5.22909107e+10],\n",
        "         [  2.00000000e+00,   6.33680067e+10],\n",
        "         [  2.00000000e+00,   5.64104104e+10],\n",
        "         [  2.00000000e+00,   1.73904608e+10],\n",
        "         [  2.00000000e+00,   3.07624836e+10],\n",
        "         [  2.00000000e+00,   2.07035982e+10],\n",
        "         [  2.00000000e+00,   3.90478007e+10],\n",
        "         [  2.00000000e+00,   2.24202555e+10],\n",
        "         [  2.00000000e+00,   2.24759459e+10],\n",
        "         [  2.00000000e+00,   2.40126149e+10],\n",
        "         [  2.00000000e+00,   2.40874130e+10],\n",
        "         [  2.00000000e+00,   1.84694736e+10],\n",
        "         [  2.00000000e+00,   3.28983543e+10],\n",
        "         [  2.00000000e+00,   3.48563368e+10],\n",
        "         [  2.00000000e+00,   3.06008316e+10],\n",
        "         [  2.00000000e+00,   1.91778955e+10],\n",
        "         [  2.00000000e+00,   2.69245415e+10],\n",
        "         [  2.00000000e+00,   1.75494851e+10],\n",
        "         [  2.00000000e+00,   2.78282588e+10],\n",
        "         [  2.00000000e+00,   1.49612926e+10],\n",
        "         [  2.00000000e+00,   2.69838771e+10],\n",
        "         [  1.00000000e+00,   0.00000000e+00],\n",
        "         [  2.00000000e+00,   3.46717218e+10],\n",
        "         [  2.00000000e+00,   2.48907950e+10],\n",
        "         [  2.00000000e+00,   2.64085135e+10],\n",
        "         [  2.00000000e+00,   3.58825723e+10],\n",
        "         [  2.00000000e+00,   2.16711950e+10],\n",
        "         [  2.00000000e+00,   0.00000000e+00],\n",
        "         [  2.00000000e+00,   1.69394390e+10],\n",
        "         [  2.00000000e+00,   3.94170174e+10],\n",
        "         [  2.00000000e+00,   2.12864898e+10],\n",
        "         [  2.00000000e+00,   1.82554366e+10],\n",
        "         [  2.00000000e+00,   4.32686500e+10],\n",
        "         [  2.00000000e+00,   3.81875738e+10],\n",
        "         [  2.00000000e+00,   3.56910364e+10],\n",
        "         [  2.00000000e+00,   2.03038987e+10],\n",
        "         [  2.00000000e+00,   3.36091406e+10],\n",
        "         [  2.00000000e+00,   3.00591924e+10],\n",
        "         [  2.00000000e+00,   3.44241464e+10],\n",
        "         [  2.00000000e+00,   3.18690244e+10],\n",
        "         [  4.00000000e+00,   0.00000000e+00],\n",
        "         [  2.00000000e+00,   1.95937549e+10],\n",
        "         [  2.00000000e+00,   1.99692621e+10],\n",
        "         [  2.00000000e+00,   4.82510751e+10],\n",
        "         [  2.00000000e+00,   2.49719660e+10],\n",
        "         [  2.00000000e+00,   5.65730419e+10],\n",
        "         [  2.00000000e+00,   7.94093716e+10],\n",
        "         [  2.00000000e+00,   4.53950126e+10],\n",
        "         [  2.00000000e+00,   3.17746934e+10],\n",
        "         [  2.00000000e+00,   4.67665681e+10],\n",
        "         [  2.00000000e+00,   3.25501826e+10],\n",
        "         [  2.00000000e+00,   4.88967953e+10]]))"
       ]
      }
     ],
     "prompt_number": 7
    },
    {
     "cell_type": "code",
     "collapsed": false,
     "input": [
      "plot(Y[3],'r')"
     ],
     "language": "python",
     "metadata": {},
     "outputs": [
      {
       "metadata": {},
       "output_type": "pyout",
       "prompt_number": 44,
       "text": [
        "[<matplotlib.lines.Line2D at 0x10a9dcb00>]"
       ]
      },
      {
       "metadata": {},
       "output_type": "display_data",
       "png": "[encoded data removed]",
       "text": [
        "<matplotlib.figure.Figure at 0x10a716780>"
       ]
      }
     ],
     "prompt_number": 44
    },
    {
     "cell_type": "code",
     "collapsed": false,
     "input": [
      "array(Y).shape"
     ],
     "language": "python",
     "metadata": {},
     "outputs": [
      {
       "metadata": {},
       "output_type": "pyout",
       "prompt_number": 46,
       "text": [
        "(100L, 80000L)"
       ]
      }
     ],
     "prompt_number": 46
    },
    {
     "cell_type": "code",
     "collapsed": false,
     "input": [
      "F = open('DCT_data.pkl','w')\n",
      "pickle.dump(Y,F)\n",
      "F.close()"
     ],
     "language": "python",
     "metadata": {},
     "outputs": [],
     "prompt_number": 11
    },
    {
     "cell_type": "code",
     "collapsed": false,
     "input": [
      "a = datetime.now()\n",
      "\n",
      "DCT_data = pickle.load(open('DCT_data.pkl','r'))\n",
      "    \n",
      "b = datetime.now()\n",
      "c = b - a\n",
      "\n",
      "c.seconds"
     ],
     "language": "python",
     "metadata": {},
     "outputs": [
      {
       "metadata": {},
       "output_type": "pyout",
       "prompt_number": 64,
       "text": [
        "2"
       ]
      }
     ],
     "prompt_number": 64
    },
    {
     "cell_type": "code",
     "collapsed": false,
     "input": [
      "plot(DCT_data[9],'r')"
     ],
     "language": "python",
     "metadata": {},
     "outputs": [
      {
       "metadata": {},
       "output_type": "pyout",
       "prompt_number": 65,
       "text": [
        "[<matplotlib.lines.Line2D at 0x1685b7f0>]"
       ]
      },
      {
       "metadata": {},
       "output_type": "display_data",
       "png": "[encoded data removed]",
       "text": [
        "<matplotlib.figure.Figure at 0x14139cc0>"
       ]
      }
     ],
     "prompt_number": 65
    },
    {
     "cell_type": "code",
     "collapsed": false,
     "input": [
      "type(DCT_data)"
     ],
     "language": "python",
     "metadata": {},
     "outputs": [
      {
       "metadata": {},
       "output_type": "pyout",
       "prompt_number": 8,
       "text": [
        "list"
       ]
      }
     ],
     "prompt_number": 8
    },
    {
     "cell_type": "code",
     "collapsed": false,
     "input": [
      "len(DCT_data)"
     ],
     "language": "python",
     "metadata": {},
     "outputs": [
      {
       "metadata": {},
       "output_type": "pyout",
       "prompt_number": 9,
       "text": [
        "100"
       ]
      }
     ],
     "prompt_number": 9
    },
    {
     "cell_type": "code",
     "collapsed": false,
     "input": [
      "DCT_data[0][0]"
     ],
     "language": "python",
     "metadata": {},
     "outputs": [
      {
       "metadata": {},
       "output_type": "pyout",
       "prompt_number": 10,
       "text": [
        "-522.22810870161925"
       ]
      }
     ],
     "prompt_number": 10
    },
    {
     "cell_type": "code",
     "collapsed": false,
     "input": [
      "DCT_min = list()\n",
      "\n",
      "for i in range(80000):\n",
      "    a = 100000\n",
      "    for j in range(100):\n",
      "        b = abs(DCT_data[j][i])\n",
      "        if b < a:\n",
      "            a = b\n",
      "            \n",
      "    DCT_min.append([a,i])"
     ],
     "language": "python",
     "metadata": {},
     "outputs": [],
     "prompt_number": 66
    },
    {
     "cell_type": "code",
     "collapsed": false,
     "input": [
      "len(DCT_min)"
     ],
     "language": "python",
     "metadata": {},
     "outputs": [
      {
       "metadata": {},
       "output_type": "pyout",
       "prompt_number": 67,
       "text": [
        "80000"
       ]
      }
     ],
     "prompt_number": 67
    },
    {
     "cell_type": "code",
     "collapsed": false,
     "input": [
      "plot(DCT_min,'g')"
     ],
     "language": "python",
     "metadata": {},
     "outputs": [
      {
       "metadata": {},
       "output_type": "pyout",
       "prompt_number": 13,
       "text": [
        "[<matplotlib.lines.Line2D at 0x1595be48>,\n",
        " <matplotlib.lines.Line2D at 0x1596a0b8>]"
       ]
      },
      {
       "metadata": {},
       "output_type": "display_data",
       "png": "[encoded data removed]",
       "text": [
        "<matplotlib.figure.Figure at 0x12824080>"
       ]
      }
     ],
     "prompt_number": 13
    },
    {
     "cell_type": "code",
     "collapsed": false,
     "input": [
      "sorted(DCT_min, reverse=True)[2499], sorted(DCT_min, reverse=True)[2500]"
     ],
     "language": "python",
     "metadata": {},
     "outputs": [
      {
       "metadata": {},
       "output_type": "pyout",
       "prompt_number": 68,
       "text": [
        "([11.67318403086626, 18850], [11.671744401763817, 18789])"
       ]
      }
     ],
     "prompt_number": 68
    },
    {
     "cell_type": "code",
     "collapsed": false,
     "input": [
      "DCT_min_2500 = list()\n",
      "\n",
      "for i in range(80000):\n",
      "    a = DCT_min[i][0]\n",
      "    if a > 11.673:\n",
      "        DCT_min_2500.append(DCT_min[i])\n",
      "    else:\n",
      "        pass"
     ],
     "language": "python",
     "metadata": {},
     "outputs": [],
     "prompt_number": 69
    },
    {
     "cell_type": "code",
     "collapsed": false,
     "input": [
      "len(DCT_min_2500)"
     ],
     "language": "python",
     "metadata": {},
     "outputs": [
      {
       "metadata": {},
       "output_type": "pyout",
       "prompt_number": 71,
       "text": [
        "2500"
       ]
      }
     ],
     "prompt_number": 71
    },
    {
     "cell_type": "code",
     "collapsed": false,
     "input": [
      "index = list()\n",
      "\n",
      "for i in range(2500):\n",
      "    index.append(DCT_min_2500[i][1])\n",
      "    \n",
      "print len(index), index"
     ],
     "language": "python",
     "metadata": {},
     "outputs": [
      {
       "output_type": "stream",
       "stream": "stdout",
       "text": [
        "2500 [1022, 1242, 1284, 1410, 1430, 1438, 1466, 1480, 1518, 1519, 1549, 1552, 1614, 1650, 1651, 1670, 1689, 1704, 1736, 1740, 1741, 1744, 1764, 1772, 1775, 1783, 1789, 1838, 1862, 1875, 1881, 1885, 1892, 1894, 1939, 1953, 1968, 1971, 1974, 1983, 1986, 1992, 1994, 2000, 2005, 2007, 2018, 2023, 2024, 2025, 2033, 2038, 2039, 2041, 2043, 2050, 2054, 2058, 2065, 2066, 2079, 2081, 2087, 2092, 2104, 2106, 2111, 2112, 2116, 2121, 2126, 2139, 2141, 2142, 2143, 2148, 2158, 2162, 2163, 2164, 2167, 2169, 2172, 2178, 2181, 2184, 2191, 2194, 2198, 2208, 2213, 2223, 2230, 2232, 2246, 2247, 2248, 2252, 2254, 2258, 2259, 2264, 2267, 2268, 2270, 2274, 2278, 2279, 2281, 2284, 2291, 2292, 2293, 2301, 2303, 2310, 2314, 2319, 2325, 2334, 2344, 2345, 2348, 2351, 2356, 2360, 2362, 2366, 2369, 2372, 2373, 2379, 2386, 2388, 2394, 2397, 2398, 2406, 2409, 2413, 2414, 2426, 2434, 2438, 2449, 2451, 2456, 2460, 2462, 2476, 2480, 2488, 2492, 2507, 2508, 2515, 2519, 2528, 2540, 2541, 2542, 2557, 2561, 2570, 2573, 2577, 2580, 2582, 2583, 2589, 2593, 2598, 2602, 2604, 2607, 2608, 2610, 2622, 2625, 2630, 2631, 2632, 2634, 2640, 2641, 2644, 2646, 2652, 2661, 2665, 2666, 2667, 2669, 2671, 2672, 2678, 2682, 2696, 2705, 2707, 2709, 2716, 2719, 2724, 2730, 2732, 2733, 2738, 2742, 2747, 2759, 2762, 2763, 2764, 2765, 2767, 2770, 2771, 2772, 2773, 2775, 2778, 2784, 2791, 2797, 2799, 2801, 2803, 2805, 2810, 2811, 2812, 2813, 2814, 2816, 2817, 2828, 2831, 2835, 2836, 2838, 2842, 2850, 2855, 2858, 2860, 2866, 2871, 2874, 2875, 2888, 2893, 2897, 2898, 2904, 2908, 2915, 2920, 2929, 2935, 2937, 2938, 2939, 2950, 2956, 2960, 2961, 2963, 2969, 2976, 2978, 2984, 2987, 2991, 2993, 3000, 3003, 3004, 3008, 3012, 3020, 3025, 3028, 3029, 3031, 3049, 3059, 3065, 3068, 3071, 3078, 3081, 3102, 3108, 3112, 3114, 3116, 3123, 3125, 3135, 3140, 3142, 3144, 3145, 3151, 3152, 3153, 3154, 3157, 3161, 3162, 3163, 3165, 3171, 3172, 3173, 3177, 3184, 3186, 3187, 3190, 3198, 3212, 3230, 3236, 3244, 3255, 3258, 3290, 3295, 3300, 3304, 3315, 3318, 3326, 3330, 3333, 3339, 3347, 3353, 3355, 3358, 3362, 3363, 3368, 3374, 3376, 3377, 3384, 3386, 3395, 3405, 3409, 3413, 3424, 3426, 3431, 3432, 3440, 3441, 3442, 3448, 3453, 3456, 3459, 3463, 3469, 3475, 3479, 3480, 3482, 3484, 3487, 3493, 3506, 3518, 3524, 3525, 3527, 3530, 3533, 3537, 3538, 3544, 3545, 3546, 3553, 3558, 3564, 3571, 3579, 3583, 3585, 3586, 3589, 3594, 3600, 3603, 3611, 3619, 3622, 3628, 3631, 3635, 3644, 3646, 3647, 3648, 3649, 3653, 3655, 3658, 3663, 3693, 3699, 3702, 3704, 3706, 3717, 3724, 3725, 3727, 3733, 3735, 3736, 3741, 3744, 3748, 3751, 3755, 3760, 3765, 3772, 3776, 3777, 3779, 3783, 3786, 3788, 3790, 3801, 3802, 3817, 3818, 3822, 3840, 3842, 3845, 3852, 3853, 3861, 3867, 3868, 3879, 3884, 3885, 3887, 3893, 3896, 3910, 3913, 3924, 3925, 3926, 3929, 3930, 3937, 3938, 3939, 3942, 3945, 3946, 3948, 3949, 3950, 3951, 3956, 3959, 3961, 3962, 3967, 3968, 3969, 3971, 3972, 3977, 3978, 3979, 3980, 3984, 3986, 3988, 3990, 4005, 4006, 4014, 4015, 4016, 4017, 4019, 4020, 4023, 4025, 4032, 4040, 4041, 4042, 4044, 4049, 4050, 4052, 4055, 4057, 4062, 4074, 4075, 4076, 4077, 4080, 4082, 4084, 4095, 4097, 4098, 4099, 4100, 4105, 4113, 4114, 4120, 4129, 4131, 4136, 4137, 4140, 4143, 4144, 4146, 4153, 4157, 4164, 4175, 4180, 4183, 4184, 4193, 4197, 4200, 4202, 4205, 4209, 4213, 4218, 4224, 4230, 4231, 4240, 4245, 4247, 4248, 4249, 4250, 4252, 4265, 4275, 4277, 4281, 4283, 4286, 4290, 4295, 4299, 4302, 4303, 4306, 4311, 4324, 4332, 4333, 4337, 4338, 4340, 4342, 4343, 4344, 4363, 4365, 4372, 4373, 4382, 4384, 4388, 4389, 4393, 4405, 4411, 4418, 4424, 4425, 4428, 4429, 4431, 4433, 4434, 4435, 4438, 4440, 4442, 4455, 4457, 4460, 4461, 4462, 4464, 4465, 4466, 4467, 4469, 4472, 4474, 4477, 4487, 4491, 4492, 4493, 4497, 4499, 4501, 4502, 4513, 4516, 4524, 4528, 4529, 4540, 4546, 4547, 4551, 4559, 4564, 4566, 4569, 4571, 4577, 4578, 4582, 4585, 4588, 4589, 4598, 4599, 4613, 4618, 4624, 4629, 4633, 4635, 4639, 4643, 4645, 4646, 4651, 4652, 4656, 4658, 4659, 4665, 4666, 4671, 4674, 4676, 4683, 4684, 4685, 4688, 4689, 4691, 4692, 4694, 4695, 4697, 4701, 4706, 4708, 4711, 4712, 4713, 4715, 4716, 4717, 4720, 4721, 4722, 4727, 4729, 4732, 4733, 4734, 4735, 4740, 4742, 4743, 4745, 4746, 4748, 4749, 4752, 4754, 4755, 4756, 4757, 4760, 4768, 4772, 4776, 4778, 4785, 4787, 4792, 4794, 4798, 4810, 4811, 4813, 4814, 4816, 4820, 4828, 4829, 4830, 4831, 4834, 4841, 4854, 4858, 4861, 4868, 4876, 4877, 4880, 4881, 4885, 4888, 4893, 4901, 4920, 4921, 4922, 4925, 4926, 4929, 4931, 4937, 4944, 4947, 4951, 4953, 4954, 4955, 4956, 4963, 4965, 4977, 4978, 4981, 4983, 4987, 4989, 4997, 5000, 5001, 5003, 5006, 5014, 5015, 5018, 5019, 5021, 5023, 5029, 5034, 5039, 5045, 5065, 5070, 5073, 5088, 5089, 5117, 5121, 5126, 5129, 5132, 5135, 5139, 5141, 5142, 5145, 5148, 5152, 5153, 5154, 5156, 5158, 5160, 5162, 5170, 5172, 5174, 5178, 5179, 5180, 5184, 5185, 5190, 5191, 5209, 5212, 5216, 5219, 5220, 5221, 5224, 5234, 5241, 5242, 5248, 5250, 5257, 5261, 5263, 5266, 5268, 5271, 5273, 5275, 5276, 5279, 5280, 5281, 5282, 5284, 5288, 5290, 5295, 5298, 5299, 5300, 5303, 5308, 5309, 5310, 5311, 5318, 5319, 5321, 5325, 5326, 5327, 5339, 5348, 5352, 5355, 5358, 5368, 5373, 5377, 5385, 5391, 5392, 5393, 5397, 5399, 5413, 5415, 5417, 5418, 5422, 5426, 5431, 5440, 5449, 5450, 5457, 5463, 5478, 5494, 5503, 5512, 5523, 5526, 5529, 5532, 5533, 5534, 5536, 5537, 5541, 5546, 5547, 5548, 5551, 5552, 5555, 5561, 5568, 5571, 5573, 5578, 5579, 5581, 5584, 5587, 5588, 5590, 5592, 5597, 5598, 5601, 5602, 5610, 5611, 5612, 5614, 5616, 5617, 5623, 5624, 5628, 5629, 5632, 5633, 5634, 5636, 5638, 5639, 5640, 5642, 5643, 5650, 5653, 5657, 5659, 5661, 5662, 5663, 5667, 5674, 5681, 5683, 5691, 5694, 5697, 5699, 5700, 5705, 5707, 5712, 5715, 5729, 5730, 5732, 5733, 5736, 5739, 5742, 5745, 5748, 5749, 5750, 5756, 5758, 5762, 5769, 5770, 5775, 5779, 5787, 5789, 5790, 5791, 5806, 5809, 5811, 5815, 5819, 5820, 5824, 5825, 5827, 5828, 5831, 5844, 5848, 5849, 5854, 5858, 5867, 5871, 5874, 5876, 5878, 5886, 5888, 5893, 5896, 5902, 5903, 5904, 5910, 5911, 5912, 5913, 5914, 5916, 5920, 5927, 5929, 5934, 5940, 5942, 5943, 5946, 5948, 5949, 5950, 5955, 5964, 5973, 5978, 5980, 5983, 5985, 5986, 5992, 5999, 6003, 6006, 6010, 6019, 6023, 6024, 6029, 6030, 6031, 6033, 6051, 6054, 6055, 6061, 6063, 6071, 6084, 6098, 6109, 6110, 6112, 6116, 6119, 6125, 6127, 6131, 6132, 6136, 6138, 6147, 6150, 6165, 6166, 6169, 6175, 6176, 6183, 6189, 6192, 6196, 6212, 6213, 6222, 6227, 6235, 6240, 6243, 6248, 6249, 6263, 6271, 6276, 6279, 6280, 6289, 6291, 6294, 6295, 6300, 6301, 6302, 6310, 6312, 6313, 6315, 6320, 6324, 6325, 6328, 6338, 6339, 6347, 6348, 6352, 6355, 6365, 6368, 6373, 6380, 6385, 6386, 6387, 6389, 6391, 6394, 6399, 6405, 6408, 6409, 6417, 6439, 6446, 6448, 6449, 6450, 6454, 6462, 6476, 6489, 6497, 6512, 6522, 6529, 6530, 6539, 6543, 6545, 6557, 6566, 6569, 6574, 6575, 6582, 6585, 6586, 6587, 6589, 6591, 6593, 6600, 6610, 6621, 6625, 6632, 6633, 6635, 6637, 6643, 6647, 6649, 6652, 6656, 6663, 6664, 6673, 6692, 6706, 6708, 6715, 6722, 6723, 6731, 6733, 6734, 6738, 6740, 6758, 6764, 6773, 6777, 6781, 6782, 6789, 6792, 6798, 6801, 6805, 6806, 6807, 6810, 6813, 6817, 6819, 6820, 6825, 6829, 6831, 6844, 6850, 6851, 6854, 6856, 6862, 6866, 6867, 6871, 6873, 6880, 6881, 6885, 6895, 6908, 6924, 6926, 6927, 6933, 6938, 6946, 6953, 6963, 6965, 6971, 6986, 6990, 6991, 6995, 7000, 7001, 7004, 7012, 7016, 7026, 7028, 7031, 7032, 7033, 7035, 7039, 7043, 7046, 7050, 7052, 7055, 7057, 7060, 7062, 7064, 7075, 7076, 7079, 7081, 7085, 7087, 7089, 7090, 7099, 7100, 7102, 7105, 7115, 7125, 7130, 7143, 7145, 7153, 7157, 7162, 7168, 7170, 7186, 7189, 7190, 7195, 7197, 7208, 7209, 7210, 7212, 7218, 7226, 7230, 7235, 7237, 7240, 7262, 7265, 7282, 7290, 7292, 7297, 7305, 7306, 7309, 7310, 7313, 7317, 7324, 7329, 7345, 7352, 7353, 7362, 7370, 7374, 7378, 7379, 7388, 7395, 7402, 7419, 7433, 7445, 7458, 7461, 7470, 7473, 7475, 7481, 7484, 7485, 7488, 7497, 7498, 7506, 7509, 7522, 7544, 7570, 7572, 7575, 7590, 7594, 7597, 7601, 7606, 7619, 7622, 7623, 7639, 7651, 7658, 7663, 7669, 7676, 7687, 7689, 7693, 7697, 7712, 7714, 7726, 7753, 7759, 7770, 7774, 7802, 7803, 7804, 7817, 7818, 7819, 7820, 7824, 7829, 7833, 7836, 7837, 7839, 7847, 7848, 7850, 7854, 7855, 7858, 7860, 7877, 7884, 7885, 7890, 7891, 7892, 7893, 7898, 7899, 7902, 7904, 7905, 7907, 7910, 7914, 7915, 7920, 7927, 7928, 7931, 7938, 7946, 7948, 7949, 7954, 7966, 7971, 7975, 7984, 7989, 7991, 7996, 8002, 8005, 8010, 8011, 8021, 8023, 8032, 8039, 8040, 8045, 8046, 8047, 8055, 8074, 8077, 8082, 8087, 8092, 8093, 8107, 8118, 8130, 8150, 8152, 8158, 8175, 8182, 8184, 8186, 8193, 8197, 8199, 8201, 8236, 8239, 8242, 8248, 8249, 8251, 8252, 8255, 8268, 8276, 8294, 8299, 8304, 8308, 8314, 8317, 8320, 8334, 8339, 8343, 8351, 8352, 8368, 8372, 8379, 8385, 8387, 8389, 8399, 8400, 8404, 8418, 8421, 8430, 8457, 8469, 8481, 8507, 8508, 8509, 8514, 8516, 8519, 8521, 8546, 8559, 8562, 8572, 8574, 8576, 8577, 8609, 8610, 8621, 8624, 8631, 8632, 8634, 8639, 8640, 8643, 8652, 8660, 8677, 8681, 8691, 8707, 8712, 8713, 8715, 8733, 8741, 8748, 8750, 8756, 8783, 8787, 8788, 8801, 8804, 8810, 8823, 8830, 8839, 8846, 8847, 8855, 8857, 8858, 8871, 8886, 8887, 8896, 8903, 8904, 8908, 8915, 8917, 8920, 8926, 8935, 8936, 8943, 8951, 8959, 8970, 8982, 8989, 8990, 8995, 8996, 8997, 9004, 9006, 9025, 9030, 9039, 9040, 9041, 9048, 9060, 9061, 9063, 9076, 9078, 9080, 9085, 9095, 9124, 9126, 9145, 9149, 9153, 9156, 9160, 9180, 9184, 9188, 9197, 9199, 9203, 9215, 9221, 9222, 9223, 9229, 9240, 9241, 9243, 9249, 9252, 9256, 9258, 9260, 9261, 9262, 9265, 9279, 9285, 9287, 9293, 9298, 9299, 9301, 9303, 9306, 9311, 9315, 9324, 9331, 9335, 9348, 9353, 9357, 9360, 9363, 9365, 9369, 9377, 9381, 9382, 9386, 9391, 9392, 9395, 9399, 9402, 9407, 9415, 9420, 9421, 9424, 9433, 9437, 9439, 9441, 9442, 9444, 9446, 9448, 9449, 9456, 9457, 9461, 9463, 9465, 9466, 9471, 9481, 9487, 9488, 9490, 9494, 9501, 9523, 9524, 9528, 9539, 9542, 9548, 9566, 9570, 9584, 9600, 9607, 9610, 9612, 9618, 9619, 9620, 9635, 9651, 9699, 9701, 9724, 9729, 9734, 9757, 9764, 9772, 9799, 9805, 9807, 9808, 9814, 9816, 9824, 9830, 9832, 9850, 9867, 9868, 9885, 9896, 9905, 9906, 9917, 9927, 9948, 9952, 9963, 9977, 9995, 10010, 10031, 10039, 10062, 10094, 10098, 10116, 10141, 10151, 10161, 10195, 10197, 10220, 10237, 10239, 10244, 10251, 10266, 10275, 10321, 10322, 10330, 10344, 10367, 10371, 10375, 10376, 10380, 10389, 10397, 10402, 10404, 10423, 10424, 10444, 10455, 10458, 10471, 10478, 10484, 10496, 10505, 10508, 10521, 10524, 10528, 10530, 10541, 10545, 10547, 10552, 10557, 10558, 10562, 10565, 10573, 10585, 10586, 10587, 10592, 10597, 10611, 10616, 10620, 10621, 10623, 10628, 10639, 10655, 10656, 10658, 10661, 10672, 10705, 10723, 10752, 10762, 10765, 10812, 10813, 10815, 10817, 10831, 10855, 10859, 10863, 10865, 10900, 10908, 10912, 10914, 10921, 10927, 10930, 10949, 10959, 10962, 10985, 10987, 10989, 10990, 11018, 11020, 11056, 11072, 11077, 11086, 11089, 11091, 11098, 11105, 11110, 11114, 11115, 11116, 11125, 11126, 11139, 11149, 11151, 11155, 11162, 11170, 11176, 11178, 11183, 11189, 11211, 11232, 11246, 11263, 11267, 11271, 11284, 11308, 11316, 11332, 11360, 11390, 11401, 11413, 11492, 11506, 11507, 11514, 11524, 11544, 11556, 11558, 11559, 11568, 11592, 11602, 11612, 11642, 11646, 11652, 11666, 11703, 11712, 11739, 11746, 11767, 11785, 11793, 11799, 11804, 11807, 11808, 11818, 11824, 11828, 11830, 11873, 11886, 11911, 11912, 11929, 11948, 11952, 11965, 11984, 11995, 12025, 12029, 12034, 12041, 12049, 12066, 12089, 12091, 12104, 12108, 12122, 12129, 12134, 12139, 12147, 12151, 12178, 12197, 12198, 12199, 12206, 12238, 12268, 12279, 12291, 12298, 12308, 12311, 12339, 12345, 12349, 12356, 12362, 12363, 12374, 12375, 12378, 12401, 12404, 12415, 12437, 12442, 12455, 12462, 12466, 12467, 12487, 12490, 12500, 12501, 12512, 12514, 12519, 12522, 12533, 12538, 12541, 12600, 12611, 12613, 12625, 12627, 12628, 12641, 12667, 12678, 12702, 12703, 12712, 12724, 12731, 12734, 12735, 12741, 12744, 12770, 12787, 12799, 12828, 12884, 12892, 12897, 12929, 12943, 12960, 12961, 12964, 12967, 12988, 12989, 12995, 13001, 13010, 13014, 13033, 13040, 13059, 13062, 13064, 13076, 13079, 13105, 13124, 13139, 13140, 13145, 13151, 13157, 13164, 13189, 13200, 13218, 13226, 13231, 13249, 13256, 13267, 13269, 13278, 13282, 13312, 13317, 13326, 13328, 13335, 13357, 13360, 13364, 13367, 13370, 13378, 13387, 13388, 13408, 13421, 13433, 13440, 13455, 13467, 13472, 13510, 13573, 13577, 13584, 13596, 13633, 13641, 13651, 13653, 13654, 13666, 13673, 13676, 13679, 13682, 13721, 13728, 13730, 13731, 13755, 13757, 13765, 13768, 13771, 13774, 13812, 13815, 13816, 13819, 13820, 13830, 13875, 13876, 13879, 13894, 13916, 13934, 13942, 13946, 13959, 13967, 13970, 13971, 13976, 13983, 13984, 13987, 13989, 13999, 14005, 14021, 14028, 14031, 14033, 14034, 14042, 14049, 14051, 14059, 14068, 14076, 14083, 14095, 14096, 14100, 14102, 14113, 14116, 14120, 14122, 14123, 14128, 14133, 14145, 14146, 14151, 14163, 14167, 14173, 14179, 14182, 14185, 14192, 14207, 14209, 14211, 14212, 14235, 14249, 14266, 14277, 14280, 14291, 14293, 14294, 14304, 14328, 14357, 14360, 14366, 14373, 14389, 14409, 14465, 14478, 14496, 14510, 14517, 14518, 14520, 14529, 14533, 14543, 14587, 14611, 14613, 14627, 14634, 14644, 14645, 14657, 14658, 14665, 14681, 14694, 14711, 14737, 14766, 14813, 14853, 14864, 14869, 14896, 14908, 14924, 14932, 14943, 14957, 14985, 14992, 14999, 15033, 15044, 15063, 15072, 15077, 15084, 15105, 15133, 15152, 15173, 15213, 15244, 15251, 15288, 15293, 15298, 15307, 15347, 15359, 15369, 15393, 15400, 15426, 15443, 15445, 15497, 15525, 15526, 15535, 15568, 15569, 15594, 15596, 15597, 15609, 15615, 15622, 15688, 15707, 15710, 15733, 15737, 15750, 15755, 15774, 15786, 15792, 15804, 15832, 15835, 15840, 15857, 15861, 15884, 15953, 15977, 15990, 16007, 16022, 16040, 16046, 16096, 16118, 16129, 16144, 16149, 16184, 16230, 16237, 16239, 16254, 16256, 16257, 16258, 16259, 16261, 16276, 16286, 16338, 16392, 16422, 16423, 16429, 16435, 16472, 16478, 16499, 16529, 16535, 16551, 16559, 16575, 16576, 16588, 16607, 16633, 16637, 16640, 16662, 16667, 16679, 16699, 16711, 16730, 16772, 16805, 16825, 16841, 16855, 16933, 16940, 16952, 16999, 17017, 17030, 17049, 17072, 17084, 17104, 17107, 17119, 17184, 17185, 17193, 17253, 17265, 17296, 17419, 17435, 17436, 17453, 17520, 17609, 17652, 17724, 17742, 17753, 17774, 17779, 17797, 17808, 17833, 17885, 17971, 17989, 18083, 18085, 18120, 18131, 18210, 18227, 18321, 18456, 18493, 18507, 18508, 18515, 18518, 18519, 18541, 18587, 18588, 18589, 18599, 18656, 18663, 18675, 18677, 18697, 18699, 18704, 18719, 18723, 18753, 18774, 18776, 18782, 18803, 18812, 18824, 18833, 18835, 18850, 18860, 18866, 18879, 18896, 18916, 18917, 18918, 18919, 18970, 18985, 18989, 18994, 19016, 19028, 19029, 19036, 19148, 19218, 19221, 19290, 19323, 19356, 19411, 19503, 19520, 19575, 19632, 19725, 19794, 19831, 19854, 19904, 19910, 19997, 20000, 20041, 20211, 20228, 20311, 20372, 20375, 20636, 20698, 20710, 20857, 20860, 20956, 20972, 21046, 21063, 21075, 21096, 21145, 21189, 21206, 21250, 21318, 21367, 21378, 21386, 21392, 21406, 21447, 21451, 21489, 21684, 21717, 21745, 22013, 22043, 22090, 22152, 22398, 22485, 22529, 22541, 22594, 22733, 23003, 23099, 23100, 23113, 23270, 23299, 23319, 23461, 23570, 23607, 23611, 23627, 23736, 23749, 24061, 24093, 24348, 24511, 24762, 24790, 24807, 24873, 24996, 25014, 25074, 25103, 25202, 25228, 25359, 25808, 26273, 26515, 27919, 28053, 28117, 28211, 28297, 28348, 28366, 29581, 31330, 31594, 31691, 32619, 33090, 33255, 33279, 33353, 33511, 33528, 33680, 33959, 34053, 34473, 34974, 35403, 36779, 36994, 37135, 37361, 37644, 40030, 41080, 41462, 42458, 50498]\n"
       ]
      }
     ],
     "prompt_number": 73
    },
    {
     "cell_type": "code",
     "collapsed": false,
     "input": [
      "a = datetime.now()\n",
      "\n",
      "DCT_lowDim2500 = list()\n",
      "\n",
      "for i in range(100):\n",
      "    D = list()\n",
      "    for j in index:\n",
      "        D.append(DCT_data[i][j])\n",
      "    DCT_lowDim2500.append(D)\n",
      "    \n",
      "b = datetime.now()\n",
      "c = b - a\n",
      "\n",
      "c.seconds"
     ],
     "language": "python",
     "metadata": {},
     "outputs": [
      {
       "metadata": {},
       "output_type": "pyout",
       "prompt_number": 77,
       "text": [
        "0"
       ]
      }
     ],
     "prompt_number": 77
    },
    {
     "cell_type": "code",
     "collapsed": false,
     "input": [
      "len(DCT_lowDim2500)"
     ],
     "language": "python",
     "metadata": {},
     "outputs": [
      {
       "metadata": {},
       "output_type": "pyout",
       "prompt_number": 79,
       "text": [
        "2500"
       ]
      }
     ],
     "prompt_number": 79
    },
    {
     "cell_type": "code",
     "collapsed": false,
     "input": [
      "F = open('DCT_lowDim2500.pkl','w')\n",
      "pickle.dump(DCT_lowDim2500,F)\n",
      "F.close()"
     ],
     "language": "python",
     "metadata": {},
     "outputs": [],
     "prompt_number": 80
    },
    {
     "cell_type": "markdown",
     "metadata": {},
     "source": [
      "# \u6700\u5c0f\u7dad\u5ea6\u53d6\u524d2500\u5927\u7dad\u5ea6\u7684\u6a94\u6848"
     ]
    },
    {
     "cell_type": "code",
     "collapsed": false,
     "input": [
      "a = datetime.now()\n",
      "\n",
      "DCT_lowDim2500 = pickle.load(open('DCT_lowDim2500.pkl','r'))\n",
      "\n",
      "DCT_lowDim2500 = array(DCT_lowDim2500)\n",
      "\n",
      "b = datetime.now()\n",
      "c = b - a\n",
      "\n",
      "c.seconds"
     ],
     "language": "python",
     "metadata": {},
     "outputs": [
      {
       "metadata": {},
       "output_type": "pyout",
       "prompt_number": 2,
       "text": [
        "3"
       ]
      }
     ],
     "prompt_number": 2
    },
    {
     "cell_type": "code",
     "collapsed": false,
     "input": [
      "type(DCT_lowDim2500), len(DCT_lowDim2500), DCT_lowDim2500.shape"
     ],
     "language": "python",
     "metadata": {},
     "outputs": [
      {
       "metadata": {},
       "output_type": "pyout",
       "prompt_number": 3,
       "text": [
        "(numpy.ndarray, 100, (100L, 2500L))"
       ]
      }
     ],
     "prompt_number": 3
    },
    {
     "cell_type": "code",
     "collapsed": false,
     "input": [
      "a = datetime.now()\n",
      "\n",
      "DCT_lowDim = list()\n",
      "\n",
      "for i in range(100):\n",
      "    D = list()\n",
      "    for k in range(1000):\n",
      "        for j in range(80000):\n",
      "            if j == index[k]:\n",
      "                D.append(B[i][j])\n",
      "            else:\n",
      "                pass\n",
      "    DCT_lowDim.append(D)\n",
      "    \n",
      "b = datetime.now()\n",
      "c = b - a\n",
      "\n",
      "c.seconds"
     ],
     "language": "python",
     "metadata": {},
     "outputs": [
      {
       "metadata": {},
       "output_type": "pyout",
       "prompt_number": 101,
       "text": [
        "940"
       ]
      }
     ],
     "prompt_number": 101
    },
    {
     "cell_type": "code",
     "collapsed": false,
     "input": [
      "len(DCT_lowDim)"
     ],
     "language": "python",
     "metadata": {},
     "outputs": [
      {
       "metadata": {},
       "output_type": "pyout",
       "prompt_number": 102,
       "text": [
        "100"
       ]
      }
     ],
     "prompt_number": 102
    },
    {
     "cell_type": "code",
     "collapsed": false,
     "input": [
      "len(DCT_lowDim[0])"
     ],
     "language": "python",
     "metadata": {},
     "outputs": [
      {
       "metadata": {},
       "output_type": "pyout",
       "prompt_number": 103,
       "text": [
        "1000"
       ]
      }
     ],
     "prompt_number": 103
    },
    {
     "cell_type": "code",
     "collapsed": false,
     "input": [
      "F = open('DCT_lowDim.pkl','w')\n",
      "pickle.dump(DCT_lowDim,F)\n",
      "F.close()"
     ],
     "language": "python",
     "metadata": {},
     "outputs": [],
     "prompt_number": 129
    },
    {
     "cell_type": "code",
     "collapsed": false,
     "input": [
      "a = datetime.now()\n",
      "\n",
      "DCT_lowDim1000 = pickle.load(open('DCT_lowDim.pkl','r'))\n",
      "\n",
      "DCT_lowDim1000 = array(DCT_lowDim1000)\n",
      "\n",
      "b = datetime.now()\n",
      "c = b - a\n",
      "\n",
      "c.seconds"
     ],
     "language": "python",
     "metadata": {},
     "outputs": [
      {
       "metadata": {},
       "output_type": "pyout",
       "prompt_number": 2,
       "text": [
        "2"
       ]
      }
     ],
     "prompt_number": 2
    },
    {
     "cell_type": "code",
     "collapsed": false,
     "input": [
      "len(DCT_lowDim)"
     ],
     "language": "python",
     "metadata": {},
     "outputs": [
      {
       "metadata": {},
       "output_type": "pyout",
       "prompt_number": 3,
       "text": [
        "100"
       ]
      }
     ],
     "prompt_number": 3
    },
    {
     "cell_type": "code",
     "collapsed": false,
     "input": [
      "lowDim = array(DCT_lowDim[0])"
     ],
     "language": "python",
     "metadata": {},
     "outputs": [],
     "prompt_number": 23
    },
    {
     "cell_type": "code",
     "collapsed": false,
     "input": [
      "len(lowDim), type(lowDim)"
     ],
     "language": "python",
     "metadata": {},
     "outputs": [
      {
       "metadata": {},
       "output_type": "pyout",
       "prompt_number": 24,
       "text": [
        "(1000, numpy.ndarray)"
       ]
      }
     ],
     "prompt_number": 24
    },
    {
     "cell_type": "code",
     "collapsed": false,
     "input": [
      "I = list()\n",
      "\n",
      "for j in range(1000):\n",
      "    for i in range(100):\n",
      "        if abs(DCT_lowDim[i][j]) == DCT_min_1000[j][0]:\n",
      "            I.append(i)\n",
      "        \n",
      "print len(I), I"
     ],
     "language": "python",
     "metadata": {},
     "outputs": [
      {
       "output_type": "stream",
       "stream": "stdout",
       "text": [
        "1000 [8, 19, 18, 8, 59, 8, 80, 1, 11, 24, 8, 45, 43, 59, 16, 67, 76, 75, 8, 29, 73, 76, 10, 59, 72, 8, 45, 96, 66, 72, 72, 89, 34, 59, 87, 25, 40, 53, 14, 37, 75, 1, 8, 59, 0, 44, 75, 0, 59, 29, 59, 41, 59, 86, 59, 19, 11, 88, 95, 59, 85, 28, 59, 84, 87, 18, 67, 34, 22, 59, 33, 67, 89, 59, 59, 59, 62, 68, 67, 59, 79, 92, 74, 67, 59, 8, 92, 8, 32, 8, 29, 42, 77, 65, 41, 94, 15, 67, 18, 64, 35, 23, 89, 1, 5, 7, 10, 88, 2, 78, 98, 79, 79, 57, 0, 92, 72, 41, 79, 15, 79, 42, 56, 72, 65, 8, 72, 59, 67, 94, 32, 0, 67, 67, 7, 65, 76, 8, 67, 67, 51, 3, 53, 38, 68, 75, 76, 67, 40, 95, 59, 59, 76, 76, 75, 10, 74, 72, 63, 58, 66, 17, 98, 87, 61, 79, 76, 76, 14, 76, 78, 72, 76, 67, 76, 8, 6, 60, 8, 42, 41, 92, 61, 9, 27, 59, 36, 1, 59, 55, 10, 74, 45, 71, 59, 76, 23, 16, 9, 59, 32, 70, 11, 1, 64, 82, 61, 67, 75, 55, 77, 70, 58, 33, 79, 40, 75, 74, 68, 92, 95, 79, 60, 79, 59, 91, 50, 80, 49, 68, 95, 97, 68, 34, 67, 39, 30, 59, 76, 67, 58, 67, 11, 74, 89, 16, 23, 53, 59, 76, 67, 67, 44, 84, 79, 92, 71, 61, 70, 74, 1, 73, 76, 33, 74, 40, 71, 52, 1, 74, 67, 32, 2, 76, 67, 67, 34, 59, 25, 53, 20, 71, 98, 86, 92, 2, 58, 8, 79, 71, 75, 57, 60, 14, 96, 59, 51, 57, 75, 76, 80, 14, 82, 33, 55, 6, 67, 74, 75, 92, 5, 14, 8, 59, 67, 79, 75, 72, 59, 85, 3, 60, 75, 46, 75, 42, 15, 39, 75, 96, 43, 75, 44, 96, 23, 90, 40, 75, 14, 75, 67, 62, 53, 70, 30, 15, 42, 53, 87, 63, 89, 73, 78, 73, 63, 46, 43, 8, 88, 96, 5, 5, 10, 5, 75, 75, 92, 65, 4, 5, 5, 75, 34, 74, 73, 73, 81, 52, 75, 74, 40, 81, 58, 3, 3, 10, 73, 67, 70, 73, 47, 1, 74, 98, 51, 1, 41, 84, 14, 64, 88, 85, 14, 7, 57, 23, 41, 26, 42, 5, 76, 38, 36, 97, 82, 71, 14, 26, 63, 55, 3, 79, 57, 70, 24, 82, 91, 88, 79, 4, 17, 72, 48, 90, 82, 78, 21, 2, 61, 5, 73, 20, 63, 72, 1, 67, 20, 3, 78, 65, 33, 18, 98, 42, 31, 38, 93, 56, 85, 5, 5, 45, 95, 18, 40, 5, 85, 76, 98, 51, 13, 3, 22, 86, 3, 63, 40, 0, 58, 69, 87, 95, 24, 42, 85, 82, 18, 85, 45, 80, 39, 39, 47, 30, 95, 23, 5, 85, 8, 81, 53, 92, 65, 92, 64, 20, 84, 31, 21, 8, 79, 81, 5, 57, 75, 35, 73, 29, 90, 72, 85, 73, 97, 11, 73, 44, 90, 38, 51, 73, 33, 38, 53, 50, 32, 92, 64, 39, 83, 29, 40, 24, 30, 31, 26, 82, 44, 38, 92, 80, 20, 71, 24, 85, 92, 68, 63, 20, 82, 17, 36, 71, 21, 57, 57, 98, 33, 73, 57, 62, 58, 26, 38, 0, 79, 14, 32, 87, 16, 23, 33, 37, 58, 86, 59, 14, 52, 31, 11, 13, 31, 80, 58, 18, 13, 63, 33, 79, 56, 26, 55, 76, 67, 79, 85, 0, 81, 66, 59, 89, 21, 79, 29, 73, 64, 91, 40, 82, 52, 53, 56, 82, 74, 71, 42, 56, 92, 42, 68, 28, 1, 44, 58, 52, 17, 92, 97, 42, 96, 81, 23, 92, 89, 44, 26, 30, 39, 21, 21, 86, 7, 57, 16, 92, 67, 96, 32, 42, 62, 67, 92, 71, 67, 49, 45, 14, 56, 47, 42, 84, 4, 77, 23, 9, 30, 69, 19, 83, 49, 30, 75, 74, 58, 73, 18, 50, 92, 79, 73, 90, 65, 93, 79, 73, 25, 92, 89, 80, 1, 37, 17, 44, 44, 43, 47, 56, 36, 44, 8, 69, 36, 28, 49, 62, 91, 46, 68, 24, 57, 45, 1, 87, 50, 28, 92, 8, 86, 61, 72, 92, 39, 19, 50, 56, 36, 32, 44, 81, 75, 23, 5, 93, 67, 16, 14, 42, 24, 96, 87, 44, 51, 40, 32, 91, 44, 40, 7, 63, 1, 94, 92, 21, 93, 47, 2, 84, 58, 42, 19, 47, 20, 82, 8, 19, 15, 44, 44, 74, 55, 12, 7, 15, 15, 57, 36, 51, 47, 49, 36, 53, 88, 22, 35, 86, 57, 31, 50, 75, 7, 89, 89, 44, 88, 79, 62, 75, 47, 91, 32, 62, 66, 78, 76, 33, 2, 22, 17, 10, 9, 4, 30, 79, 50, 32, 44, 22, 30, 41, 83, 89, 28, 27, 27, 76, 15, 44, 28, 74, 69, 79, 80, 78, 8, 12, 57, 47, 56, 61, 94, 56, 0, 79, 42, 36, 71, 51, 2, 77, 84, 78, 27, 40, 13, 76, 92, 20, 3, 7, 70, 9, 88, 76, 61, 49, 88, 76, 89, 94, 74, 90, 83, 83, 58, 8, 99, 89, 47, 28, 3, 92, 95, 8, 36, 25, 31, 72, 20, 4, 54, 91, 77, 77, 92, 71, 52, 66, 29, 56, 24, 95, 59, 76, 46, 83, 42, 32, 36, 15, 18, 20, 65, 54, 90, 56, 75, 86, 44, 92, 30, 56, 5, 62, 10, 90, 35, 67, 45, 66, 66, 51, 4, 54, 62, 53, 67, 18, 59, 10, 33, 55, 18, 19, 14, 98, 66, 89, 59, 72, 29, 29, 57, 56, 39, 12, 56, 62, 23, 44, 35, 40, 60, 28, 42, 56, 25, 1, 24, 49, 84, 56, 89, 61, 89, 63, 46, 77, 95, 89, 75, 30, 97, 85, 63, 89, 89, 72, 43, 99, 40, 89]\n"
       ]
      }
     ],
     "prompt_number": 21
    },
    {
     "cell_type": "code",
     "collapsed": false,
     "input": [
      "DCT_lowDim[8][0]"
     ],
     "language": "python",
     "metadata": {},
     "outputs": [
      {
       "metadata": {},
       "output_type": "pyout",
       "prompt_number": 113,
       "text": [
        "-18.746477921507022"
       ]
      }
     ],
     "prompt_number": 113
    },
    {
     "cell_type": "code",
     "collapsed": false,
     "input": [
      "from sklearn import cluster, datasets"
     ],
     "language": "python",
     "metadata": {},
     "outputs": [],
     "prompt_number": 22
    },
    {
     "cell_type": "code",
     "collapsed": false,
     "input": [
      "k_means = cluster.KMeans(5)\n",
      "k_means.fit(DCT_lowDim)\n",
      "x = k_means.labels_\n",
      "y = k_means.cluster_centers_\n",
      "print x , y, len(x)"
     ],
     "language": "python",
     "metadata": {},
     "outputs": [
      {
       "output_type": "stream",
       "stream": "stdout",
       "text": [
        "[0 0 0 0 0 0 0 0 0 0 2 0 0 0 0 0 0 0 0 0 0 0 0 0 0 0 3 0 0 0 0 0 0 0 0 0 0\n",
        " 1 0 0 0 0 0 0 0 0 0 0 0 4 0 0 0 0 0 0 0 0 0 0 0 0 0 0 0 0 0 0 0 0 0 0 0 0\n",
        " 0 0 0 0 0 0 0 0 0 0 0 0 0 0 0 0 0 0 0 0 0 0 0 0 0 0] [[  224.66308304   231.71340896   204.90882347 ...,    48.52525632\n",
        "    -81.28933892    40.81068325]\n",
        " [  100.09818178   739.78608702  1297.81164293 ...,   211.49383449\n",
        "   -644.84180442   128.96424845]\n",
        " [ -346.95340198   142.14057739   223.34918857 ...,   294.34798062\n",
        "   -927.66576614  -528.01252933]\n",
        " [ -229.00513389   403.00835531  3838.55563828 ...,  -406.56865195\n",
        "   -979.61490686   573.33904933]\n",
        " [  -29.83224398   -98.74776249  -243.14039353 ...,    50.06347402\n",
        "    -63.55843723    37.18837038]] 100\n"
       ]
      }
     ],
     "prompt_number": 97
    },
    {
     "cell_type": "code",
     "collapsed": false,
     "input": [
      "import matplotlib.pyplot as plt"
     ],
     "language": "python",
     "metadata": {},
     "outputs": [],
     "prompt_number": 52
    },
    {
     "cell_type": "code",
     "collapsed": false,
     "input": [
      "x1 = DCT_lowDim[1]\n",
      "x2 = DCT_lowDim[2]\n",
      "x3 = DCT_lowDim[3]\n",
      "x4 = DCT_lowDim[4]"
     ],
     "language": "python",
     "metadata": {},
     "outputs": [],
     "prompt_number": 81
    },
    {
     "cell_type": "code",
     "collapsed": false,
     "input": [
      "# Three subplots sharing both x/y axes\n",
      "f, (ax1, ax2, ax3, ax4) = plt.subplots(4, sharex=True, sharey=True)\n",
      "ax1.plot(x1, 'r')\n",
      "ax2.plot(x2, 'r')\n",
      "ax3.plot(x3, 'r')\n",
      "ax4.plot(x4, 'r')"
     ],
     "language": "python",
     "metadata": {},
     "outputs": [
      {
       "metadata": {},
       "output_type": "pyout",
       "prompt_number": 82,
       "text": [
        "[<matplotlib.lines.Line2D at 0x8c3be550>]"
       ]
      },
      {
       "metadata": {},
       "output_type": "display_data",
       "png": "[encoded data removed]",
       "text": [
        "<matplotlib.figure.Figure at 0x8b2692b0>"
       ]
      }
     ],
     "prompt_number": 82
    },
    {
     "cell_type": "code",
     "collapsed": false,
     "input": [
      "x21 = DCT_lowDim[21]\n",
      "x22 = DCT_lowDim[22]\n",
      "x23 = DCT_lowDim[23]\n",
      "x24 = DCT_lowDim[24]"
     ],
     "language": "python",
     "metadata": {},
     "outputs": [],
     "prompt_number": 79
    },
    {
     "cell_type": "code",
     "collapsed": false,
     "input": [
      "# Three subplots sharing both x/y axes\n",
      "f, (ax1, ax2, ax3, ax4) = plt.subplots(4, sharex=True, sharey=True)\n",
      "ax1.plot(x21, 'r')\n",
      "ax2.plot(x22, 'r')\n",
      "ax3.plot(x23, 'r')\n",
      "ax4.plot(x24, 'r')"
     ],
     "language": "python",
     "metadata": {},
     "outputs": [
      {
       "metadata": {},
       "output_type": "pyout",
       "prompt_number": 80,
       "text": [
        "[<matplotlib.lines.Line2D at 0x8b8f4978>]"
       ]
      },
      {
       "metadata": {},
       "output_type": "display_data",
       "png": "[encoded data removed]",
       "text": [
        "<matplotlib.figure.Figure at 0x8b191ac8>"
       ]
      }
     ],
     "prompt_number": 80
    },
    {
     "cell_type": "markdown",
     "metadata": {},
     "source": [
      "# \u53d6\u6a19\u6e96\u5dee\u524d\u5169\u842c\u9ad8\u7684\u9ede"
     ]
    },
    {
     "cell_type": "code",
     "collapsed": false,
     "input": [
      "x = [0,5,9,14]\n",
      "y = [5,6,8,9]\n",
      "print mean(x), std(x), mean(y), std(y)"
     ],
     "language": "python",
     "metadata": {},
     "outputs": [
      {
       "output_type": "stream",
       "stream": "stdout",
       "text": [
        "7.0 5.14781507049 7.0 1.58113883008\n"
       ]
      }
     ],
     "prompt_number": 10
    },
    {
     "cell_type": "code",
     "collapsed": false,
     "input": [
      "a = datetime.now()\n",
      "\n",
      "STD = list()\n",
      "\n",
      "for i in range(80000):\n",
      "    S = list()\n",
      "    for j in range(100):\n",
      "        S.append(DCT_data[j][i])\n",
      "    STD.append(std(S))\n",
      "        \n",
      "b = datetime.now()\n",
      "c = b - a\n",
      "\n",
      "c.seconds"
     ],
     "language": "python",
     "metadata": {},
     "outputs": [
      {
       "metadata": {},
       "output_type": "pyout",
       "prompt_number": 61,
       "text": [
        "7"
       ]
      }
     ],
     "prompt_number": 61
    },
    {
     "cell_type": "code",
     "collapsed": false,
     "input": [
      "F = open('STD.pkl','w')\n",
      "pickle.dump(STD,F)\n",
      "F.close()"
     ],
     "language": "python",
     "metadata": {},
     "outputs": [],
     "prompt_number": 62
    },
    {
     "cell_type": "code",
     "collapsed": false,
     "input": [
      "len(STD)"
     ],
     "language": "python",
     "metadata": {},
     "outputs": [
      {
       "metadata": {},
       "output_type": "pyout",
       "prompt_number": 63,
       "text": [
        "80000"
       ]
      }
     ],
     "prompt_number": 63
    },
    {
     "cell_type": "code",
     "collapsed": false,
     "input": [
      "plot(STD,'g')"
     ],
     "language": "python",
     "metadata": {},
     "outputs": [
      {
       "metadata": {},
       "output_type": "pyout",
       "prompt_number": 64,
       "text": [
        "[<matplotlib.lines.Line2D at 0x2290576d8>]"
       ]
      },
      {
       "metadata": {},
       "output_type": "display_data",
       "png": "[encoded data removed]",
       "text": [
        "<matplotlib.figure.Figure at 0x204067be0>"
       ]
      }
     ],
     "prompt_number": 64
    },
    {
     "cell_type": "code",
     "collapsed": false,
     "input": [
      "sorted(STD)[59999], sorted(STD)[60000]"
     ],
     "language": "python",
     "metadata": {},
     "outputs": [
      {
       "metadata": {},
       "output_type": "pyout",
       "prompt_number": 65,
       "text": [
        "(498.35805255963055, 498.36124395149955)"
       ]
      }
     ],
     "prompt_number": 65
    },
    {
     "cell_type": "code",
     "collapsed": false,
     "input": [
      "I = list()\n",
      "I_index = list()\n",
      "\n",
      "for i in range(80000):\n",
      "    if STD[i]>498.359:\n",
      "        I.append(STD[i])\n",
      "        I_index.append(i)\n",
      "\n",
      "print len(I), len(I_index)"
     ],
     "language": "python",
     "metadata": {},
     "outputs": [
      {
       "output_type": "stream",
       "stream": "stdout",
       "text": [
        "20000 20000\n"
       ]
      }
     ],
     "prompt_number": 66
    },
    {
     "cell_type": "code",
     "collapsed": false,
     "input": [
      "a = datetime.now()\n",
      "\n",
      "STD_MAX20000 = list()\n",
      "\n",
      "for i in range(100):\n",
      "    D = list()\n",
      "    for k in range(20000):\n",
      "        for j in range(80000):\n",
      "            if j == I_index[k]:\n",
      "                D.append(DCT_data[i][j])\n",
      "            else:\n",
      "                pass\n",
      "    STD_MAX20000.append(D)\n",
      "    \n",
      "b = datetime.now()\n",
      "c = b - a\n",
      "\n",
      "c.seconds"
     ],
     "language": "python",
     "metadata": {},
     "outputs": [
      {
       "metadata": {},
       "output_type": "pyout",
       "prompt_number": 44,
       "text": [
        "18637"
       ]
      }
     ],
     "prompt_number": 44
    },
    {
     "cell_type": "code",
     "collapsed": false,
     "input": [
      "F = open('STD_MAX20000.pkl','w')\n",
      "pickle.dump(STD_MAX20000,F)\n",
      "F.close()"
     ],
     "language": "python",
     "metadata": {},
     "outputs": [],
     "prompt_number": 46
    },
    {
     "cell_type": "markdown",
     "metadata": {},
     "source": [
      "# \u53d6\u6a19\u6e96\u5dee\u524d\u5169\u842c\u5927\u7684\u503c"
     ]
    },
    {
     "cell_type": "code",
     "collapsed": false,
     "input": [
      "a = datetime.now()\n",
      "\n",
      "STD_MAX20000 = pickle.load(open('STD_MAX20000.pkl','r'))\n",
      "\n",
      "STD_MAX20000 = array(STD_MAX20000)\n",
      "    \n",
      "b = datetime.now()\n",
      "c = b - a\n",
      "\n",
      "c.seconds"
     ],
     "language": "python",
     "metadata": {},
     "outputs": [
      {
       "metadata": {},
       "output_type": "pyout",
       "prompt_number": 10,
       "text": [
        "32"
       ]
      }
     ],
     "prompt_number": 10
    },
    {
     "cell_type": "code",
     "collapsed": false,
     "input": [
      "len(STD_MAX20000), len(STD_MAX20000[0])"
     ],
     "language": "python",
     "metadata": {},
     "outputs": [
      {
       "metadata": {},
       "output_type": "pyout",
       "prompt_number": 3,
       "text": [
        "(100, 20000)"
       ]
      }
     ],
     "prompt_number": 3
    },
    {
     "cell_type": "code",
     "collapsed": false,
     "input": [
      "STD_5style = list()\n",
      "\n",
      "for k in range(20000):\n",
      "    s = list()\n",
      "    for i in range(5):\n",
      "        h = list()\n",
      "        for j in range(i*20,i*20+20):\n",
      "            h.append(STD_MAX20000[j][k])\n",
      "        s.append(std(h))\n",
      "    STD_5style.append(s)"
     ],
     "language": "python",
     "metadata": {},
     "outputs": [],
     "prompt_number": 3
    },
    {
     "cell_type": "code",
     "collapsed": false,
     "input": [
      "len(STD_5style), STD_5style[0], sum(STD_5style[0])"
     ],
     "language": "python",
     "metadata": {},
     "outputs": [
      {
       "metadata": {},
       "output_type": "pyout",
       "prompt_number": 5,
       "text": [
        "(20000,\n",
        " [696.53885015991068,\n",
        "  722.81031960182986,\n",
        "  2895.8331291734617,\n",
        "  3143.8203121100678,\n",
        "  1244.9050275886252],\n",
        " 8703.9076386338947)"
       ]
      }
     ],
     "prompt_number": 5
    },
    {
     "cell_type": "code",
     "collapsed": false,
     "input": [
      "U = list()\n",
      "\n",
      "for k in range(20000):\n",
      "    u = list()\n",
      "    for i in range(5):\n",
      "        m = list()\n",
      "        for j in range(i*20,i*20+20):\n",
      "            m.append(STD_MAX20000[j][k])\n",
      "        u.append(mean(m))\n",
      "    U.append(std(u))"
     ],
     "language": "python",
     "metadata": {},
     "outputs": [],
     "prompt_number": 4
    },
    {
     "cell_type": "code",
     "collapsed": false,
     "input": [
      "u, std(u)"
     ],
     "language": "python",
     "metadata": {},
     "outputs": [
      {
       "metadata": {},
       "output_type": "pyout",
       "prompt_number": 7,
       "text": [
        "([53.770462060166643,\n",
        "  -65.482343870727931,\n",
        "  -247.22167686216136,\n",
        "  21.071714467588784,\n",
        "  12.596870145847868],\n",
        " 108.39888748506212)"
       ]
      }
     ],
     "prompt_number": 7
    },
    {
     "cell_type": "code",
     "collapsed": false,
     "input": [
      "len(U), U[0]"
     ],
     "language": "python",
     "metadata": {},
     "outputs": [
      {
       "metadata": {},
       "output_type": "pyout",
       "prompt_number": 8,
       "text": [
        "(20000, 772.49688180737826)"
       ]
      }
     ],
     "prompt_number": 8
    },
    {
     "cell_type": "code",
     "collapsed": false,
     "input": [
      "x = list()\n",
      "\n",
      "for i in range(20):\n",
      "    x.append(DCT_data[i][0])\n",
      "    \n",
      "print std(x)"
     ],
     "language": "python",
     "metadata": {},
     "outputs": [
      {
       "ename": "NameError",
       "evalue": "name 'DCT_data' is not defined",
       "output_type": "pyerr",
       "traceback": [
        "\u001b[1;31m---------------------------------------------------------------------------\u001b[0m\n\u001b[1;31mNameError\u001b[0m                                 Traceback (most recent call last)",
        "\u001b[1;32m<ipython-input-9-62abb0599646>\u001b[0m in \u001b[0;36m<module>\u001b[1;34m()\u001b[0m\n\u001b[0;32m      2\u001b[0m \u001b[1;33m\u001b[0m\u001b[0m\n\u001b[0;32m      3\u001b[0m \u001b[1;32mfor\u001b[0m \u001b[0mi\u001b[0m \u001b[1;32min\u001b[0m \u001b[0mrange\u001b[0m\u001b[1;33m(\u001b[0m\u001b[1;36m20\u001b[0m\u001b[1;33m)\u001b[0m\u001b[1;33m:\u001b[0m\u001b[1;33m\u001b[0m\u001b[0m\n\u001b[1;32m----> 4\u001b[1;33m     \u001b[0mx\u001b[0m\u001b[1;33m.\u001b[0m\u001b[0mappend\u001b[0m\u001b[1;33m(\u001b[0m\u001b[0mDCT_data\u001b[0m\u001b[1;33m[\u001b[0m\u001b[0mi\u001b[0m\u001b[1;33m]\u001b[0m\u001b[1;33m[\u001b[0m\u001b[1;36m0\u001b[0m\u001b[1;33m]\u001b[0m\u001b[1;33m)\u001b[0m\u001b[1;33m\u001b[0m\u001b[0m\n\u001b[0m\u001b[0;32m      5\u001b[0m \u001b[1;33m\u001b[0m\u001b[0m\n\u001b[0;32m      6\u001b[0m \u001b[1;32mprint\u001b[0m \u001b[0mstd\u001b[0m\u001b[1;33m(\u001b[0m\u001b[0mx\u001b[0m\u001b[1;33m)\u001b[0m\u001b[1;33m\u001b[0m\u001b[0m\n",
        "\u001b[1;31mNameError\u001b[0m: name 'DCT_data' is not defined"
       ]
      }
     ],
     "prompt_number": 9
    },
    {
     "cell_type": "markdown",
     "metadata": {},
     "source": [
      "# \u76ee\u6a19\uff1a\u505a\u4e00\u500b\u6307\u6a19\u503c$C = \\frac{\\sum\\mu_{i}-\\mu_{j}}{\\sum\\sigma_{i}}$\uff0c\u4f7f\u5f97$C$\u8d8a\u5927\uff0c\u8a72\u7dad\u5ea6\u5c31\u8d8a\u53ef\u9078\u64c7\u3002"
     ]
    },
    {
     "cell_type": "code",
     "collapsed": false,
     "input": [
      "C = list()\n",
      "\n",
      "for i in range(20000):\n",
      "    C.append(float(U[i])/float(sum(STD_5style[i])))"
     ],
     "language": "python",
     "metadata": {},
     "outputs": [],
     "prompt_number": 5
    },
    {
     "cell_type": "code",
     "collapsed": false,
     "input": [
      "plot(C,'g')"
     ],
     "language": "python",
     "metadata": {},
     "outputs": [
      {
       "metadata": {},
       "output_type": "pyout",
       "prompt_number": 11,
       "text": [
        "[<matplotlib.lines.Line2D at 0x12947eb8>]"
       ]
      },
      {
       "metadata": {},
       "output_type": "display_data",
       "png": "[encoded data removed]",
       "text": [
        "<matplotlib.figure.Figure at 0x3848d320>"
       ]
      }
     ],
     "prompt_number": 11
    },
    {
     "cell_type": "code",
     "collapsed": false,
     "input": [
      "test = list()\n",
      "\n",
      "for i in range(20000):\n",
      "    if C[i]>0.06:\n",
      "        test.append(i)\n",
      "        \n",
      "print len(test)"
     ],
     "language": "python",
     "metadata": {},
     "outputs": [
      {
       "output_type": "stream",
       "stream": "stdout",
       "text": [
        "2397\n"
       ]
      }
     ],
     "prompt_number": 6
    },
    {
     "cell_type": "code",
     "collapsed": false,
     "input": [
      "plot(sorted(C),'g')"
     ],
     "language": "python",
     "metadata": {},
     "outputs": [
      {
       "metadata": {},
       "output_type": "pyout",
       "prompt_number": 6,
       "text": [
        "[<matplotlib.lines.Line2D at 0x384da390>]"
       ]
      },
      {
       "metadata": {},
       "output_type": "display_data",
       "png": "[encoded data removed]",
       "text": [
        "<matplotlib.figure.Figure at 0x390fc50>"
       ]
      }
     ],
     "prompt_number": 6
    },
    {
     "cell_type": "code",
     "collapsed": false,
     "input": [
      "C_Index = list()\n",
      "\n",
      "for i in range(20000):\n",
      "    if C[i] > 0.06 :\n",
      "        C_Index.append(i)\n",
      "        \n",
      "len(C_Index)"
     ],
     "language": "python",
     "metadata": {},
     "outputs": [
      {
       "metadata": {},
       "output_type": "pyout",
       "prompt_number": 7,
       "text": [
        "2397"
       ]
      }
     ],
     "prompt_number": 7
    },
    {
     "cell_type": "code",
     "collapsed": false,
     "input": [
      "DCT_maxC = list()\n",
      "\n",
      "for j in range(100):\n",
      "    maxC = list()\n",
      "    for i in range(len(C_Index)):\n",
      "        maxC.append(STD_MAX20000[j][i])\n",
      "    DCT_maxC.append(maxC)"
     ],
     "language": "python",
     "metadata": {},
     "outputs": [],
     "prompt_number": 8
    },
    {
     "cell_type": "code",
     "collapsed": false,
     "input": [
      "len(DCT_maxC), len(DCT_maxC[0]), type(DCT_maxC)"
     ],
     "language": "python",
     "metadata": {},
     "outputs": [
      {
       "metadata": {},
       "output_type": "pyout",
       "prompt_number": 11,
       "text": [
        "(100, 2397, list)"
       ]
      }
     ],
     "prompt_number": 11
    },
    {
     "cell_type": "code",
     "collapsed": false,
     "input": [
      "D = array(DCT_maxC)"
     ],
     "language": "python",
     "metadata": {},
     "outputs": [],
     "prompt_number": 9
    },
    {
     "cell_type": "code",
     "collapsed": false,
     "input": [
      "F = open('DCT_maxC.pkl','w')\n",
      "pickle.dump(D,F)\n",
      "F.close()"
     ],
     "language": "python",
     "metadata": {},
     "outputs": [],
     "prompt_number": 10
    },
    {
     "cell_type": "markdown",
     "metadata": {},
     "source": [
      "# \u6307\u6a19C\u7684\u6a94\u6848"
     ]
    },
    {
     "cell_type": "code",
     "collapsed": false,
     "input": [
      "a = datetime.now()\n",
      "\n",
      "D = pickle.load(open('DCT_maxC.pkl','r'))\n",
      "    \n",
      "b = datetime.now()\n",
      "c = b - a\n",
      "\n",
      "c.seconds"
     ],
     "language": "python",
     "metadata": {},
     "outputs": [
      {
       "metadata": {},
       "output_type": "pyout",
       "prompt_number": 2,
       "text": [
        "0"
       ]
      }
     ],
     "prompt_number": 2
    },
    {
     "cell_type": "code",
     "collapsed": false,
     "input": [
      "type(D), len(D), D.shape"
     ],
     "language": "python",
     "metadata": {},
     "outputs": [
      {
       "metadata": {},
       "output_type": "pyout",
       "prompt_number": 34,
       "text": [
        "(numpy.ndarray, 100, (100L, 2397L))"
       ]
      }
     ],
     "prompt_number": 34
    },
    {
     "cell_type": "code",
     "collapsed": false,
     "input": [
      "s = list()\n",
      "\n",
      "for i in range(20,40):\n",
      "    s.append(DCT_maxC[i][0])\n",
      "\n",
      "print s"
     ],
     "language": "python",
     "metadata": {},
     "outputs": [
      {
       "output_type": "stream",
       "stream": "stdout",
       "text": [
        "[38.895904541015241, 848.14126586914176, 7.8131713867187251, 382.36026000976744, -605.35179369221953, -44.563079833983679, 409.38619995117006, -83.447692871093636, 597.84527587890568, -242.59181396018559, -51.649383544922344, -29.143707275390739, -0.72955920484017156, -2714.6098045256886, -1252.7102661132822, -3.5295715332039173, 41.614534091818456, -80.888427734374943, 131.59072875976469, 23.454067485327108]\n"
       ]
      }
     ],
     "prompt_number": 76
    },
    {
     "cell_type": "code",
     "collapsed": false,
     "input": [
      "k_means = cluster.KMeans(5)\n",
      "k_means.fit(trans_data)\n",
      "x = k_means.labels_\n",
      "y = k_means.cluster_centers_\n",
      "print x , len(x)"
     ],
     "language": "python",
     "metadata": {},
     "outputs": [
      {
       "output_type": "stream",
       "stream": "stdout",
       "text": [
        "[0 0 0 0 0 0 0 0 0 0 0 0 4 0 0 0 0 0 0 0 0 0 0 0 0 0 0 3 0 0 0 0 0 0 0 0 0\n",
        " 0 0 0 0 0 0 0 0 0 0 0 0 0 0 0 0 0 0 0 0 0 0 0 0 0 0 0 0 0 0 0 0 0 0 0 0 0\n",
        " 0 0 0 0 0 0 0 0 0 0 0 0 0 0 0 0 0 2 0 0 1 0 0 0 0 0] 100\n"
       ]
      }
     ],
     "prompt_number": 32
    },
    {
     "cell_type": "code",
     "collapsed": false,
     "input": [
      "type(trans_data), len(trans_data), trans_data.shape"
     ],
     "language": "python",
     "metadata": {},
     "outputs": [
      {
       "ename": "NameError",
       "evalue": "name 'trans_data' is not defined",
       "output_type": "pyerr",
       "traceback": [
        "\u001b[1;31m---------------------------------------------------------------------------\u001b[0m\n\u001b[1;31mNameError\u001b[0m                                 Traceback (most recent call last)",
        "\u001b[1;32m<ipython-input-4-aab961789ece>\u001b[0m in \u001b[0;36m<module>\u001b[1;34m()\u001b[0m\n\u001b[1;32m----> 1\u001b[1;33m \u001b[0mtype\u001b[0m\u001b[1;33m(\u001b[0m\u001b[0mtrans_data\u001b[0m\u001b[1;33m)\u001b[0m\u001b[1;33m,\u001b[0m \u001b[0mlen\u001b[0m\u001b[1;33m(\u001b[0m\u001b[0mtrans_data\u001b[0m\u001b[1;33m)\u001b[0m\u001b[1;33m,\u001b[0m \u001b[0mtrans_data\u001b[0m\u001b[1;33m.\u001b[0m\u001b[0mshape\u001b[0m\u001b[1;33m\u001b[0m\u001b[0m\n\u001b[0m",
        "\u001b[1;31mNameError\u001b[0m: name 'trans_data' is not defined"
       ]
      }
     ],
     "prompt_number": 4
    },
    {
     "cell_type": "code",
     "collapsed": false,
     "input": [
      "trans_data[0]"
     ],
     "language": "python",
     "metadata": {},
     "outputs": [
      {
       "metadata": {},
       "output_type": "pyout",
       "prompt_number": 69,
       "text": [
        "array([   140.41581813, -10055.59772345,  10130.77801467])"
       ]
      }
     ],
     "prompt_number": 69
    },
    {
     "cell_type": "code",
     "collapsed": false,
     "input": [
      "D1 = trans_data[0:20]\n",
      "D2 = trans_data[21:40]\n",
      "D3 = trans_data[41:60]\n",
      "D4 = trans_data[61:80]\n",
      "D5 = trans_data[81:100]"
     ],
     "language": "python",
     "metadata": {},
     "outputs": [],
     "prompt_number": 71
    },
    {
     "cell_type": "code",
     "collapsed": false,
     "input": [
      "D1.shape"
     ],
     "language": "python",
     "metadata": {},
     "outputs": [
      {
       "metadata": {},
       "output_type": "pyout",
       "prompt_number": 73,
       "text": [
        "(20L, 3L)"
       ]
      }
     ],
     "prompt_number": 73
    },
    {
     "cell_type": "code",
     "collapsed": false,
     "input": [
      "from matplotlib import pyplot as plt\n",
      "from mpl_toolkits.mplot3d import Axes3D\n",
      "from mpl_toolkits.mplot3d import proj3d\n",
      "\n",
      "fig = plt.figure(figsize=(8,8))\n",
      "ax = fig.add_subplot(111, projection='3d')\n",
      "plt.rcParams['legend.fontsize'] = 10\n",
      "ax.plot(D1[:,0], D1[:,1], D1[:,2], 'o', markersize=8, color='green', alpha=0.5, label='Folk')\n",
      "ax.plot(D2[:,0], D2[:,1], D2[:,2], 'o', markersize=8, color='red', alpha=0.5, label='Rock')\n",
      "ax.plot(D3[:,0], D3[:,1], D3[:,2], 'o', markersize=8, color='blue', alpha=0.5, label='Blues')\n",
      "ax.plot(D4[:,0], D4[:,1], D4[:,2], 'o', markersize=8, color='yellow', alpha=0.5, label='Jazz')\n",
      "ax.plot(D5[:,0], D5[:,1], D5[:,2], 'o', markersize=8, color='black', alpha=0.5, label='Rap')\n",
      "\n",
      "plt.title('MDS')\n",
      "ax.legend(loc='upper right')\n",
      "plt.show()"
     ],
     "language": "python",
     "metadata": {},
     "outputs": [
      {
       "metadata": {},
       "output_type": "display_data",
       "png": "[encoded data removed]",
       "text": [
        "<matplotlib.figure.Figure at 0x3d08e748>"
       ]
      }
     ],
     "prompt_number": 78
    },
    {
     "cell_type": "markdown",
     "metadata": {},
     "source": [
      "# MDS+Kmeans(3-dimensions)"
     ]
    },
    {
     "cell_type": "code",
     "collapsed": false,
     "input": [
      "from sklearn import manifold"
     ],
     "language": "python",
     "metadata": {},
     "outputs": [],
     "prompt_number": 22
    },
    {
     "cell_type": "code",
     "collapsed": false,
     "input": [
      "mds = manifold.MDS(3, max_iter=100, n_init=1)\n",
      "trans_data = mds.fit_transform(DCT_lowDim2500)"
     ],
     "language": "python",
     "metadata": {},
     "outputs": [],
     "prompt_number": 59
    },
    {
     "cell_type": "code",
     "collapsed": false,
     "input": [
      "from sklearn import cluster, datasets\n",
      "\n",
      "a = datetime.now()\n",
      "\n",
      "K0 = K1 = K2 = K3 = K4 = range(26)\n",
      "k = 0\n",
      "\n",
      "while max(len(K0),len(K1),len(K2),len(K3), len(K4)) > 25 :\n",
      "\n",
      "    k_means = cluster.KMeans(5)\n",
      "    k_means.fit(trans_data)\n",
      "    kmeans_labels = k_means.labels_\n",
      "    kmeans_centers = k_means.cluster_centers_\n",
      "\n",
      "    K0 = list()\n",
      "    for i in range(100):\n",
      "        if kmeans_labels[i] == 0:\n",
      "            K0.append(trans_data[i])\n",
      "        \n",
      "    K1 = list()\n",
      "    for i in range(100):\n",
      "        if kmeans_labels[i] == 1:\n",
      "            K1.append(trans_data[i])\n",
      "        \n",
      "    K2 = list()\n",
      "    for i in range(100):\n",
      "        if kmeans_labels[i] == 2:\n",
      "            K2.append(trans_data[i])\n",
      "            \n",
      "    K3 = list()\n",
      "    for i in range(100):\n",
      "        if kmeans_labels[i] == 3:\n",
      "            K3.append(trans_data[i])\n",
      "        \n",
      "    K4 = list()\n",
      "    for i in range(100):\n",
      "        if kmeans_labels[i] == 4:\n",
      "            K4.append(trans_data[i])\n",
      "    \n",
      "    k += 1\n",
      "\n",
      "        \n",
      "b = datetime.now()\n",
      "c = b - a\n",
      "\n",
      "c.seconds"
     ],
     "language": "python",
     "metadata": {},
     "outputs": [
      {
       "metadata": {},
       "output_type": "pyout",
       "prompt_number": 60,
       "text": [
        "0"
       ]
      }
     ],
     "prompt_number": 60
    },
    {
     "cell_type": "code",
     "collapsed": false,
     "input": [
      "K0 = array(K0)\n",
      "K1 = array(K1)\n",
      "K2 = array(K2)\n",
      "K3 = array(K3)\n",
      "K4 = array(K4)"
     ],
     "language": "python",
     "metadata": {},
     "outputs": [],
     "prompt_number": 61
    },
    {
     "cell_type": "code",
     "collapsed": false,
     "input": [
      "k, kmeans_labels"
     ],
     "language": "python",
     "metadata": {},
     "outputs": [
      {
       "metadata": {},
       "output_type": "pyout",
       "prompt_number": 62,
       "text": [
        "(22,\n",
        " array([2, 2, 4, 0, 4, 3, 0, 4, 0, 3, 3, 4, 3, 2, 0, 4, 3, 2, 4, 2, 1, 0, 3,\n",
        "        0, 2, 4, 3, 0, 3, 4, 0, 3, 3, 0, 2, 3, 2, 3, 0, 2, 3, 1, 1, 1, 4, 1,\n",
        "        4, 1, 2, 0, 0, 1, 0, 1, 2, 2, 4, 1, 1, 1, 2, 4, 4, 1, 3, 1, 3, 1, 2,\n",
        "        4, 0, 1, 0, 4, 1, 1, 1, 4, 1, 1, 4, 0, 3, 1, 2, 2, 2, 2, 1, 1, 1, 4,\n",
        "        1, 3, 2, 2, 0, 0, 3, 3]))"
       ]
      }
     ],
     "prompt_number": 62
    },
    {
     "cell_type": "code",
     "collapsed": false,
     "input": [
      "kmeans_labels.shape"
     ],
     "language": "python",
     "metadata": {},
     "outputs": [
      {
       "metadata": {},
       "output_type": "pyout",
       "prompt_number": 63,
       "text": [
        "(100L,)"
       ]
      }
     ],
     "prompt_number": 63
    },
    {
     "cell_type": "code",
     "collapsed": false,
     "input": [
      "from matplotlib import pyplot as plt\n",
      "from mpl_toolkits.mplot3d import Axes3D\n",
      "from mpl_toolkits.mplot3d import proj3d\n",
      "\n",
      "fig = plt.figure(figsize=(8,8))\n",
      "ax = fig.add_subplot(111, projection='3d')\n",
      "plt.rcParams['legend.fontsize'] = 10\n",
      "ax.plot(K0[:,0], K0[:,1], K0[:,2], 'o', markersize=8, color='green', alpha=0.5, label='Label_0')\n",
      "ax.plot(K1[:,0], K1[:,1], K1[:,2], 'o', markersize=8, color='red', alpha=0.5, label='Label_1')\n",
      "ax.plot(K2[:,0], K2[:,1], K2[:,2], 'o', markersize=8, color='blue', alpha=0.5, label='Label_2')\n",
      "ax.plot(K3[:,0], K3[:,1], K3[:,2], 'o', markersize=8, color='yellow', alpha=0.5, label='Label_3')\n",
      "ax.plot(K4[:,0], K4[:,1], K4[:,2], 'o', markersize=8, color='black', alpha=0.5, label='Label_4')\n",
      "\n",
      "plt.title('MDS+Kmeans')\n",
      "ax.legend(loc='upper right')\n",
      "plt.show()"
     ],
     "language": "python",
     "metadata": {},
     "outputs": [
      {
       "metadata": {},
       "output_type": "display_data",
       "png": "[encoded data removed]",
       "text": [
        "<matplotlib.figure.Figure at 0x16321b70>"
       ]
      }
     ],
     "prompt_number": 64
    },
    {
     "cell_type": "code",
     "collapsed": false,
     "input": [
      "from scipy.stats import mode\n",
      "\n",
      "for i in range(5):\n",
      "    print mode(kmeans_labels[i*20:i*20+20])"
     ],
     "language": "python",
     "metadata": {},
     "outputs": [
      {
       "output_type": "stream",
       "stream": "stdout",
       "text": [
        "(array([ 2.]), array([ 11.]))\n",
        "(array([ 0.]), array([ 6.]))\n",
        "(array([ 1.]), array([ 6.]))\n",
        "(array([ 2.]), array([ 7.]))\n",
        "(array([ 4.]), array([ 6.]))\n"
       ]
      }
     ],
     "prompt_number": 41
    },
    {
     "cell_type": "code",
     "collapsed": false,
     "input": [
      "def Mode(i):\n",
      "    return mode(kmeans_labels[i*20:i*20+20])"
     ],
     "language": "python",
     "metadata": {},
     "outputs": [],
     "prompt_number": 43
    },
    {
     "cell_type": "code",
     "collapsed": false,
     "input": [
      "label = list()\n",
      "\n",
      "for i in xrange(5):\n",
      "    if int(Mode(i)[0]) not in label:\n",
      "        label.append(int(Mode(i)[0]))\n",
      "        print 'Label: ' + str(int(Mode(i)[0])) + '  Accuracy: '+ str(float(Mode(i)[1])/20)\n",
      "    else:\n",
      "        print '\"Classification Fails\" the ' + str(i+1) +'th style.'"
     ],
     "language": "python",
     "metadata": {},
     "outputs": [
      {
       "output_type": "stream",
       "stream": "stdout",
       "text": [
        "Label: 2  Accuracy: 0.55\n",
        "Label: 0  Accuracy: 0.3\n",
        "Label: 1  Accuracy: 0.3\n",
        "\"Classification Fails\" the 4th style.\n",
        "Label: 4  Accuracy: 0.3\n"
       ]
      }
     ],
     "prompt_number": 68
    },
    {
     "cell_type": "markdown",
     "metadata": {},
     "source": [
      "# MDS+Kmeans(n-dimensions)"
     ]
    },
    {
     "cell_type": "code",
     "collapsed": false,
     "input": [
      "mds = manifold.MDS(9, max_iter=100, n_init=1)\n",
      "trans_data = mds.fit_transform(D)"
     ],
     "language": "python",
     "metadata": {},
     "outputs": [],
     "prompt_number": 4
    },
    {
     "cell_type": "code",
     "collapsed": false,
     "input": [
      "trans_data.shape"
     ],
     "language": "python",
     "metadata": {},
     "outputs": [
      {
       "metadata": {},
       "output_type": "pyout",
       "prompt_number": 5,
       "text": [
        "(100L, 9L)"
       ]
      }
     ],
     "prompt_number": 5
    },
    {
     "cell_type": "code",
     "collapsed": false,
     "input": [
      "k_means = cluster.KMeans(5)\n",
      "k_means.fit(trans_data)\n",
      "x = k_means.labels_\n",
      "\n",
      "print x ,  \n"
     ],
     "language": "python",
     "metadata": {},
     "outputs": [
      {
       "output_type": "stream",
       "stream": "stdout",
       "text": [
        "[4 4 4 4 4 4 4 4 4 4 4 4 0 2 4 4 4 4 1 4 4 4 4 2 4 2 2 0 4 2 4 1 4 2 2 1 1\n",
        " 2 2 0 1 4 4 4 4 4 4 4 0 4 4 4 1 4 4 1 0 4 2 4 4 1 4 4 2 4 4 4 4 1 4 4 4 2\n",
        " 0 4 4 2 4 1 4 2 2 1 2 4 4 0 4 4 4 4 4 0 3 2 2 1 0 4]\n"
       ]
      }
     ],
     "prompt_number": 122
    },
    {
     "cell_type": "code",
     "collapsed": false,
     "input": [
      "k_means.fit(trans_data)\n",
      "x = k_means.labels_\n",
      "\n",
      "print x"
     ],
     "language": "python",
     "metadata": {},
     "outputs": [
      {
       "output_type": "stream",
       "stream": "stdout",
       "text": [
        "[1 1 4 1 1 1 4 3 1 1 1 1 0 3 1 1 1 1 1 1 1 4 0 1 4 1 1 3 1 3 4 3 1 3 3 4 0\n",
        " 0 3 4 3 1 0 1 1 1 4 4 1 0 1 1 4 1 4 0 1 4 3 1 4 1 0 1 1 1 4 1 1 3 1 4 1 1\n",
        " 1 1 1 3 4 0 1 1 1 0 0 1 0 1 4 4 1 1 4 1 2 3 1 0 1 0]\n"
       ]
      }
     ],
     "prompt_number": 123
    },
    {
     "cell_type": "code",
     "collapsed": false,
     "input": [
      "float(mode(kmeans_labels)[1]) > 25"
     ],
     "language": "python",
     "metadata": {},
     "outputs": [
      {
       "metadata": {},
       "output_type": "pyout",
       "prompt_number": 94,
       "text": [
        "(array([ 0.]), array([ 40.]))"
       ]
      }
     ],
     "prompt_number": 94
    },
    {
     "cell_type": "code",
     "collapsed": false,
     "input": [
      "a = datetime.now()\n",
      "\n",
      "k_means = cluster.KMeans(5)\n",
      "k_means.fit(trans_data)\n",
      "kmeans_labels = k_means.labels_\n",
      "\n",
      "k = 0\n",
      "\n",
      "while float(mode(kmeans_labels)[1]) > 24:\n",
      "\n",
      "    k_means.fit(trans_data)\n",
      "    kmeans_labels = k_means.labels_\n",
      "\n",
      "    k += 1\n",
      "\n",
      "print k, kmeans_labels\n",
      "        \n",
      "b = datetime.now()\n",
      "c = b - a\n",
      "\n",
      "print c.seconds"
     ],
     "language": "python",
     "metadata": {},
     "outputs": [
      {
       "output_type": "stream",
       "stream": "stdout",
       "text": [
        "1857341 [3 2 2 2 2 3 0 2 3 1 3 3 2 1 3 1 1 0 2 2 4 2 1 0 4 2 4 4 3 3 1 3 0 2 0 2 2\n",
        " 2 3 2 3 4 0 0 3 2 4 2 0 1 2 3 3 1 1 1 3 3 3 3 1 0 1 4 0 1 3 3 1 1 0 2 3 0\n",
        " 0 1 3 2 4 4 4 3 4 1 2 4 4 4 4 0 1 4 4 0 3 4 1 1 2 2]\n",
        "35675\n"
       ]
      }
     ],
     "prompt_number": 6
    },
    {
     "cell_type": "code",
     "collapsed": false,
     "input": [
      "K0 = list()\n",
      "for i in range(100):\n",
      "    if kmeans_labels[i] == 0:\n",
      "        K0.append(i)\n",
      "        \n",
      "K1 = list()\n",
      "for i in range(100):\n",
      "    if kmeans_labels[i] == 1:\n",
      "        K1.append(i)\n",
      "        \n",
      "K2 = list()\n",
      "for i in range(100):\n",
      "    if kmeans_labels[i] == 2:\n",
      "        K2.append(i)\n",
      "            \n",
      "K3 = list()\n",
      "for i in range(100):\n",
      "    if kmeans_labels[i] == 3:\n",
      "        K3.append(i)\n",
      "        \n",
      "K4 = list()\n",
      "for i in range(100):\n",
      "    if kmeans_labels[i] == 4:\n",
      "        K4.append(i)\n",
      "        \n",
      "print len(K0), len(K1), len(K2), len(K3), len(K4)"
     ],
     "language": "python",
     "metadata": {},
     "outputs": [
      {
       "output_type": "stream",
       "stream": "stdout",
       "text": [
        "15 20 23 24 18\n"
       ]
      }
     ],
     "prompt_number": 7
    },
    {
     "cell_type": "code",
     "collapsed": false,
     "input": [
      "x = list(array([1,1,2,3]))\n",
      "y = array([1,2,0])\n",
      "\n",
      "for i in range(2):\n",
      "    x.remove(1)\n",
      "\n",
      "x"
     ],
     "language": "python",
     "metadata": {},
     "outputs": [
      {
       "metadata": {},
       "output_type": "pyout",
       "prompt_number": 91,
       "text": [
        "[2, 3]"
       ]
      }
     ],
     "prompt_number": 91
    },
    {
     "cell_type": "code",
     "collapsed": false,
     "input": [
      "def Mode(i):\n",
      "    return mode(kmeans_labels[i*20:i*20+20])\n",
      "\n",
      "label = list()\n",
      "\n",
      "for i in xrange(5):\n",
      "    if int(Mode(i)[0]) not in label:\n",
      "        label.append(int(Mode(i)[0]))\n",
      "        print 'Label: ' + str(int(Mode(i)[0])) + '  Accuracy: '+ str(float(Mode(i)[1])/20)\n",
      "    else:\n",
      "        print '\"Classification Fails\" the ' + str(i+1) +'th style.'"
     ],
     "language": "python",
     "metadata": {},
     "outputs": [
      {
       "output_type": "stream",
       "stream": "stdout",
       "text": [
        "Label: 2  Accuracy: 0.4\n",
        "\"Classification Fails\" the 2th style.\n",
        "Label: 3  Accuracy: 0.4\n",
        "Label: 1  Accuracy: 0.3\n",
        "Label: 4  Accuracy: 0.45\n"
       ]
      }
     ],
     "prompt_number": 8
    },
    {
     "cell_type": "markdown",
     "metadata": {},
     "source": [
      "# MDS+Kmeans\uff1a\u51fd\u6578\u7248\u672c"
     ]
    },
    {
     "cell_type": "code",
     "collapsed": false,
     "input": [
      "from sklearn import cluster, datasets\n",
      "from scipy.stats import mode\n",
      "from sklearn import manifold\n",
      "\n",
      "def mds_kmeans(data, mds_dim, kmeans_n, threshold):\n",
      "    a = datetime.now() #\u8a08\u7b97\u7a0b\u5f0f\u6642\u9593\n",
      "    mds = manifold.MDS(mds_dim, max_iter=100, n_init=1) #MDS\u964d\u7dad\n",
      "    trans_data = mds.fit_transform(data)\n",
      "    \n",
      "    k = 0\n",
      "    style_label = list()\n",
      "    \n",
      "    k_means = cluster.KMeans(kmeans_n) #\u5148\u505a\u7b2c\u4e00\u6b21Kmeans\u597d\u9032\u5165while\u8ff4\u5708\n",
      "    k_means.fit(trans_data)\n",
      "    kmeans_labels = k_means.labels_\n",
      "\n",
      "    while len(style_label) != 5 or float(mode(kmeans_labels)[1]) > threshold:           \n",
      "        k += 1\n",
      "        k_means.fit(trans_data)\n",
      "        kmeans_labels = k_means.labels_\n",
      "    \n",
      "        style_label = list()\n",
      "        for i in xrange(5):\n",
      "            if int(mode(kmeans_labels[i*20:i*20+20])[0]) not in style_label:\n",
      "                style_label.append(int(mode(kmeans_labels[i*20:i*20+20])[0]))\n",
      "                \n",
      "        if len(style_label) == 5 and int(mode(kmeans_labels)[1]) <= threshold:\n",
      "            Label = list()\n",
      "            Accuracy = list()\n",
      "            for i in style_label:\n",
      "                Label.append(int(mode(kmeans_labels[i*20:i*20+20])[0]))\n",
      "                Accuracy.append(float(mode(kmeans_labels[i*20:i*20+20])[1])/20)\n",
      "            break\n",
      "            \n",
      "        else:\n",
      "            continue\n",
      "\n",
      "                \n",
      "    K0 = list()\n",
      "    for i in range(100):\n",
      "        if kmeans_labels[i] == 0:\n",
      "            K0.append(i)\n",
      "        \n",
      "    K1 = list()\n",
      "    for i in range(100):\n",
      "        if kmeans_labels[i] == 1:\n",
      "            K1.append(i)\n",
      "        \n",
      "    K2 = list()\n",
      "    for i in range(100):\n",
      "        if kmeans_labels[i] == 2:\n",
      "            K2.append(i)\n",
      "            \n",
      "    K3 = list()\n",
      "    for i in range(100):\n",
      "        if kmeans_labels[i] == 3:\n",
      "            K3.append(i)\n",
      "        \n",
      "    K4 = list()\n",
      "    for i in range(100):\n",
      "        if kmeans_labels[i] == 4:\n",
      "            K4.append(i)\n",
      "              \n",
      "\n",
      "    b = datetime.now()\n",
      "    c = b - a\n",
      "\n",
      "    \"\"\"\n",
      "    for i in range(5):\n",
      "        print 'Label: ' + repr(Label[i]) + '   Accuracy: ' + repr(Accuracy[i])\n",
      "\n",
      "    print kmeans_labels\n",
      "    print 'numbers of label: '+ repr([len(K0), len(K1), len(K2), len(K3), len(K4)])\n",
      "    print 'Iteration: '+str(k)\n",
      "    print 'spend '+str(c.seconds)+' seconds.'\n",
      "    \"\"\"\n",
      "    \n",
      "    return Accuracy, K0"
     ],
     "language": "python",
     "metadata": {},
     "outputs": [],
     "prompt_number": 12
    },
    {
     "cell_type": "code",
     "collapsed": false,
     "input": [
      "a = datetime.now()\n",
      "\n",
      "accrucy = mds_kmeans(DCT_lowDim2500, 5, 5, 23)\n",
      "t = 0\n",
      "\n",
      "while min(accrucy) < 0.35:\n",
      "    accrucy = mds_kmeans(DCT_lowDim2500, 5, 5, 23)\n",
      "    t += 1\n",
      "\n",
      "b = datetime.now()\n",
      "c = b - a\n",
      "    \n",
      "print accrucy\n",
      "print c.seconds\n",
      "print t"
     ],
     "language": "python",
     "metadata": {},
     "outputs": [
      {
       "output_type": "stream",
       "stream": "stdout",
       "text": [
        "[0.4, 0.35, 0.4, 0.35, 0.4]\n",
        "292\n",
        "200\n"
       ]
      }
     ],
     "prompt_number": 6
    },
    {
     "cell_type": "code",
     "collapsed": false,
     "input": [
      "print mds_kmeans(DCT_lowDim2500, 5, 5, 23)"
     ],
     "language": "python",
     "metadata": {},
     "outputs": [
      {
       "output_type": "stream",
       "stream": "stdout",
       "text": [
        "[0.25, 0.3, 0.25, 0.25, 0.35]\n"
       ]
      }
     ],
     "prompt_number": 109
    },
    {
     "cell_type": "code",
     "collapsed": false,
     "input": [
      "x = [1,1,1,1,2]"
     ],
     "language": "python",
     "metadata": {},
     "outputs": []
    },
    {
     "cell_type": "code",
     "collapsed": false,
     "input": [
      "mode(x)"
     ],
     "language": "python",
     "metadata": {},
     "outputs": [
      {
       "metadata": {},
       "output_type": "pyout",
       "prompt_number": 29,
       "text": [
        "(array([ 1.]), array([ 4.]))"
       ]
      }
     ],
     "prompt_number": 29
    },
    {
     "cell_type": "code",
     "collapsed": false,
     "input": [
      "int(mode(x)[1])"
     ],
     "language": "python",
     "metadata": {},
     "outputs": [
      {
       "metadata": {},
       "output_type": "pyout",
       "prompt_number": 36,
       "text": [
        "False"
       ]
      }
     ],
     "prompt_number": 36
    },
    {
     "cell_type": "code",
     "collapsed": false,
     "input": [
      "a = [1,1,2,3,7,8,8]\n",
      "x = 2\n",
      "h = list()"
     ],
     "language": "python",
     "metadata": {},
     "outputs": [],
     "prompt_number": 52
    },
    {
     "cell_type": "code",
     "collapsed": false,
     "input": [
      "if len(a) == 7 and x == 2:\n",
      "    print 'True'\n",
      "else:\n",
      "    print 'lol'"
     ],
     "language": "python",
     "metadata": {},
     "outputs": [
      {
       "output_type": "stream",
       "stream": "stdout",
       "text": [
        "True\n"
       ]
      }
     ],
     "prompt_number": 53
    },
    {
     "cell_type": "code",
     "collapsed": false,
     "input": [
      "for i in range(7):\n",
      "    if a[i] not in h:\n",
      "        h.append(i)\n",
      "print h"
     ],
     "language": "python",
     "metadata": {},
     "outputs": [
      {
       "output_type": "stream",
       "stream": "stdout",
       "text": [
        "[1, 2, 3, 7, 8]\n"
       ]
      }
     ],
     "prompt_number": 47
    },
    {
     "cell_type": "code",
     "collapsed": false,
     "input": [
      "5 >= 5"
     ],
     "language": "python",
     "metadata": {},
     "outputs": [
      {
       "metadata": {},
       "output_type": "pyout",
       "prompt_number": 107,
       "text": [
        "True"
       ]
      }
     ],
     "prompt_number": 107
    },
    {
     "cell_type": "markdown",
     "metadata": {},
     "source": [
      "# \u6307\u6a19\u6a94\u6848\u8207\u964d\u7dad\u6a94\u6848\u7684MDS\u6bd4\u8f03\u5716(3d\u82072d)"
     ]
    },
    {
     "cell_type": "code",
     "collapsed": false,
     "input": [
      "a = datetime.now()\n",
      "\n",
      "mds = manifold.MDS(3, max_iter=100, n_init=1)\n",
      "trans_data = mds.fit_transform(D)\n",
      "\n",
      "k_means = cluster.KMeans(5)\n",
      "k_means.fit(trans_data)\n",
      "kmeans_labels = k_means.labels_\n",
      "kmeans_centers = k_means.cluster_centers_\n",
      "\n",
      "K0 = list()\n",
      "for i in range(100):\n",
      "    if kmeans_labels[i] == 0:\n",
      "        K0.append(trans_data[i])\n",
      "        \n",
      "K1 = list()\n",
      "for i in range(100):\n",
      "    if kmeans_labels[i] == 1:\n",
      "        K1.append(trans_data[i])\n",
      "        \n",
      "K2 = list()\n",
      "for i in range(100):\n",
      "    if kmeans_labels[i] == 2:\n",
      "        K2.append(trans_data[i])\n",
      "            \n",
      "K3 = list()\n",
      "for i in range(100):\n",
      "    if kmeans_labels[i] == 3:\n",
      "        K3.append(trans_data[i])\n",
      "        \n",
      "K4 = list()\n",
      "for i in range(100):\n",
      "    if kmeans_labels[i] == 4:\n",
      "        K4.append(trans_data[i])\n",
      "\n",
      "K0 = array(K0)\n",
      "K1 = array(K1)\n",
      "K2 = array(K2)\n",
      "K3 = array(K3)\n",
      "K4 = array(K4)\n",
      "\n",
      "from matplotlib import pyplot as plt\n",
      "from mpl_toolkits.mplot3d import Axes3D\n",
      "from mpl_toolkits.mplot3d import proj3d\n",
      "\n",
      "fig = plt.figure(figsize=(8,8))\n",
      "ax = fig.add_subplot(111, projection='3d')\n",
      "plt.rcParams['legend.fontsize'] = 10\n",
      "ax.plot(K0[:,0], K0[:,1], K0[:,2], 'o', markersize=8, color='green', alpha=0.5, label='Label_0')\n",
      "ax.plot(K1[:,0], K1[:,1], K1[:,2], 'o', markersize=8, color='red', alpha=0.5, label='Label_1')\n",
      "ax.plot(K2[:,0], K2[:,1], K2[:,2], 'o', markersize=8, color='blue', alpha=0.5, label='Label_2')\n",
      "ax.plot(K3[:,0], K3[:,1], K3[:,2], 'o', markersize=8, color='yellow', alpha=0.5, label='Label_3')\n",
      "ax.plot(K4[:,0], K4[:,1], K4[:,2], 'o', markersize=8, color='black', alpha=0.5, label='Label_4')\n",
      "\n",
      "plt.title('DCT_maxC')\n",
      "ax.legend(loc='upper right')\n",
      "plt.show()\n",
      "\n",
      "b = datetime.now()\n",
      "c = b - a\n",
      "\n",
      "c.seconds"
     ],
     "language": "python",
     "metadata": {},
     "outputs": [
      {
       "metadata": {},
       "output_type": "display_data",
       "png": "[encoded data removed]",
       "text": [
        "<matplotlib.figure.Figure at 0x1607e668>"
       ]
      },
      {
       "metadata": {},
       "output_type": "pyout",
       "prompt_number": 5,
       "text": [
        "1"
       ]
      }
     ],
     "prompt_number": 5
    },
    {
     "cell_type": "code",
     "collapsed": false,
     "input": [
      "mds_kmeans(DCT_lowDim2500, 3, 5, 25)\n",
      "\n",
      "from matplotlib import pyplot as plt\n",
      "from mpl_toolkits.mplot3d import Axes3D\n",
      "from mpl_toolkits.mplot3d import proj3d\n",
      "\n",
      "fig = plt.figure(figsize=(8,8))\n",
      "ax = fig.add_subplot(111, projection='3d')\n",
      "plt.rcParams['legend.fontsize'] = 10\n",
      "ax.plot(K0[:,0], K0[:,1], K0[:,2], 'o', markersize=8, color='green', alpha=0.5, label='Label_0')\n",
      "ax.plot(K1[:,0], K1[:,1], K1[:,2], 'o', markersize=8, color='red', alpha=0.5, label='Label_1')\n",
      "ax.plot(K2[:,0], K2[:,1], K2[:,2], 'o', markersize=8, color='blue', alpha=0.5, label='Label_2')\n",
      "ax.plot(K3[:,0], K3[:,1], K3[:,2], 'o', markersize=8, color='yellow', alpha=0.5, label='Label_3')\n",
      "ax.plot(K4[:,0], K4[:,1], K4[:,2], 'o', markersize=8, color='black', alpha=0.5, label='Label_4')\n",
      "\n",
      "plt.title('lowDim')\n",
      "ax.legend(loc='upper right')\n",
      "plt.show()"
     ],
     "language": "python",
     "metadata": {},
     "outputs": [
      {
       "ename": "AttributeError",
       "evalue": "'list' object has no attribute 'shape'",
       "output_type": "pyerr",
       "traceback": [
        "\u001b[1;31m---------------------------------------------------------------------------\u001b[0m\n\u001b[1;31mAttributeError\u001b[0m                            Traceback (most recent call last)",
        "\u001b[1;32m<ipython-input-22-c8791625736a>\u001b[0m in \u001b[0;36m<module>\u001b[1;34m()\u001b[0m\n\u001b[1;32m----> 1\u001b[1;33m \u001b[0mmds_kmeans\u001b[0m\u001b[1;33m(\u001b[0m\u001b[0mDCT_lowDim2500\u001b[0m\u001b[1;33m,\u001b[0m \u001b[1;36m3\u001b[0m\u001b[1;33m,\u001b[0m \u001b[1;36m5\u001b[0m\u001b[1;33m,\u001b[0m \u001b[1;36m25\u001b[0m\u001b[1;33m)\u001b[0m\u001b[1;33m\u001b[0m\u001b[0m\n\u001b[0m\u001b[0;32m      2\u001b[0m \u001b[1;33m\u001b[0m\u001b[0m\n\u001b[0;32m      3\u001b[0m \u001b[1;32mfrom\u001b[0m \u001b[0mmatplotlib\u001b[0m \u001b[1;32mimport\u001b[0m \u001b[0mpyplot\u001b[0m \u001b[1;32mas\u001b[0m \u001b[0mplt\u001b[0m\u001b[1;33m\u001b[0m\u001b[0m\n\u001b[0;32m      4\u001b[0m \u001b[1;32mfrom\u001b[0m \u001b[0mmpl_toolkits\u001b[0m\u001b[1;33m.\u001b[0m\u001b[0mmplot3d\u001b[0m \u001b[1;32mimport\u001b[0m \u001b[0mAxes3D\u001b[0m\u001b[1;33m\u001b[0m\u001b[0m\n\u001b[0;32m      5\u001b[0m \u001b[1;32mfrom\u001b[0m \u001b[0mmpl_toolkits\u001b[0m\u001b[1;33m.\u001b[0m\u001b[0mmplot3d\u001b[0m \u001b[1;32mimport\u001b[0m \u001b[0mproj3d\u001b[0m\u001b[1;33m\u001b[0m\u001b[0m\n",
        "\u001b[1;32m<ipython-input-21-f0ee1626fc24>\u001b[0m in \u001b[0;36mmds_kmeans\u001b[1;34m(data, mds_dim, kmeans_n, threshold)\u001b[0m\n\u001b[0;32m     76\u001b[0m     \"\"\"\n\u001b[0;32m     77\u001b[0m \u001b[1;33m\u001b[0m\u001b[0m\n\u001b[1;32m---> 78\u001b[1;33m     \u001b[1;32mreturn\u001b[0m \u001b[0mAccuracy\u001b[0m\u001b[1;33m,\u001b[0m \u001b[0mK0\u001b[0m\u001b[1;33m.\u001b[0m\u001b[0mshape\u001b[0m\u001b[1;33m\u001b[0m\u001b[0m\n\u001b[0m",
        "\u001b[1;31mAttributeError\u001b[0m: 'list' object has no attribute 'shape'"
       ]
      }
     ],
     "prompt_number": 22
    },
    {
     "cell_type": "code",
     "collapsed": false,
     "input": [
      "mds_kmeans(DCT_lowDim2500, 3, 5, 25)"
     ],
     "language": "python",
     "metadata": {},
     "outputs": [
      {
       "metadata": {},
       "output_type": "pyout",
       "prompt_number": 26,
       "text": [
        "([0.4, 0.3, 0.3, 0.3, 0.3],\n",
        " [8,\n",
        "  10,\n",
        "  12,\n",
        "  20,\n",
        "  24,\n",
        "  26,\n",
        "  32,\n",
        "  33,\n",
        "  38,\n",
        "  42,\n",
        "  45,\n",
        "  46,\n",
        "  48,\n",
        "  59,\n",
        "  64,\n",
        "  67,\n",
        "  68,\n",
        "  71,\n",
        "  84,\n",
        "  90,\n",
        "  92,\n",
        "  95])"
       ]
      }
     ],
     "prompt_number": 26
    },
    {
     "cell_type": "code",
     "collapsed": false,
     "input": [
      "\n",
      "\n",
      "fig = plt.figure(figsize=(8,8))\n",
      "ax = fig.add_subplot(111)\n",
      "plt.rcParams['legend.fontsize'] = 10\n",
      "ax.plot(K0[:,0], K0[:,1], 'o', markersize=8, color='green', alpha=0.5, label='Label_0')\n",
      "ax.plot(K1[:,0], K1[:,1], 'o', markersize=8, color='red', alpha=0.5, label='Label_1')\n",
      "ax.plot(K2[:,0], K2[:,1], 'o', markersize=8, color='blue', alpha=0.5, label='Label_2')\n",
      "ax.plot(K3[:,0], K3[:,1], 'o', markersize=8, color='yellow', alpha=0.5, label='Label_3')\n",
      "ax.plot(K4[:,0], K4[:,1], 'o', markersize=8, color='black', alpha=0.5, label='Label_4')\n",
      "\n",
      "plt.title('DCT_lowDim2500')\n",
      "ax.legend(loc='upper right')"
     ],
     "language": "python",
     "metadata": {},
     "outputs": []
    },
    {
     "cell_type": "code",
     "collapsed": false,
     "input": [
      "mds = manifold.MDS(2, max_iter=100, n_init=1)\n",
      "trans_data = mds.fit_transform(D)\n",
      "\n",
      "k_means = cluster.KMeans(5)\n",
      "k_means.fit(trans_data)\n",
      "kmeans_labels = k_means.labels_\n",
      "kmeans_centers = k_means.cluster_centers_\n",
      "\n",
      "K0 = list()\n",
      "for i in range(100):\n",
      "    if kmeans_labels[i] == 0:\n",
      "        K0.append(trans_data[i])\n",
      "        \n",
      "K1 = list()\n",
      "for i in range(100):\n",
      "    if kmeans_labels[i] == 1:\n",
      "        K1.append(trans_data[i])\n",
      "        \n",
      "K2 = list()\n",
      "for i in range(100):\n",
      "    if kmeans_labels[i] == 2:\n",
      "        K2.append(trans_data[i])\n",
      "            \n",
      "K3 = list()\n",
      "for i in range(100):\n",
      "    if kmeans_labels[i] == 3:\n",
      "        K3.append(trans_data[i])\n",
      "        \n",
      "K4 = list()\n",
      "for i in range(100):\n",
      "    if kmeans_labels[i] == 4:\n",
      "        K4.append(trans_data[i])\n",
      "        \n",
      "K0 = array(K0)\n",
      "K1 = array(K1)\n",
      "K2 = array(K2)\n",
      "K3 = array(K3)\n",
      "K4 = array(K4)"
     ],
     "language": "python",
     "metadata": {},
     "outputs": [],
     "prompt_number": 18
    },
    {
     "cell_type": "code",
     "collapsed": false,
     "input": [
      "len(K0), len(K1), len(K2), len(K3), len(K4)"
     ],
     "language": "python",
     "metadata": {},
     "outputs": [
      {
       "metadata": {},
       "output_type": "pyout",
       "prompt_number": 19,
       "text": [
        "(13, 16, 17, 37, 17)"
       ]
      }
     ],
     "prompt_number": 19
    },
    {
     "cell_type": "code",
     "collapsed": false,
     "input": [
      "K0.shape"
     ],
     "language": "python",
     "metadata": {},
     "outputs": [
      {
       "metadata": {},
       "output_type": "pyout",
       "prompt_number": 20,
       "text": [
        "(13L, 2L)"
       ]
      }
     ],
     "prompt_number": 20
    },
    {
     "cell_type": "code",
     "collapsed": false,
     "input": [
      "k, kmeans_labels"
     ],
     "language": "python",
     "metadata": {},
     "outputs": [
      {
       "metadata": {},
       "output_type": "pyout",
       "prompt_number": 53,
       "text": [
        "(4, array([3, 3, 0, 3, 3, 3, 1, 3, 3, 3, 3, 3, 2, 1, 3, 3, 3, 4, 1, 3, 3, 4, 1,\n",
        "        0, 1, 0, 4, 1, 4, 2, 0, 4, 4, 3, 2, 0, 2, 1, 4, 2, 2, 3, 0, 0, 1, 3,\n",
        "        0, 4, 0, 2, 1, 3, 2, 3, 4, 4, 4, 3, 4, 3, 0, 1, 1, 1, 1, 3, 3, 3, 3,\n",
        "        2, 2, 0, 3, 4, 3, 3, 3, 3, 3, 3, 3, 2, 0, 1, 2, 0, 1, 2, 2, 0, 4, 2,\n",
        "        4, 2, 0, 0, 1, 1, 2, 1]))"
       ]
      }
     ],
     "prompt_number": 53
    },
    {
     "cell_type": "code",
     "collapsed": false,
     "input": [
      "from matplotlib import pyplot as plt\n",
      "from mpl_toolkits.mplot3d import Axes3D\n",
      "from mpl_toolkits.mplot3d import proj3d\n",
      "\n",
      "fig = plt.figure(figsize=(8,8))\n",
      "ax = fig.add_subplot(111)\n",
      "plt.rcParams['legend.fontsize'] = 10\n",
      "ax.plot(K0[:,0], K0[:,1], 'o', markersize=8, color='green', alpha=0.5, label='Label_0')\n",
      "ax.plot(K1[:,0], K1[:,1], 'o', markersize=8, color='red', alpha=0.5, label='Label_1')\n",
      "ax.plot(K2[:,0], K2[:,1], 'o', markersize=8, color='blue', alpha=0.5, label='Label_2')\n",
      "ax.plot(K3[:,0], K3[:,1], 'o', markersize=8, color='yellow', alpha=0.5, label='Label_3')\n",
      "ax.plot(K4[:,0], K4[:,1], 'o', markersize=8, color='black', alpha=0.5, label='Label_4')\n",
      "\n",
      "plt.title('DCT_maxC')\n",
      "ax.legend(loc='upper right')\n",
      "plt.show()"
     ],
     "language": "python",
     "metadata": {},
     "outputs": [
      {
       "metadata": {},
       "output_type": "display_data",
       "png": "[encoded data removed]",
       "text": [
        "<matplotlib.figure.Figure at 0x17ac7390>"
       ]
      }
     ],
     "prompt_number": 58
    },
    {
     "cell_type": "markdown",
     "metadata": {},
     "source": [
      "# LDA\u964d\u7dad"
     ]
    },
    {
     "cell_type": "code",
     "collapsed": false,
     "input": [
      "from sklearn.lda import LDA\n",
      "\n",
      "y = np.array([i for i in range(1,6) for j in range(20)])\n",
      "\n",
      "lda = LDA(n_components=8)\n",
      "lda_D = lda.fit_transform(D,y)"
     ],
     "language": "python",
     "metadata": {},
     "outputs": [
      {
       "output_type": "stream",
       "stream": "stderr",
       "text": [
        "C:\\Users\\User\\Anaconda\\lib\\site-packages\\sklearn\\lda.py:161: UserWarning: Variables are collinear\n",
        "  warnings.warn(\"Variables are collinear\")\n"
       ]
      }
     ],
     "prompt_number": 3
    },
    {
     "cell_type": "code",
     "collapsed": false,
     "input": [
      "lda_D.shape"
     ],
     "language": "python",
     "metadata": {},
     "outputs": [
      {
       "metadata": {},
       "output_type": "pyout",
       "prompt_number": 4,
       "text": [
        "(100L, 4L)"
       ]
      }
     ],
     "prompt_number": 4
    },
    {
     "cell_type": "code",
     "collapsed": false,
     "input": [
      "k_means = cluster.KMeans(5)\n",
      "k_means.fit(lda_D)\n",
      "kmeans_labels = k_means.labels_"
     ],
     "language": "python",
     "metadata": {},
     "outputs": [],
     "prompt_number": 5
    },
    {
     "cell_type": "code",
     "collapsed": false,
     "input": [
      "for i in range(5):\n",
      "    print kmeans_labels[i*20:i*20+20]"
     ],
     "language": "python",
     "metadata": {},
     "outputs": [
      {
       "output_type": "stream",
       "stream": "stdout",
       "text": [
        "[2 2 2 2 2 2 2 2 4 2 2 2 2 2 2 2 2 2 2 2]\n",
        "[4 0 0 0 0 0 0 0 0 0 0 0 0 4 0 0 0 0 0 0]\n",
        "[1 1 1 1 1 1 1 1 1 1 1 1 1 1 1 1 1 1 1 0]\n",
        "[3 3 3 3 3 3 3 0 3 3 3 3 0 3 3 3 3 3 3 3]\n",
        "[0 4 4 4 4 4 4 4 4 4 4 4 4 4 4 4 4 4 4 4]\n"
       ]
      }
     ],
     "prompt_number": 6
    },
    {
     "cell_type": "code",
     "collapsed": false,
     "input": [
      "K0 = list()\n",
      "for i in range(100):\n",
      "    if kmeans_labels[i] == 0:\n",
      "        K0.append(i)\n",
      "        \n",
      "K1 = list()\n",
      "for i in range(100):\n",
      "    if kmeans_labels[i] == 1:\n",
      "        K1.append(i)\n",
      "        \n",
      "K2 = list()\n",
      "for i in range(100):\n",
      "    if kmeans_labels[i] == 2:\n",
      "        K2.append(i)\n",
      "            \n",
      "K3 = list()\n",
      "for i in range(100):\n",
      "    if kmeans_labels[i] == 3:\n",
      "        K3.append(i)\n",
      "        \n",
      "K4 = list()\n",
      "for i in range(100):\n",
      "    if kmeans_labels[i] == 4:\n",
      "        K4.append(i)\n",
      "        \n",
      "len(K0), len(K1), len(K2), len(K3), len(K4)"
     ],
     "language": "python",
     "metadata": {},
     "outputs": [
      {
       "metadata": {},
       "output_type": "pyout",
       "prompt_number": 7,
       "text": [
        "(22, 19, 19, 18, 22)"
       ]
      }
     ],
     "prompt_number": 7
    },
    {
     "cell_type": "code",
     "collapsed": false,
     "input": [
      "for i in range(5):\n",
      "    print 'Accuray: ' + str(float(mode(kmeans_labels[i*20:i*20+20])[1])/20)"
     ],
     "language": "python",
     "metadata": {},
     "outputs": [
      {
       "output_type": "stream",
       "stream": "stdout",
       "text": [
        "Accuray: 0.95\n",
        "Accuray: 0.9\n",
        "Accuray: 0.95\n",
        "Accuray: 0.9\n",
        "Accuray: 0.95\n"
       ]
      }
     ],
     "prompt_number": 8
    },
    {
     "cell_type": "code",
     "collapsed": false,
     "input": [
      "clf = LDA()\n",
      "\n",
      "for i in range(5):\n",
      "    print clf.fit(D,y).predict(D)[i*20:i*20+20] \n",
      "\n",
      "for i in range(5):\n",
      "    print 'Accuray:' + str(float(mode(clf.fit(D,y).predict(D)[i*20:i*20+20])[1])/20)"
     ],
     "language": "python",
     "metadata": {},
     "outputs": [
      {
       "output_type": "stream",
       "stream": "stdout",
       "text": [
        "[1 1 1 1 1 1 1 1 5 1 1 1 1 1 1 1 1 1 1 1]\n",
        "[5 2 2 2 2 2 2 2 2 2 2 2 2 5 2 2 2 2 2 2]\n",
        "[3 3 3 3 3 3 3 3 3 3 3 3 3 3 3 3 3 3 3 2]"
       ]
      },
      {
       "output_type": "stream",
       "stream": "stdout",
       "text": [
        "\n",
        "[4 4 4 4 4 4 4 2 4 4 4 4 2 4 4 4 4 4 4 4]\n",
        "[2 5 5 5 5 5 5 5 5 5 5 5 5 5 5 5 5 5 5 5]"
       ]
      },
      {
       "output_type": "stream",
       "stream": "stdout",
       "text": [
        "\n",
        "Accuray:0.95\n",
        "Accuray:0.9"
       ]
      },
      {
       "output_type": "stream",
       "stream": "stdout",
       "text": [
        "\n",
        "Accuray:0.95"
       ]
      },
      {
       "output_type": "stream",
       "stream": "stdout",
       "text": [
        "\n",
        "Accuray:0.9\n",
        "Accuray:0.95"
       ]
      },
      {
       "output_type": "stream",
       "stream": "stdout",
       "text": [
        "\n"
       ]
      }
     ],
     "prompt_number": 9
    },
    {
     "cell_type": "markdown",
     "metadata": {},
     "source": [
      "# \u82e5\u76f4\u63a5\u5f9e\u5169\u842c\u7dad\u964d\u7dad\uff0cLDA\u5206\u985e\u6e96\u78ba\u5ea6\u5c31\u6703\u4e0b\u964d"
     ]
    },
    {
     "cell_type": "code",
     "collapsed": false,
     "input": [
      "from sklearn.lda import LDA\n",
      "\n",
      "y = np.array([i for i in range(1,6) for j in range(20)])\n",
      "\n",
      "lda = LDA(n_components=4)\n",
      "lda_std20k = lda.fit_transform(STD_MAX20000,y)"
     ],
     "language": "python",
     "metadata": {},
     "outputs": [],
     "prompt_number": 11
    },
    {
     "cell_type": "code",
     "collapsed": false,
     "input": [
      "from sklearn.lda import LDA\n",
      "\n",
      "y = np.array([i for i in range(1,6) for j in range(20)])\n",
      "\n",
      "clf = LDA()\n",
      "\n",
      "for i in range(5):\n",
      "    print clf.fit(STD_MAX20000,y).predict(STD_MAX20000)[i*20:i*20+20] \n",
      "\n",
      "for i in range(5):\n",
      "    print 'Accuracy:' + str(float(mode(clf.fit(STD_MAX20000,y).predict(STD_MAX20000)[i*20:i*20+20])[1])/20) + '     Label:' + str(int(mode(clf.fit(STD_MAX20000,y).predict(STD_MAX20000)[i*20:i*20+20])[0]))"
     ],
     "language": "python",
     "metadata": {},
     "outputs": [
      {
       "output_type": "stream",
       "stream": "stdout",
       "text": [
        "[1 2 4 1 4 1 1 1 4 4 1 1 1 1 1 2 4 1 1 1]\n",
        "[1 2 2 2 4 2 2 2 4 4 2 4 2 2 2 2 4 2 2 4]"
       ]
      },
      {
       "output_type": "stream",
       "stream": "stdout",
       "text": [
        "\n",
        "[3 3 4 1 2 2 3 3 3 3 3 2 3 3 3 3 2 3 4 3]"
       ]
      },
      {
       "output_type": "stream",
       "stream": "stdout",
       "text": [
        "\n",
        "[4 4 4 1 4 2 4 1 4 4 4 4 4 4 2 2 3 4 4 1]"
       ]
      },
      {
       "output_type": "stream",
       "stream": "stdout",
       "text": [
        "\n",
        "[5 5 5 2 5 5 5 5 4 4 1 5 4 5 5 5 5 5 5 5]"
       ]
      },
      {
       "output_type": "stream",
       "stream": "stdout",
       "text": [
        "\n",
        "Accuray:0.65     Label:1"
       ]
      },
      {
       "output_type": "stream",
       "stream": "stdout",
       "text": [
        "\n",
        "Accuray:0.65     Label:2"
       ]
      },
      {
       "output_type": "stream",
       "stream": "stdout",
       "text": [
        "\n",
        "Accuray:0.65     Label:3"
       ]
      },
      {
       "output_type": "stream",
       "stream": "stdout",
       "text": [
        "\n",
        "Accuray:0.65     Label:4"
       ]
      },
      {
       "output_type": "stream",
       "stream": "stdout",
       "text": [
        "\n",
        "Accuray:0.75     Label:5"
       ]
      },
      {
       "output_type": "stream",
       "stream": "stdout",
       "text": [
        "\n"
       ]
      }
     ],
     "prompt_number": 33
    },
    {
     "cell_type": "code",
     "collapsed": false,
     "input": [
      "a = clf.fit_transform(STD_MAX20000,y)"
     ],
     "language": "python",
     "metadata": {},
     "outputs": [],
     "prompt_number": 34
    },
    {
     "cell_type": "code",
     "collapsed": false,
     "input": [
      "a.shape"
     ],
     "language": "python",
     "metadata": {},
     "outputs": [
      {
       "metadata": {},
       "output_type": "pyout",
       "prompt_number": 35,
       "text": [
        "(100L, 4L)"
       ]
      }
     ],
     "prompt_number": 35
    },
    {
     "cell_type": "code",
     "collapsed": false,
     "input": [],
     "language": "python",
     "metadata": {},
     "outputs": []
    }
   ],
   "metadata": {}
  }
 ]
}