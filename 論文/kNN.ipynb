{
 "metadata": {
  "name": "",
  "signature": "sha256:36122107708ddb7167d65ae69e100afc73941da929a3c50b3b66f59dd9dbb8f6"
 },
 "nbformat": 3,
 "nbformat_minor": 0,
 "worksheets": [
  {
   "cells": [
    {
     "cell_type": "code",
     "collapsed": false,
     "input": [
      "import csv\n",
      "import random\n",
      "import math\n",
      "import operator"
     ],
     "language": "python",
     "metadata": {},
     "outputs": [],
     "prompt_number": 1
    },
    {
     "cell_type": "markdown",
     "metadata": {},
     "source": [
      "# <font color='red'>\u7b2c\u4e00\u6b65\uff1aHandle Data<font>\n",
      "\n",
      "## \u76ee\u6a19\uff1a<br />1.\u958b\u555fCSV\u6a94\u3002<br />2.\u5c07\u8cc7\u6599\u5927\u7d04\u4ee567/33\u7684\u6bd4\u4f8b\u5206\u70baTraining Set\u8207Test Set\u3002"
     ]
    },
    {
     "cell_type": "code",
     "collapsed": false,
     "input": [
      "with open('iris.data','rb') as csvfile:\n",
      "    lines = csv.reader(csvfile)\n",
      "    for row in lines:\n",
      "        print ', '.join(row)"
     ],
     "language": "python",
     "metadata": {},
     "outputs": [
      {
       "output_type": "stream",
       "stream": "stdout",
       "text": [
        "5.1, 3.5, 1.4, 0.2, Iris-setosa\n",
        "4.9, 3.0, 1.4, 0.2, Iris-setosa\n",
        "4.7, 3.2, 1.3, 0.2, Iris-setosa\n",
        "4.6, 3.1, 1.5, 0.2, Iris-setosa\n",
        "5.0, 3.6, 1.4, 0.2, Iris-setosa\n",
        "5.4, 3.9, 1.7, 0.4, Iris-setosa\n",
        "4.6, 3.4, 1.4, 0.3, Iris-setosa\n",
        "5.0, 3.4, 1.5, 0.2, Iris-setosa\n",
        "4.4, 2.9, 1.4, 0.2, Iris-setosa\n",
        "4.9, 3.1, 1.5, 0.1, Iris-setosa\n",
        "5.4, 3.7, 1.5, 0.2, Iris-setosa\n",
        "4.8, 3.4, 1.6, 0.2, Iris-setosa\n",
        "4.8, 3.0, 1.4, 0.1, Iris-setosa\n",
        "4.3, 3.0, 1.1, 0.1, Iris-setosa\n",
        "5.8, 4.0, 1.2, 0.2, Iris-setosa\n",
        "5.7, 4.4, 1.5, 0.4, Iris-setosa\n",
        "5.4, 3.9, 1.3, 0.4, Iris-setosa\n",
        "5.1, 3.5, 1.4, 0.3, Iris-setosa\n",
        "5.7, 3.8, 1.7, 0.3, Iris-setosa\n",
        "5.1, 3.8, 1.5, 0.3, Iris-setosa\n",
        "5.4, 3.4, 1.7, 0.2, Iris-setosa\n",
        "5.1, 3.7, 1.5, 0.4, Iris-setosa\n",
        "4.6, 3.6, 1.0, 0.2, Iris-setosa\n",
        "5.1, 3.3, 1.7, 0.5, Iris-setosa\n",
        "4.8, 3.4, 1.9, 0.2, Iris-setosa\n",
        "5.0, 3.0, 1.6, 0.2, Iris-setosa\n",
        "5.0, 3.4, 1.6, 0.4, Iris-setosa\n",
        "5.2, 3.5, 1.5, 0.2, Iris-setosa\n",
        "5.2, 3.4, 1.4, 0.2, Iris-setosa\n",
        "4.7, 3.2, 1.6, 0.2, Iris-setosa\n",
        "4.8, 3.1, 1.6, 0.2, Iris-setosa\n",
        "5.4, 3.4, 1.5, 0.4, Iris-setosa\n",
        "5.2, 4.1, 1.5, 0.1, Iris-setosa\n",
        "5.5, 4.2, 1.4, 0.2, Iris-setosa\n",
        "4.9, 3.1, 1.5, 0.1, Iris-setosa\n",
        "5.0, 3.2, 1.2, 0.2, Iris-setosa\n",
        "5.5, 3.5, 1.3, 0.2, Iris-setosa\n",
        "4.9, 3.1, 1.5, 0.1, Iris-setosa\n",
        "4.4, 3.0, 1.3, 0.2, Iris-setosa\n",
        "5.1, 3.4, 1.5, 0.2, Iris-setosa\n",
        "5.0, 3.5, 1.3, 0.3, Iris-setosa\n",
        "4.5, 2.3, 1.3, 0.3, Iris-setosa\n",
        "4.4, 3.2, 1.3, 0.2, Iris-setosa\n",
        "5.0, 3.5, 1.6, 0.6, Iris-setosa\n",
        "5.1, 3.8, 1.9, 0.4, Iris-setosa\n",
        "4.8, 3.0, 1.4, 0.3, Iris-setosa\n",
        "5.1, 3.8, 1.6, 0.2, Iris-setosa\n",
        "4.6, 3.2, 1.4, 0.2, Iris-setosa\n",
        "5.3, 3.7, 1.5, 0.2, Iris-setosa\n",
        "5.0, 3.3, 1.4, 0.2, Iris-setosa\n",
        "7.0, 3.2, 4.7, 1.4, Iris-versicolor\n",
        "6.4, 3.2, 4.5, 1.5, Iris-versicolor\n",
        "6.9, 3.1, 4.9, 1.5, Iris-versicolor\n",
        "5.5, 2.3, 4.0, 1.3, Iris-versicolor\n",
        "6.5, 2.8, 4.6, 1.5, Iris-versicolor\n",
        "5.7, 2.8, 4.5, 1.3, Iris-versicolor\n",
        "6.3, 3.3, 4.7, 1.6, Iris-versicolor\n",
        "4.9, 2.4, 3.3, 1.0, Iris-versicolor\n",
        "6.6, 2.9, 4.6, 1.3, Iris-versicolor\n",
        "5.2, 2.7, 3.9, 1.4, Iris-versicolor\n",
        "5.0, 2.0, 3.5, 1.0, Iris-versicolor\n",
        "5.9, 3.0, 4.2, 1.5, Iris-versicolor\n",
        "6.0, 2.2, 4.0, 1.0, Iris-versicolor\n",
        "6.1, 2.9, 4.7, 1.4, Iris-versicolor\n",
        "5.6, 2.9, 3.6, 1.3, Iris-versicolor\n",
        "6.7, 3.1, 4.4, 1.4, Iris-versicolor\n",
        "5.6, 3.0, 4.5, 1.5, Iris-versicolor\n",
        "5.8, 2.7, 4.1, 1.0, Iris-versicolor\n",
        "6.2, 2.2, 4.5, 1.5, Iris-versicolor\n",
        "5.6, 2.5, 3.9, 1.1, Iris-versicolor\n",
        "5.9, 3.2, 4.8, 1.8, Iris-versicolor\n",
        "6.1, 2.8, 4.0, 1.3, Iris-versicolor\n",
        "6.3, 2.5, 4.9, 1.5, Iris-versicolor\n",
        "6.1, 2.8, 4.7, 1.2, Iris-versicolor\n",
        "6.4, 2.9, 4.3, 1.3, Iris-versicolor\n",
        "6.6, 3.0, 4.4, 1.4, Iris-versicolor\n",
        "6.8, 2.8, 4.8, 1.4, Iris-versicolor\n",
        "6.7, 3.0, 5.0, 1.7, Iris-versicolor\n",
        "6.0, 2.9, 4.5, 1.5, Iris-versicolor\n",
        "5.7, 2.6, 3.5, 1.0, Iris-versicolor\n",
        "5.5, 2.4, 3.8, 1.1, Iris-versicolor\n",
        "5.5, 2.4, 3.7, 1.0, Iris-versicolor\n",
        "5.8, 2.7, 3.9, 1.2, Iris-versicolor\n",
        "6.0, 2.7, 5.1, 1.6, Iris-versicolor\n",
        "5.4, 3.0, 4.5, 1.5, Iris-versicolor\n",
        "6.0, 3.4, 4.5, 1.6, Iris-versicolor\n",
        "6.7, 3.1, 4.7, 1.5, Iris-versicolor\n",
        "6.3, 2.3, 4.4, 1.3, Iris-versicolor\n",
        "5.6, 3.0, 4.1, 1.3, Iris-versicolor\n",
        "5.5, 2.5, 4.0, 1.3, Iris-versicolor\n",
        "5.5, 2.6, 4.4, 1.2, Iris-versicolor\n",
        "6.1, 3.0, 4.6, 1.4, Iris-versicolor\n",
        "5.8, 2.6, 4.0, 1.2, Iris-versicolor\n",
        "5.0, 2.3, 3.3, 1.0, Iris-versicolor\n",
        "5.6, 2.7, 4.2, 1.3, Iris-versicolor\n",
        "5.7, 3.0, 4.2, 1.2, Iris-versicolor\n",
        "5.7, 2.9, 4.2, 1.3, Iris-versicolor\n",
        "6.2, 2.9, 4.3, 1.3, Iris-versicolor\n",
        "5.1, 2.5, 3.0, 1.1, Iris-versicolor\n",
        "5.7, 2.8, 4.1, 1.3, Iris-versicolor\n",
        "6.3, 3.3, 6.0, 2.5, Iris-virginica\n",
        "5.8, 2.7, 5.1, 1.9, Iris-virginica\n",
        "7.1, 3.0, 5.9, 2.1, Iris-virginica\n",
        "6.3, 2.9, 5.6, 1.8, Iris-virginica\n",
        "6.5, 3.0, 5.8, 2.2, Iris-virginica\n",
        "7.6, 3.0, 6.6, 2.1, Iris-virginica\n",
        "4.9, 2.5, 4.5, 1.7, Iris-virginica\n",
        "7.3, 2.9, 6.3, 1.8, Iris-virginica\n",
        "6.7, 2.5, 5.8, 1.8, Iris-virginica\n",
        "7.2, 3.6, 6.1, 2.5, Iris-virginica\n",
        "6.5, 3.2, 5.1, 2.0, Iris-virginica\n",
        "6.4, 2.7, 5.3, 1.9, Iris-virginica\n",
        "6.8, 3.0, 5.5, 2.1, Iris-virginica\n",
        "5.7, 2.5, 5.0, 2.0, Iris-virginica\n",
        "5.8, 2.8, 5.1, 2.4, Iris-virginica\n",
        "6.4, 3.2, 5.3, 2.3, Iris-virginica\n",
        "6.5, 3.0, 5.5, 1.8, Iris-virginica\n",
        "7.7, 3.8, 6.7, 2.2, Iris-virginica\n",
        "7.7, 2.6, 6.9, 2.3, Iris-virginica\n",
        "6.0, 2.2, 5.0, 1.5, Iris-virginica\n",
        "6.9, 3.2, 5.7, 2.3, Iris-virginica\n",
        "5.6, 2.8, 4.9, 2.0, Iris-virginica\n",
        "7.7, 2.8, 6.7, 2.0, Iris-virginica\n",
        "6.3, 2.7, 4.9, 1.8, Iris-virginica\n",
        "6.7, 3.3, 5.7, 2.1, Iris-virginica\n",
        "7.2, 3.2, 6.0, 1.8, Iris-virginica\n",
        "6.2, 2.8, 4.8, 1.8, Iris-virginica\n",
        "6.1, 3.0, 4.9, 1.8, Iris-virginica\n",
        "6.4, 2.8, 5.6, 2.1, Iris-virginica\n",
        "7.2, 3.0, 5.8, 1.6, Iris-virginica\n",
        "7.4, 2.8, 6.1, 1.9, Iris-virginica\n",
        "7.9, 3.8, 6.4, 2.0, Iris-virginica\n",
        "6.4, 2.8, 5.6, 2.2, Iris-virginica\n",
        "6.3, 2.8, 5.1, 1.5, Iris-virginica\n",
        "6.1, 2.6, 5.6, 1.4, Iris-virginica\n",
        "7.7, 3.0, 6.1, 2.3, Iris-virginica\n",
        "6.3, 3.4, 5.6, 2.4, Iris-virginica\n",
        "6.4, 3.1, 5.5, 1.8, Iris-virginica\n",
        "6.0, 3.0, 4.8, 1.8, Iris-virginica\n",
        "6.9, 3.1, 5.4, 2.1, Iris-virginica\n",
        "6.7, 3.1, 5.6, 2.4, Iris-virginica\n",
        "6.9, 3.1, 5.1, 2.3, Iris-virginica\n",
        "5.8, 2.7, 5.1, 1.9, Iris-virginica\n",
        "6.8, 3.2, 5.9, 2.3, Iris-virginica\n",
        "6.7, 3.3, 5.7, 2.5, Iris-virginica\n",
        "6.7, 3.0, 5.2, 2.3, Iris-virginica\n",
        "6.3, 2.5, 5.0, 1.9, Iris-virginica\n",
        "6.5, 3.0, 5.2, 2.0, Iris-virginica\n",
        "6.2, 3.4, 5.4, 2.3, Iris-virginica\n",
        "5.9, 3.0, 5.1, 1.8, Iris-virginica\n",
        "\n"
       ]
      }
     ],
     "prompt_number": 2
    },
    {
     "cell_type": "code",
     "collapsed": false,
     "input": [
      "def loadDataset(filename, slipt, trainingSet=[], testSet=[]):\n",
      "    with open('iris.data','rb') as csvfile:\n",
      "        lines = csv.reader(csvfile)\n",
      "        dataset = list(lines)\n",
      "        for x in range(len(dataset)-1):\n",
      "            for y in range(4):\n",
      "                dataset[x][y] = float(dataset[x][y])\n",
      "            if random.random() < slipt:\n",
      "                trainingSet.append(dataset[x])\n",
      "            else:\n",
      "                testSet.append(dataset[x])"
     ],
     "language": "python",
     "metadata": {},
     "outputs": [],
     "prompt_number": 2
    },
    {
     "cell_type": "code",
     "collapsed": false,
     "input": [
      "csvfile = open('iris.data','rb')\n",
      "lines = csv.reader(csvfile)\n",
      "dataset = list(lines)\n",
      "\n",
      "dataset[0], float(dataset[0][0]),random.random()"
     ],
     "language": "python",
     "metadata": {},
     "outputs": [
      {
       "metadata": {},
       "output_type": "pyout",
       "prompt_number": 38,
       "text": [
        "(['5.1', '3.5', '1.4', '0.2', 'Iris-setosa'], 5.1, 0.08689258871702321)"
       ]
      }
     ],
     "prompt_number": 38
    },
    {
     "cell_type": "code",
     "collapsed": false,
     "input": [
      "trainingSet = []\n",
      "testSet = []\n",
      "loadDataset('iris.data', 0.66, trainingSet, testSet)\n",
      "print 'Train: ' + repr(len(trainingSet))\n",
      "print 'Test: ' + repr(len(testSet))"
     ],
     "language": "python",
     "metadata": {},
     "outputs": [
      {
       "output_type": "stream",
       "stream": "stdout",
       "text": [
        "Train: 92\n",
        "Test: 58\n"
       ]
      }
     ],
     "prompt_number": 4
    },
    {
     "cell_type": "code",
     "collapsed": false,
     "input": [
      "help(repr)"
     ],
     "language": "python",
     "metadata": {},
     "outputs": [
      {
       "output_type": "stream",
       "stream": "stdout",
       "text": [
        "Help on built-in function repr in module __builtin__:\n",
        "\n",
        "repr(...)\n",
        "    repr(object) -> string\n",
        "    \n",
        "    Return the canonical string representation of the object.\n",
        "    For most object types, eval(repr(object)) == object.\n",
        "\n"
       ]
      }
     ],
     "prompt_number": 48
    },
    {
     "cell_type": "markdown",
     "metadata": {},
     "source": [
      "# <font color='red'>\u7b2c\u4e8c\u6b65\uff1aSimilarity<font>\n",
      "\n",
      "## \u76ee\u6a19\uff1a\u8a08\u7b97\u5169\u8cc7\u6599\u7684\u8ddd\u96e2\uff0c\u5b9a\u7fa9\u6b50\u5f0f\u6e2c\u5ea6\u3002"
     ]
    },
    {
     "cell_type": "code",
     "collapsed": false,
     "input": [
      "def euclideanDistance(instance1, instance2, length):\n",
      "    distance = 0\n",
      "    for x in range(length):\n",
      "        distance += pow((instance1[x] - instance2[x]),2)\n",
      "    return math.sqrt(distance)"
     ],
     "language": "python",
     "metadata": {},
     "outputs": [],
     "prompt_number": 3
    },
    {
     "cell_type": "code",
     "collapsed": false,
     "input": [
      "data1 = [2, 2, 2, 'a']\n",
      "data2 = [4, 4, 4, 'b']\n",
      "distance = euclideanDistance(data1, data2, 3)\n",
      "print 'Distance: ' + repr(distance)"
     ],
     "language": "python",
     "metadata": {},
     "outputs": [
      {
       "output_type": "stream",
       "stream": "stdout",
       "text": [
        "Distance: 3.4641016151377544\n"
       ]
      }
     ],
     "prompt_number": 6
    },
    {
     "cell_type": "markdown",
     "metadata": {},
     "source": [
      "# <font color='red'>\u7b2c\u4e09\u6b65\uff1aNeighbors<font>\n",
      "\n",
      "## \u76ee\u6a19\uff1a\u9078\u5b9aK\u500b\u9130\u5c45\u3002 "
     ]
    },
    {
     "cell_type": "code",
     "collapsed": false,
     "input": [
      "def getNeighbors(trainingSet, testInstance, k):\n",
      "    distances = []\n",
      "    length = len(testInstance)-1\n",
      "    for x in range(len(trainingSet)):\n",
      "        dist = euclideanDistance(testInstance, trainingSet[x], length)\n",
      "        distances.append((trainingSet[x], dist))\n",
      "    distances.sort(key=operator.itemgetter(1))\n",
      "    neighbors = []\n",
      "    for x in range(k):\n",
      "        neighbors.append(distances[x][0])\n",
      "        return neighbors"
     ],
     "language": "python",
     "metadata": {},
     "outputs": [],
     "prompt_number": 4
    },
    {
     "cell_type": "code",
     "collapsed": false,
     "input": [
      "trainSet = [[2, 2, 2, 'a'],[4, 4, 4, 'b']]\n",
      "testInstance = [5, 5, 5, 'b']\n",
      "k = 1\n",
      "neighbors = getNeighbors(trainSet, testInstance, 1)\n",
      "print neighbors"
     ],
     "language": "python",
     "metadata": {},
     "outputs": [
      {
       "output_type": "stream",
       "stream": "stdout",
       "text": [
        "[[4, 4, 4, 'b']]\n"
       ]
      }
     ],
     "prompt_number": 29
    },
    {
     "cell_type": "code",
     "collapsed": false,
     "input": [
      "help(sorted)"
     ],
     "language": "python",
     "metadata": {},
     "outputs": [
      {
       "output_type": "stream",
       "stream": "stdout",
       "text": [
        "Help on built-in function sorted in module __builtin__:\n",
        "\n",
        "sorted(...)\n",
        "    sorted(iterable, cmp=None, key=None, reverse=False) --> new sorted list\n",
        "\n"
       ]
      }
     ],
     "prompt_number": 18
    },
    {
     "cell_type": "markdown",
     "metadata": {},
     "source": [
      "# <font color='red'>\u7b2c\u56db\u6b65\uff1aResponse<font>\n",
      "\n",
      "## \u76ee\u6a19\uff1a\u5f9ek\u500b\u8cc7\u6599\u4e2d\u6bd4\u8f03\u51fa\u8ab0\u70ba\u591a\u6578\u3002"
     ]
    },
    {
     "cell_type": "code",
     "collapsed": false,
     "input": [
      "def getResponse(neighbors):\n",
      "    classVotes = {}\n",
      "    for x in range(len(neighbors)):\n",
      "        response = neighbors[x][-1]\n",
      "        if response in classVotes:\n",
      "            classVotes[response] += 1\n",
      "        else:\n",
      "            classVotes[response] = 1\n",
      "    sortedVotes = sorted(classVotes.iteritems(), key=operator.itemgetter(1), reverse=True )\n",
      "    return sortedVotes[0][0]"
     ],
     "language": "python",
     "metadata": {},
     "outputs": [],
     "prompt_number": 5
    },
    {
     "cell_type": "code",
     "collapsed": false,
     "input": [
      "neighbors = [[1, 1, 1, 'a'],[2, 2, 2, 'a'],[3, 3, 3, 'b']]\n",
      "response = getResponse(neighbors)\n",
      "print response"
     ],
     "language": "python",
     "metadata": {},
     "outputs": [
      {
       "output_type": "stream",
       "stream": "stdout",
       "text": [
        "a\n"
       ]
      }
     ],
     "prompt_number": 24
    },
    {
     "cell_type": "markdown",
     "metadata": {},
     "source": [
      "# <font color='red'>\u7b2c\u4e94\u6b65\uff1aAccuracy\n",
      "\n",
      "## \u76ee\u6a19\uff1a\u8a55\u4f30\u9810\u6e2c\u6e96\u78ba\u7387"
     ]
    },
    {
     "cell_type": "code",
     "collapsed": false,
     "input": [
      "def getAccuracy(testSet, predictions):\n",
      "    correct = 0\n",
      "    for x in range(len(testSet)):\n",
      "        if testSet[x][-1] == predictions[x]:\n",
      "            correct += 1\n",
      "    return (correct/float(len(testSet))) * 100.0"
     ],
     "language": "python",
     "metadata": {},
     "outputs": [],
     "prompt_number": 9
    },
    {
     "cell_type": "code",
     "collapsed": false,
     "input": [
      "testSet = [[1, 1, 1, 'a'],[2, 2, 2, 'a'],[3, 3, 3, 'b']]\n",
      "predictions = ['a','a','a']\n",
      "accuracy = getAccuracy(testSet, predictions)\n",
      "print accuracy"
     ],
     "language": "python",
     "metadata": {},
     "outputs": [
      {
       "output_type": "stream",
       "stream": "stdout",
       "text": [
        "66.6666666667\n"
       ]
      }
     ],
     "prompt_number": 10
    },
    {
     "cell_type": "code",
     "collapsed": false,
     "input": [
      "def main():\n",
      "    trainingSet=[]\n",
      "    testSet=[]\n",
      "    split=0.67\n",
      "    loadDataset('iris.data', split, trainingSet, testSet)\n",
      "    print 'Train set: ' + repr(len(trainingSet))\n",
      "    print 'Test set: ' + repr(len(testSet))\n",
      "    \n",
      "    predictions=[]\n",
      "    k = 3\n",
      "    for x in range(len(testSet)):\n",
      "        neighbors = getNeighbors(trainingSet, testSet[x], k)\n",
      "        result = getResponse(neighbors)\n",
      "        predictions.append(result)\n",
      "        print '> predicted=' + repr(result) + ', actual=' + repr(testSet[x][-1])\n",
      "    accuracy = getAccuracy(testSet, predictions)\n",
      "    print 'Accuracy: ' + repr(accuracy) + '%'"
     ],
     "language": "python",
     "metadata": {},
     "outputs": [],
     "prompt_number": 11
    },
    {
     "cell_type": "code",
     "collapsed": false,
     "input": [
      "main()"
     ],
     "language": "python",
     "metadata": {},
     "outputs": [
      {
       "output_type": "stream",
       "stream": "stdout",
       "text": [
        "Train set: 105\n",
        "Test set: 45\n",
        "> predicted='Iris-setosa', actual='Iris-setosa'\n",
        "> predicted='Iris-setosa', actual='Iris-setosa'\n",
        "> predicted='Iris-setosa', actual='Iris-setosa'\n",
        "> predicted='Iris-setosa', actual='Iris-setosa'\n",
        "> predicted='Iris-setosa', actual='Iris-setosa'\n",
        "> predicted='Iris-setosa', actual='Iris-setosa'\n",
        "> predicted='Iris-setosa', actual='Iris-setosa'\n",
        "> predicted='Iris-setosa', actual='Iris-setosa'\n",
        "> predicted='Iris-setosa', actual='Iris-setosa'\n",
        "> predicted='Iris-setosa', actual='Iris-setosa'\n",
        "> predicted='Iris-setosa', actual='Iris-setosa'\n",
        "> predicted='Iris-setosa', actual='Iris-setosa'\n",
        "> predicted='Iris-setosa', actual='Iris-setosa'\n",
        "> predicted='Iris-setosa', actual='Iris-setosa'\n",
        "> predicted='Iris-setosa', actual='Iris-setosa'\n",
        "> predicted='Iris-setosa', actual='Iris-setosa'\n",
        "> predicted='Iris-setosa', actual='Iris-setosa'\n",
        "> predicted='Iris-setosa', actual='Iris-setosa'\n",
        "> predicted='Iris-setosa', actual='Iris-setosa'\n",
        "> predicted='Iris-setosa', actual='Iris-setosa'\n",
        "> predicted='Iris-setosa', actual='Iris-setosa'\n",
        "> predicted='Iris-versicolor', actual='Iris-versicolor'\n",
        "> predicted='Iris-versicolor', actual='Iris-versicolor'\n",
        "> predicted='Iris-versicolor', actual='Iris-versicolor'\n",
        "> predicted='Iris-versicolor', actual='Iris-versicolor'\n",
        "> predicted='Iris-virginica', actual='Iris-versicolor'\n",
        "> predicted='Iris-versicolor', actual='Iris-versicolor'\n",
        "> predicted='Iris-versicolor', actual='Iris-versicolor'\n",
        "> predicted='Iris-versicolor', actual='Iris-versicolor'\n",
        "> predicted='Iris-versicolor', actual='Iris-versicolor'\n",
        "> predicted='Iris-versicolor', actual='Iris-versicolor'\n",
        "> predicted='Iris-versicolor', actual='Iris-versicolor'\n",
        "> predicted='Iris-versicolor', actual='Iris-versicolor'\n",
        "> predicted='Iris-versicolor', actual='Iris-versicolor'\n",
        "> predicted='Iris-virginica', actual='Iris-virginica'\n",
        "> predicted='Iris-virginica', actual='Iris-virginica'\n",
        "> predicted='Iris-virginica', actual='Iris-virginica'\n",
        "> predicted='Iris-virginica', actual='Iris-virginica'\n",
        "> predicted='Iris-virginica', actual='Iris-virginica'\n",
        "> predicted='Iris-virginica', actual='Iris-virginica'\n",
        "> predicted='Iris-virginica', actual='Iris-virginica'\n",
        "> predicted='Iris-virginica', actual='Iris-virginica'\n",
        "> predicted='Iris-virginica', actual='Iris-virginica'\n",
        "> predicted='Iris-virginica', actual='Iris-virginica'\n",
        "> predicted='Iris-virginica', actual='Iris-virginica'\n",
        "Accuracy: 97.77777777777777%\n"
       ]
      }
     ],
     "prompt_number": 12
    },
    {
     "cell_type": "code",
     "collapsed": false,
     "input": [],
     "language": "python",
     "metadata": {},
     "outputs": []
    }
   ],
   "metadata": {}
  }
 ]
}