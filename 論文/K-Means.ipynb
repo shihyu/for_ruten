{
 "metadata": {
  "name": "",
  "signature": "sha256:a992beb7c4e7a08f4d873740a0d6283142ab6db500add692d61dfdd540a34c94"
 },
 "nbformat": 3,
 "nbformat_minor": 0,
 "worksheets": [
  {
   "cells": [
    {
     "cell_type": "code",
     "collapsed": false,
     "input": [
      "import numpy as np\n",
      "\n",
      "def cluster_point(X, mu):\n",
      "    clusters = {}\n",
      "    for x in X:\n",
      "        bestmukey = min([(i[0], np.linalg.norm(x-mu[i[0]])) \\\n",
      "                    for i in enumerate(mu)], key=lambda t:t[1])[0]\n",
      "        try:\n",
      "            clusters[bestmukey].append(x)\n",
      "        except KeyError:\n",
      "            clusters[bestmukey] = [x]\n",
      "        return clusters\n",
      "\n",
      "def reevaluate_centers(mu, clusters):\n",
      "    newmu = []\n",
      "    keys = sorted(clusters.keys())\n",
      "    for k in keys:\n",
      "        newmu.append(np.mean(clusters[k], axis = 0))\n",
      "    return newmu\n",
      "\n",
      "def has_converged(mu, oldmu):\n",
      "    return (set([tuple(a) for a in mu]) == set([tuple(a) for a in oldmu]))\n",
      "\n",
      "def find_centers(X, K):\n",
      "    # Initialize to K random centers\n",
      "    oldmu = random.sample(X, K)\n",
      "    mu = random.sample(X, K)\n",
      "    while not has_converged(mu, oldmu):\n",
      "        mu = oldmu\n",
      "        # Assign all points in X to clusters\n",
      "        clusters = cluster_point(X, mu)\n",
      "        # Reevaluate centers\n",
      "        mu = reevaluate_centers(oldmu, clusters)\n",
      "    return (mu, clusters)"
     ],
     "language": "python",
     "metadata": {},
     "outputs": [],
     "prompt_number": 1
    },
    {
     "cell_type": "code",
     "collapsed": false,
     "input": [
      "X = [1,2,3]\n",
      "mu = [2,3,4]"
     ],
     "language": "python",
     "metadata": {},
     "outputs": [],
     "prompt_number": 40
    },
    {
     "cell_type": "code",
     "collapsed": false,
     "input": [
      "\n",
      "bestmukey = min([(i[0], np.linalg.norm(x-mu[i[0]])) \\\n",
      "            for i in enumerate(mu)], key=lambda t:t[1])[0]\n",
      "print bestmukey\n",
      "\n",
      "for x in X:\n",
      "    for i in enumerate(mu):\n",
      "        print i, i[0] , x, mu[i[0]], x-mu[i[0]], np.linalg.norm(x-mu[i[0]])\n"
     ],
     "language": "python",
     "metadata": {},
     "outputs": [
      {
       "output_type": "stream",
       "stream": "stdout",
       "text": [
        "1\n",
        "(0, 2) 0 1 2 -1 1.0\n",
        "(1, 3) 1 1 3 -2 2.0\n",
        "(2, 4) 2 1 4 -3 3.0\n",
        "(0, 2) 0 2 2 0 0.0\n",
        "(1, 3) 1 2 3 -1 1.0\n",
        "(2, 4) 2 2 4 -2 2.0\n",
        "(0, 2) 0 3 2 1 1.0\n",
        "(1, 3) 1 3 3 0 0.0\n",
        "(2, 4) 2 3 4 -1 1.0\n"
       ]
      }
     ],
     "prompt_number": 41
    },
    {
     "cell_type": "code",
     "collapsed": false,
     "input": [
      "cluster_point(X, mu)"
     ],
     "language": "python",
     "metadata": {},
     "outputs": [
      {
       "metadata": {},
       "output_type": "pyout",
       "prompt_number": 19,
       "text": [
        "{0: [2]}"
       ]
      }
     ],
     "prompt_number": 19
    },
    {
     "cell_type": "code",
     "collapsed": false,
     "input": [
      "import random\n",
      "\n",
      "def init_board(N):\n",
      "    X = np.array([(random.uniform(-1,1), random.uniform(-1,1)) for i in range(N)])\n",
      "    return X"
     ],
     "language": "python",
     "metadata": {},
     "outputs": [],
     "prompt_number": 2
    },
    {
     "cell_type": "code",
     "collapsed": false,
     "input": [
      "x = array([[1,2]])\n",
      "x[0][1]"
     ],
     "language": "python",
     "metadata": {},
     "outputs": [
      {
       "metadata": {},
       "output_type": "pyout",
       "prompt_number": 39,
       "text": [
        "2"
       ]
      }
     ],
     "prompt_number": 39
    },
    {
     "cell_type": "code",
     "collapsed": false,
     "input": [
      "%pylab inline"
     ],
     "language": "python",
     "metadata": {},
     "outputs": [
      {
       "output_type": "stream",
       "stream": "stdout",
       "text": [
        "Populating the interactive namespace from numpy and matplotlib\n"
       ]
      },
      {
       "output_type": "stream",
       "stream": "stderr",
       "text": [
        "WARNING: pylab import has clobbered these variables: ['random']\n",
        "`%matplotlib` prevents importing * from pylab and numpy\n"
       ]
      }
     ],
     "prompt_number": 6
    },
    {
     "cell_type": "code",
     "collapsed": false,
     "input": [
      "hh = list()\n",
      "h = init_board(10)\n",
      "for i in range(10):\n",
      "    for j in range(0,2):\n",
      "        hh.append(h[i][j])"
     ],
     "language": "python",
     "metadata": {},
     "outputs": [],
     "prompt_number": 55
    },
    {
     "cell_type": "code",
     "collapsed": false,
     "input": [],
     "language": "python",
     "metadata": {},
     "outputs": [],
     "prompt_number": 56
    },
    {
     "cell_type": "code",
     "collapsed": false,
     "input": [],
     "language": "python",
     "metadata": {},
     "outputs": []
    }
   ],
   "metadata": {}
  }
 ]
}