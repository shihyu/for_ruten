{
 "metadata": {
  "name": "",
  "signature": "sha256:90511b646b27e34d421e07a2e66ffdbdcf64eca17ce5ff20a9e251d629a11cda"
 },
 "nbformat": 3,
 "nbformat_minor": 0,
 "worksheets": [
  {
   "cells": [
    {
     "cell_type": "markdown",
     "metadata": {},
     "source": [
      "# \u8f38\u5165\u5fc5\u8981\u5957\u4ef6"
     ]
    },
    {
     "cell_type": "code",
     "collapsed": false,
     "input": [
      "%pylab inline\n",
      "from scipy.io import wavfile\n",
      "from scipy import fftpack\n",
      "import xlrd\n",
      "from datetime import datetime\n",
      "import pickle\n",
      "from sklearn import cluster, datasets\n",
      "from scipy.stats import mode\n",
      "from sklearn import manifold"
     ],
     "language": "python",
     "metadata": {},
     "outputs": [
      {
       "output_type": "stream",
       "stream": "stdout",
       "text": [
        "Populating the interactive namespace from numpy and matplotlib\n"
       ]
      }
     ],
     "prompt_number": 1
    },
    {
     "cell_type": "markdown",
     "metadata": {},
     "source": [
      "# \u8b80\u6a94\uff0c\u8f49\u70baarray"
     ]
    },
    {
     "cell_type": "code",
     "collapsed": false,
     "input": [
      "a = datetime.now()\n",
      "\n",
      "selectedMusicInfo = pickle.load(open('selectedMusicInfo.pkl','r'))\n",
      "\n",
      "selectedMusicInfo = array(selectedMusicInfo)\n",
      "\n",
      "b = datetime.now()\n",
      "c = b - a\n",
      "\n",
      "c.seconds"
     ],
     "language": "python",
     "metadata": {},
     "outputs": [
      {
       "metadata": {},
       "output_type": "pyout",
       "prompt_number": 2,
       "text": [
        "0"
       ]
      }
     ],
     "prompt_number": 2
    },
    {
     "cell_type": "code",
     "collapsed": false,
     "input": [
      "len(selectedMusicInfo)"
     ],
     "language": "python",
     "metadata": {},
     "outputs": [
      {
       "metadata": {},
       "output_type": "pyout",
       "prompt_number": 3,
       "text": [
        "2094"
       ]
      }
     ],
     "prompt_number": 3
    },
    {
     "cell_type": "markdown",
     "metadata": {},
     "source": [
      "# 1. \u505a\u4e00List\uff0c\u88e1\u982d\u67092094\u7b46\u8cc7\u6599\uff0c\u6bcf\u7b46\u8cc7\u6599\u5747\u70ba\u97f3\u8a0a"
     ]
    },
    {
     "cell_type": "code",
     "collapsed": false,
     "input": [
      "def s(filename):\n",
      "    for k in range(20):\n",
      "        SoundWave = list()\n",
      "        for i in range((len(selectedMusicInfo)/20)*k,(len(selectedMusicInfo)/20)*(k+1)):\n",
      "            path = 'D:\\\\Music_Data\\\\'+str(selectedMusicInfo[i][0])+'.wav'\n",
      "            [fs, w] = wavfile.read(path,'r')\n",
      "\n",
      "            y = list()\n",
      "        \n",
      "            for j in range(529200): #44100*12=529200\n",
      "                y.append(float(w[j][0]))\n",
      "    \n",
      "            SoundWave.append(y)\n",
      "        \n",
      "        F = open('MusicInfo.pkl' + str(k),'w')\n",
      "        pickle.dump(SoundWave,F)\n",
      "        F.close()"
     ],
     "language": "python",
     "metadata": {},
     "outputs": [],
     "prompt_number": 4
    },
    {
     "cell_type": "code",
     "collapsed": false,
     "input": [
      "'D:\\\\Music_Data\\\\'+str(selectedMusicInfo[1][0])+'.wav'"
     ],
     "language": "python",
     "metadata": {},
     "outputs": [
      {
       "metadata": {},
       "output_type": "pyout",
       "prompt_number": 6,
       "text": [
        "'D:\\\\Music_Data\\\\7.wav'"
       ]
      }
     ],
     "prompt_number": 6
    },
    {
     "cell_type": "code",
     "collapsed": false,
     "input": [
      "[fs, w] = wavfile.read('D:\\\\Music_Data\\\\7.wav','r')"
     ],
     "language": "python",
     "metadata": {},
     "outputs": [
      {
       "output_type": "stream",
       "stream": "stderr",
       "text": [
        "C:\\Users\\User\\Anaconda\\lib\\site-packages\\scipy\\io\\wavfile.py:42: WavFileWarning: Unknown wave file format\n",
        "  warnings.warn(\"Unknown wave file format\", WavFileWarning)\n"
       ]
      }
     ],
     "prompt_number": 7
    },
    {
     "cell_type": "code",
     "collapsed": false,
     "input": [
      "(2095/20)*19, (2095/20)*20"
     ],
     "language": "python",
     "metadata": {},
     "outputs": [
      {
       "metadata": {},
       "output_type": "pyout",
       "prompt_number": 5,
       "text": [
        "(1976, 2080)"
       ]
      }
     ],
     "prompt_number": 5
    },
    {
     "cell_type": "markdown",
     "metadata": {},
     "source": [
      "# 2. \u5c072080\u9996\u6b4c\u5206\u88dd\u70ba20\u500bpkl\u6a94\u6848\uff0c\u4e26\u8a08\u7b97\u79d2\u6578"
     ]
    },
    {
     "cell_type": "code",
     "collapsed": false,
     "input": [
      "a = datetime.now()\n",
      "\n",
      "s('selectedMusicInfo.xls')\n",
      "\n",
      "b = datetime.now()\n",
      "c = b - a\n",
      "\n",
      "c.seconds"
     ],
     "language": "python",
     "metadata": {},
     "outputs": [
      {
       "output_type": "stream",
       "stream": "stderr",
       "text": [
        "C:\\Users\\User\\Anaconda\\lib\\site-packages\\scipy\\io\\wavfile.py:42: WavFileWarning: Unknown wave file format\n",
        "  warnings.warn(\"Unknown wave file format\", WavFileWarning)\n"
       ]
      },
      {
       "metadata": {},
       "output_type": "pyout",
       "prompt_number": 5,
       "text": [
        "1258"
       ]
      }
     ],
     "prompt_number": 5
    },
    {
     "cell_type": "markdown",
     "metadata": {},
     "source": [
      "## 2.1 \u5269\u991814\u9996\uff0c\u984d\u5916\u5b58\u6210\u7b2c21\u500bpkl\u6a94\u6848"
     ]
    },
    {
     "cell_type": "code",
     "collapsed": false,
     "input": [
      "pkl20 = list()\n",
      "\n",
      "for i in range(2080,2094):\n",
      "    path = 'D:\\\\Music_Data\\\\'+str(selectedMusicInfo[i][0])+'.wav'\n",
      "    [fs, w] = wavfile.read(path,'r')\n",
      "\n",
      "    y = list()\n",
      "        \n",
      "    for j in range(529200): #44100*12=529200\n",
      "        y.append(float(w[j][0]))\n",
      "    \n",
      "    pkl20.append(y)\n",
      "    \n",
      "F = open('MusicInfo.pkl20','w')\n",
      "pickle.dump(pkl20,F)\n",
      "F.close()"
     ],
     "language": "python",
     "metadata": {},
     "outputs": [],
     "prompt_number": 19
    },
    {
     "cell_type": "code",
     "collapsed": false,
     "input": [
      "MusicInfo = pickle.load(open('MusicInfo.pkl20','r'))"
     ],
     "language": "python",
     "metadata": {},
     "outputs": [],
     "prompt_number": 3
    },
    {
     "cell_type": "code",
     "collapsed": false,
     "input": [
      "len(MusicInfo[0])"
     ],
     "language": "python",
     "metadata": {},
     "outputs": [
      {
       "metadata": {},
       "output_type": "pyout",
       "prompt_number": 112,
       "text": [
        "529200"
       ]
      }
     ],
     "prompt_number": 112
    },
    {
     "cell_type": "markdown",
     "metadata": {},
     "source": [
      "### 2.2 \u97f3\u91cf\u6b63\u898f\u5316\uff0c\u53bb\u9664\u5927\u5c0f\u8072\u5dee\u7570"
     ]
    },
    {
     "cell_type": "code",
     "collapsed": false,
     "input": [
      "a = datetime.now()\n",
      "\n",
      "for i in xrange(21):\n",
      "    MusicInfo = list()\n",
      "    D = pickle.load(open('MusicInfo.pkl'+str(i),'r'))\n",
      "    for j in xrange(len(D)):\n",
      "        MusicInfo.append(D[j])\n",
      "        \n",
      "    def m(x):\n",
      "        return max(abs(min(MusicInfo[x])), abs(max(MusicInfo[x])))\n",
      "\n",
      "    MusicInfo_normalize = list()\n",
      "\n",
      "    for k in xrange(len(MusicInfo)):\n",
      "        MusicInfo_normalize.append(list(array(MusicInfo[k])/m(k)))\n",
      "        \n",
      "    F = open('MusicInfo_normalize.pkl'+str(i),'w')\n",
      "    pickle.dump(MusicInfo_normalize,F)\n",
      "    F.close()\n",
      "    \n",
      "b = datetime.now()\n",
      "c = b - a\n",
      "\n",
      "c.seconds"
     ],
     "language": "python",
     "metadata": {},
     "outputs": []
    },
    {
     "cell_type": "code",
     "collapsed": false,
     "input": [
      "len(MusicInfo)"
     ],
     "language": "python",
     "metadata": {},
     "outputs": []
    },
    {
     "cell_type": "markdown",
     "metadata": {},
     "source": [
      "# 3. \u6279\u6b21\u4f7f\u7528DCT\u8f49\u63db\uff0c\u53d6\u524d\u516b\u842c\u9ede\uff0c\u518d\u53d6\u6a19\u6e96\u5dee\u524d\u5169\u842c\u9ad8\u7684\u9ede\u3002\n",
      "\n",
      "### (\u5099\u8a3b\uff1a\u5f97\u77e5\u5404\u7fa4\u7684\u6a19\u6e96\u5dee\u4e26\u7121\u6cd5\u63a8\u51fa\u5168\u9ad4\u7684\u6a19\u6e96\u5dee)\n",
      "### \u516b\u842c\u9ede\u7684\u6578\u5b78\u610f\u7fa9\uff1a\u4eba\u8033\u7684\u97ff\u61c9\u983b\u7387\u70ba20~20000Hz\uff0c\u53d6\u5169\u842c\u7684\u56db\u500d\u70ba\u4fdd\u96aa\u3002"
     ]
    },
    {
     "cell_type": "code",
     "collapsed": false,
     "input": [
      "def dy(i):\n",
      "    return fftpack.dct(MusicInfo[i],1)[0:80000]"
     ],
     "language": "python",
     "metadata": {},
     "outputs": [],
     "prompt_number": 2
    },
    {
     "cell_type": "code",
     "collapsed": false,
     "input": [
      "plot(dy(0),'r')"
     ],
     "language": "python",
     "metadata": {},
     "outputs": [
      {
       "metadata": {},
       "output_type": "pyout",
       "prompt_number": 29,
       "text": [
        "[<matplotlib.lines.Line2D at 0x6c392710>]"
       ]
      },
      {
       "metadata": {},
       "output_type": "display_data",
       "png": "[encoded data removed]",
       "text": [
        "<matplotlib.figure.Figure at 0x94926518>"
       ]
      }
     ],
     "prompt_number": 29
    },
    {
     "cell_type": "markdown",
     "metadata": {},
     "source": [
      "### 3.1 \u4f7f\u7528\u5feb\u901fDCT\u8f49\u63db\u4e26\u53d6\u524d\u516b\u842c\u9ede\uff0c\u6279\u6b21\u5b58\u621021\u500b\u6a94\u6848"
     ]
    },
    {
     "cell_type": "code",
     "collapsed": false,
     "input": [
      "a = datetime.now()\n",
      "\n",
      "def dy(j):\n",
      "    return fftpack.dct(MusicInfo[j],1)[0:80000]\n",
      "\n",
      "for i in xrange(21):\n",
      "    DCT_MusicInfo = list()\n",
      "    y = list()\n",
      "    MusicInfo = pickle.load(open('MusicInfo.pkl'+str(i),'r'))\n",
      "    for j in xrange(len(MusicInfo)):\n",
      "        y.append(dy(j))\n",
      "\n",
      "    DCT_MusicInfo.append(y)\n",
      "\n",
      "    F = open('DCT_MusicInfo.pkl' + str(i),'w')\n",
      "    pickle.dump(DCT_MusicInfo,F)\n",
      "    F.close()\n",
      "    \n",
      "b = datetime.now()\n",
      "c = b - a\n",
      "\n",
      "c.seconds"
     ],
     "language": "python",
     "metadata": {},
     "outputs": [
      {
       "metadata": {},
       "output_type": "pyout",
       "prompt_number": 3,
       "text": [
        "42411"
       ]
      }
     ],
     "prompt_number": 3
    },
    {
     "cell_type": "markdown",
     "metadata": {},
     "source": [
      "### \u8b80\u53d6\u6210\u4e00\u500b\u4e32\u5217"
     ]
    },
    {
     "cell_type": "code",
     "collapsed": false,
     "input": [
      "a = datetime.now()\n",
      "\n",
      "DCT_MusicInfo = list()\n",
      "\n",
      "for i in range(21):\n",
      "    D = pickle.load(open('DCT_MusicInfo.pkl'+str(i),'r'))\n",
      "    D = D[0]\n",
      "    for j in xrange(len(D)):\n",
      "        DCT_MusicInfo.append(D[j])\n",
      "\n",
      "b = datetime.now()\n",
      "c = b - a\n",
      "\n",
      "c.seconds"
     ],
     "language": "python",
     "metadata": {},
     "outputs": [
      {
       "metadata": {},
       "output_type": "pyout",
       "prompt_number": 55,
       "text": [
        "146"
       ]
      }
     ],
     "prompt_number": 55
    },
    {
     "cell_type": "code",
     "collapsed": false,
     "input": [
      "len(DCT_MusicInfo)"
     ],
     "language": "python",
     "metadata": {},
     "outputs": [
      {
       "metadata": {},
       "output_type": "pyout",
       "prompt_number": 56,
       "text": [
        "2094"
       ]
      }
     ],
     "prompt_number": 56
    },
    {
     "cell_type": "markdown",
     "metadata": {},
     "source": [
      "### 3.3 \u5c072094\u9996\u6b4c\u516b\u842c\u9ede\u7684\u6a19\u6e96\u5dee\u7b97\u51fa\u4f86"
     ]
    },
    {
     "cell_type": "code",
     "collapsed": false,
     "input": [
      "a = datetime.now()\n",
      "\n",
      "STD = list()\n",
      "    \n",
      "for j in xrange(80000):\n",
      "    S = list()\n",
      "    for i in xrange(len(DCT_MusicInfo)):\n",
      "        S.append(DCT_MusicInfo[i][j])\n",
      "    STD.append(std(S))\n",
      "        \n",
      "b = datetime.now()\n",
      "c = b - a\n",
      "\n",
      "c.seconds"
     ],
     "language": "python",
     "metadata": {},
     "outputs": [
      {
       "metadata": {},
       "output_type": "pyout",
       "prompt_number": 98,
       "text": [
        "139"
       ]
      }
     ],
     "prompt_number": 98
    },
    {
     "cell_type": "markdown",
     "metadata": {},
     "source": [
      "### 3.4 \u53d6\u6a19\u6e96\u5dee\u524d\u5169\u842c\u9ad8\u7684\u9ede"
     ]
    },
    {
     "cell_type": "code",
     "collapsed": false,
     "input": [
      "a = datetime.now()\n",
      "\n",
      "Index = list()\n",
      "\n",
      "for i in xrange(len(STD)):\n",
      "    if STD[i] > sorted(STD)[59999]:\n",
      "        Index.append(i)\n",
      "        \n",
      "b = datetime.now()\n",
      "c = b - a\n",
      "\n",
      "c.seconds"
     ],
     "language": "python",
     "metadata": {},
     "outputs": [],
     "prompt_number": 57
    },
    {
     "cell_type": "code",
     "collapsed": false,
     "input": [
      "# \u8d95\u5feb\u5b58\u8d77\u4f86\u4ee5\u9632\u842c\u4e00\n",
      "\n",
      "F = open('LDA_Index.pkl','w')\n",
      "pickle.dump(Index,F)\n",
      "F.close()"
     ],
     "language": "python",
     "metadata": {},
     "outputs": [],
     "prompt_number": 59
    },
    {
     "cell_type": "code",
     "collapsed": false,
     "input": [
      "a = datetime.now()\n",
      "\n",
      "Index = pickle.load(open('LDA_Index.pkl','r'))\n",
      "\n",
      "DCT_Info_20k = list()\n",
      "\n",
      "for i in xrange(len(DCT_MusicInfo)):\n",
      "    y = list()\n",
      "    for j in Index:\n",
      "        y.append(DCT_MusicInfo[i][j])\n",
      "    DCT_Info_20k.append(y)\n",
      "    \n",
      "b = datetime.now()\n",
      "c = b - a\n",
      "\n",
      "c.seconds"
     ],
     "language": "python",
     "metadata": {},
     "outputs": [
      {
       "metadata": {},
       "output_type": "pyout",
       "prompt_number": 58,
       "text": [
        "18"
       ]
      }
     ],
     "prompt_number": 58
    },
    {
     "cell_type": "code",
     "collapsed": false,
     "input": [
      "DCT_Info_20k[0][0]"
     ],
     "language": "python",
     "metadata": {},
     "outputs": [
      {
       "metadata": {},
       "output_type": "pyout",
       "prompt_number": 66,
       "text": [
        "-33145916.999999981"
       ]
      }
     ],
     "prompt_number": 66
    },
    {
     "cell_type": "markdown",
     "metadata": {},
     "source": [
      "# 4. \u76ee\u6a19\uff1a\u505a\u4e00\u500b\u6307\u6a19\u503c$C = \\frac{\\sum\\mu_{i}-\\mu_{j}}{\\sum\\sigma_{i}}$\uff0c\u4f7f\u5f97$C$\u8d8a\u5927\uff0c\u8a72\u7dad\u5ea6\u5c31\u8d8a\u53ef\u9078\u64c7\u3002\n",
      "\n",
      "### 4.1 \u8b80\u53d6\u6574\u7406\u597d\u7684xls\u6a94\u6848"
     ]
    },
    {
     "cell_type": "code",
     "collapsed": false,
     "input": [
      "selectedMusicInfo = pickle.load(open('selectedMusicInfo.pkl','r'))"
     ],
     "language": "python",
     "metadata": {},
     "outputs": [],
     "prompt_number": 2
    },
    {
     "cell_type": "code",
     "collapsed": false,
     "input": [
      "len(selectedMusicInfo), selectedMusicInfo[1], u'electro' == selectedMusicInfo[1][3]"
     ],
     "language": "python",
     "metadata": {},
     "outputs": [
      {
       "metadata": {},
       "output_type": "pyout",
       "prompt_number": 17,
       "text": [
        "(2094,\n",
        " [u'7',\n",
        "  u'No Limit',\n",
        "  u'2 Unlimited',\n",
        "  u'electro',\n",
        "  u'http://91.121.126.78/~musicoin/samples/7.mp3'],\n",
        " True)"
       ]
      }
     ],
     "prompt_number": 17
    },
    {
     "cell_type": "markdown",
     "metadata": {},
     "source": [
      "### 4.2 \u4f9d\u7167Musicovey\u7684\u5341\u4e5d\u7a2e\u66f2\u98a8\uff0c\u5c07\u6bcf\u7a2e\u66f2\u98a8index\u8490\u96c6\u6210\u4e00\u500b\u4e32\u5217\uff0c\u518d\u5404\u5225\u8b80\u53d6DCT\u6a94\u6848\n",
      "\n",
      "\n",
      "### \u5341\u4e5d\u7a2e\u66f2\u98a8\uff1aclassical\u3001country\u3001disco\u3001electro\u3001folk\u3001\n",
      "###            funk\u3001gospel\u3001jazz\u3001latin\u3001metal\u3001\n",
      "###            pop\u3001randb\u3001rap\u3001reggae\u3001rock\u3001\n",
      "###            soul\u3001soundtrack\u3001vocal pop\u3001world"
     ]
    },
    {
     "cell_type": "code",
     "collapsed": false,
     "input": [
      "classical_index = list()\n",
      "country_index = list()\n",
      "disco_index = list()\n",
      "electro_index = list()\n",
      "folk_index = list()\n",
      "funk_index = list()\n",
      "gospel_index = list()\n",
      "jazz_index = list()\n",
      "latin_index = list()\n",
      "metal_index = list()\n",
      "pop_index = list()\n",
      "randb_index = list()\n",
      "rap_index = list()\n",
      "reggae_index = list()\n",
      "rock_index = list()\n",
      "soul_index = list()\n",
      "soundtrack_index = list()\n",
      "vocal_pop_index = list()\n",
      "world_index = list()"
     ],
     "language": "python",
     "metadata": {},
     "outputs": [],
     "prompt_number": 49
    },
    {
     "cell_type": "code",
     "collapsed": false,
     "input": [
      "#1\n",
      "for i in range(len(selectedMusicInfo)):\n",
      "    if u'classical' == selectedMusicInfo[i][3]:\n",
      "        classical_index.append(i)\n",
      "        \n",
      "#2\n",
      "for i in range(len(selectedMusicInfo)):\n",
      "    if u'country' == selectedMusicInfo[i][3]:\n",
      "        country_index.append(i)\n",
      "        \n",
      "#3\n",
      "for i in range(len(selectedMusicInfo)):\n",
      "    if u'disco' == selectedMusicInfo[i][3]:\n",
      "        disco_index.append(i)\n",
      "\n",
      "#4\n",
      "for i in range(len(selectedMusicInfo)):\n",
      "    if u'electro' == selectedMusicInfo[i][3]:\n",
      "        electro_index.append(i)\n",
      "\n",
      "#5\n",
      "for i in range(len(selectedMusicInfo)):\n",
      "    if u'folk' == selectedMusicInfo[i][3]:\n",
      "        folk_index.append(i)\n",
      "\n",
      "#6\n",
      "for i in range(len(selectedMusicInfo)):\n",
      "    if u'funk' == selectedMusicInfo[i][3]:\n",
      "        funk_index.append(i)\n",
      "\n",
      "#7\n",
      "for i in range(len(selectedMusicInfo)):\n",
      "    if u'gospel' == selectedMusicInfo[i][3]:\n",
      "        gospel_index.append(i)\n",
      "\n",
      "#8\n",
      "for i in range(len(selectedMusicInfo)):\n",
      "    if u'jazz' == selectedMusicInfo[i][3]:\n",
      "        jazz_index.append(i)\n",
      "\n",
      "#9\n",
      "for i in range(len(selectedMusicInfo)):\n",
      "    if u'latin' == selectedMusicInfo[i][3]:\n",
      "        latin_index.append(i)\n",
      "\n",
      "#10\n",
      "for i in range(len(selectedMusicInfo)):\n",
      "    if u'metal' == selectedMusicInfo[i][3]:\n",
      "        metal_index.append(i)\n",
      "\n",
      "#11\n",
      "for i in range(len(selectedMusicInfo)):\n",
      "    if u'pop' == selectedMusicInfo[i][3]:\n",
      "        pop_index.append(i)\n",
      "\n",
      "#12\n",
      "for i in range(len(selectedMusicInfo)):\n",
      "    if u'randb' == selectedMusicInfo[i][3]:\n",
      "        randb_index.append(i)\n",
      "\n",
      "#13\n",
      "for i in range(len(selectedMusicInfo)):\n",
      "    if u'rap' == selectedMusicInfo[i][3]:\n",
      "        rap_index.append(i)\n",
      "\n",
      "#14\n",
      "for i in range(len(selectedMusicInfo)):\n",
      "    if u'reggae' == selectedMusicInfo[i][3]:\n",
      "        reggae_index.append(i)\n",
      "\n",
      "#15\n",
      "for i in range(len(selectedMusicInfo)):\n",
      "    if u'rock' == selectedMusicInfo[i][3]:\n",
      "        rock_index.append(i)\n",
      "\n",
      "#16\n",
      "for i in range(len(selectedMusicInfo)):\n",
      "    if u'soul' == selectedMusicInfo[i][3]:\n",
      "        soul_index.append(i)\n",
      "\n",
      "#17\n",
      "for i in range(len(selectedMusicInfo)):\n",
      "    if u'soundtrack' == selectedMusicInfo[i][3]:\n",
      "        soundtrack_index.append(i)\n",
      "\n",
      "#18\n",
      "for i in range(len(selectedMusicInfo)):\n",
      "    if u'vocal pop' == selectedMusicInfo[i][3]:\n",
      "        vocal_pop_index.append(i)\n",
      "\n",
      "#19\n",
      "for i in range(len(selectedMusicInfo)):\n",
      "    if u'world' == selectedMusicInfo[i][3]:\n",
      "        world_index.append(i)\n",
      "\n"
     ],
     "language": "python",
     "metadata": {},
     "outputs": [],
     "prompt_number": 50
    },
    {
     "cell_type": "code",
     "collapsed": false,
     "input": [
      "a = len(classical_index)+len(country_index)+len(disco_index)+len(electro_index)+len(folk_index)+len(funk_index)\n",
      "b = len(gospel_index)+len(jazz_index)+len(latin_index)+len(metal_index)+len(pop_index)+len(randb_index)\n",
      "c = len(rap_index)+len(reggae_index)+len(rock_index)+len(soul_index)+len(soundtrack_index)+len(vocal_pop_index)+len(world_index)\n",
      "\n",
      "print a+b+c"
     ],
     "language": "python",
     "metadata": {},
     "outputs": [
      {
       "output_type": "stream",
       "stream": "stdout",
       "text": [
        "2094\n"
       ]
      }
     ],
     "prompt_number": 53
    },
    {
     "cell_type": "code",
     "collapsed": false,
     "input": [
      "genre_list = [classical_index,\n",
      "              country_index,\n",
      "              disco_index,\n",
      "              electro_index,\n",
      "              folk_index,\n",
      "              funk_index,\n",
      "              gospel_index,\n",
      "              jazz_index,\n",
      "              latin_index,\n",
      "              metal_index,\n",
      "              pop_index,\n",
      "              randb_index,\n",
      "              rap_index,\n",
      "              reggae_index,\n",
      "              rock_index,\n",
      "              soul_index,\n",
      "              soundtrack_index,\n",
      "              vocal_pop_index,\n",
      "              world_index]"
     ],
     "language": "python",
     "metadata": {},
     "outputs": [],
     "prompt_number": 63
    },
    {
     "cell_type": "markdown",
     "metadata": {},
     "source": [
      "### 4.3 \u5148\u505a\u5206\u6bcd\uff0c19\u7fa4\u5404\u5225\u53d6\u6a19\u6e96\u5dee\u4e4b\u5f8c\u518d\u76f8\u52a0\u3002"
     ]
    },
    {
     "cell_type": "code",
     "collapsed": false,
     "input": [
      "a = datetime.now()\n",
      "\n",
      "std_sum = list()\n",
      "\n",
      "for i in xrange(20000):\n",
      "    genre_std = list()\n",
      "    for j in xrange(len(genre_list)):\n",
      "        s = list()\n",
      "        for k in genre_list[j]:\n",
      "            s.append(DCT_Info_20k[k][i])\n",
      "        genre_std.append(std(s))\n",
      "    std_sum.append(sum(genre_std))\n",
      "\n",
      "b = datetime.now()\n",
      "c = b - a\n",
      "\n",
      "c.seconds"
     ],
     "language": "python",
     "metadata": {},
     "outputs": [
      {
       "metadata": {},
       "output_type": "pyout",
       "prompt_number": 83,
       "text": [
        "102"
       ]
      }
     ],
     "prompt_number": 83
    },
    {
     "cell_type": "markdown",
     "metadata": {},
     "source": [
      "### 4.4 \u518d\u505a\u5206\u5b50\uff0c19\u7fa4\u7684mean\u53d6\u6a19\u6e96\u5dee"
     ]
    },
    {
     "cell_type": "code",
     "collapsed": false,
     "input": [
      "a = datetime.now()\n",
      "\n",
      "mean_std = list()\n",
      "\n",
      "for i in xrange(20000):\n",
      "    genre_mean = list()\n",
      "    for j in xrange(len(genre_list)):\n",
      "        s = list()\n",
      "        for k in genre_list[j]:\n",
      "            s.append(DCT_Info_20k[k][i])\n",
      "        genre_mean.append(mean(s))\n",
      "    mean_std.append(std(genre_mean))\n",
      "    \n",
      "b = datetime.now()\n",
      "c = b - a\n",
      "\n",
      "c.seconds"
     ],
     "language": "python",
     "metadata": {},
     "outputs": [
      {
       "metadata": {},
       "output_type": "pyout",
       "prompt_number": 85,
       "text": [
        "42"
       ]
      }
     ],
     "prompt_number": 85
    },
    {
     "cell_type": "markdown",
     "metadata": {},
     "source": [
      "### 4.5 \u6307\u6a19C"
     ]
    },
    {
     "cell_type": "code",
     "collapsed": false,
     "input": [
      "a = datetime.now()\n",
      "\n",
      "C = list()\n",
      "\n",
      "for i in range(20000):\n",
      "    C.append(float(mean_std[i])/float(std_sum[i]))\n",
      "        \n",
      "b = datetime.now()\n",
      "c = b - a\n",
      "\n",
      "c.seconds"
     ],
     "language": "python",
     "metadata": {},
     "outputs": [
      {
       "metadata": {},
       "output_type": "pyout",
       "prompt_number": 87,
       "text": [
        "0"
       ]
      }
     ],
     "prompt_number": 87
    },
    {
     "cell_type": "code",
     "collapsed": false,
     "input": [
      "plot(sorted(C),'g')"
     ],
     "language": "python",
     "metadata": {},
     "outputs": [
      {
       "metadata": {},
       "output_type": "pyout",
       "prompt_number": 89,
       "text": [
        "[<matplotlib.lines.Line2D at 0x14943d2e8>]"
       ]
      },
      {
       "metadata": {},
       "output_type": "display_data",
       "png": "[encoded data removed]",
       "text": [
        "<matplotlib.figure.Figure at 0x13deedd8>"
       ]
      }
     ],
     "prompt_number": 89
    },
    {
     "cell_type": "code",
     "collapsed": false,
     "input": [
      "C_Index = list()\n",
      "\n",
      "for i in range(20000):\n",
      "    if C[i]>0.02:\n",
      "        C_Index.append(i)\n",
      "        \n",
      "print len(C_Index)"
     ],
     "language": "python",
     "metadata": {},
     "outputs": [
      {
       "output_type": "stream",
       "stream": "stdout",
       "text": [
        "1285\n"
       ]
      }
     ],
     "prompt_number": 93
    },
    {
     "cell_type": "code",
     "collapsed": false,
     "input": [
      "C_big = list()\n",
      "\n",
      "for j in range(2094):\n",
      "    maxC = list()\n",
      "    for i in range(len(C_Index)):\n",
      "        maxC.append(DCT_Info_20k[j][i])\n",
      "    C_big.append(maxC)\n",
      "    \n",
      "C_big = array(C_big)"
     ],
     "language": "python",
     "metadata": {},
     "outputs": [],
     "prompt_number": 96
    },
    {
     "cell_type": "code",
     "collapsed": false,
     "input": [
      "len(C_big), len(C_big[0]), type(C_big), C_big.shape"
     ],
     "language": "python",
     "metadata": {},
     "outputs": [
      {
       "metadata": {},
       "output_type": "pyout",
       "prompt_number": 97,
       "text": [
        "(2094, 1285, numpy.ndarray, (2094L, 1285L))"
       ]
      }
     ],
     "prompt_number": 97
    },
    {
     "cell_type": "code",
     "collapsed": false,
     "input": [
      "F = open('C_big.pkl','w')\n",
      "pickle.dump(C_big,F)\n",
      "F.close()"
     ],
     "language": "python",
     "metadata": {},
     "outputs": [],
     "prompt_number": 161
    },
    {
     "cell_type": "markdown",
     "metadata": {},
     "source": [
      "# 5. LDA\u964d\u7dad\u6cd5"
     ]
    },
    {
     "cell_type": "code",
     "collapsed": false,
     "input": [
      "label = list()\n",
      "for i in xrange(len(selectedMusicInfo)):\n",
      "    label.append(str(selectedMusicInfo[i][3]))\n",
      "    \n",
      "label = np.array(label)"
     ],
     "language": "python",
     "metadata": {},
     "outputs": [],
     "prompt_number": 122
    },
    {
     "cell_type": "code",
     "collapsed": false,
     "input": [
      "label"
     ],
     "language": "python",
     "metadata": {},
     "outputs": [
      {
       "metadata": {},
       "output_type": "pyout",
       "prompt_number": 124,
       "text": [
        "array(['pop', 'electro', 'rap', ..., 'rock', 'pop', 'randb'], \n",
        "      dtype='|S10')"
       ]
      }
     ],
     "prompt_number": 124
    },
    {
     "cell_type": "code",
     "collapsed": false,
     "input": [
      "from sklearn.lda import LDA\n",
      "\n",
      "lda = LDA(n_components=13)\n",
      "lda = lda.fit_transform(C_big,label)"
     ],
     "language": "python",
     "metadata": {},
     "outputs": [],
     "prompt_number": 157
    },
    {
     "cell_type": "code",
     "collapsed": false,
     "input": [
      "lda.shape"
     ],
     "language": "python",
     "metadata": {},
     "outputs": [
      {
       "metadata": {},
       "output_type": "pyout",
       "prompt_number": 158,
       "text": [
        "(2094L, 13L)"
       ]
      }
     ],
     "prompt_number": 158
    },
    {
     "cell_type": "markdown",
     "metadata": {},
     "source": [
      "### 5.1 \u6e96\u78ba\u7387"
     ]
    },
    {
     "cell_type": "code",
     "collapsed": false,
     "input": [
      "selectedMusicInfo = pickle.load(open('selectedMusicInfo.pkl','r'))\n",
      "\n",
      "C_big = pickle.load(open('C_big.pkl','r'))\n",
      "\n",
      "label = list()\n",
      "for i in xrange(len(selectedMusicInfo)):\n",
      "    label.append(str(selectedMusicInfo[i][3]))\n",
      "    \n",
      "label = np.array(label)"
     ],
     "language": "python",
     "metadata": {},
     "outputs": []
    },
    {
     "cell_type": "code",
     "collapsed": false,
     "input": [
      "clf = LDA()\n",
      "\n",
      "predict = clf.fit(C_big,label).predict(C_big)\n",
      "\n",
      "k = 0\n",
      "\n",
      "for i in range(2094):\n",
      "    if str(predict[i]) == str(selectedMusicInfo[i][3]):\n",
      "        k += 1\n",
      "    \n",
      "print 'Accuracy: ' + repr(float(k)/2094)"
     ],
     "language": "python",
     "metadata": {},
     "outputs": [
      {
       "output_type": "stream",
       "stream": "stdout",
       "text": [
        "Accuracy: 0.833810888252149\n"
       ]
      }
     ],
     "prompt_number": 159
    },
    {
     "cell_type": "code",
     "collapsed": false,
     "input": [
      "k"
     ],
     "language": "python",
     "metadata": {},
     "outputs": [
      {
       "metadata": {},
       "output_type": "pyout",
       "prompt_number": 160,
       "text": [
        "1746"
       ]
      }
     ],
     "prompt_number": 160
    },
    {
     "cell_type": "markdown",
     "metadata": {},
     "source": [
      "# 6. \u5728server\u4e0a\u8dd1\uff0c\u9032\u884c\u9810\u8655\u7406\n",
      "\n",
      "### 6.1 \u97f3\u91cf\u6b63\u898f\u5316"
     ]
    },
    {
     "cell_type": "code",
     "collapsed": false,
     "input": [
      "MusicInfo_normalize = list()\n",
      "\n",
      "for i in xrange(21):\n",
      "    MusicInfo = list()\n",
      "    D = pickle.load(open('/home/nailo/python/data/MusicInfo.pkl'+str(i),'r'))\n",
      "    for j in xrange(len(D)):\n",
      "        MusicInfo.append(D[j])\n",
      "        \n",
      "    def m(x):\n",
      "        return max(abs(min(MusicInfo[x])), abs(max(MusicInfo[x])))\n",
      "\n",
      "    for k in xrange(len(MusicInfo)):\n",
      "        MusicInfo_normalize.append(list(array(MusicInfo[k])/m(k)))"
     ],
     "language": "python",
     "metadata": {},
     "outputs": []
    },
    {
     "cell_type": "markdown",
     "metadata": {},
     "source": [
      "### 6.2 DCT\u8f49\u63db"
     ]
    },
    {
     "cell_type": "code",
     "collapsed": false,
     "input": [
      "a = datetime.now()\n",
      "\n",
      "def dy(j):\n",
      "    return fftpack.dct(MusicInfo_normalize[j],1)[0:80000]\n",
      "\n",
      "DCT_MusicInfo = list()\n",
      "\n",
      "for i in xrange(len(MusicInfo_normalize)):    \n",
      "    DCT_MusicInfo.append(dy(i))\n",
      "    \n",
      "b = datetime.now()\n",
      "c = b - a\n",
      "\n",
      "c.seconds"
     ],
     "language": "python",
     "metadata": {},
     "outputs": []
    },
    {
     "cell_type": "code",
     "collapsed": false,
     "input": [
      "t = pickle.load(open(u'D:\\\u78a9\u58eb\u8ad6\u6587\\\u8ad6\u6587\u5167\u7684Python\u7a0b\u5f0f\\DCT_MusicInfo.pkl20','r'))"
     ],
     "language": "python",
     "metadata": {},
     "outputs": [],
     "prompt_number": 7
    },
    {
     "cell_type": "code",
     "collapsed": false,
     "input": [
      "plot(t[0],'r')"
     ],
     "language": "python",
     "metadata": {},
     "outputs": [
      {
       "metadata": {},
       "output_type": "pyout",
       "prompt_number": 10,
       "text": [
        "[<matplotlib.lines.Line2D at 0x13c856a0>]"
       ]
      },
      {
       "metadata": {},
       "output_type": "display_data",
       "png": "[encoded data removed]",
       "text": [
        "<matplotlib.figure.Figure at 0x3946630>"
       ]
      }
     ],
     "prompt_number": 10
    },
    {
     "cell_type": "markdown",
     "metadata": {},
     "source": [
      "### \u8b80\u6a94"
     ]
    },
    {
     "cell_type": "code",
     "collapsed": false,
     "input": [
      "DCT_MusicInfo = list()\n",
      "\n",
      "for i in xrange(21):\n",
      "    dct =  pickle.load(open(u'D:\\\u78a9\u58eb\u8ad6\u6587\\\u8ad6\u6587\u5167\u7684Python\u7a0b\u5f0f\\DCT_MusicInfo.pkl'+str(i),'r'))\n",
      "    for j in xrange(len(dct)):\n",
      "        DCT_MusicInfo.append(dct[j])"
     ],
     "language": "python",
     "metadata": {},
     "outputs": [],
     "prompt_number": 2
    },
    {
     "cell_type": "markdown",
     "metadata": {},
     "source": [
      "### 6.3 \u7b97\u51fa\u516b\u842c\u9ede\u7684std\u3002"
     ]
    },
    {
     "cell_type": "code",
     "collapsed": false,
     "input": [
      "a = datetime.now()\n",
      "\n",
      "STD = list()\n",
      "    \n",
      "for j in xrange(80000):\n",
      "    S = list()\n",
      "    for i in xrange(len(DCT_MusicInfo)):\n",
      "        S.append(DCT_MusicInfo[i][j])\n",
      "    STD.append(std(S))\n",
      "        \n",
      "b = datetime.now()\n",
      "c = b - a\n",
      "\n",
      "c.seconds"
     ],
     "language": "python",
     "metadata": {},
     "outputs": [
      {
       "metadata": {},
       "output_type": "pyout",
       "prompt_number": 3,
       "text": [
        "193"
       ]
      }
     ],
     "prompt_number": 3
    },
    {
     "cell_type": "markdown",
     "metadata": {},
     "source": [
      "### 6.4 \u7b97\u51fa\u524d\u5169\u842c\u9ad8\u7684std"
     ]
    },
    {
     "cell_type": "code",
     "collapsed": false,
     "input": [
      "a = datetime.now()\n",
      "\n",
      "Index = list()\n",
      "\n",
      "for i in xrange(len(STD)):\n",
      "    if STD[i] > sorted(STD)[59999]:\n",
      "        Index.append(i)\n",
      "        \n",
      "b = datetime.now()\n",
      "c = b - a\n",
      "\n",
      "c.seconds"
     ],
     "language": "python",
     "metadata": {},
     "outputs": []
    },
    {
     "cell_type": "code",
     "collapsed": false,
     "input": [
      "a = datetime.now()\n",
      "\n",
      "DCT_Info_20k = list()\n",
      "\n",
      "for i in xrange(len(DCT_MusicInfo)):\n",
      "    y = list()\n",
      "    for j in Index:\n",
      "        y.append(DCT_MusicInfo[i][j])\n",
      "    DCT_Info_20k.append(y)\n",
      "    \n",
      "b = datetime.now()\n",
      "c = b - a\n",
      "\n",
      "c.seconds"
     ],
     "language": "python",
     "metadata": {},
     "outputs": []
    },
    {
     "cell_type": "markdown",
     "metadata": {},
     "source": [
      "### 6.5 \u76ee\u6a19\uff1a\u505a\u4e00\u500b\u6307\u6a19\u503c$C = \\frac{\\sum\\mu_{i}-\\mu_{j}}{\\sum\\sigma_{i}}$\uff0c\u4f7f\u5f97$C$\u8d8a\u5927\uff0c\u8a72\u7dad\u5ea6\u5c31\u8d8a\u53ef\u9078\u64c7\u3002"
     ]
    },
    {
     "cell_type": "code",
     "collapsed": false,
     "input": [
      "selectedMusicInfo = pickle.load(open('selectedMusicInfo.pkl','r'))"
     ],
     "language": "python",
     "metadata": {},
     "outputs": []
    },
    {
     "cell_type": "code",
     "collapsed": false,
     "input": [
      "classical_index = list()\n",
      "country_index = list()\n",
      "disco_index = list()\n",
      "electro_index = list()\n",
      "folk_index = list()\n",
      "funk_index = list()\n",
      "gospel_index = list()\n",
      "jazz_index = list()\n",
      "latin_index = list()\n",
      "metal_index = list()\n",
      "pop_index = list()\n",
      "randb_index = list()\n",
      "rap_index = list()\n",
      "reggae_index = list()\n",
      "rock_index = list()\n",
      "soul_index = list()\n",
      "soundtrack_index = list()\n",
      "vocal_pop_index = list()\n",
      "world_index = list()\n",
      "\n",
      "#1\n",
      "for i in range(len(selectedMusicInfo)):\n",
      "    if u'classical' == selectedMusicInfo[i][3]:\n",
      "        classical_index.append(i)\n",
      "        \n",
      "#2\n",
      "for i in range(len(selectedMusicInfo)):\n",
      "    if u'country' == selectedMusicInfo[i][3]:\n",
      "        country_index.append(i)\n",
      "        \n",
      "#3\n",
      "for i in range(len(selectedMusicInfo)):\n",
      "    if u'disco' == selectedMusicInfo[i][3]:\n",
      "        disco_index.append(i)\n",
      "\n",
      "#4\n",
      "for i in range(len(selectedMusicInfo)):\n",
      "    if u'electro' == selectedMusicInfo[i][3]:\n",
      "        electro_index.append(i)\n",
      "\n",
      "#5\n",
      "for i in range(len(selectedMusicInfo)):\n",
      "    if u'folk' == selectedMusicInfo[i][3]:\n",
      "        folk_index.append(i)\n",
      "\n",
      "#6\n",
      "for i in range(len(selectedMusicInfo)):\n",
      "    if u'funk' == selectedMusicInfo[i][3]:\n",
      "        funk_index.append(i)\n",
      "\n",
      "#7\n",
      "for i in range(len(selectedMusicInfo)):\n",
      "    if u'gospel' == selectedMusicInfo[i][3]:\n",
      "        gospel_index.append(i)\n",
      "\n",
      "#8\n",
      "for i in range(len(selectedMusicInfo)):\n",
      "    if u'jazz' == selectedMusicInfo[i][3]:\n",
      "        jazz_index.append(i)\n",
      "\n",
      "#9\n",
      "for i in range(len(selectedMusicInfo)):\n",
      "    if u'latin' == selectedMusicInfo[i][3]:\n",
      "        latin_index.append(i)\n",
      "\n",
      "#10\n",
      "for i in range(len(selectedMusicInfo)):\n",
      "    if u'metal' == selectedMusicInfo[i][3]:\n",
      "        metal_index.append(i)\n",
      "\n",
      "#11\n",
      "for i in range(len(selectedMusicInfo)):\n",
      "    if u'pop' == selectedMusicInfo[i][3]:\n",
      "        pop_index.append(i)\n",
      "\n",
      "#12\n",
      "for i in range(len(selectedMusicInfo)):\n",
      "    if u'randb' == selectedMusicInfo[i][3]:\n",
      "        randb_index.append(i)\n",
      "\n",
      "#13\n",
      "for i in range(len(selectedMusicInfo)):\n",
      "    if u'rap' == selectedMusicInfo[i][3]:\n",
      "        rap_index.append(i)\n",
      "\n",
      "#14\n",
      "for i in range(len(selectedMusicInfo)):\n",
      "    if u'reggae' == selectedMusicInfo[i][3]:\n",
      "        reggae_index.append(i)\n",
      "\n",
      "#15\n",
      "for i in range(len(selectedMusicInfo)):\n",
      "    if u'rock' == selectedMusicInfo[i][3]:\n",
      "        rock_index.append(i)\n",
      "\n",
      "#16\n",
      "for i in range(len(selectedMusicInfo)):\n",
      "    if u'soul' == selectedMusicInfo[i][3]:\n",
      "        soul_index.append(i)\n",
      "\n",
      "#17\n",
      "for i in range(len(selectedMusicInfo)):\n",
      "    if u'soundtrack' == selectedMusicInfo[i][3]:\n",
      "        soundtrack_index.append(i)\n",
      "\n",
      "#18\n",
      "for i in range(len(selectedMusicInfo)):\n",
      "    if u'vocal pop' == selectedMusicInfo[i][3]:\n",
      "        vocal_pop_index.append(i)\n",
      "\n",
      "#19\n",
      "for i in range(len(selectedMusicInfo)):\n",
      "    if u'world' == selectedMusicInfo[i][3]:\n",
      "        world_index.append(i)\n",
      "\n",
      "\n",
      "genre_list = [classical_index,\n",
      "              country_index,\n",
      "              disco_index,\n",
      "              electro_index,\n",
      "              folk_index,\n",
      "              funk_index,\n",
      "              gospel_index,\n",
      "              jazz_index,\n",
      "              latin_index,\n",
      "              metal_index,\n",
      "              pop_index,\n",
      "              randb_index,\n",
      "              rap_index,\n",
      "              reggae_index,\n",
      "              rock_index,\n",
      "              soul_index,\n",
      "              soundtrack_index,\n",
      "              vocal_pop_index,\n",
      "              world_index]"
     ],
     "language": "python",
     "metadata": {},
     "outputs": []
    },
    {
     "cell_type": "code",
     "collapsed": false,
     "input": [
      "# \u6307\u6a19C\u7684\u5206\u6bcd\n",
      "\n",
      "a = datetime.now()\n",
      "\n",
      "std_sum = list()\n",
      "\n",
      "for i in xrange(20000):\n",
      "    genre_std = list()\n",
      "    for j in xrange(len(genre_list)):\n",
      "        s = list()\n",
      "        for k in genre_list[j]:\n",
      "            s.append(DCT_Info_20k[k][i])\n",
      "        genre_std.append(std(s))\n",
      "    std_sum.append(sum(genre_std))\n",
      "\n",
      "# \u6307\u6a19C\u7684\u5206\u5b50\n",
      "mean_std = list()\n",
      "\n",
      "for i in xrange(20000):\n",
      "    genre_mean = list()\n",
      "    for j in xrange(len(genre_list)):\n",
      "        s = list()\n",
      "        for k in genre_list[j]:\n",
      "            s.append(DCT_Info_20k[k][i])\n",
      "        genre_mean.append(mean(s))\n",
      "    mean_std.append(std(genre_mean))\n",
      "    \n",
      "# \u6307\u6a19C\n",
      "C = list()\n",
      "\n",
      "for i in range(20000):\n",
      "    C.append(float(mean_std[i])/float(std_sum[i]))\n",
      "        \n",
      "b = datetime.now()\n",
      "c = b - a\n",
      "\n",
      "c.seconds"
     ],
     "language": "python",
     "metadata": {},
     "outputs": []
    },
    {
     "cell_type": "code",
     "collapsed": false,
     "input": [
      "# \u756b\u5716\n",
      "plot(sorted(C),'g')"
     ],
     "language": "python",
     "metadata": {},
     "outputs": []
    }
   ],
   "metadata": {}
  }
 ]
}