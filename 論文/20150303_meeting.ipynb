{
 "metadata": {
  "name": "",
  "signature": "sha256:6b0f6e051d609217c304395e96d31e35300ed9bcde30253eeedfdf52e3e856dd"
 },
 "nbformat": 3,
 "nbformat_minor": 0,
 "worksheets": [
  {
   "cells": [
    {
     "cell_type": "code",
     "collapsed": false,
     "input": [
      "%pylab inline\n",
      "from scipy.io import wavfile\n",
      "from scipy import fftpack\n",
      "import xlrd\n",
      "from datetime import datetime\n",
      "import pickle"
     ],
     "language": "python",
     "metadata": {},
     "outputs": [
      {
       "output_type": "stream",
       "stream": "stdout",
       "text": [
        "Populating the interactive namespace from numpy and matplotlib\n"
       ]
      }
     ],
     "prompt_number": 3
    },
    {
     "cell_type": "code",
     "collapsed": false,
     "input": [
      "def f(filename):\n",
      "    def L(i):\n",
      "        return [xlrd.open_workbook(filename).sheet_by_index(0).cell(i,0).value,xlrd.open_workbook(filename).sheet_by_index(0).cell(i,5).value,xlrd.open_workbook(filename).sheet_by_index(0).cell(i,6).value,xlrd.open_workbook(filename).sheet_by_index(0).cell(i,9).value]\n",
      "    \n",
      "    x = list()\n",
      "\n",
      "    for i in range(1,xlrd.open_workbook(filename).sheet_by_index(0).nrows):\n",
      "        x.append(L(i))\n",
      "        \n",
      "    return x\n"
     ],
     "language": "python",
     "metadata": {},
     "outputs": [],
     "prompt_number": 2
    },
    {
     "cell_type": "code",
     "collapsed": false,
     "input": [
      "data = f('music_list.xls')"
     ],
     "language": "python",
     "metadata": {},
     "outputs": [],
     "prompt_number": 3
    },
    {
     "cell_type": "code",
     "collapsed": false,
     "input": [
      "data[33]"
     ],
     "language": "python",
     "metadata": {},
     "outputs": [
      {
       "metadata": {},
       "output_type": "pyout",
       "prompt_number": 4,
       "text": [
        "[34.0,\n",
        " 344.0,\n",
        " u'D:\\\\Hundred_Song\\\\\\u795e\\u68cd\\u6a02\\u5718_\\u4e5d\\u865f\\u516c\\u8def.wav',\n",
        " 92.0]"
       ]
      }
     ],
     "prompt_number": 4
    },
    {
     "cell_type": "markdown",
     "metadata": {},
     "source": [
      "## \u76ee\u6a19\uff1a\u505a\u4e00\u500b\u65b0list\uff0c\u6bcf\u4e00\u500b\u8cc7\u8a0a\u5747\u662f\u8072\u6ce2"
     ]
    },
    {
     "cell_type": "code",
     "collapsed": false,
     "input": [
      "soundwave = list()\n",
      "\n",
      "def s(filename):\n",
      "    for i in range(1,101):\n",
      "        path = xlrd.open_workbook(filename).sheet_by_index(0).cell(i,6).value\n",
      "        [fs, w] = wavfile.read(path,'r')\n",
      "\n",
      "        def a(i):\n",
      "            return int(round((len(w)/xlrd.open_workbook(filename).sheet_by_index(0).cell(i,5).value)*xlrd.open_workbook(filename).sheet_by_index(0).cell(i,9).value))\n",
      "\n",
      "        y = list()\n",
      "        \n",
      "        for j in range(a(i),a(i)+529200): #44100*12=529200\n",
      "            y.append(float(w[j][0]))\n",
      "    \n",
      "        soundwave.append(y)\n"
     ],
     "language": "python",
     "metadata": {},
     "outputs": [],
     "prompt_number": 2
    },
    {
     "cell_type": "code",
     "collapsed": false,
     "input": [
      "a = datetime.now()\n",
      "\n",
      "s('music_list.xls')\n",
      "\n",
      "b = datetime.now()\n",
      "c = b - a\n",
      "\n",
      "c.seconds"
     ],
     "language": "python",
     "metadata": {},
     "outputs": [
      {
       "output_type": "stream",
       "stream": "stderr",
       "text": [
        "C:\\Users\\User\\Anaconda\\lib\\site-packages\\scipy\\io\\wavfile.py:42: WavFileWarning: Unknown wave file format\n",
        "  warnings.warn(\"Unknown wave file format\", WavFileWarning)\n"
       ]
      },
      {
       "metadata": {},
       "output_type": "pyout",
       "prompt_number": 3,
       "text": [
        "141"
       ]
      }
     ],
     "prompt_number": 3
    },
    {
     "cell_type": "code",
     "collapsed": false,
     "input": [
      "def m(i):\n",
      "    return max(abs(min(soundwave[i])), abs(max(soundwave[i])))\n",
      "\n",
      "soundwave_normalize = list()\n",
      "\n",
      "for i in range(100):\n",
      "    soundwave_normalize.append(list(array(soundwave[i])/m(i)))"
     ],
     "language": "python",
     "metadata": {},
     "outputs": [],
     "prompt_number": 4
    },
    {
     "cell_type": "code",
     "collapsed": false,
     "input": [
      "F = open('sound_list.csv','w')\n",
      "pickle.dump(soundwave,F)\n",
      "F.close()"
     ],
     "language": "python",
     "metadata": {},
     "outputs": [],
     "prompt_number": 15
    },
    {
     "cell_type": "code",
     "collapsed": false,
     "input": [
      "plot(soundwave[85],'b')"
     ],
     "language": "python",
     "metadata": {},
     "outputs": [
      {
       "metadata": {},
       "output_type": "pyout",
       "prompt_number": 86,
       "text": [
        "[<matplotlib.lines.Line2D at 0x10e8fec88>]"
       ]
      },
      {
       "metadata": {},
       "output_type": "display_data",
       "png": "[encoded data removed]",
       "text": [
        "<matplotlib.figure.Figure at 0x115aac898>"
       ]
      }
     ],
     "prompt_number": 86
    },
    {
     "cell_type": "code",
     "collapsed": false,
     "input": [
      "plot(soundwave[83],'b')"
     ],
     "language": "python",
     "metadata": {},
     "outputs": [
      {
       "metadata": {},
       "output_type": "pyout",
       "prompt_number": 83,
       "text": [
        "[<matplotlib.lines.Line2D at 0x1143a77f0>]"
       ]
      },
      {
       "metadata": {},
       "output_type": "display_data",
       "png": "[encoded data removed]",
       "text": [
        "<matplotlib.figure.Figure at 0x1161ae978>"
       ]
      }
     ],
     "prompt_number": 83
    },
    {
     "cell_type": "code",
     "collapsed": false,
     "input": [
      "plot(soundwave[1],'b')"
     ],
     "language": "python",
     "metadata": {},
     "outputs": [
      {
       "metadata": {},
       "output_type": "pyout",
       "prompt_number": 5,
       "text": [
        "[<matplotlib.lines.Line2D at 0xeffe8630>]"
       ]
      },
      {
       "metadata": {},
       "output_type": "display_data",
       "png": "[encoded data removed]",
       "text": [
        "<matplotlib.figure.Figure at 0x38fad68>"
       ]
      }
     ],
     "prompt_number": 5
    },
    {
     "cell_type": "code",
     "collapsed": false,
     "input": [
      "len(soundwave[59]), 44100*12"
     ],
     "language": "python",
     "metadata": {},
     "outputs": [
      {
       "metadata": {},
       "output_type": "pyout",
       "prompt_number": 6,
       "text": [
        "(529200, 529200)"
       ]
      }
     ],
     "prompt_number": 6
    },
    {
     "cell_type": "code",
     "collapsed": false,
     "input": [
      "y = list()\n",
      "\n",
      "for i in range(100):\n",
      "    if max(soundwave_normalize[i]) < 1:\n",
      "        pass\n",
      "    else:\n",
      "        y.append(i)\n",
      "\n",
      "print y"
     ],
     "language": "python",
     "metadata": {},
     "outputs": [
      {
       "output_type": "stream",
       "stream": "stdout",
       "text": [
        "[0, 1, 2, 3, 6, 8, 10, 11, 12, 13, 14, 16, 17, 19, 29, 32, 33, 36, 42, 43, 55, 57, 62, 63, 64, 65, 66, 67, 69, 71, 73, 74, 75, 78, 81, 82, 83, 85, 87, 88, 89, 94, 96, 97, 98, 99]\n"
       ]
      }
     ],
     "prompt_number": 7
    },
    {
     "cell_type": "code",
     "collapsed": false,
     "input": [
      "X = array(soundwave_normalize)"
     ],
     "language": "python",
     "metadata": {},
     "outputs": [],
     "prompt_number": 7
    },
    {
     "cell_type": "code",
     "collapsed": false,
     "input": [
      "import numpy as np\n",
      "import random\n",
      "\n",
      "def cluster_point(X, mu):\n",
      "    clusters = {}\n",
      "    for x in X:\n",
      "        bestmukey = min([(i[0], np.linalg.norm(x-mu[i[0]])) \\\n",
      "                    for i in enumerate(mu)], key=lambda t:t[1])[0]\n",
      "        try:\n",
      "            clusters[bestmukey].append(x)\n",
      "        except KeyError:\n",
      "            clusters[bestmukey] = [x]\n",
      "        return clusters\n",
      "\n",
      "def reevaluate_centers(mu, clusters):\n",
      "    newmu = []\n",
      "    keys = sorted(clusters.keys())\n",
      "    for k in keys:\n",
      "        newmu.append(np.mean(clusters[k], axis = 0))\n",
      "    return newmu\n",
      "\n",
      "def has_converged(mu, oldmu):\n",
      "    return (set([tuple(a) for a in mu]) == set([tuple(a) for a in oldmu]))\n",
      "\n",
      "def find_centers(X, K):\n",
      "    # Initialize to K random centers\n",
      "    oldmu = random.sample(X, K)\n",
      "    mu = random.sample(X, K)\n",
      "    while not has_converged(mu, oldmu):\n",
      "        mu = oldmu\n",
      "        # Assign all points in X to clusters\n",
      "        clusters = cluster_point(X, mu)\n",
      "        # Reevaluate centers\n",
      "        mu = reevaluate_centers(oldmu, clusters)\n",
      "    return (mu, clusters)"
     ],
     "language": "python",
     "metadata": {},
     "outputs": [],
     "prompt_number": 10
    },
    {
     "cell_type": "code",
     "collapsed": false,
     "input": [
      "centers = random.sample(soundwave_normalize,5)"
     ],
     "language": "python",
     "metadata": {},
     "outputs": [],
     "prompt_number": 15
    },
    {
     "cell_type": "code",
     "collapsed": false,
     "input": [
      "len(centers)"
     ],
     "language": "python",
     "metadata": {},
     "outputs": [
      {
       "metadata": {},
       "output_type": "pyout",
       "prompt_number": 16,
       "text": [
        "5"
       ]
      }
     ],
     "prompt_number": 16
    },
    {
     "cell_type": "code",
     "collapsed": false,
     "input": [
      "#################################################\n",
      "# kmeans: k-means cluster\n",
      "# Author : zouxy\n",
      "# Date   : 2013-12-25\n",
      "# HomePage : http://blog.csdn.net/zouxy09\n",
      "# Email  : zouxy09@qq.com\n",
      "#################################################\n",
      "\n",
      "from numpy import *\n",
      "import time\n",
      "import matplotlib.pyplot as plt\n",
      "\n",
      "\n",
      "# calculate Euclidean distance\n",
      "def euclDistance(vector1, vector2):\n",
      "\treturn sqrt(sum(power(vector2 - vector1, 2)))\n",
      "\n",
      "# init centroids with random samples\n",
      "def initCentroids(dataSet, k):\n",
      "\tnumSamples, dim = dataSet.shape\n",
      "\tcentroids = zeros((k, dim))\n",
      "\tfor i in range(k):\n",
      "\t\tindex = int(random.uniform(0, numSamples))\n",
      "\t\tcentroids[i, :] = dataSet[index, :]\n",
      "\treturn centroids\n",
      "\n",
      "# k-means cluster\n",
      "def kmeans(dataSet, k):\n",
      "\tnumSamples = dataSet.shape[0]\n",
      "\t# first column stores which cluster this sample belongs to,\n",
      "\t# second column stores the error between this sample and its centroid\n",
      "\tclusterAssment = mat(zeros((numSamples, 2)))\n",
      "\tclusterChanged = True\n",
      "\n",
      "\t## step 1: init centroids\n",
      "\tcentroids = initCentroids(dataSet, k)\n",
      "\n",
      "\twhile clusterChanged:\n",
      "\t\tclusterChanged = False\n",
      "\t\t## for each sample\n",
      "\t\tfor i in xrange(numSamples):\n",
      "\t\t\tminDist  = 529200.0\n",
      "\t\t\tminIndex = 0\n",
      "\t\t\t## for each centroid\n",
      "\t\t\t## step 2: find the centroid who is closest\n",
      "\t\t\tfor j in range(k):\n",
      "\t\t\t\tdistance = euclDistance(centroids[j, :], dataSet[i, :])\n",
      "\t\t\t\tif distance < minDist:\n",
      "\t\t\t\t\tminDist  = distance\n",
      "\t\t\t\t\tminIndex = j\n",
      "\t\t\t\n",
      "\t\t\t## step 3: update its cluster\n",
      "\t\t\tif clusterAssment[i, 0] != minIndex:\n",
      "\t\t\t\tclusterChanged = True\n",
      "\t\t\t\tclusterAssment[i, :] = minIndex, minDist**2\n",
      "\n",
      "\t\t## step 4: update centroids\n",
      "\t\tfor j in range(k):\n",
      "\t\t\tpointsInCluster = dataSet[nonzero(clusterAssment[:, 0].A == j)[0]]\n",
      "\t\t\tcentroids[j, :] = mean(pointsInCluster, axis = 0)\n",
      "\n",
      "\tprint 'Congratulations, cluster complete!'\n",
      "\treturn centroids, clusterAssment\n",
      "\n",
      "# show your cluster only available with 2-D data\n",
      "def showCluster(dataSet, k, centroids, clusterAssment):\n",
      "\tnumSamples, dim = dataSet.shape\n",
      "\tif dim != 2:\n",
      "\t\tprint \"Sorry! I can not draw because the dimension of your data is not 2!\"\n",
      "\t\treturn 1\n",
      "\n",
      "\tmark = ['or', 'ob', 'og', 'ok', '^r', '+r', 'sr', 'dr', '<r', 'pr']\n",
      "\tif k > len(mark):\n",
      "\t\tprint \"Sorry! Your k is too large! please contact Zouxy\"\n",
      "\t\treturn 1\n",
      "\n",
      "\t# draw all samples\n",
      "\tfor i in xrange(numSamples):\n",
      "\t\tmarkIndex = int(clusterAssment[i, 0])\n",
      "\t\tplt.plot(dataSet[i, 0], dataSet[i, 1], mark[markIndex])\n",
      "\n",
      "\tmark = ['Dr', 'Db', 'Dg', 'Dk', '^b', '+b', 'sb', 'db', '<b', 'pb']\n",
      "\t# draw the centroids\n",
      "\tfor i in range(k):\n",
      "\t\tplt.plot(centroids[i, 0], centroids[i, 1], mark[i], markersize = 12)\n",
      "\n",
      "\tplt.show()"
     ],
     "language": "python",
     "metadata": {},
     "outputs": [],
     "prompt_number": 1
    },
    {
     "cell_type": "code",
     "collapsed": false,
     "input": [
      "kmeans(X, 5)"
     ],
     "language": "python",
     "metadata": {},
     "outputs": [
      {
       "output_type": "stream",
       "stream": "stdout",
       "text": [
        "Congratulations, cluster complete!\n"
       ]
      },
      {
       "metadata": {},
       "output_type": "pyout",
       "prompt_number": 81,
       "text": [
        "(array([[-0.19848633, -0.22775269, -0.23550415, ..., -0.04812622,\n",
        "         -0.03799438, -0.02896118],\n",
        "        [ 0.09744816,  0.03492542,  0.02421912, ..., -0.22659945,\n",
        "         -0.16360896, -0.12504548],\n",
        "        [-0.11951048, -0.11804559, -0.117069  , ...,  0.54075747,\n",
        "          0.50685141,  0.44486831],\n",
        "        [-0.19402724, -0.18378071, -0.16263082, ..., -0.0464159 ,\n",
        "         -0.06090993, -0.07916977],\n",
        "        [ 0.00808543,  0.00773351,  0.0109869 , ...,  0.01366467,\n",
        "          0.01016381,  0.00664038]]),\n",
        " matrix([[  4.00000000e+00,   4.72649652e+04],\n",
        "         [  4.00000000e+00,   1.95906763e+04],\n",
        "         [  4.00000000e+00,   2.21400346e+04],\n",
        "         [  4.00000000e+00,   4.14043380e+04],\n",
        "         [  4.00000000e+00,   2.49499821e+04],\n",
        "         [  4.00000000e+00,   3.33740685e+04],\n",
        "         [  4.00000000e+00,   3.22440896e+04],\n",
        "         [  4.00000000e+00,   3.29305216e+04],\n",
        "         [  4.00000000e+00,   2.59452163e+04],\n",
        "         [  4.00000000e+00,   2.80527884e+04],\n",
        "         [  4.00000000e+00,   4.50312200e+04],\n",
        "         [  4.00000000e+00,   4.62714664e+04],\n",
        "         [  4.00000000e+00,   5.17463565e+04],\n",
        "         [  4.00000000e+00,   6.26924700e+04],\n",
        "         [  4.00000000e+00,   2.51279317e+04],\n",
        "         [  4.00000000e+00,   2.47454364e+04],\n",
        "         [  4.00000000e+00,   2.34882163e+04],\n",
        "         [  4.00000000e+00,   4.73151384e+04],\n",
        "         [  4.00000000e+00,   4.42808939e+04],\n",
        "         [  4.00000000e+00,   3.04059435e+04],\n",
        "         [  4.00000000e+00,   1.96136514e+04],\n",
        "         [  4.00000000e+00,   8.43682396e+04],\n",
        "         [  4.00000000e+00,   3.16897206e+04],\n",
        "         [  4.00000000e+00,   4.31624206e+04],\n",
        "         [  4.00000000e+00,   2.76145829e+04],\n",
        "         [  4.00000000e+00,   5.08298297e+04],\n",
        "         [  4.00000000e+00,   7.50256288e+04],\n",
        "         [  4.00000000e+00,   5.98695661e+04],\n",
        "         [  4.00000000e+00,   3.60918615e+04],\n",
        "         [  4.00000000e+00,   3.95227480e+04],\n",
        "         [  4.00000000e+00,   4.55658261e+04],\n",
        "         [  4.00000000e+00,   3.16493093e+04],\n",
        "         [  4.00000000e+00,   3.21674389e+04],\n",
        "         [  4.00000000e+00,   2.82887562e+04],\n",
        "         [  4.00000000e+00,   5.38174511e+04],\n",
        "         [  4.00000000e+00,   4.37997403e+04],\n",
        "         [  4.00000000e+00,   2.65178436e+04],\n",
        "         [  4.00000000e+00,   4.03602588e+04],\n",
        "         [  4.00000000e+00,   5.39299262e+04],\n",
        "         [  4.00000000e+00,   3.76042983e+04],\n",
        "         [  4.00000000e+00,   3.03505495e+04],\n",
        "         [  4.00000000e+00,   1.75877724e+04],\n",
        "         [  4.00000000e+00,   2.04913289e+04],\n",
        "         [  4.00000000e+00,   1.96417978e+04],\n",
        "         [  4.00000000e+00,   1.67867383e+04],\n",
        "         [  4.00000000e+00,   1.62455546e+04],\n",
        "         [  4.00000000e+00,   2.99207944e+04],\n",
        "         [  4.00000000e+00,   2.74752256e+04],\n",
        "         [  4.00000000e+00,   4.87370225e+04],\n",
        "         [  4.00000000e+00,   5.86425000e+04],\n",
        "         [  4.00000000e+00,   5.61365463e+04],\n",
        "         [  1.00000000e+00,   0.00000000e+00],\n",
        "         [  4.00000000e+00,   2.73003769e+04],\n",
        "         [  4.00000000e+00,   1.73680786e+04],\n",
        "         [  4.00000000e+00,   3.62349596e+04],\n",
        "         [  2.00000000e+00,   0.00000000e+00],\n",
        "         [  4.00000000e+00,   1.96921077e+04],\n",
        "         [  4.00000000e+00,   2.15773128e+04],\n",
        "         [  0.00000000e+00,   0.00000000e+00],\n",
        "         [  4.00000000e+00,   1.50635926e+04],\n",
        "         [  4.00000000e+00,   2.95685155e+04],\n",
        "         [  4.00000000e+00,   3.26291013e+04],\n",
        "         [  4.00000000e+00,   2.70621573e+04],\n",
        "         [  4.00000000e+00,   1.62080582e+04],\n",
        "         [  4.00000000e+00,   2.33582697e+04],\n",
        "         [  4.00000000e+00,   1.48463336e+04],\n",
        "         [  4.00000000e+00,   2.42232512e+04],\n",
        "         [  4.00000000e+00,   0.00000000e+00],\n",
        "         [  4.00000000e+00,   2.33249600e+04],\n",
        "         [  3.00000000e+00,   0.00000000e+00],\n",
        "         [  4.00000000e+00,   3.09479658e+04],\n",
        "         [  4.00000000e+00,   2.20163364e+04],\n",
        "         [  4.00000000e+00,   2.26823987e+04],\n",
        "         [  4.00000000e+00,   3.15456126e+04],\n",
        "         [  4.00000000e+00,   1.87190163e+04],\n",
        "         [  4.00000000e+00,   1.42063417e+04],\n",
        "         [  4.00000000e+00,   1.38633049e+04],\n",
        "         [  4.00000000e+00,   3.52861125e+04],\n",
        "         [  4.00000000e+00,   1.80305571e+04],\n",
        "         [  4.00000000e+00,   1.52394812e+04],\n",
        "         [  4.00000000e+00,   4.04517175e+04],\n",
        "         [  4.00000000e+00,   3.46302017e+04],\n",
        "         [  4.00000000e+00,   3.21504149e+04],\n",
        "         [  4.00000000e+00,   1.82027114e+04],\n",
        "         [  4.00000000e+00,   3.19661811e+04],\n",
        "         [  4.00000000e+00,   2.76683758e+04],\n",
        "         [  4.00000000e+00,   3.15800849e+04],\n",
        "         [  4.00000000e+00,   2.97478200e+04],\n",
        "         [  4.00000000e+00,   1.56165700e+04],\n",
        "         [  4.00000000e+00,   1.67489554e+04],\n",
        "         [  4.00000000e+00,   1.70237767e+04],\n",
        "         [  4.00000000e+00,   4.74491265e+04],\n",
        "         [  4.00000000e+00,   2.19615812e+04],\n",
        "         [  4.00000000e+00,   5.56622935e+04],\n",
        "         [  4.00000000e+00,   7.52559413e+04],\n",
        "         [  4.00000000e+00,   4.14887407e+04],\n",
        "         [  4.00000000e+00,   2.89099805e+04],\n",
        "         [  4.00000000e+00,   4.29334468e+04],\n",
        "         [  4.00000000e+00,   3.05900413e+04],\n",
        "         [  4.00000000e+00,   4.59557091e+04]]))"
       ]
      }
     ],
     "prompt_number": 81
    },
    {
     "cell_type": "code",
     "collapsed": false,
     "input": [
      "#################################################\n",
      "# kmeans: k-means cluster\n",
      "# Author : zouxy\n",
      "# Date   : 2013-12-25\n",
      "# HomePage : http://blog.csdn.net/zouxy09\n",
      "# Email  : zouxy09@qq.com\n",
      "#################################################\n",
      "\n",
      "from numpy import *\n",
      "import time\n",
      "import matplotlib.pyplot as plt\n",
      "\n",
      "## step 1: load data\n",
      "print \"step 1: load data...\"\n",
      "dataSet = []\n",
      "fileIn = open('testSet.txt')\n",
      "for line in fileIn.readlines():\n",
      "\tlineArr = line.strip().split('\\t')\n",
      "\tdataSet.append([float(lineArr[0]), float(lineArr[1])])\n",
      "\n",
      "## step 2: clustering...\n",
      "print \"step 2: clustering...\"\n",
      "dataSet = mat(dataSet)\n",
      "k = 4\n",
      "centroids, clusterAssment = kmeans(dataSet, k)\n",
      "print centroids, clusterAssment\n",
      "\n",
      "## step 3: show the result\n",
      "print \"step 3: show the result...\"\n",
      "showCluster(dataSet, k, centroids, clusterAssment)"
     ],
     "language": "python",
     "metadata": {},
     "outputs": [
      {
       "output_type": "stream",
       "stream": "stdout",
       "text": [
        "step 1: load data...\n",
        "step 2: clustering...\n",
        "Congratulations, cluster complete!"
       ]
      },
      {
       "output_type": "stream",
       "stream": "stdout",
       "text": [
        "\n",
        "[[ 2.80293085 -2.7315146 ]\n",
        " [-2.46154315  2.78737555]\n",
        " [-3.38237045 -2.9473363 ]\n",
        " [ 2.6265299   3.10868015]] [[  3.00000000e+00   1.71602377e+00]\n",
        " [  1.00000000e+00   3.23725548e+01]\n",
        " [  0.00000000e+00   0.00000000e+00]\n",
        " [  2.00000000e+00   1.90767225e+00]\n",
        " [  3.00000000e+00   1.87266034e+00]\n",
        " [  1.00000000e+00   1.43958787e+01]\n",
        " [  0.00000000e+00   7.07705480e+00]\n",
        " [  2.00000000e+00   1.80736141e+00]\n",
        " [  3.00000000e+00   2.55471417e+00]\n",
        " [  1.00000000e+00   2.99949746e+01]\n",
        " [  0.00000000e+00   0.00000000e+00]\n",
        " [  2.00000000e+00   6.24432949e-01]\n",
        " [  3.00000000e+00   3.58890445e+00]\n",
        " [  1.00000000e+00   2.10554748e+00]\n",
        " [  0.00000000e+00   0.00000000e+00]\n",
        " [  2.00000000e+00   1.36399091e+01]\n",
        " [  3.00000000e+00   2.75984049e+00]\n",
        " [  1.00000000e+00   3.75309127e+00]\n",
        " [  0.00000000e+00   0.00000000e+00]\n",
        " [  2.00000000e+00   1.53529870e+00]\n",
        " [  3.00000000e+00   7.85598767e-02]\n",
        " [  1.00000000e+00   2.26149976e+00]\n",
        " [  0.00000000e+00   0.00000000e+00]\n",
        " [  2.00000000e+00   5.13719442e-01]\n",
        " [  3.00000000e+00   8.21994343e-01]\n",
        " [  1.00000000e+00   2.22931926e+00]\n",
        " [  0.00000000e+00   0.00000000e+00]\n",
        " [  2.00000000e+00   0.00000000e+00]\n",
        " [  3.00000000e+00   5.81447838e-02]\n",
        " [  1.00000000e+00   1.02701998e+01]\n",
        " [  0.00000000e+00   0.00000000e+00]\n",
        " [  2.00000000e+00   1.55497539e+00]\n",
        " [  3.00000000e+00   2.51854624e-01]\n",
        " [  1.00000000e+00   1.65677145e+01]\n",
        " [  0.00000000e+00   0.00000000e+00]\n",
        " [  2.00000000e+00   2.12341156e+00]\n",
        " [  3.00000000e+00   4.32984211e+00]\n",
        " [  1.00000000e+00   3.78044203e+00]\n",
        " [  0.00000000e+00   0.00000000e+00]\n",
        " [  2.00000000e+00   3.08750534e-02]\n",
        " [  3.00000000e+00   5.84877634e-01]\n",
        " [  1.00000000e+00   1.10686789e+01]\n",
        " [  0.00000000e+00   0.00000000e+00]\n",
        " [  2.00000000e+00   4.60784994e+00]\n",
        " [  3.00000000e+00   6.80338530e-04]\n",
        " [  1.00000000e+00   3.07789759e+01]\n",
        " [  0.00000000e+00   0.00000000e+00]\n",
        " [  2.00000000e+00   1.20617285e+00]\n",
        " [  3.00000000e+00   1.63150586e+00]\n",
        " [  1.00000000e+00   7.39759766e+00]\n",
        " [  0.00000000e+00   0.00000000e+00]\n",
        " [  2.00000000e+00   6.34644969e-01]\n",
        " [  3.00000000e+00   6.08652834e+00]\n",
        " [  1.00000000e+00   3.28169056e+01]\n",
        " [  0.00000000e+00   0.00000000e+00]\n",
        " [  2.00000000e+00   5.24227302e-02]\n",
        " [  3.00000000e+00   1.44876963e+00]\n",
        " [  1.00000000e+00   9.49325635e+00]\n",
        " [  0.00000000e+00   0.00000000e+00]\n",
        " [  2.00000000e+00   8.32524990e-01]\n",
        " [  3.00000000e+00   7.71496689e-01]\n",
        " [  1.00000000e+00   1.09560006e+01]\n",
        " [  0.00000000e+00   0.00000000e+00]\n",
        " [  2.00000000e+00   1.84633892e+00]\n",
        " [  3.00000000e+00   1.70901393e+00]\n",
        " [  1.00000000e+00   5.09105156e+00]\n",
        " [  0.00000000e+00   0.00000000e+00]\n",
        " [  2.00000000e+00   8.25862062e-01]\n",
        " [  3.00000000e+00   0.00000000e+00]\n",
        " [  1.00000000e+00   3.18637113e+00]\n",
        " [  0.00000000e+00   0.00000000e+00]\n",
        " [  2.00000000e+00   2.97495073e+00]\n",
        " [  3.00000000e+00   1.29842138e+01]\n",
        " [  1.00000000e+00   2.41558032e+00]\n",
        " [  0.00000000e+00   0.00000000e+00]\n",
        " [  2.00000000e+00   2.26262560e+00]\n",
        " [  3.00000000e+00   3.29085724e-01]\n",
        " [  1.00000000e+00   2.66093854e+01]\n",
        " [  0.00000000e+00   0.00000000e+00]\n",
        " [  2.00000000e+00   8.94572691e-01]]\n",
        "step 3: show the result...\n"
       ]
      },
      {
       "metadata": {},
       "output_type": "display_data",
       "png": "[encoded data removed]",
       "text": [
        "<matplotlib.figure.Figure at 0xbbc0f28>"
       ]
      }
     ],
     "prompt_number": 4
    },
    {
     "cell_type": "code",
     "collapsed": false,
     "input": [
      "X.shape"
     ],
     "language": "python",
     "metadata": {},
     "outputs": [
      {
       "metadata": {},
       "output_type": "pyout",
       "prompt_number": 39,
       "text": [
        "(100L, 529200L)"
       ]
      }
     ],
     "prompt_number": 39
    },
    {
     "cell_type": "code",
     "collapsed": false,
     "input": [
      "int(3.9)"
     ],
     "language": "python",
     "metadata": {},
     "outputs": [
      {
       "metadata": {},
       "output_type": "pyout",
       "prompt_number": 42,
       "text": [
        "3"
       ]
      }
     ],
     "prompt_number": 42
    },
    {
     "cell_type": "code",
     "collapsed": false,
     "input": [
      "centroids = zeros((5, 529200))\n",
      "centroids[0, :] = X[37, :] \n",
      "print centroids"
     ],
     "language": "python",
     "metadata": {},
     "outputs": [
      {
       "output_type": "stream",
       "stream": "stdout",
       "text": [
        "[[ 0.58996582  0.44070435  0.2868042  ...,  0.17520142  0.16308594\n",
        "   0.11712646]\n",
        " [ 0.          0.          0.         ...,  0.          0.          0.        ]\n",
        " [ 0.          0.          0.         ...,  0.          0.          0.        ]\n",
        " [ 0.          0.          0.         ...,  0.          0.          0.        ]\n",
        " [ 0.          0.          0.         ...,  0.          0.          0.        ]]\n"
       ]
      }
     ],
     "prompt_number": 49
    },
    {
     "cell_type": "code",
     "collapsed": false,
     "input": [
      "initCentroids(X, 5)"
     ],
     "language": "python",
     "metadata": {},
     "outputs": [
      {
       "metadata": {},
       "output_type": "pyout",
       "prompt_number": 56,
       "text": [
        "array([[-0.21569824, -0.14398193, -0.05163574, ...,  0.21252441,\n",
        "         0.13821411,  0.10012817],\n",
        "       [-0.58572388, -0.58605957, -0.53482056, ..., -0.47174072,\n",
        "        -0.51119995, -0.45553589],\n",
        "       [-0.29236732, -0.34800256, -0.38908048, ...,  0.09640797,\n",
        "         0.09582812,  0.09506516],\n",
        "       [-0.06587854, -0.06416295, -0.06307121, ..., -0.19211454,\n",
        "        -0.22667582, -0.25424998],\n",
        "       [ 0.13826983,  0.13991305,  0.14559584, ...,  0.30536442,\n",
        "         0.24911848,  0.18013762]])"
       ]
      }
     ],
     "prompt_number": 56
    },
    {
     "cell_type": "code",
     "collapsed": false,
     "input": [
      "centroids = initCentroids(X, 5)  \n",
      "print centroids[0, :]"
     ],
     "language": "python",
     "metadata": {},
     "outputs": [
      {
       "output_type": "stream",
       "stream": "stdout",
       "text": [
        "[-0.10144043 -0.215271   -0.33810425 ..., -0.22601318 -0.23654175\n",
        " -0.2361145 ]\n"
       ]
      }
     ],
     "prompt_number": 60
    },
    {
     "cell_type": "code",
     "collapsed": false,
     "input": [
      "a = array([[1,2,3],[2,2,4]])\n",
      "print a"
     ],
     "language": "python",
     "metadata": {},
     "outputs": [
      {
       "output_type": "stream",
       "stream": "stdout",
       "text": [
        "[[1 2 3]\n",
        " [2 2 4]]\n"
       ]
      }
     ],
     "prompt_number": 79
    },
    {
     "cell_type": "code",
     "collapsed": false,
     "input": [
      "a[:, 1]"
     ],
     "language": "python",
     "metadata": {},
     "outputs": [
      {
       "metadata": {},
       "output_type": "pyout",
       "prompt_number": 78,
       "text": [
        "array([2, 2])"
       ]
      }
     ],
     "prompt_number": 78
    },
    {
     "cell_type": "code",
     "collapsed": false,
     "input": [
      "from sklearn import cluster, datasets"
     ],
     "language": "python",
     "metadata": {},
     "outputs": [],
     "prompt_number": 5
    },
    {
     "cell_type": "code",
     "collapsed": false,
     "input": [
      "k_means = cluster.KMeans(4)\n",
      "k_means.fit(dataSet)\n",
      "x = k_means.labels_\n",
      "y = k_means.cluster_centers_\n",
      "print x , y, len(x)"
     ],
     "language": "python",
     "metadata": {},
     "outputs": [
      {
       "output_type": "stream",
       "stream": "stdout",
       "text": [
        "[3 1 0 2 3 1 0 2 3 1 0 2 3 1 0 2 3 1 0 2 3 1 0 2 3 1 0 2 3 1 0 2 3 1 0 2 3\n",
        " 1 0 2 3 1 0 2 3 1 0 2 3 1 0 2 3 1 0 2 3 1 0 2 3 1 0 2 3 1 0 2 3 1 0 2 3 1\n",
        " 0 2 3 1 0 2] [[ 2.80293085 -2.7315146 ]\n",
        " [-2.46154315  2.78737555]\n",
        " [-3.38237045 -2.9473363 ]\n",
        " [ 2.6265299   3.10868015]] 80\n"
       ]
      }
     ],
     "prompt_number": 7
    },
    {
     "cell_type": "code",
     "collapsed": false,
     "input": [],
     "language": "python",
     "metadata": {},
     "outputs": []
    }
   ],
   "metadata": {}
  }
 ]
}