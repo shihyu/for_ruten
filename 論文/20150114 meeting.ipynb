{
 "metadata": {
  "name": "",
  "signature": "sha256:dad17c0c80cdb33d55f80a44825555834611df06f1633bd79c508593a634292d"
 },
 "nbformat": 3,
 "nbformat_minor": 0,
 "worksheets": [
  {
   "cells": [
    {
     "cell_type": "code",
     "collapsed": false,
     "input": [
      "from scipy.io import wavfile\n",
      "%pylab inline"
     ],
     "language": "python",
     "metadata": {},
     "outputs": [
      {
       "output_type": "stream",
       "stream": "stdout",
       "text": [
        "Populating the interactive namespace from numpy and matplotlib\n"
       ]
      }
     ],
     "prompt_number": 1
    },
    {
     "cell_type": "code",
     "collapsed": false,
     "input": [
      "[fs, x] = wavfile.read('C:\\Users\\User\\Documents\\IPython Notebooks\\cutewoman.wav')"
     ],
     "language": "python",
     "metadata": {},
     "outputs": [
      {
       "output_type": "stream",
       "stream": "stderr",
       "text": [
        "C:\\Users\\User\\Anaconda\\lib\\site-packages\\scipy\\io\\wavfile.py:42: WavFileWarning: Unknown wave file format\n",
        "  warnings.warn(\"Unknown wave file format\", WavFileWarning)\n"
       ]
      }
     ],
     "prompt_number": 2
    },
    {
     "cell_type": "code",
     "collapsed": false,
     "input": [
      "for i in range(104255,104425):\n",
      "    print x[i], fs"
     ],
     "language": "python",
     "metadata": {},
     "outputs": [
      {
       "output_type": "stream",
       "stream": "stdout",
       "text": [
        "[-5656 -3815] 44100\n",
        "[-5100 -3293] 44100\n",
        "[-5355 -3574] 44100\n",
        "[-4022 -2299] 44100\n",
        "[-2499  -899] 44100\n",
        "[-2713 -1336] 44100\n",
        "[-4302 -3259] 44100\n",
        "[-6201 -5595] 44100\n",
        "[-7346 -7255] 44100\n",
        "[-6630 -7092] 44100\n",
        "[-3136 -4143] 44100\n",
        "[ 694 -805] 44100\n",
        "[2493  590] 44100\n",
        "[3517 1321] 44100\n",
        "[4551 2178] 44100\n",
        "[5081 2639] 44100\n",
        "[4134 1711] 44100\n",
        "[2095 -247] 44100\n",
        "[  715 -1511] 44100\n",
        "[1478 -622] 44100\n",
        "[3302 1314] 44100\n",
        "[3194 1288] 44100\n",
        "[2774  899] 44100\n",
        "[2765  858] 44100\n",
        "[  631 -1387] 44100\n",
        "[-1811 -4034] 44100\n",
        "[-2988 -5520] 44100\n",
        "[-3699 -6647] 44100\n",
        "[-4327 -7786] 44100\n",
        "[ -6143 -10184] 44100\n",
        "[ -7999 -12656] 44100\n",
        "[ -7395 -12650] 44100\n",
        "[ -5236 -11017] 44100\n",
        "[-1651 -7832] 44100\n",
        "[ 3331 -3083] 44100\n",
        "[7844 1383] 44100\n",
        "[11196  4868] 44100\n",
        "[12097  6053] 44100\n",
        "[11150  5484] 44100\n",
        "[9133 3874] 44100\n",
        "[6576 1685] 44100\n",
        "[4735  114] 44100\n",
        "[ 2501 -1983] 44100\n",
        "[ 1628 -2867] 44100\n",
        "[  760 -3870] 44100\n",
        "[ -166 -5015] 44100\n",
        "[  905 -4194] 44100\n",
        "[-1550 -6872] 44100\n",
        "[-2794 -8271] 44100\n",
        "[  407 -5135] 44100\n",
        "[ 1227 -4293] 44100\n",
        "[  807 -4637] 44100\n",
        "[ -137 -5500] 44100\n",
        "[ -328 -5663] 44100\n",
        "[  572 -4836] 44100\n",
        "[ -225 -5840] 44100\n",
        "[ -396 -6351] 44100\n",
        "[ 1496 -4902] 44100\n",
        "[ 3469 -3417] 44100\n",
        "[ 2676 -4664] 44100\n",
        "[ 1626 -6047] 44100\n",
        "[ 3466 -4349] 44100\n",
        "[ 5261 -2455] 44100\n",
        "[ 5800 -1561] 44100\n",
        "[5782 -992] 44100\n",
        "[5429 -583] 44100\n",
        "[4409 -752] 44100\n",
        "[4325   14] 44100\n",
        "[5868 2314] 44100\n",
        "[6447 3488] 44100\n",
        "[6437 3873] 44100\n",
        "[6109 3736] 44100\n",
        "[4918 2568] 44100\n",
        "[3402  967] 44100\n",
        "[2688  138] 44100\n",
        "[2656   45] 44100\n",
        "[ 1521 -1028] 44100\n",
        "[1595 -711] 44100\n",
        "[3119 1254] 44100\n",
        "[3036 1811] 44100\n",
        "[1367  939] 44100\n",
        "[-1256  -781] 44100\n",
        "[-3214 -1803] 44100\n",
        "[-4099 -1791] 44100\n",
        "[-4627 -1533] 44100\n",
        "[-4047  -330] 44100\n",
        "[-3437   701] 44100\n",
        "[-5152  -811] 44100\n",
        "[-9152 -4816] 44100\n",
        "[-12734  -8585] 44100\n",
        "[-13013  -9188] 44100\n",
        "[-9741 -6326] 44100\n",
        "[-5916 -2935] 44100\n",
        "[-2383   191] 44100\n",
        "[1215 3455] 44100\n",
        "[1497 3504] 44100\n",
        "[-1296   587] 44100\n",
        "[-3340 -1487] 44100\n",
        "[-5130 -3241] 44100\n",
        "[-8206 -6267] 44100\n",
        "[-10389  -8439] 44100\n",
        "[-9519 -7650] 44100\n",
        "[-8065 -6415] 44100\n",
        "[-8204 -6931] 44100\n",
        "[-7911 -7176] 44100\n",
        "[-5037 -4973] 44100\n",
        "[ -724 -1415] 44100\n",
        "[2035  573] 44100\n",
        "[3509 1330] 44100\n",
        "[5796 3025] 44100\n",
        "[7815 4629] 44100\n",
        "[7862 4468] 44100\n",
        "[6617 3221] 44100\n",
        "[5806 2596] 44100\n",
        "[6417 3529] 44100\n",
        "[7585 5099] 44100\n",
        "[7982 5919] 44100\n",
        "[6814 5144] 44100\n",
        "[5057 3718] 44100\n",
        "[5352 4264] 44100\n",
        "[5857 4954] 44100\n",
        "[5020 4255] 44100\n",
        "[4998 4357] 44100\n",
        "[4698 4201] 44100\n",
        "[4502 4188] 44100\n",
        "[4761 4683] 44100\n",
        "[4451 4654] 44100\n",
        "[5012 5522] 44100\n",
        "[5450 6265] 44100\n",
        "[5845 6934] 44100\n",
        "[5848 7156] 44100\n",
        "[4156 5618] 44100\n",
        "[3564 5116] 44100\n",
        "[5081 6674] 44100\n",
        "[7655 9263] 44100\n",
        "[ 9427 11050] 44100\n",
        "[ 9142 10794] 44100\n",
        "[7961 9665] 44100\n",
        "[6537 8305] 44100\n",
        "[5425 7246]"
       ]
      },
      {
       "output_type": "stream",
       "stream": "stdout",
       "text": [
        " 44100\n",
        "[4767 6595] 44100\n",
        "[4364 6116] 44100\n",
        "[3923 5485] 44100\n",
        "[2851 4092] 44100\n",
        "[ 928 1718] 44100\n",
        "[-1502 -1271] 44100\n",
        "[-2711 -3106] 44100\n",
        "[-1461 -2495] 44100\n",
        "[1712   84] 44100\n",
        "[5919 3791] 44100\n",
        "[9510 7019] 44100\n",
        "[11418  8718] 44100\n",
        "[12117  9363] 44100\n",
        "[10692  8021] 44100\n",
        "[8904 6422] 44100\n",
        "[9222 7002] 44100\n",
        "[8504 6586] 44100\n",
        "[6700 5107] 44100\n",
        "[6849 5590] 44100\n",
        "[7961 7051] 44100\n",
        "[7167 6633] 44100\n",
        "[5184 5063] 44100\n",
        "[4534 4873] 44100\n",
        "[3325 4167] 44100\n",
        "[ 644 2017] 44100\n",
        "[-1010   891] 44100\n",
        "[-209 2175] 44100\n",
        "[ 714 3497] 44100\n",
        "[1170 4226] 44100\n",
        "[2102 5283] 44100\n"
       ]
      }
     ],
     "prompt_number": 3
    },
    {
     "cell_type": "code",
     "collapsed": false,
     "input": [
      "len(x)"
     ],
     "language": "python",
     "metadata": {},
     "outputs": [
      {
       "metadata": {},
       "output_type": "pyout",
       "prompt_number": 4,
       "text": [
        "10537391"
       ]
      }
     ],
     "prompt_number": 4
    },
    {
     "cell_type": "code",
     "collapsed": false,
     "input": [
      "type(fs)"
     ],
     "language": "python",
     "metadata": {},
     "outputs": [
      {
       "metadata": {},
       "output_type": "pyout",
       "prompt_number": 5,
       "text": [
        "int"
       ]
      }
     ],
     "prompt_number": 5
    },
    {
     "cell_type": "markdown",
     "metadata": {},
     "source": [
      "python \u8b80MP3"
     ]
    },
    {
     "cell_type": "code",
     "collapsed": false,
     "input": [
      "x[104225]"
     ],
     "language": "python",
     "metadata": {},
     "outputs": [
      {
       "metadata": {},
       "output_type": "pyout",
       "prompt_number": 6,
       "text": [
        "array([-7583, -1739], dtype=int16)"
       ]
      }
     ],
     "prompt_number": 6
    },
    {
     "cell_type": "code",
     "collapsed": false,
     "input": [
      "x[104225][0]"
     ],
     "language": "python",
     "metadata": {},
     "outputs": [
      {
       "metadata": {},
       "output_type": "pyout",
       "prompt_number": 7,
       "text": [
        "-7583"
       ]
      }
     ],
     "prompt_number": 7
    },
    {
     "cell_type": "code",
     "collapsed": false,
     "input": [
      "x[104225][1]"
     ],
     "language": "python",
     "metadata": {},
     "outputs": [
      {
       "metadata": {},
       "output_type": "pyout",
       "prompt_number": 8,
       "text": [
        "-1739"
       ]
      }
     ],
     "prompt_number": 8
    },
    {
     "cell_type": "code",
     "collapsed": false,
     "input": [
      "L = list()\n",
      "R = list()"
     ],
     "language": "python",
     "metadata": {},
     "outputs": [],
     "prompt_number": 10
    },
    {
     "cell_type": "code",
     "collapsed": false,
     "input": [
      "for i in range(20255,40255):\n",
      "    L.append(x[i][0])\n",
      "    R.append(x[i][1])\n"
     ],
     "language": "python",
     "metadata": {},
     "outputs": [],
     "prompt_number": 11
    },
    {
     "cell_type": "code",
     "collapsed": false,
     "input": [
      "print L"
     ],
     "language": "python",
     "metadata": {},
     "outputs": [
      {
       "output_type": "stream",
       "stream": "stdout",
       "text": [
        "[-5656, -5100, -5355, -4022, -2499, -2713, -4302, -6201, -7346, -6630, -3136, 694, 2493, 3517, 4551, 5081, 4134, 2095, 715, 1478, 3302, 3194, 2774, 2765, 631, -1811, -2988, -3699, -4327, -6143, -7999, -7395, -5236, -1651, 3331, 7844, 11196, 12097, 11150, 9133, 6576, 4735, 2501, 1628, 760, -166, 905, -1550, -2794, 407, 1227, 807, -137, -328, 572, -225, -396, 1496, 3469, 2676, 1626, 3466, 5261, 5800, 5782, 5429, 4409, 4325, 5868, 6447, 6437, 6109, 4918, 3402, 2688, 2656, 1521, 1595, 3119, 3036, 1367, -1256, -3214, -4099, -4627, -4047, -3437, -5152, -9152, -12734, -13013, -9741, -5916, -2383, 1215, 1497, -1296, -3340, -5130, -8206, -10389, -9519, -8065, -8204, -7911, -5037, -724, 2035, 3509, 5796, 7815, 7862, 6617, 5806, 6417, 7585, 7982, 6814, 5057, 5352, 5857, 5020, 4998, 4698, 4502, 4761, 4451, 5012, 5450, 5845, 5848, 4156, 3564, 5081, 7655, 9427, 9142, 7961, 6537, 5425, 4767, 4364, 3923, 2851, 928, -1502, -2711, -1461, 1712, 5919, 9510, 11418, 12117, 10692, 8904, 9222, 8504, 6700, 6849, 7961, 7167, 5184, 4534, 3325, 644, -1010, -209, 714, 1170, 2102]\n"
       ]
      }
     ],
     "prompt_number": 11
    },
    {
     "cell_type": "code",
     "collapsed": false,
     "input": [
      "len(L)"
     ],
     "language": "python",
     "metadata": {},
     "outputs": [
      {
       "metadata": {},
       "output_type": "pyout",
       "prompt_number": 12,
       "text": [
        "20000"
       ]
      }
     ],
     "prompt_number": 12
    },
    {
     "cell_type": "code",
     "collapsed": true,
     "input": [
      "type(L)"
     ],
     "language": "python",
     "metadata": {},
     "outputs": [
      {
       "metadata": {},
       "output_type": "pyout",
       "prompt_number": 7,
       "text": [
        "list"
       ]
      }
     ],
     "prompt_number": 7
    },
    {
     "cell_type": "code",
     "collapsed": false,
     "input": [
      "plot(L,'b',R,'r')"
     ],
     "language": "python",
     "metadata": {},
     "outputs": [
      {
       "metadata": {},
       "output_type": "pyout",
       "prompt_number": 13,
       "text": [
        "[<matplotlib.lines.Line2D at 0x105a31d0>,\n",
        " <matplotlib.lines.Line2D at 0x105a3400>]"
       ]
      },
      {
       "metadata": {},
       "output_type": "display_data",
       "png": "[encoded data removed]",
       "text": [
        "<matplotlib.figure.Figure at 0xfa382b0>"
       ]
      }
     ],
     "prompt_number": 13
    },
    {
     "cell_type": "code",
     "collapsed": false,
     "input": [],
     "language": "python",
     "metadata": {},
     "outputs": []
    }
   ],
   "metadata": {}
  }
 ]
}