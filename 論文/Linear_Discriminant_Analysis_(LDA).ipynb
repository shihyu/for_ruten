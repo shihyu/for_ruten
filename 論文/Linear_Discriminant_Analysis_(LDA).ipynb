{
 "metadata": {
  "name": "",
  "signature": "sha256:485880ab0f61f799f2257ac8f0a1bda7ce8b8c2e6a0804094da93ea439d67214"
 },
 "nbformat": 3,
 "nbformat_minor": 0,
 "worksheets": [
  {
   "cells": [
    {
     "cell_type": "code",
     "collapsed": false,
     "input": [
      "%pylab inline"
     ],
     "language": "python",
     "metadata": {},
     "outputs": [
      {
       "output_type": "stream",
       "stream": "stdout",
       "text": [
        "Populating the interactive namespace from numpy and matplotlib\n"
       ]
      }
     ],
     "prompt_number": 1
    },
    {
     "cell_type": "code",
     "collapsed": false,
     "input": [
      "feature_dict = {i:label for i,label in zip(\n",
      "                range(4),\n",
      "                ('sepal length in cm',\n",
      "                'sepal width in cm',\n",
      "                'petal length in cm',\n",
      "                'petal width in cm'))}"
     ],
     "language": "python",
     "metadata": {},
     "outputs": [],
     "prompt_number": 2
    },
    {
     "cell_type": "markdown",
     "metadata": {},
     "source": [
      "# Reading in the dataset"
     ]
    },
    {
     "cell_type": "code",
     "collapsed": false,
     "input": [
      "import pandas as pd\n",
      "\n",
      "df = pd.io.parsers.read_csv(\n",
      "    filepath_or_buffer='https://archive.ics.uci.edu/ml/machine-learning-databases/iris/iris.data',\n",
      "    header=None,\n",
      "    sep=',',\n",
      "    )\n",
      "df.columns = [l for i,l in sorted(feature_dict.items())] + ['class label']\n",
      "df.dropna(how=\"all\", inplace=True) # to drop the empty line at file-end\n",
      "\n",
      "df.tail()"
     ],
     "language": "python",
     "metadata": {},
     "outputs": [
      {
       "html": [
        "<div style=\"max-height:1000px;max-width:1500px;overflow:auto;\">\n",
        "<table border=\"1\" class=\"dataframe\">\n",
        "  <thead>\n",
        "    <tr style=\"text-align: right;\">\n",
        "      <th></th>\n",
        "      <th>sepal length in cm</th>\n",
        "      <th>sepal width in cm</th>\n",
        "      <th>petal length in cm</th>\n",
        "      <th>petal width in cm</th>\n",
        "      <th>class label</th>\n",
        "    </tr>\n",
        "  </thead>\n",
        "  <tbody>\n",
        "    <tr>\n",
        "      <th>145</th>\n",
        "      <td> 6.7</td>\n",
        "      <td> 3.0</td>\n",
        "      <td> 5.2</td>\n",
        "      <td> 2.3</td>\n",
        "      <td> Iris-virginica</td>\n",
        "    </tr>\n",
        "    <tr>\n",
        "      <th>146</th>\n",
        "      <td> 6.3</td>\n",
        "      <td> 2.5</td>\n",
        "      <td> 5.0</td>\n",
        "      <td> 1.9</td>\n",
        "      <td> Iris-virginica</td>\n",
        "    </tr>\n",
        "    <tr>\n",
        "      <th>147</th>\n",
        "      <td> 6.5</td>\n",
        "      <td> 3.0</td>\n",
        "      <td> 5.2</td>\n",
        "      <td> 2.0</td>\n",
        "      <td> Iris-virginica</td>\n",
        "    </tr>\n",
        "    <tr>\n",
        "      <th>148</th>\n",
        "      <td> 6.2</td>\n",
        "      <td> 3.4</td>\n",
        "      <td> 5.4</td>\n",
        "      <td> 2.3</td>\n",
        "      <td> Iris-virginica</td>\n",
        "    </tr>\n",
        "    <tr>\n",
        "      <th>149</th>\n",
        "      <td> 5.9</td>\n",
        "      <td> 3.0</td>\n",
        "      <td> 5.1</td>\n",
        "      <td> 1.8</td>\n",
        "      <td> Iris-virginica</td>\n",
        "    </tr>\n",
        "  </tbody>\n",
        "</table>\n",
        "</div>"
       ],
       "metadata": {},
       "output_type": "pyout",
       "prompt_number": 3,
       "text": [
        "     sepal length in cm  sepal width in cm  petal length in cm  \\\n",
        "145                 6.7                3.0                 5.2   \n",
        "146                 6.3                2.5                 5.0   \n",
        "147                 6.5                3.0                 5.2   \n",
        "148                 6.2                3.4                 5.4   \n",
        "149                 5.9                3.0                 5.1   \n",
        "\n",
        "     petal width in cm     class label  \n",
        "145                2.3  Iris-virginica  \n",
        "146                1.9  Iris-virginica  \n",
        "147                2.0  Iris-virginica  \n",
        "148                2.3  Iris-virginica  \n",
        "149                1.8  Iris-virginica  "
       ]
      }
     ],
     "prompt_number": 3
    },
    {
     "cell_type": "markdown",
     "metadata": {},
     "source": [
      "# \u4f7f\u7528\u5957\u4ef6scikit-learn\u4e2d\u7684LabelEncode\uff0c\u5c07class labels\u8f49\u70ba1, 2, 3\n",
      "\n",
      "$\n",
      "X=\n",
      "    \\left [\n",
      "    \\begin{array}{cccc}\n",
      "    x_{1_{sepal length}} & x_{1_{sepal width}} & x_{1_{petal length}} & x_{1_{petal width}} \\\\\n",
      "    x_{2_{sepal length}} & x_{2_{sepal width}} & x_{2_{petal length}} & x_{2_{petal width}} \\\\\n",
      "    ... \\\\\n",
      "    x_{150_{sepal length}} & x_{150_{sepal width}} & x_{150_{petal length}} & x_{150_{petal width}} \\\\\n",
      "    \\end{array}\n",
      "    \\right ] \\\\ \\\\\n",
      "$\n",
      "    ,\n",
      "$\n",
      "y=\n",
      "    \\left [\n",
      "    \\begin{array}{c}\n",
      "    \\omega_{setosa} \\\\\n",
      "    \\omega_{setosa} \\\\\n",
      "    ... \\\\\n",
      "    \\omega_{virginica} \\\\\n",
      "    \\end{array}\n",
      "    \\right ]\n",
      "$"
     ]
    },
    {
     "cell_type": "markdown",
     "metadata": {},
     "source": [
      "$\n",
      "y=\n",
      "    \\left [\n",
      "    \\begin{array}{c}\n",
      "    setosa \\\\\n",
      "    setosa \\\\\n",
      "    \\cdots \\\\\n",
      "    virginica \\\\\n",
      "    \\end{array}\n",
      "    \\right ] $$\\Rightarrow$$\n",
      "    \\left [\n",
      "    \\begin{array}{c}\n",
      "    1 \\\\\n",
      "    1 \\\\\n",
      "    \\cdots \\\\\n",
      "    3 \\\\\n",
      "    \\end{array}\n",
      "    \\right ]\n",
      "$"
     ]
    },
    {
     "cell_type": "code",
     "collapsed": false,
     "input": [
      "from sklearn.preprocessing import LabelEncoder\n",
      "\n",
      "X = df[[0,1,2,3]].values\n",
      "y = df['class label'].values\n",
      "\n",
      "enc = LabelEncoder()\n",
      "label_encoder = enc.fit(y)\n",
      "y = label_encoder.transform(y) + 1\n",
      "\n",
      "label_dict = {1: 'Setosa', 2: 'Versicolor', 3: 'Virginica'}"
     ],
     "language": "python",
     "metadata": {},
     "outputs": [],
     "prompt_number": 4
    },
    {
     "cell_type": "markdown",
     "metadata": {},
     "source": [
      "# \u76f4\u65b9\u5716\u8207\u7279\u5fb5\u9078\u53d6"
     ]
    },
    {
     "cell_type": "code",
     "collapsed": false,
     "input": [
      "from matplotlib import pyplot as plt\n",
      "import numpy as np\n",
      "import math\n",
      "%matplotlib inline\n",
      "\n",
      "fig, axes = plt.subplots(nrows=2, ncols=2, figsize=(12,6))\n",
      "\n",
      "for ax,cnt in zip(axes.ravel(), range(4)):\n",
      "\n",
      "    # set bin sizes\n",
      "    min_b = math.floor(np.min(X[:,cnt]))\n",
      "    max_b = math.ceil(np.max(X[:,cnt]))\n",
      "    bins = np.linspace(min_b, max_b, 25)\n",
      "\n",
      "    # plottling the histograms\n",
      "    for lab,col in zip(range(1,4), ('blue', 'red', 'green')):\n",
      "        ax.hist(X[y==lab, cnt],\n",
      "                   color=col,\n",
      "                   label='class %s' %label_dict[lab],\n",
      "                   bins=bins,\n",
      "                   alpha=0.5,)\n",
      "    ylims = ax.get_ylim()\n",
      "\n",
      "    # plot annotation\n",
      "    leg = ax.legend(loc='upper right', fancybox=True, fontsize=8)\n",
      "    leg.get_frame().set_alpha(0.5)\n",
      "    ax.set_ylim([0, max(ylims)+2])\n",
      "    ax.set_xlabel(feature_dict[cnt])\n",
      "    ax.set_title('Iris histogram #%s' %str(cnt+1))\n",
      "\n",
      "    # hide axis ticks\n",
      "    ax.tick_params(axis=\"both\", which=\"both\", bottom=\"off\", top=\"off\",\n",
      "            labelbottom=\"on\", left=\"off\", right=\"off\", labelleft=\"on\")\n",
      "\n",
      "    # remove axis spines\n",
      "    ax.spines[\"top\"].set_visible(False)\n",
      "    ax.spines[\"right\"].set_visible(False)\n",
      "    ax.spines[\"bottom\"].set_visible(False)\n",
      "    ax.spines[\"left\"].set_visible(False)\n",
      "\n",
      "axes[0][0].set_ylabel('count')\n",
      "axes[1][0].set_ylabel('count')\n",
      "\n",
      "fig.tight_layout()\n",
      "\n",
      "plt.show()"
     ],
     "language": "python",
     "metadata": {},
     "outputs": [
      {
       "metadata": {},
       "output_type": "display_data",
       "png": "[encoded data removed]",
       "text": [
        "<matplotlib.figure.Figure at 0x987e5c0>"
       ]
      }
     ],
     "prompt_number": 5
    },
    {
     "cell_type": "markdown",
     "metadata": {},
     "source": [
      "# \u9810\u8655\u7406\n",
      "\n",
      "### Standardization\uff1a\u7e2e\u653e\u81f3[0,1]\u5340\u9593\u5167\uff0c\u4f7f\u5176\u6709\u6a19\u6e96\u5e38\u614b\u5206\u4f48 $\\mu = 0, \\sigma = 1$"
     ]
    },
    {
     "cell_type": "code",
     "collapsed": false,
     "input": [
      "from sklearn import preprocessing\n",
      "a = preprocessing.scale(X, axis=0, with_mean=True, with_std=True, copy=False)"
     ],
     "language": "python",
     "metadata": {},
     "outputs": [],
     "prompt_number": 6
    },
    {
     "cell_type": "code",
     "collapsed": false,
     "input": [
      "mean(a), std(a)"
     ],
     "language": "python",
     "metadata": {},
     "outputs": [
      {
       "metadata": {},
       "output_type": "pyout",
       "prompt_number": 7,
       "text": [
        "(-2.4868995751603509e-16, 1.0)"
       ]
      }
     ],
     "prompt_number": 7
    },
    {
     "cell_type": "markdown",
     "metadata": {},
     "source": [
      "# LDA in 5 steps\n",
      "\n",
      "# <font color=\"red\">Step 1:Computing the d-dimensional mean vector<font>\n",
      "\n",
      "### \u5f97\u5230\u4e09\u7a2e\u985e\u82b1\uff0c\u5404\u7279\u5fb5\u7684mean\u503c"
     ]
    },
    {
     "cell_type": "markdown",
     "metadata": {},
     "source": [
      "$\n",
      "m_{i}=\n",
      "    \\left [\n",
      "    \\begin{array}{c}\n",
      "    \\mu_{\\omega_{i}(sepal length)} \\\\\n",
      "    \\mu_{\\omega_{i}(sepal width)} \\\\\n",
      "    \\mu_{\\omega_{i}(petal length)} \\\\\n",
      "    \\mu_{\\omega_{i}(petal width)} \\\\\n",
      "    \\end{array}\n",
      "    \\right ]\n",
      "$, with $i = 1,2,3$"
     ]
    },
    {
     "cell_type": "code",
     "collapsed": false,
     "input": [
      "np.set_printoptions(precision=4)\n",
      "\n",
      "mean_vectors = []\n",
      "for cl in range(1,4):\n",
      "    mean_vectors.append(np.mean(X[y==cl], axis=0))\n",
      "    print 'Mean Vector class %s: %s\\n' %(cl, mean_vectors[cl-1])"
     ],
     "language": "python",
     "metadata": {},
     "outputs": [
      {
       "output_type": "stream",
       "stream": "stdout",
       "text": [
        "Mean Vector class 1: [-1.0146  0.8423 -1.3049 -1.2551]\n",
        "\n",
        "Mean Vector class 2: [ 0.1123 -0.6572  0.2851  0.1674]\n",
        "\n",
        "Mean Vector class 3: [ 0.9023 -0.1851  1.0198  1.0877]\n",
        "\n"
       ]
      }
     ],
     "prompt_number": 8
    },
    {
     "cell_type": "markdown",
     "metadata": {},
     "source": [
      "# <font color=\"red\">Step 2:Computing the Scatter Matrices<font>\n",
      "\n",
      "#### Scatter Matrices\u662f\u7528\u4f86\u4f30\u8a08Coveriance Matrices\u3002\n",
      "#### \u800c\u5171\u8b8a\u7570\u6578\u5247\u662f\u4ee3\u8868\u5169\u500b\u8b8a\u91cf\u7684\u8da8\u52e2\u8b8a\u5316\uff0c\u82e5\u70ba\u6b63\u5247\u8b8a\u5316\u8da8\u52e2\u76f8\u540c\uff0c\u53cd\u4e4b\u5247\u76f8\u53cd\u3002"
     ]
    },
    {
     "cell_type": "markdown",
     "metadata": {},
     "source": [
      "## 2.1 Within-class scatter matrix $S_W$"
     ]
    },
    {
     "cell_type": "markdown",
     "metadata": {},
     "source": [
      "$S_W = \\sum\\limits_{i=1}^{c_i}S_i$\n",
      "\n",
      "where\n",
      "\n",
      "$S_i = \\sum\\limits_{x \\in D_i}^{n} (x-m_i)(x-m_i)^T$"
     ]
    },
    {
     "cell_type": "code",
     "collapsed": false,
     "input": [
      "S_W = np.zeros((4,4))\n",
      "for cl,mv in zip(range(1,4), mean_vectors):\n",
      "    class_sc_mat = np.zeros((4,4))\n",
      "    for row in X[y == cl]:\n",
      "        row, mv = row.reshape(4,1), mv.reshape(4,1)\n",
      "        class_sc_mat += (row-mv).dot((row-mv).T)\n",
      "    S_W += class_sc_mat\n",
      "\n",
      "print 'within-class Scatter Matrix:\\n', S_W"
     ],
     "language": "python",
     "metadata": {},
     "outputs": [
      {
       "output_type": "stream",
       "stream": "stdout",
       "text": [
        "within-class Scatter Matrix:\n",
        "[[ 57.1941  38.3652  16.9598   9.0095]\n",
        " [ 38.3652  91.2179  10.685   14.9475]\n",
        " [ 16.9598  10.685    8.8022   4.6754]\n",
        " [  9.0095  14.9475   4.6754  10.6746]]\n"
       ]
      }
     ],
     "prompt_number": 9
    },
    {
     "cell_type": "markdown",
     "metadata": {},
     "source": [
      "## 2.2 Between-class scatter matrix $S_B$\n",
      "\n",
      "$S_B = \\sum\\limits_{i=1}^{C} N_i(m_i-m)(m_i-m)^T$\n",
      "\n",
      "where $m$ is the overall mean, and $m_i$ and $N_i$ are the sample mean and sizes of the respective classes."
     ]
    },
    {
     "cell_type": "code",
     "collapsed": false,
     "input": [
      "overall_mean = np.mean(mean_vectors, axis=0)\n",
      "\n",
      "S_B = np.zeros((4,4))\n",
      "for i,mean_vec in enumerate(mean_vectors):\n",
      "    n = X[y==i+1,:].shape[0]\n",
      "    mean_vec = mean_vec.reshape(4,1)\n",
      "    overall_mean = overall_mean.reshape(4,1)\n",
      "    S_B += n * (mean_vec - overall_mean).dot((mean_vec - overall_mean).T)\n",
      "    \n",
      "print 'between-class Scatter Matrix:\\n',S_B"
     ],
     "language": "python",
     "metadata": {},
     "outputs": [
      {
       "output_type": "stream",
       "stream": "stdout",
       "text": [
        "between-class Scatter Matrix:\n",
        "[[  92.8059  -54.7706  113.8033  113.6835]\n",
        " [ -54.7706   58.7821  -73.7624  -68.4292]\n",
        " [ 113.8033  -73.7624  141.1978  139.7382]\n",
        " [ 113.6835  -68.4292  139.7382  139.3254]]\n"
       ]
      }
     ],
     "prompt_number": 10
    },
    {
     "cell_type": "markdown",
     "metadata": {},
     "source": [
      "# <font color='red'> Step 3: Solving the generalized eigenvalue problem for the matrix ${S_{W}}^{-1}S_B$ <font>"
     ]
    },
    {
     "cell_type": "code",
     "collapsed": false,
     "input": [
      "eig_vals, eig_vecs = np.linalg.eig(np.linalg.inv(S_W).dot(S_B))\n",
      "\n",
      "for i in range(len(eig_vals)):\n",
      "    eigvec_sc = eig_vecs[:,i].reshape(4,1)\n",
      "    print '\\nEigenvector {}: \\n{}'.format(i+1, eigvec_sc.real)\n",
      "    print 'Eigenvalue {:}: {:.2e}'.format(i+1, eig_vals[i].real)"
     ],
     "language": "python",
     "metadata": {},
     "outputs": [
      {
       "output_type": "stream",
       "stream": "stdout",
       "text": [
        "\n",
        "Eigenvector 1: \n",
        "[[-0.1498]\n",
        " [-0.1482]\n",
        " [ 0.8511]\n",
        " [ 0.4808]]\n",
        "Eigenvalue 1: 3.23e+01\n",
        "\n",
        "Eigenvector 2: \n",
        "[[ 0.0095]\n",
        " [ 0.3272]\n",
        " [-0.5748]\n",
        " [ 0.75  ]]\n",
        "Eigenvalue 2: 2.78e-01\n",
        "\n",
        "Eigenvector 3: \n",
        "[[-0.0466]\n",
        " [ 0.1511]\n",
        " [ 0.7319]\n",
        " [-0.6218]]\n",
        "Eigenvalue 3: 6.96e-16\n",
        "\n",
        "Eigenvector 4: \n",
        "[[-0.0466]\n",
        " [ 0.1511]\n",
        " [ 0.7319]\n",
        " [-0.6218]]\n",
        "Eigenvalue 4: 6.96e-16\n"
       ]
      }
     ],
     "prompt_number": 11
    },
    {
     "cell_type": "markdown",
     "metadata": {},
     "source": [
      "### checking the eigenvector-eigenvalue calculation\n",
      "\n",
      "\u6aa2\u67e5\u6709\u7121\u6eff\u8db3\uff1a$Av = \\lambda v$\n",
      "\n",
      "\n",
      "where\n",
      "\n",
      "$\n",
      "A = {S_{W}}^{-1}S_B \\\\ \\\\\n",
      "v = Eigenvector \\\\ \\\\\n",
      "\\lambda = Eigenvalue \\\\ \\\\\n",
      "$"
     ]
    },
    {
     "cell_type": "code",
     "collapsed": false,
     "input": [
      "for i in range(len(eig_vals)):\n",
      "    eigv = eig_vecs[:,i].reshape(4,1)\n",
      "    np.testing.assert_array_almost_equal(np.linalg.inv(S_W).dot(S_B).dot(eigv),\n",
      "                                         eig_vals[i]*eigv,\n",
      "                                         decimal=6, err_msg='', verbose=True)\n",
      "print 'ok'"
     ],
     "language": "python",
     "metadata": {},
     "outputs": [
      {
       "output_type": "stream",
       "stream": "stdout",
       "text": [
        "ok\n"
       ]
      }
     ],
     "prompt_number": 12
    },
    {
     "cell_type": "markdown",
     "metadata": {},
     "source": [
      "# <font color='red'>Step 4: Selecting linear discriminants for the new feature subspace<font>\n",
      "\n",
      "### 4.1. \u5c07eigenvalues\u7531\u9ad8\u6392\u81f3\u4f4e"
     ]
    },
    {
     "cell_type": "code",
     "collapsed": false,
     "input": [
      "# Make a list of (eigenvalue, eigenvector) tuples\n",
      "eig_pairs = [(np.abs(eig_vals[i]),eig_vecs[:,i]) for i in range(len(eig_vals))]\n",
      "\n",
      "# Sort the (eigenvalue, eigenvector) tuples from high to low\n",
      "eig_pairs = sorted(eig_pairs, key=lambda k: k[0], reverse=True)\n",
      "\n",
      "# Visually confirm that the list is correctly sorted by decreasing eigenvalues\n",
      "for i in eig_pairs:\n",
      "    print i[0]"
     ],
     "language": "python",
     "metadata": {},
     "outputs": [
      {
       "output_type": "stream",
       "stream": "stdout",
       "text": [
        "32.2719577997\n",
        "0.27756686384\n",
        "9.40400634421e-16\n",
        "9.40400634421e-16\n"
       ]
      }
     ],
     "prompt_number": 13
    },
    {
     "cell_type": "code",
     "collapsed": false,
     "input": [
      "print 'Variance explained:\\n'\n",
      "eigv_sum = sum(eig_vals)\n",
      "for i,j in enumerate(eig_pairs):\n",
      "    print 'eigenvalue{0:}: {1:.2%}'.format(i+1, (j[0]/eigv_sum).real)"
     ],
     "language": "python",
     "metadata": {},
     "outputs": [
      {
       "output_type": "stream",
       "stream": "stdout",
       "text": [
        "Variance explained:\n",
        "\n",
        "eigenvalue1: 99.15%\n",
        "eigenvalue2: 0.85%\n",
        "eigenvalue3: 0.00%\n",
        "eigenvalue4: 0.00%\n"
       ]
      }
     ],
     "prompt_number": 14
    },
    {
     "cell_type": "markdown",
     "metadata": {},
     "source": [
      "### 4.2. \u9078k\u500b\u6709\u6700\u5927eigenvalues \u7684eigenvectors"
     ]
    },
    {
     "cell_type": "code",
     "collapsed": false,
     "input": [
      "W = np.hstack((eig_pairs[0][1].reshape(4,1), eig_pairs[1][1].reshape(4,1)))\n",
      "print 'Matrix W:\\n', W.real"
     ],
     "language": "python",
     "metadata": {},
     "outputs": [
      {
       "output_type": "stream",
       "stream": "stdout",
       "text": [
        "Matrix W:\n",
        "[[-0.1498  0.0095]\n",
        " [-0.1482  0.3272]\n",
        " [ 0.8511 -0.5748]\n",
        " [ 0.4808  0.75  ]]\n"
       ]
      }
     ],
     "prompt_number": 15
    },
    {
     "cell_type": "markdown",
     "metadata": {},
     "source": [
      "# <font color='red'>Step 5: Transforming the samples onto the new subspace<font>"
     ]
    },
    {
     "cell_type": "code",
     "collapsed": false,
     "input": [
      "X_lda = X.dot(W)\n",
      "assert X_lda.shape == (150,2), \"The matrix is not 2x150 dimensional.\"\n",
      "def plot_step_lda():\n",
      "\n",
      "    ax = plt.subplot(111)\n",
      "    for label,marker,color in zip(\n",
      "        range(1,4),('^', 's', 'o'),('blue', 'red', 'green')):\n",
      "\n",
      "        plt.scatter(x=X_lda[:,0][y == label],\n",
      "                y=X_lda[:,1][y == label],\n",
      "                marker=marker,\n",
      "                color=color,\n",
      "                alpha=0.5,\n",
      "                label=label_dict[label]\n",
      "                )\n",
      "\n",
      "    plt.xlabel('LD1')\n",
      "    plt.ylabel('LD2')\n",
      "\n",
      "    leg = plt.legend(loc='upper right', fancybox=True)\n",
      "    leg.get_frame().set_alpha(0.5)\n",
      "    plt.title('LDA: Iris projection onto the first 2 linear discriminants')\n",
      "\n",
      "    # hide axis ticks\n",
      "    plt.tick_params(axis=\"both\", which=\"both\", bottom=\"off\", top=\"off\",\n",
      "            labelbottom=\"on\", left=\"off\", right=\"off\", labelleft=\"on\")\n",
      "\n",
      "    # remove axis spines\n",
      "    ax.spines[\"top\"].set_visible(False)\n",
      "    ax.spines[\"right\"].set_visible(False)\n",
      "    ax.spines[\"bottom\"].set_visible(False)\n",
      "    ax.spines[\"left\"].set_visible(False)\n",
      "\n",
      "    plt.grid()\n",
      "    plt.tight_layout\n",
      "    plt.show()\n",
      "\n",
      "plot_step_lda()"
     ],
     "language": "python",
     "metadata": {},
     "outputs": [
      {
       "output_type": "stream",
       "stream": "stderr",
       "text": [
        "C:\\Users\\User\\Anaconda\\lib\\site-packages\\numpy\\core\\numeric.py:514: ComplexWarning: Casting complex values to real discards the imaginary part\n",
        "  return array(a, dtype, copy=False, order=order, subok=True)\n"
       ]
      },
      {
       "metadata": {},
       "output_type": "display_data",
       "png": "[encoded data removed]",
       "text": [
        "<matplotlib.figure.Figure at 0x1504fdd8>"
       ]
      }
     ],
     "prompt_number": 16
    },
    {
     "cell_type": "markdown",
     "metadata": {},
     "source": [
      "# PCA v.s. LDA"
     ]
    },
    {
     "cell_type": "code",
     "collapsed": false,
     "input": [
      "from sklearn.decomposition import PCA as sklearnPCA\n",
      "\n",
      "sklearn_pca = sklearnPCA(n_components=2)\n",
      "X_pca = sklearn_pca.fit_transform(X)\n",
      "\n",
      "def plot_pca():\n",
      "\n",
      "    ax = plt.subplot(111)\n",
      "\n",
      "    for label,marker,color in zip(\n",
      "        range(1,4),('^', 's', 'o'),('blue', 'red', 'green')):\n",
      "\n",
      "        plt.scatter(x=X_pca[:,0][y == label],\n",
      "                y=X_pca[:,1][y == label],\n",
      "                marker=marker,\n",
      "                color=color,\n",
      "                alpha=0.5,\n",
      "                label=label_dict[label]\n",
      "                )\n",
      "\n",
      "    plt.xlabel('PC1')\n",
      "    plt.ylabel('PC2')\n",
      "\n",
      "    leg = plt.legend(loc='upper right', fancybox=True)\n",
      "    leg.get_frame().set_alpha(0.5)\n",
      "    plt.title('PCA: Iris projection onto the first 2 principal components')\n",
      "\n",
      "    # hide axis ticks\n",
      "    plt.tick_params(axis=\"both\", which=\"both\", bottom=\"off\", top=\"off\",\n",
      "            labelbottom=\"on\", left=\"off\", right=\"off\", labelleft=\"on\")\n",
      "\n",
      "    # remove axis spines\n",
      "    ax.spines[\"top\"].set_visible(False)\n",
      "    ax.spines[\"right\"].set_visible(False)\n",
      "    ax.spines[\"bottom\"].set_visible(False)\n",
      "    ax.spines[\"left\"].set_visible(False)\n",
      "\n",
      "    plt.tight_layout\n",
      "    plt.grid()\n",
      "\n",
      "    plt.show()"
     ],
     "language": "python",
     "metadata": {},
     "outputs": [],
     "prompt_number": 17
    },
    {
     "cell_type": "code",
     "collapsed": false,
     "input": [
      "plot_pca()"
     ],
     "language": "python",
     "metadata": {},
     "outputs": [
      {
       "metadata": {},
       "output_type": "display_data",
       "png": "[encoded data removed]",
       "text": [
        "<matplotlib.figure.Figure at 0xbb0da90>"
       ]
      }
     ],
     "prompt_number": 18
    },
    {
     "cell_type": "markdown",
     "metadata": {},
     "source": [
      "# scikit-learn\u4e2d\u7684LDA"
     ]
    },
    {
     "cell_type": "code",
     "collapsed": false,
     "input": [
      "type(X), type(y), X.shape, y.shape"
     ],
     "language": "python",
     "metadata": {},
     "outputs": [
      {
       "metadata": {},
       "output_type": "pyout",
       "prompt_number": 23,
       "text": [
        "(numpy.ndarray, numpy.ndarray, (150L, 4L), (150L,))"
       ]
      }
     ],
     "prompt_number": 23
    },
    {
     "cell_type": "code",
     "collapsed": false,
     "input": [
      "y"
     ],
     "language": "python",
     "metadata": {},
     "outputs": [
      {
       "metadata": {},
       "output_type": "pyout",
       "prompt_number": 34,
       "text": [
        "array([1, 1, 1, 1, 1, 1, 1, 1, 1, 1, 1, 1, 1, 1, 1, 1, 1, 1, 1, 1, 1, 1, 1,\n",
        "       1, 1, 1, 1, 1, 1, 1, 1, 1, 1, 1, 1, 1, 1, 1, 1, 1, 1, 1, 1, 1, 1, 1,\n",
        "       1, 1, 1, 1, 2, 2, 2, 2, 2, 2, 2, 2, 2, 2, 2, 2, 2, 2, 2, 2, 2, 2, 2,\n",
        "       2, 2, 2, 2, 2, 2, 2, 2, 2, 2, 2, 2, 2, 2, 2, 2, 2, 2, 2, 2, 2, 2, 2,\n",
        "       2, 2, 2, 2, 2, 2, 2, 2, 3, 3, 3, 3, 3, 3, 3, 3, 3, 3, 3, 3, 3, 3, 3,\n",
        "       3, 3, 3, 3, 3, 3, 3, 3, 3, 3, 3, 3, 3, 3, 3, 3, 3, 3, 3, 3, 3, 3, 3,\n",
        "       3, 3, 3, 3, 3, 3, 3, 3, 3, 3, 3, 3], dtype=int64)"
       ]
      }
     ],
     "prompt_number": 34
    },
    {
     "cell_type": "code",
     "collapsed": false,
     "input": [
      "from sklearn.lda import LDA\n",
      "\n",
      "# LDA\n",
      "sklearn_lda = LDA(n_components=2)\n",
      "X_lda_sklearn = sklearn_lda.fit_transform(X, y)\n",
      "\n",
      "# PCA\n",
      "sklearn_pca = sklearnPCA(n_components=2)\n",
      "X_ldapca_sklearn = sklearn_pca.fit_transform(X_lda_sklearn)"
     ],
     "language": "python",
     "metadata": {},
     "outputs": [],
     "prompt_number": 30
    },
    {
     "cell_type": "code",
     "collapsed": false,
     "input": [
      "X_lda_sklearn.shape"
     ],
     "language": "python",
     "metadata": {},
     "outputs": [
      {
       "metadata": {},
       "output_type": "pyout",
       "prompt_number": 31,
       "text": [
        "(150L, 2L)"
       ]
      }
     ],
     "prompt_number": 31
    },
    {
     "cell_type": "code",
     "collapsed": false,
     "input": [
      "def plot_scikit_lda(X, title, mirror=1):\n",
      "\n",
      "    ax = plt.subplot(111)\n",
      "    for label,marker,color in zip(\n",
      "        range(1,4),('^', 's', 'o'),('blue', 'red', 'green')):\n",
      "\n",
      "        plt.scatter(x=X[:,0][y == label]*mirror,\n",
      "                y=X[:,1][y == label],\n",
      "                marker=marker,\n",
      "                color=color,\n",
      "                alpha=0.5,\n",
      "                label=label_dict[label]\n",
      "                )\n",
      "\n",
      "    plt.xlabel('LD1')\n",
      "    plt.ylabel('LD2')\n",
      "\n",
      "    leg = plt.legend(loc='upper right', fancybox=True)\n",
      "    leg.get_frame().set_alpha(0.5)\n",
      "    plt.title(title)\n",
      "\n",
      "    # hide axis ticks\n",
      "    plt.tick_params(axis=\"both\", which=\"both\", bottom=\"off\", top=\"off\",\n",
      "            labelbottom=\"on\", left=\"off\", right=\"off\", labelleft=\"on\")\n",
      "\n",
      "    # remove axis spines\n",
      "    ax.spines[\"top\"].set_visible(False)\n",
      "    ax.spines[\"right\"].set_visible(False)\n",
      "    ax.spines[\"bottom\"].set_visible(False)\n",
      "    ax.spines[\"left\"].set_visible(False)\n",
      "\n",
      "    plt.grid()\n",
      "    plt.tight_layout\n",
      "    plt.show()"
     ],
     "language": "python",
     "metadata": {},
     "outputs": [],
     "prompt_number": 26
    },
    {
     "cell_type": "code",
     "collapsed": false,
     "input": [
      "plot_step_lda()\n",
      "plot_scikit_lda(X_ldapca_sklearn, title='LDA+PCA via scikit-learn', mirror=(-1))\n",
      "plot_scikit_lda(X_lda_sklearn, title='Default LDA via scikit-learn')"
     ],
     "language": "python",
     "metadata": {},
     "outputs": [
      {
       "metadata": {},
       "output_type": "display_data",
       "png": "[encoded data removed]",
       "text": [
        "<matplotlib.figure.Figure at 0x167841d0>"
       ]
      },
      {
       "metadata": {},
       "output_type": "display_data",
       "png": "[encoded data removed]",
       "text": [
        "<matplotlib.figure.Figure at 0x16896208>"
       ]
      },
      {
       "metadata": {},
       "output_type": "display_data",
       "png": "[encoded data removed]",
       "text": [
        "<matplotlib.figure.Figure at 0x1699b588>"
       ]
      }
     ],
     "prompt_number": 27
    },
    {
     "cell_type": "code",
     "collapsed": false,
     "input": [],
     "language": "python",
     "metadata": {},
     "outputs": []
    }
   ],
   "metadata": {}
  }
 ]
}