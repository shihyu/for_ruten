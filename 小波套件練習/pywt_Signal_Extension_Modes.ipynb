{
 "metadata": {
  "name": "",
  "signature": "sha256:942377f6a33b240eaa53a7d142adddbde4e2db6126ca290bb7ccc2d693963dd3"
 },
 "nbformat": 3,
 "nbformat_minor": 0,
 "worksheets": [
  {
   "cells": [
    {
     "cell_type": "code",
     "collapsed": false,
     "input": [
      "import pywt"
     ],
     "language": "python",
     "metadata": {},
     "outputs": [],
     "prompt_number": 1
    },
    {
     "cell_type": "code",
     "collapsed": false,
     "input": [
      "def format_array(a):\n",
      "    \"\"\"Consistent array representation across different systems\"\"\"\n",
      "    import numpy\n",
      "    a = numpy.where(numpy.abs(a) < 1e-5, 0, a)\n",
      "    return numpy.array2string(a, precision=5, separator=' ', suppress_small=True)"
     ],
     "language": "python",
     "metadata": {},
     "outputs": [],
     "prompt_number": 6
    },
    {
     "cell_type": "code",
     "collapsed": false,
     "input": [
      "print pywt.MODES.modes"
     ],
     "language": "python",
     "metadata": {},
     "outputs": [
      {
       "output_type": "stream",
       "stream": "stdout",
       "text": [
        "['zpd', 'cpd', 'sym', 'ppd', 'sp1', 'per']\n"
       ]
      }
     ],
     "prompt_number": 7
    },
    {
     "cell_type": "code",
     "collapsed": false,
     "input": [
      "x = [1,2,1,5,-1,8,4,6]\n",
      "for mode in pywt.MODES.modes:\n",
      "    cA, cD = pywt.dwt(x, 'db2', mode)\n",
      "    print \"Mode:\", mode\n",
      "    print \"cA:\", format_array(cA)\n",
      "    print \"cD:\", format_array(cD)\n",
      "    print \"Reconstruction:\", pywt.idwt(cA, cD, 'db2', mode)"
     ],
     "language": "python",
     "metadata": {},
     "outputs": [
      {
       "output_type": "stream",
       "stream": "stdout",
       "text": [
        "Mode: zpd\n",
        "cA: [-0.03468  1.73309  3.40612  6.32929  6.95095]\n",
        "cD: [-0.12941 -2.156   -5.95035 -1.21545 -1.8625 ]\n",
        "Reconstruction: [ 1.  2.  1.  5. -1.  8.  4.  6.]\n",
        "Mode: cpd\n",
        "cA: [ 1.2848   1.73309  3.40612  6.32929  7.51936]\n",
        "cD: [-0.48296 -2.156   -5.95035 -1.21545  0.25882]\n",
        "Reconstruction: [ 1.  2.  1.  5. -1.  8.  4.  6.]\n",
        "Mode: sym\n",
        "cA: [ 1.76777  1.73309  3.40612  6.32929  7.77817]\n",
        "cD: [-0.61237 -2.156   -5.95035 -1.21545  1.22474]\n",
        "Reconstruction: [ 1.  2.  1.  5. -1.  8.  4.  6.]\n",
        "Mode: ppd\n",
        "cA: [ 6.91627  1.73309  3.40612  6.32929  6.91627]\n",
        "cD: [-1.99191 -2.156   -5.95035 -1.21545 -1.99191]\n",
        "Reconstruction: [ 1.  2.  1.  5. -1.  8.  4.  6.]\n",
        "Mode: sp1\n",
        "cA: [-0.51764  1.73309  3.40612  6.32929  7.45001]\n",
        "cD: [ 0.      -2.156   -5.95035 -1.21545  0.     ]\n",
        "Reconstruction: [ 1.  2.  1.  5. -1.  8.  4.  6.]\n",
        "Mode: per\n",
        "cA: [ 4.05317  3.05257  2.85381  8.42522]\n",
        "cD: [ 0.18947  4.18258  4.33738  2.60428]\n",
        "Reconstruction: [ 1.  2.  1.  5. -1.  8.  4.  6.]\n"
       ]
      }
     ],
     "prompt_number": 8
    },
    {
     "cell_type": "code",
     "collapsed": false,
     "input": [
      "for mode_name in ['zpd', 'cpd', 'sym', 'ppd', 'sp1', 'per']:\n",
      "    mode = getattr(pywt.MODES, mode_name)\n",
      "    cA, cD = pywt.dwt([1,2,1,5,-1,8,4,6], 'db2', mode)\n",
      "    print \"Mode:\", mode, \"(%s)\" % mode_name\n",
      "    print \"cA:\", format_array(cA)\n",
      "    print \"cD:\", format_array(cD)\n",
      "    print \"Reconstruction:\", pywt.idwt(cA, cD, 'db2', mode)"
     ],
     "language": "python",
     "metadata": {},
     "outputs": [
      {
       "output_type": "stream",
       "stream": "stdout",
       "text": [
        "Mode: 0 (zpd)\n",
        "cA: [-0.03468  1.73309  3.40612  6.32929  6.95095]\n",
        "cD: [-0.12941 -2.156   -5.95035 -1.21545 -1.8625 ]\n",
        "Reconstruction: [ 1.  2.  1.  5. -1.  8.  4.  6.]\n",
        "Mode: 2 (cpd)\n",
        "cA: [ 1.2848   1.73309  3.40612  6.32929  7.51936]\n",
        "cD: [-0.48296 -2.156   -5.95035 -1.21545  0.25882]\n",
        "Reconstruction: [ 1.  2.  1.  5. -1.  8.  4.  6.]\n",
        "Mode: 1 (sym)\n",
        "cA: [ 1.76777  1.73309  3.40612  6.32929  7.77817]\n",
        "cD: [-0.61237 -2.156   -5.95035 -1.21545  1.22474]\n",
        "Reconstruction: [ 1.  2.  1.  5. -1.  8.  4.  6.]\n",
        "Mode: 4 (ppd)\n",
        "cA: [ 6.91627  1.73309  3.40612  6.32929  6.91627]\n",
        "cD: [-1.99191 -2.156   -5.95035 -1.21545 -1.99191]\n",
        "Reconstruction: [ 1.  2.  1.  5. -1.  8.  4.  6.]\n",
        "Mode: 3 (sp1)\n",
        "cA: [-0.51764  1.73309  3.40612  6.32929  7.45001]\n",
        "cD: [ 0.      -2.156   -5.95035 -1.21545  0.     ]\n",
        "Reconstruction: [ 1.  2.  1.  5. -1.  8.  4.  6.]\n",
        "Mode: 5 (per)\n",
        "cA: [ 4.05317  3.05257  2.85381  8.42522]\n",
        "cD: [ 0.18947  4.18258  4.33738  2.60428]\n",
        "Reconstruction: [ 1.  2.  1.  5. -1.  8.  4.  6.]\n"
       ]
      }
     ],
     "prompt_number": 9
    },
    {
     "cell_type": "markdown",
     "metadata": {},
     "source": [
      "# \u4e0d\u8a2d\u5b9a\u5c6c\u6027\u5c31\u9ed8\u8a8d\u70basym\u5206\u89e3"
     ]
    },
    {
     "cell_type": "code",
     "collapsed": false,
     "input": [
      "cA, cD = pywt.dwt(x, 'db2')\n",
      "print cA\n",
      "print cD\n",
      "print pywt.idwt(cA, cD, 'db2')"
     ],
     "language": "python",
     "metadata": {},
     "outputs": [
      {
       "output_type": "stream",
       "stream": "stdout",
       "text": [
        "[ 1.76776695  1.73309178  3.40612438  6.32928585  7.77817459]\n",
        "[-0.61237244 -2.15599552 -5.95034847 -1.21545369  1.22474487]\n",
        "[ 1.  2.  1.  5. -1.  8.  4.  6.]\n"
       ]
      }
     ],
     "prompt_number": 11
    },
    {
     "cell_type": "markdown",
     "metadata": {},
     "source": [
      "# \u53ef\u5728mode\u8b8a\u6578\u5b9a\u7fa9\u5206\u89e3\u5c6c\u6027"
     ]
    },
    {
     "cell_type": "code",
     "collapsed": false,
     "input": [
      "cA, cD = pywt.dwt(x, 'db2', mode='cpd')\n",
      "print cA\n",
      "print cD\n",
      "print pywt.idwt(cA, cD, 'db2')"
     ],
     "language": "python",
     "metadata": {},
     "outputs": [
      {
       "output_type": "stream",
       "stream": "stdout",
       "text": [
        "[ 1.28480404  1.73309178  3.40612438  6.32928585  7.51935555]\n",
        "[-0.48296291 -2.15599552 -5.95034847 -1.21545369  0.25881905]\n",
        "[ 1.  2.  1.  5. -1.  8.  4.  6.]\n"
       ]
      }
     ],
     "prompt_number": 12
    },
    {
     "cell_type": "code",
     "collapsed": false,
     "input": [],
     "language": "python",
     "metadata": {},
     "outputs": []
    }
   ],
   "metadata": {}
  }
 ]
}