{
 "metadata": {
  "name": "",
  "signature": "sha256:bf46c81b3c5609559dfd6a31c3998cd556a8c8240ff2f9a07872d7b7b5e97094"
 },
 "nbformat": 3,
 "nbformat_minor": 0,
 "worksheets": [
  {
   "cells": [
    {
     "cell_type": "code",
     "collapsed": false,
     "input": [
      "%pylab inline\n",
      "import pywt"
     ],
     "language": "python",
     "metadata": {},
     "outputs": [
      {
       "output_type": "stream",
       "stream": "stdout",
       "text": [
        "Populating the interactive namespace from numpy and matplotlib\n"
       ]
      }
     ],
     "prompt_number": 1
    },
    {
     "cell_type": "code",
     "collapsed": false,
     "input": [
      "x = [3,7,1,1,-2,5,4,6]\n",
      "cA, cD = pywt.dwt(x, 'db2')"
     ],
     "language": "python",
     "metadata": {},
     "outputs": [],
     "prompt_number": 2
    },
    {
     "cell_type": "code",
     "collapsed": false,
     "input": [
      "print cA\n",
      "print cD"
     ],
     "language": "python",
     "metadata": {},
     "outputs": [
      {
       "output_type": "stream",
       "stream": "stdout",
       "text": [
        "[ 5.65685425  7.39923721  0.22414387  3.33677403  7.77817459]\n",
        "[-2.44948974 -1.60368225 -4.44140056 -0.41361256  1.22474487]\n"
       ]
      }
     ],
     "prompt_number": 3
    },
    {
     "cell_type": "code",
     "collapsed": false,
     "input": [
      "print pywt.idwt(cA, cD, 'db2')"
     ],
     "language": "python",
     "metadata": {},
     "outputs": [
      {
       "output_type": "stream",
       "stream": "stdout",
       "text": [
        "[ 3.  7.  1.  1. -2.  5.  4.  6.]\n"
       ]
      }
     ],
     "prompt_number": 4
    },
    {
     "cell_type": "code",
     "collapsed": false,
     "input": [
      "w = pywt.Wavelet('sym3')\n",
      "cA, cD = pywt.dwt(x, wavelet=w, mode='cpd')"
     ],
     "language": "python",
     "metadata": {},
     "outputs": [],
     "prompt_number": 5
    },
    {
     "cell_type": "code",
     "collapsed": false,
     "input": [
      "print cA\n",
      "print cD"
     ],
     "language": "python",
     "metadata": {},
     "outputs": [
      {
       "output_type": "stream",
       "stream": "stdout",
       "text": [
        "[ 4.38354585  3.80302657  7.31813271 -0.58565539  4.09727044  7.81994027]\n",
        "[-1.33068221 -2.78795192 -3.16825651 -0.67715519 -0.09722957 -0.07045258]\n"
       ]
      }
     ],
     "prompt_number": 6
    },
    {
     "cell_type": "markdown",
     "metadata": {},
     "source": [
      "# \u5c0f\u6ce2\u5206\u89e3\u7684\u4fc2\u6578\u9577\u5ea6\u4e0d\u540c\uff0c\u5728\u65bc\u5206\u89e3\u7684\u65b9\u5f0f\u4e0d\u540c"
     ]
    },
    {
     "cell_type": "code",
     "collapsed": false,
     "input": [
      "# int() is for normalizing Python integers and long integers for documentation tests\n",
      "print int(pywt.dwt_coeff_len(data_len=len(x), filter_len=w.dec_len, mode='sym'))\n",
      "print int(pywt.dwt_coeff_len(len(x), w, 'sym'))\n",
      "print len(cA)"
     ],
     "language": "python",
     "metadata": {},
     "outputs": [
      {
       "output_type": "stream",
       "stream": "stdout",
       "text": [
        "6\n",
        "6\n",
        "6\n"
       ]
      }
     ],
     "prompt_number": 8
    },
    {
     "cell_type": "code",
     "collapsed": false,
     "input": [
      "pywt.MODES.modes"
     ],
     "language": "python",
     "metadata": {},
     "outputs": [
      {
       "metadata": {},
       "output_type": "pyout",
       "prompt_number": 9,
       "text": [
        "['zpd', 'cpd', 'sym', 'ppd', 'sp1', 'per']"
       ]
      }
     ],
     "prompt_number": 9
    },
    {
     "cell_type": "code",
     "collapsed": false,
     "input": [
      "[int(pywt.dwt_coeff_len(len(x), w, mode)) for mode in pywt.MODES.modes]"
     ],
     "language": "python",
     "metadata": {},
     "outputs": [
      {
       "metadata": {},
       "output_type": "pyout",
       "prompt_number": 10,
       "text": [
        "[6, 6, 6, 6, 6, 4]"
       ]
      }
     ],
     "prompt_number": 10
    },
    {
     "cell_type": "markdown",
     "metadata": {},
     "source": [
      "# None\u9019\u500b\u8b8a\u6578\u4ee3\u8868\u8457zero array."
     ]
    },
    {
     "cell_type": "code",
     "collapsed": false,
     "input": [
      "print pywt.idwt([1,2,0,1], None, 'db2', 'sym')\n",
      "print pywt.idwt([1, 2, 0, 1], [0, 0, 0, 0], 'db2', 'sym')\n",
      "print '\\n'\n",
      "print pywt.idwt(None, [1, 2, 0, 1], 'db2', 'sym')\n",
      "print pywt.idwt([0, 0, 0, 0], [1, 2, 0, 1], 'db2', 'sym')"
     ],
     "language": "python",
     "metadata": {},
     "outputs": [
      {
       "output_type": "stream",
       "stream": "stdout",
       "text": [
        "[ 1.19006969  1.54362308  0.44828774 -0.25881905  0.48296291  0.8365163 ]\n",
        "[ 1.19006969  1.54362308  0.44828774 -0.25881905  0.48296291  0.8365163 ]\n",
        "\n",
        "\n",
        "[ 0.57769726 -0.93125065  1.67303261 -0.96592583 -0.12940952 -0.22414387]\n",
        "[ 0.57769726 -0.93125065  1.67303261 -0.96592583 -0.12940952 -0.22414387]\n"
       ]
      }
     ],
     "prompt_number": 14
    },
    {
     "cell_type": "code",
     "collapsed": false,
     "input": [],
     "language": "python",
     "metadata": {},
     "outputs": []
    }
   ],
   "metadata": {}
  }
 ]
}