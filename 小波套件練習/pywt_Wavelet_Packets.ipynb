{
 "metadata": {
  "name": "",
  "signature": "sha256:fe18333987c1b2eb6ed12440beb82677721c35ecf8da6fa8ace027be98b80480"
 },
 "nbformat": 3,
 "nbformat_minor": 0,
 "worksheets": [
  {
   "cells": [
    {
     "cell_type": "code",
     "collapsed": false,
     "input": [
      "import pywt"
     ],
     "language": "python",
     "metadata": {},
     "outputs": [],
     "prompt_number": 1
    },
    {
     "cell_type": "code",
     "collapsed": false,
     "input": [
      "def format_array(a):\n",
      "    import numpy\n",
      "    a = numpy.where(numpy.abs(a) < 1e-5, 0, a)\n",
      "    return numpy.array2string(a, precision=5, separator=' ', suppress_small=True)"
     ],
     "language": "python",
     "metadata": {},
     "outputs": [],
     "prompt_number": 2
    },
    {
     "cell_type": "code",
     "collapsed": false,
     "input": [
      "x = [1,2,3,4,5,6,7,8]\n",
      "wp = pywt.WaveletPacket(data=x, wavelet='db1', mode='sym')"
     ],
     "language": "python",
     "metadata": {},
     "outputs": [],
     "prompt_number": 3
    },
    {
     "cell_type": "code",
     "collapsed": false,
     "input": [
      "print wp.data, wp.data_size"
     ],
     "language": "python",
     "metadata": {},
     "outputs": [
      {
       "output_type": "stream",
       "stream": "stdout",
       "text": [
        "[1, 2, 3, 4, 5, 6, 7, 8] 8\n"
       ]
      }
     ],
     "prompt_number": 5
    },
    {
     "cell_type": "code",
     "collapsed": false,
     "input": [
      "print repr(wp.path)"
     ],
     "language": "python",
     "metadata": {},
     "outputs": [
      {
       "output_type": "stream",
       "stream": "stdout",
       "text": [
        "''\n"
       ]
      }
     ],
     "prompt_number": 8
    },
    {
     "cell_type": "code",
     "collapsed": false,
     "input": [
      "print wp.level"
     ],
     "language": "python",
     "metadata": {},
     "outputs": [
      {
       "output_type": "stream",
       "stream": "stdout",
       "text": [
        "0\n"
       ]
      }
     ],
     "prompt_number": 9
    },
    {
     "cell_type": "code",
     "collapsed": false,
     "input": [
      "print wp['ad'].maxlevel"
     ],
     "language": "python",
     "metadata": {},
     "outputs": [
      {
       "output_type": "stream",
       "stream": "stdout",
       "text": [
        "3\n"
       ]
      }
     ],
     "prompt_number": 10
    },
    {
     "cell_type": "markdown",
     "metadata": {},
     "source": [
      "# check the maximum level of decomposition"
     ]
    },
    {
     "cell_type": "code",
     "collapsed": false,
     "input": [
      "wp.maxlevel"
     ],
     "language": "python",
     "metadata": {},
     "outputs": [
      {
       "metadata": {},
       "output_type": "pyout",
       "prompt_number": 12,
       "text": [
        "3"
       ]
      }
     ],
     "prompt_number": 12
    },
    {
     "cell_type": "markdown",
     "metadata": {},
     "source": [
      "### 1st Level:"
     ]
    },
    {
     "cell_type": "code",
     "collapsed": false,
     "input": [
      "print wp['a'].data\n",
      "print wp['a'].path"
     ],
     "language": "python",
     "metadata": {},
     "outputs": [
      {
       "output_type": "stream",
       "stream": "stdout",
       "text": [
        "[  2.12132034   4.94974747   7.77817459  10.60660172]\n",
        "a\n"
       ]
      }
     ],
     "prompt_number": 13
    },
    {
     "cell_type": "markdown",
     "metadata": {},
     "source": [
      "### 2nd Level:"
     ]
    },
    {
     "cell_type": "code",
     "collapsed": false,
     "input": [
      "print wp['aa'].data\n",
      "print wp['aa'].path"
     ],
     "language": "python",
     "metadata": {},
     "outputs": [
      {
       "output_type": "stream",
       "stream": "stdout",
       "text": [
        "[  5.  13.]\n",
        "aa\n"
       ]
      }
     ],
     "prompt_number": 14
    },
    {
     "cell_type": "markdown",
     "metadata": {},
     "source": [
      "### 3rd Level:"
     ]
    },
    {
     "cell_type": "code",
     "collapsed": false,
     "input": [
      "print wp['aaa'].data\n",
      "print wp['aaa'].path"
     ],
     "language": "python",
     "metadata": {},
     "outputs": [
      {
       "output_type": "stream",
       "stream": "stdout",
       "text": [
        "[ 12.72792206]\n",
        "aaa\n"
       ]
      }
     ],
     "prompt_number": 15
    },
    {
     "cell_type": "markdown",
     "metadata": {},
     "source": [
      "### \u9054\u5230\u4e86maxlevel\uff0c\u82e5\u9032\u884c4th level\u5c31\u6703\u767c\u751f\u932f\u8aa4"
     ]
    },
    {
     "cell_type": "code",
     "collapsed": false,
     "input": [
      "print wp['aaaa'].data"
     ],
     "language": "python",
     "metadata": {},
     "outputs": [
      {
       "ename": "IndexError",
       "evalue": "Path length is out of range.",
       "output_type": "pyerr",
       "traceback": [
        "\u001b[1;31m---------------------------------------------------------------------------\u001b[0m\n\u001b[1;31mIndexError\u001b[0m                                Traceback (most recent call last)",
        "\u001b[1;32m<ipython-input-16-f4f19e9adec4>\u001b[0m in \u001b[0;36m<module>\u001b[1;34m()\u001b[0m\n\u001b[1;32m----> 1\u001b[1;33m \u001b[1;32mprint\u001b[0m \u001b[0mwp\u001b[0m\u001b[1;33m[\u001b[0m\u001b[1;34m'aaaa'\u001b[0m\u001b[1;33m]\u001b[0m\u001b[1;33m.\u001b[0m\u001b[0mdata\u001b[0m\u001b[1;33m\u001b[0m\u001b[0m\n\u001b[0m",
        "\u001b[1;32mC:\\Users\\User\\Anaconda\\lib\\site-packages\\pywt\\wavelet_packets.pyc\u001b[0m in \u001b[0;36m__getitem__\u001b[1;34m(self, path)\u001b[0m\n\u001b[0;32m    178\u001b[0m             if (self.maxlevel is not None\n\u001b[0;32m    179\u001b[0m                 and len(path) > self.maxlevel * self.PART_LEN):\n\u001b[1;32m--> 180\u001b[1;33m                 \u001b[1;32mraise\u001b[0m \u001b[0mIndexError\u001b[0m\u001b[1;33m(\u001b[0m\u001b[1;34m\"Path length is out of range.\"\u001b[0m\u001b[1;33m)\u001b[0m\u001b[1;33m\u001b[0m\u001b[0m\n\u001b[0m\u001b[0;32m    181\u001b[0m             \u001b[1;32mif\u001b[0m \u001b[0mpath\u001b[0m\u001b[1;33m:\u001b[0m\u001b[1;33m\u001b[0m\u001b[0m\n\u001b[0;32m    182\u001b[0m                 return self.get_subnode(path[0:self.PART_LEN], True)[\n",
        "\u001b[1;31mIndexError\u001b[0m: Path length is out of range."
       ]
      }
     ],
     "prompt_number": 16
    },
    {
     "cell_type": "code",
     "collapsed": false,
     "input": [
      "(wp['ad'].data, wp['ad'].path, wp['ad'].node_name, wp['ad'].parent.path, wp['ad'].level, wp['ad'].maxlevel, wp['ad'].mode)"
     ],
     "language": "python",
     "metadata": {},
     "outputs": [
      {
       "metadata": {},
       "output_type": "pyout",
       "prompt_number": 17,
       "text": [
        "(array([-2., -2.]), 'ad', 'd', 'a', 2, 3, 'sym')"
       ]
      }
     ],
     "prompt_number": 17
    },
    {
     "cell_type": "code",
     "collapsed": false,
     "input": [
      "print [node.path for node in wp.get_level(3, 'natural')]"
     ],
     "language": "python",
     "metadata": {},
     "outputs": [
      {
       "output_type": "stream",
       "stream": "stdout",
       "text": [
        "['aaa', 'aad', 'ada', 'add', 'daa', 'dad', 'dda', 'ddd']\n"
       ]
      }
     ],
     "prompt_number": 18
    },
    {
     "cell_type": "code",
     "collapsed": false,
     "input": [
      "print [node.path for node in wp.get_level(3, 'freq')]"
     ],
     "language": "python",
     "metadata": {},
     "outputs": [
      {
       "output_type": "stream",
       "stream": "stdout",
       "text": [
        "['aaa', 'aad', 'add', 'ada', 'dda', 'ddd', 'dad', 'daa']\n"
       ]
      }
     ],
     "prompt_number": 19
    },
    {
     "cell_type": "code",
     "collapsed": false,
     "input": [],
     "language": "python",
     "metadata": {},
     "outputs": []
    }
   ],
   "metadata": {}
  }
 ]
}