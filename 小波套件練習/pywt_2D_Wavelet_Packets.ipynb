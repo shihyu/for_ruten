{
 "metadata": {
  "name": "",
  "signature": "sha256:3698d6d149be513df23932ecb179e07fbbac409fd2bf5df339ce3ffb8a184042"
 },
 "nbformat": 3,
 "nbformat_minor": 0,
 "worksheets": [
  {
   "cells": [
    {
     "cell_type": "code",
     "collapsed": false,
     "input": [
      "import pywt\n",
      "import numpy"
     ],
     "language": "python",
     "metadata": {},
     "outputs": [],
     "prompt_number": 1
    },
    {
     "cell_type": "code",
     "collapsed": false,
     "input": [
      "x = numpy.array([[1, 2, 3, 4, 5, 6, 7, 8]] * 8, 'd')"
     ],
     "language": "python",
     "metadata": {},
     "outputs": [],
     "prompt_number": 13
    },
    {
     "cell_type": "code",
     "collapsed": false,
     "input": [
      "print x"
     ],
     "language": "python",
     "metadata": {},
     "outputs": [
      {
       "output_type": "stream",
       "stream": "stdout",
       "text": [
        "[[ 1.  2.  3.  4.  5.  6.  7.  8.]\n",
        " [ 1.  2.  3.  4.  5.  6.  7.  8.]\n",
        " [ 1.  2.  3.  4.  5.  6.  7.  8.]\n",
        " [ 1.  2.  3.  4.  5.  6.  7.  8.]\n",
        " [ 1.  2.  3.  4.  5.  6.  7.  8.]\n",
        " [ 1.  2.  3.  4.  5.  6.  7.  8.]\n",
        " [ 1.  2.  3.  4.  5.  6.  7.  8.]\n",
        " [ 1.  2.  3.  4.  5.  6.  7.  8.]]\n"
       ]
      }
     ],
     "prompt_number": 15
    },
    {
     "cell_type": "code",
     "collapsed": false,
     "input": [
      "wp = pywt.WaveletPacket2D(data=x, wavelet='db1', mode='sym')"
     ],
     "language": "python",
     "metadata": {},
     "outputs": [],
     "prompt_number": 16
    },
    {
     "cell_type": "code",
     "collapsed": false,
     "input": [
      "print wp.data"
     ],
     "language": "python",
     "metadata": {},
     "outputs": [
      {
       "output_type": "stream",
       "stream": "stdout",
       "text": [
        "[[ 1.  2.  3.  4.  5.  6.  7.  8.]\n",
        " [ 1.  2.  3.  4.  5.  6.  7.  8.]\n",
        " [ 1.  2.  3.  4.  5.  6.  7.  8.]\n",
        " [ 1.  2.  3.  4.  5.  6.  7.  8.]\n",
        " [ 1.  2.  3.  4.  5.  6.  7.  8.]\n",
        " [ 1.  2.  3.  4.  5.  6.  7.  8.]\n",
        " [ 1.  2.  3.  4.  5.  6.  7.  8.]\n",
        " [ 1.  2.  3.  4.  5.  6.  7.  8.]]\n"
       ]
      }
     ],
     "prompt_number": 17
    },
    {
     "cell_type": "code",
     "collapsed": false,
     "input": [
      "print repr(wp.path)\n",
      "print wp.level"
     ],
     "language": "python",
     "metadata": {},
     "outputs": [
      {
       "output_type": "stream",
       "stream": "stdout",
       "text": [
        "''\n",
        "0\n"
       ]
      }
     ],
     "prompt_number": 18
    },
    {
     "cell_type": "code",
     "collapsed": false,
     "input": [
      "print wp.maxlevel"
     ],
     "language": "python",
     "metadata": {},
     "outputs": [
      {
       "output_type": "stream",
       "stream": "stdout",
       "text": [
        "3\n"
       ]
      }
     ],
     "prompt_number": 19
    },
    {
     "cell_type": "raw",
     "metadata": {},
     "source": [
      "a - LL, low-low coefficients\n",
      "h - LH, low-high coefficients\n",
      "v - HL, high-low coefficients\n",
      "d - HH, high-high coefficients\n",
      "\n",
      "\n",
      "\n",
      "                            -------------------\n",
      "                            |        |        |\n",
      "                            | cA(LL) | cH(LH) |\n",
      "                            |        |        |\n",
      "(cA, (cH, cV, cD))  <--->   -------------------\n",
      "                            |        |        |\n",
      "                            | cV(HL) | cD(HH) |\n",
      "                            |        |        |\n",
      "                            -------------------\n",
      "\n",
      "   (fig.1: DWT 2D output and interpretation)"
     ]
    },
    {
     "cell_type": "code",
     "collapsed": false,
     "input": [
      "print wp['a'].data"
     ],
     "language": "python",
     "metadata": {},
     "outputs": [
      {
       "output_type": "stream",
       "stream": "stdout",
       "text": [
        "[[  3.   7.  11.  15.]\n",
        " [  3.   7.  11.  15.]\n",
        " [  3.   7.  11.  15.]\n",
        " [  3.   7.  11.  15.]]\n"
       ]
      }
     ],
     "prompt_number": 20
    },
    {
     "cell_type": "code",
     "collapsed": false,
     "input": [
      "print wp['h'].data"
     ],
     "language": "python",
     "metadata": {},
     "outputs": [
      {
       "output_type": "stream",
       "stream": "stdout",
       "text": [
        "[[ 0.  0.  0.  0.]\n",
        " [ 0.  0.  0.  0.]\n",
        " [ 0.  0.  0.  0.]\n",
        " [ 0.  0.  0.  0.]]\n"
       ]
      }
     ],
     "prompt_number": 21
    },
    {
     "cell_type": "code",
     "collapsed": false,
     "input": [
      "print wp['v'].data"
     ],
     "language": "python",
     "metadata": {},
     "outputs": [
      {
       "output_type": "stream",
       "stream": "stdout",
       "text": [
        "[[-1. -1. -1. -1.]\n",
        " [-1. -1. -1. -1.]\n",
        " [-1. -1. -1. -1.]\n",
        " [-1. -1. -1. -1.]]\n"
       ]
      }
     ],
     "prompt_number": 22
    },
    {
     "cell_type": "code",
     "collapsed": false,
     "input": [
      "print wp['d'].data"
     ],
     "language": "python",
     "metadata": {},
     "outputs": [
      {
       "output_type": "stream",
       "stream": "stdout",
       "text": [
        "[[ 0.  0.  0.  0.]\n",
        " [ 0.  0.  0.  0.]\n",
        " [ 0.  0.  0.  0.]\n",
        " [ 0.  0.  0.  0.]]\n"
       ]
      }
     ],
     "prompt_number": 23
    },
    {
     "cell_type": "code",
     "collapsed": false,
     "input": [
      "print wp['aa'].data"
     ],
     "language": "python",
     "metadata": {},
     "outputs": [
      {
       "output_type": "stream",
       "stream": "stdout",
       "text": [
        "[[ 10.  26.]\n",
        " [ 10.  26.]]\n"
       ]
      }
     ],
     "prompt_number": 24
    },
    {
     "cell_type": "code",
     "collapsed": false,
     "input": [
      "node = wp['a']\n",
      "print node['a'].data\n",
      "\n",
      "print wp['a']['a'].data is wp['aa'].data"
     ],
     "language": "python",
     "metadata": {},
     "outputs": [
      {
       "output_type": "stream",
       "stream": "stdout",
       "text": [
        "[[ 10.  26.]\n",
        " [ 10.  26.]]\n",
        "True\n"
       ]
      }
     ],
     "prompt_number": 28
    },
    {
     "cell_type": "code",
     "collapsed": false,
     "input": [
      "print wp['aaa']"
     ],
     "language": "python",
     "metadata": {},
     "outputs": [
      {
       "output_type": "stream",
       "stream": "stdout",
       "text": [
        "aaa: [[ 36.]]\n"
       ]
      }
     ],
     "prompt_number": 30
    },
    {
     "cell_type": "markdown",
     "metadata": {},
     "source": [
      "### Accessing Node2D\u2019s attributes:"
     ]
    },
    {
     "cell_type": "code",
     "collapsed": false,
     "input": [
      "print wp['av'].data"
     ],
     "language": "python",
     "metadata": {},
     "outputs": [
      {
       "output_type": "stream",
       "stream": "stdout",
       "text": [
        "[[-4. -4.]\n",
        " [-4. -4.]]\n"
       ]
      }
     ],
     "prompt_number": 31
    },
    {
     "cell_type": "code",
     "collapsed": false,
     "input": [
      "print wp['av'].path"
     ],
     "language": "python",
     "metadata": {},
     "outputs": [
      {
       "output_type": "stream",
       "stream": "stdout",
       "text": [
        "av\n"
       ]
      }
     ],
     "prompt_number": 33
    },
    {
     "cell_type": "code",
     "collapsed": false,
     "input": [
      "print wp['av'].node_name"
     ],
     "language": "python",
     "metadata": {},
     "outputs": [
      {
       "output_type": "stream",
       "stream": "stdout",
       "text": [
        "v\n"
       ]
      }
     ],
     "prompt_number": 34
    },
    {
     "cell_type": "code",
     "collapsed": false,
     "input": [
      "print wp['av'].parent.path"
     ],
     "language": "python",
     "metadata": {},
     "outputs": [
      {
       "output_type": "stream",
       "stream": "stdout",
       "text": [
        "a\n"
       ]
      }
     ],
     "prompt_number": 35
    },
    {
     "cell_type": "code",
     "collapsed": false,
     "input": [
      "print wp['av'].parent.data"
     ],
     "language": "python",
     "metadata": {},
     "outputs": [
      {
       "output_type": "stream",
       "stream": "stdout",
       "text": [
        "[[  3.   7.  11.  15.]\n",
        " [  3.   7.  11.  15.]\n",
        " [  3.   7.  11.  15.]\n",
        " [  3.   7.  11.  15.]]\n"
       ]
      }
     ],
     "prompt_number": 36
    },
    {
     "cell_type": "code",
     "collapsed": false,
     "input": [
      "print wp['av'].level"
     ],
     "language": "python",
     "metadata": {},
     "outputs": [
      {
       "output_type": "stream",
       "stream": "stdout",
       "text": [
        "2\n"
       ]
      }
     ],
     "prompt_number": 37
    },
    {
     "cell_type": "code",
     "collapsed": false,
     "input": [
      "print wp['av'].maxlevel"
     ],
     "language": "python",
     "metadata": {},
     "outputs": [
      {
       "output_type": "stream",
       "stream": "stdout",
       "text": [
        "3\n"
       ]
      }
     ],
     "prompt_number": 38
    },
    {
     "cell_type": "code",
     "collapsed": false,
     "input": [
      "print wp['av'].mode"
     ],
     "language": "python",
     "metadata": {},
     "outputs": [
      {
       "output_type": "stream",
       "stream": "stdout",
       "text": [
        "sym\n"
       ]
      }
     ],
     "prompt_number": 39
    },
    {
     "cell_type": "markdown",
     "metadata": {},
     "source": [
      "### Collecting nodes"
     ]
    },
    {
     "cell_type": "code",
     "collapsed": false,
     "input": [
      "len(wp.get_level(0))"
     ],
     "language": "python",
     "metadata": {},
     "outputs": [
      {
       "metadata": {},
       "output_type": "pyout",
       "prompt_number": 41,
       "text": [
        "1"
       ]
      }
     ],
     "prompt_number": 41
    },
    {
     "cell_type": "code",
     "collapsed": false,
     "input": [
      "print [node.path for node in wp.get_level(0)]"
     ],
     "language": "python",
     "metadata": {},
     "outputs": [
      {
       "output_type": "stream",
       "stream": "stdout",
       "text": [
        "['']\n"
       ]
      }
     ],
     "prompt_number": 42
    },
    {
     "cell_type": "code",
     "collapsed": false,
     "input": [
      "print len(wp.get_level(1))\n",
      "print [node.path for node in wp.get_level(1)]"
     ],
     "language": "python",
     "metadata": {},
     "outputs": [
      {
       "output_type": "stream",
       "stream": "stdout",
       "text": [
        "4\n",
        "['a', 'h', 'v', 'd']\n"
       ]
      }
     ],
     "prompt_number": 44
    },
    {
     "cell_type": "code",
     "collapsed": false,
     "input": [
      "print len(wp.get_level(2))\n",
      "paths = [node.path for node in wp.get_level(2)]\n",
      "for i, path in enumerate(paths):\n",
      "    print path,\n",
      "    if (i + 1) % 4 ==0: print "
     ],
     "language": "python",
     "metadata": {},
     "outputs": [
      {
       "output_type": "stream",
       "stream": "stdout",
       "text": [
        "16\n",
        "aa ah av ad\n",
        "ha hh hv hd\n",
        "va vh vv vd\n",
        "da dh dv dd\n"
       ]
      }
     ],
     "prompt_number": 51
    },
    {
     "cell_type": "code",
     "collapsed": false,
     "input": [
      "print len(wp.get_level(3))\n",
      "paths = [node.path for node in wp.get_level(3)]\n",
      "for i, path in enumerate(paths):\n",
      "    print path,\n",
      "    if (i + 1) % 8 ==0: print "
     ],
     "language": "python",
     "metadata": {},
     "outputs": [
      {
       "output_type": "stream",
       "stream": "stdout",
       "text": [
        "64\n",
        "aaa aah aav aad aha ahh ahv ahd\n",
        "ava avh avv avd ada adh adv add\n",
        "haa hah hav had hha hhh hhv hhd\n",
        "hva hvh hvv hvd hda hdh hdv hdd\n",
        "vaa vah vav vad vha vhh vhv vhd\n",
        "vva vvh vvv vvd vda vdh vdv vdd\n",
        "daa dah dav dad dha dhh dhv dhd\n",
        "dva dvh dvv dvd dda ddh ddv ddd\n"
       ]
      }
     ],
     "prompt_number": 52
    },
    {
     "cell_type": "markdown",
     "metadata": {},
     "source": [
      "### Reconstructing data from Wavelet Packets:"
     ]
    },
    {
     "cell_type": "code",
     "collapsed": false,
     "input": [
      "new_wp = pywt.WaveletPacket2D(data=None, wavelet='db1', mode='sym')"
     ],
     "language": "python",
     "metadata": {},
     "outputs": [],
     "prompt_number": 54
    },
    {
     "cell_type": "code",
     "collapsed": false,
     "input": [
      "new_wp['vh'] = wp['vh'].data # [[0.0, 0.0], [0.0, 0.0]]\n",
      "new_wp['vv'] = wp['vh'].data # [[0.0, 0.0], [0.0, 0.0]]\n",
      "new_wp['vd'] = [[0.0, 0.0], [0.0, 0.0]]\n",
      "new_wp['a'] = [[3.0, 7.0, 11.0, 15.0], [3.0, 7.0, 11.0, 15.0],\n",
      "               [3.0, 7.0, 11.0, 15.0], [3.0, 7.0, 11.0, 15.0]]\n",
      "new_wp['d'] = [[0.0, 0.0, 0.0, 0.0], [0.0, 0.0, 0.0, 0.0],\n",
      "               [0.0, 0.0, 0.0, 0.0], [0.0, 0.0, 0.0, 0.0]]\n",
      "new_wp['h'] = wp['h'] # all zeros"
     ],
     "language": "python",
     "metadata": {},
     "outputs": [],
     "prompt_number": 55
    },
    {
     "cell_type": "code",
     "collapsed": false,
     "input": [
      "print new_wp.reconstruct(update=False)"
     ],
     "language": "python",
     "metadata": {},
     "outputs": [
      {
       "output_type": "stream",
       "stream": "stdout",
       "text": [
        "[[ 1.5  1.5  3.5  3.5  5.5  5.5  7.5  7.5]\n",
        " [ 1.5  1.5  3.5  3.5  5.5  5.5  7.5  7.5]\n",
        " [ 1.5  1.5  3.5  3.5  5.5  5.5  7.5  7.5]\n",
        " [ 1.5  1.5  3.5  3.5  5.5  5.5  7.5  7.5]\n",
        " [ 1.5  1.5  3.5  3.5  5.5  5.5  7.5  7.5]\n",
        " [ 1.5  1.5  3.5  3.5  5.5  5.5  7.5  7.5]\n",
        " [ 1.5  1.5  3.5  3.5  5.5  5.5  7.5  7.5]\n",
        " [ 1.5  1.5  3.5  3.5  5.5  5.5  7.5  7.5]]\n"
       ]
      }
     ],
     "prompt_number": 56
    },
    {
     "cell_type": "code",
     "collapsed": false,
     "input": [
      "new_wp['va'] = wp['va'].data # [[-2.0, -2.0], [-2.0, -2.0]]\n",
      "print new_wp.reconstruct(update=False)"
     ],
     "language": "python",
     "metadata": {},
     "outputs": [
      {
       "output_type": "stream",
       "stream": "stdout",
       "text": [
        "[[ 1.  2.  3.  4.  5.  6.  7.  8.]\n",
        " [ 1.  2.  3.  4.  5.  6.  7.  8.]\n",
        " [ 1.  2.  3.  4.  5.  6.  7.  8.]\n",
        " [ 1.  2.  3.  4.  5.  6.  7.  8.]\n",
        " [ 1.  2.  3.  4.  5.  6.  7.  8.]\n",
        " [ 1.  2.  3.  4.  5.  6.  7.  8.]\n",
        " [ 1.  2.  3.  4.  5.  6.  7.  8.]\n",
        " [ 1.  2.  3.  4.  5.  6.  7.  8.]]\n"
       ]
      }
     ],
     "prompt_number": 57
    },
    {
     "cell_type": "code",
     "collapsed": false,
     "input": [
      "del new_wp['va']\n",
      "print new_wp.reconstruct(update=False)"
     ],
     "language": "python",
     "metadata": {},
     "outputs": [
      {
       "output_type": "stream",
       "stream": "stdout",
       "text": [
        "[[ 1.5  1.5  3.5  3.5  5.5  5.5  7.5  7.5]\n",
        " [ 1.5  1.5  3.5  3.5  5.5  5.5  7.5  7.5]\n",
        " [ 1.5  1.5  3.5  3.5  5.5  5.5  7.5  7.5]\n",
        " [ 1.5  1.5  3.5  3.5  5.5  5.5  7.5  7.5]\n",
        " [ 1.5  1.5  3.5  3.5  5.5  5.5  7.5  7.5]\n",
        " [ 1.5  1.5  3.5  3.5  5.5  5.5  7.5  7.5]\n",
        " [ 1.5  1.5  3.5  3.5  5.5  5.5  7.5  7.5]\n",
        " [ 1.5  1.5  3.5  3.5  5.5  5.5  7.5  7.5]]\n"
       ]
      }
     ],
     "prompt_number": 58
    },
    {
     "cell_type": "code",
     "collapsed": false,
     "input": [],
     "language": "python",
     "metadata": {},
     "outputs": []
    }
   ],
   "metadata": {}
  }
 ]
}